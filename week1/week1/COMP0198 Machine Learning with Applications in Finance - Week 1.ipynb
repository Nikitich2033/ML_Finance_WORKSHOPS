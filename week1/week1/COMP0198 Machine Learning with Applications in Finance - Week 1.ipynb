{
 "cells": [
  {
   "cell_type": "markdown",
   "metadata": {
    "slideshow": {
     "slide_type": "slide"
    }
   },
   "source": [
    "<h1>\n",
    "    <br style =\"color:#EA7600\"> UCL </br> \n",
    "    </p>\n",
    "</h1>\n",
    "\n",
    "<div>\n",
    "\n",
    "  <h4>\n",
    "      <p style=\"font-size:18pt\">COMP0198: Machine Learning with Applications in Finance</p>\n",
    "      <p style=\"font-size:18pt\">Week 1</p>\n",
    "  </h4>\n",
    "\n",
    "</div>"
   ]
  },
  {
   "cell_type": "markdown",
   "metadata": {
    "slideshow": {
     "slide_type": "slide"
    }
   },
   "source": [
    "# Table of Contents\n",
    "* [1. Opening Files](#1.-Opening-Files)\n",
    "* [2. Reading Files](#2.-Reading-Files)\n",
    "* [3. Writing Files](#3.-Writing-Files)\n",
    "* [4. Working with files](#4.-Working-with-files)\n",
    "\t* [4.1 Load data from a CSV file](#4.1-Load-data-from-a-CSV-file)\n",
    "* [5. Extensions](#5.-Extensions)\n",
    "* [6. NumPy](#6.-NumPy)\n",
    "    * [6.1 A Multi-dimensional array object](#6.1-A-Multi-dimensional-array-object)\n",
    "    * [6.2 Creating **`ndarrays`**](#6.2-Creating-ndarrays)\n",
    "    * [6.3 Using NumPy to import flat files](#6.3-Using-NumPy-to-import-flat-files)\n",
    "* [7. Pandas](#7.-Pandas)\n",
    "    * [7.1 **`Pandas`** Data Structures](#7.1-Pandas-Data-Structures)\n",
    "    * [7.2 Essential Functionality](#7.2-Essential-Functionality)\n",
    "    * [7.3 Indexing, selection, and filtering](#7.3-Indexing,-selection,-and-filtering)\n",
    "    * [7.4 Computing Descriptive Statistics](#7.4-Computing-Descriptive-Statistics)\n",
    "    * [7.5 Handling Missing Data](#7.5-Handling-Missing-Data)   \n",
    "    * [7.6 Custom data import](#7.6-Custom-data-import)\n",
    "    * [7.7 Combining and Merging Data Sets](#7.7-Combining-and-Merging-Data-Sets)\n",
    "    * [7.8 Reshaping and Pivoting](#7.8-Reshaping-and-Pivoting)\n",
    "    * [7.9 Data Transformation ](#7.9-Data-Transformation )\n",
    "* [8. Importing files from the web](#8.-Importing-files-from-the-web)\n",
    "* [9. HTTP requests in Python](#9.-HTTP-requests-in-Python)\n",
    "    * [9.1 Webscraping HTML with BeautifulSoup](#9.1-Webscraping-HTML-with-BeautifulSoup)\n",
    "* [10. API requests](#10.-API-requests)\n",
    "    * [10.1 API Request with Authentication](#10.1-API-Request-with-Authentication)\n",
    "    * [10.2 API Request without authentication](#10.2-API-Request-without-authentication)\n",
    "    * [10.3 Get Financial Data](#10.5-Get-Financial-Data)\n",
    "* [11. Cloud services](#11.-Cloud-services)\n",
    "* [12. Further reading and videos of interest](#12.-Further-reading-and-videos-of-interest)"
   ]
  },
  {
   "cell_type": "markdown",
   "metadata": {
    "colab_type": "text",
    "id": "2BNFhai_-nBA",
    "nbpresent": {
     "id": "bc7d4a2e-5521-4dd3-bf84-96d7b6cf1a98"
    },
    "slideshow": {
     "slide_type": "slide"
    }
   },
   "source": [
    "# 1. Opening Files\n",
    "\n",
    "We are going to see several ways of accessing information from the internet using the **`requests`** and other libraris in this lesson. This included downloading webpages, json data, accessing APIs and scraping data from websites. You can also obviously use Python to read and write the contents of files on your computer, which is what we are going to review first.\n",
    "\n",
    "Text files are the easiest to manipulate. Before a file can be edited, it must be opened, using the **`open`** function."
   ]
  },
  {
   "cell_type": "code",
   "execution_count": 15,
   "metadata": {
    "colab": {},
    "colab_type": "code",
    "id": "o9nI3CZp-nBA",
    "nbpresent": {
     "id": "9e4be810-75fa-4185-8266-277ff00a5765"
    },
    "slideshow": {
     "slide_type": "slide"
    }
   },
   "outputs": [
    {
     "ename": "FileNotFoundError",
     "evalue": "[Errno 2] No such file or directory: 'filename.txt'",
     "output_type": "error",
     "traceback": [
      "\u001b[0;31m---------------------------------------------------------------------------\u001b[0m",
      "\u001b[0;31mFileNotFoundError\u001b[0m                         Traceback (most recent call last)",
      "\u001b[0;32m<ipython-input-15-e426e44a97a9>\u001b[0m in \u001b[0;36m<module>\u001b[0;34m()\u001b[0m\n\u001b[0;32m----> 1\u001b[0;31m \u001b[0mmyfile\u001b[0m \u001b[0;34m=\u001b[0m \u001b[0mopen\u001b[0m\u001b[0;34m(\u001b[0m\u001b[0;34m\"filename.txt\"\u001b[0m\u001b[0;34m)\u001b[0m\u001b[0;34m\u001b[0m\u001b[0m\n\u001b[0m",
      "\u001b[0;31mFileNotFoundError\u001b[0m: [Errno 2] No such file or directory: 'filename.txt'"
     ]
    }
   ],
   "source": [
    "myfile = open(\"filename.txt\") #this will create an error if there is no file with this name in your working directory"
   ]
  },
  {
   "cell_type": "markdown",
   "metadata": {
    "colab_type": "text",
    "id": "5Q-lngMQ-nBD",
    "nbpresent": {
     "id": "3020e9c1-7a60-4676-8b6c-38b118799ef0"
    },
    "slideshow": {
     "slide_type": "slide"
    }
   },
   "source": [
    "You can specify the **mode** used to open a file by applying a second argument to the **`open`** function. \n",
    "- Specifying `r` means open in read mode, which is the default \n",
    "- Specifying `w` means write mode, for rewriting the contents of a file\n",
    "- Specifying `a` means append mode, for adding new content to the end of the file \n",
    "\n",
    "Adding \"b\" to a mode opens it in **binary** mode, which is used for non-text files (such as images and sound files). "
   ]
  },
  {
   "cell_type": "code",
   "execution_count": 16,
   "metadata": {
    "colab": {},
    "colab_type": "code",
    "collapsed": true,
    "id": "IQwLig9B-nBE",
    "nbpresent": {
     "id": "3ca2da26-c772-4bf9-b35b-a6fb73cec860"
    },
    "slideshow": {
     "slide_type": "slide"
    }
   },
   "outputs": [],
   "source": [
    "# If you haven't done so already add some text to the file \n",
    "\n",
    "#write mode\n",
    "file = open(\"filename.txt\",\"w\")\n",
    "file.close()"
   ]
  },
  {
   "cell_type": "markdown",
   "metadata": {
    "colab_type": "text",
    "id": "76Wdt2Sp-nBG",
    "nbpresent": {
     "id": "49919b8d-9f76-4a9e-97af-84401703251d"
    },
    "slideshow": {
     "slide_type": "slide"
    }
   },
   "source": [
    "Once a file has been opened and used, you should close it. \n",
    "\n",
    "This is done with the **`close`** method of the file object."
   ]
  },
  {
   "cell_type": "markdown",
   "metadata": {
    "colab_type": "text",
    "id": "qNz0yn8U-nBs",
    "nbpresent": {
     "id": "c8f0ace8-397b-4416-9c9f-ee395b1d747d"
    },
    "slideshow": {
     "slide_type": "slide"
    }
   },
   "source": [
    "<div class=\"alert alert-success\">\n",
    "<b>TIP: The \"w\" mode</b> \n",
    "\n",
    "The \"w\" mode for the **`open`** function will *create* a file, if it does not already exist.\n",
    "\n",
    "</div>"
   ]
  },
  {
   "cell_type": "code",
   "execution_count": 17,
   "metadata": {
    "colab": {},
    "colab_type": "code",
    "collapsed": true,
    "id": "94fJtRPv-nBG",
    "nbpresent": {
     "id": "8e911219-7f6d-45ab-9412-858378bb84ee"
    }
   },
   "outputs": [],
   "source": [
    "#read mode\n",
    "file = open(\"filename.txt\",\"r\")\n",
    "file.close()\n",
    "\n",
    "#binary write mode\n",
    "file = open(\"filename.txt\",\"wb\")\n",
    "file.close()\n"
   ]
  },
  {
   "cell_type": "markdown",
   "metadata": {
    "colab_type": "text",
    "id": "M6B11Yrr-nBI",
    "nbpresent": {
     "id": "dfe6a38c-5760-4c0c-b5c3-9596601f9153"
    },
    "slideshow": {
     "slide_type": "slide"
    }
   },
   "source": [
    "# 2. Reading Files\n",
    "\n",
    "The content of a file that has been opened in text mode can be read using the **`read`** method. The code below will print all the contents of the file name \"filename.txt\"."
   ]
  },
  {
   "cell_type": "code",
   "execution_count": 18,
   "metadata": {
    "colab": {},
    "colab_type": "code",
    "id": "f3IXevJm-nBJ",
    "nbpresent": {
     "id": "ae8b0a7f-b368-4ac4-9ae2-e4890e73dfb7"
    },
    "scrolled": true
   },
   "outputs": [
    {
     "name": "stdout",
     "output_type": "stream",
     "text": [
      "\n"
     ]
    }
   ],
   "source": [
    "file = open(\"filename.txt\",\"r\")\n",
    "cont = file.read()\n",
    "print(cont) #if this file contains no text it will print a blank row in the Notebook below this cell\n",
    "#file.close()"
   ]
  },
  {
   "cell_type": "markdown",
   "metadata": {
    "colab_type": "text",
    "id": "CPqUyqCX-nBQ",
    "nbpresent": {
     "id": "5875a37f-2d79-406d-a9d2-12dcade61531"
    },
    "slideshow": {
     "slide_type": "slide"
    }
   },
   "source": [
    "To read only a certain amount of a file, you can provide a number as an argument to the **`read`** function. This determines the number of **bytes** that should be read. \n",
    "\n",
    "You can make more calls to **`read`** on the same file object to read more of the file byte by byte. With no argument, **`read`** returns the rest of the file. "
   ]
  },
  {
   "cell_type": "code",
   "execution_count": 19,
   "metadata": {
    "colab": {},
    "colab_type": "code",
    "id": "Wtrv39nh-nBQ",
    "nbpresent": {
     "id": "452d4e01-82e1-48d8-b7f2-8b07d406a50f"
    }
   },
   "outputs": [
    {
     "name": "stdout",
     "output_type": "stream",
     "text": [
      "\n"
     ]
    }
   ],
   "source": [
    "file = open(\"filename.txt\",\"r\")\n",
    "print(file.read(16))"
   ]
  },
  {
   "cell_type": "code",
   "execution_count": 20,
   "metadata": {
    "colab": {},
    "colab_type": "code",
    "id": "y0NzZzvH-nBW",
    "nbpresent": {
     "id": "35a6d875-26c5-456c-8715-5617b58996f4"
    }
   },
   "outputs": [
    {
     "name": "stdout",
     "output_type": "stream",
     "text": [
      "\n",
      "\n",
      "\n"
     ]
    }
   ],
   "source": [
    "file = open(\"filename.txt\",\"r\")\n",
    "#cont = file.read()\n",
    "print(file.read(4))\n",
    "print(file.read(4))\n",
    "print(file.read())\n",
    "file.close()"
   ]
  },
  {
   "cell_type": "markdown",
   "metadata": {
    "colab_type": "text",
    "id": "p8MMTzNr-nBa",
    "nbpresent": {
     "id": "074d8b54-cd2c-48e1-bbf2-83875c725879"
    },
    "slideshow": {
     "slide_type": "slide"
    }
   },
   "source": [
    "After all contents in a file have been read, any attempts to read further from that file will return an empty string, because you are trying to read from the end of the file. "
   ]
  },
  {
   "cell_type": "code",
   "execution_count": null,
   "metadata": {
    "colab": {},
    "colab_type": "code",
    "collapsed": true,
    "id": "XpXb0_n2-nBc",
    "nbpresent": {
     "id": "eaa0c809-5843-4348-a0b2-8caf719f1bb2"
    }
   },
   "outputs": [],
   "source": [
    "file = open(\"filename.txt\",\"r\")\n",
    "file.read()\n",
    "print(\"Re-reading\")\n",
    "print(file.read())\n",
    "print(\"Finished\")\n",
    "file.close()"
   ]
  },
  {
   "cell_type": "markdown",
   "metadata": {
    "colab_type": "text",
    "id": "Z84Ydy5_-nBe",
    "nbpresent": {
     "id": "5891853d-ba5c-40e2-9a32-7075f77a9204"
    },
    "slideshow": {
     "slide_type": "slide"
    }
   },
   "source": [
    "To retrieve each line in a file, you can use the **`readlines`** method to return a list in which each element is a line in the file. For example:"
   ]
  },
  {
   "cell_type": "code",
   "execution_count": null,
   "metadata": {
    "colab": {},
    "colab_type": "code",
    "collapsed": true,
    "id": "6RkQCfNS-nBf",
    "nbpresent": {
     "id": "848eaba9-b927-43fc-bc35-ca1d03e22627"
    }
   },
   "outputs": [],
   "source": [
    "file = open(\"filename1.txt\",\"r\")\n",
    "print(file.readlines())\n",
    "file.close()"
   ]
  },
  {
   "cell_type": "markdown",
   "metadata": {
    "colab_type": "text",
    "id": "_3PDzlgE-nBi",
    "nbpresent": {
     "id": "b6d09158-03c3-48f0-a774-8561a21a8b7e"
    },
    "slideshow": {
     "slide_type": "slide"
    }
   },
   "source": [
    "You can also use a **`for`** loop to iterate through the lines in the file: "
   ]
  },
  {
   "cell_type": "code",
   "execution_count": null,
   "metadata": {
    "colab": {},
    "colab_type": "code",
    "collapsed": true,
    "id": "dm-N4BX6-nBj",
    "nbpresent": {
     "id": "d8d0d8ff-e132-47ba-afd4-4878d69123e4"
    }
   },
   "outputs": [],
   "source": [
    "file = open(\"filename1.txt\",\"r\")\n",
    "\n",
    "for line in file:\n",
    "    print(line)\n",
    "    \n",
    "file.close()"
   ]
  },
  {
   "cell_type": "markdown",
   "metadata": {
    "colab_type": "text",
    "id": "dXHRNvCk-nBm",
    "nbpresent": {
     "id": "7bea6f30-cf90-4483-8c52-f65e04ba8e03"
    },
    "slideshow": {
     "slide_type": "slide"
    }
   },
   "source": [
    "<div class=\"alert alert-success\">\n",
    "<b>TIP: new line</b> \n",
    "\n",
    "Note that in the output, the lines are separated by blank lines, as the **`print`** function automatically adds a new line at the end of its output.\n",
    "\n",
    "</div>"
   ]
  },
  {
   "cell_type": "markdown",
   "metadata": {
    "colab_type": "text",
    "id": "1h5hDAz4-nBn",
    "nbpresent": {
     "id": "3d2887b8-59a4-41ee-ae3d-c5cb6ad7ed11"
    },
    "slideshow": {
     "slide_type": "slide"
    }
   },
   "source": [
    "# 3. Writing Files\n",
    "\n",
    "To write to files you use the **`write`** method, which writes a string to the file. \n",
    "\n",
    "For example:"
   ]
  },
  {
   "cell_type": "code",
   "execution_count": 21,
   "metadata": {
    "colab": {},
    "colab_type": "code",
    "id": "JuvUf49--nBo",
    "nbpresent": {
     "id": "8fa2a971-42d5-4d12-8d26-363248033ef0"
    }
   },
   "outputs": [
    {
     "name": "stdout",
     "output_type": "stream",
     "text": [
      "This has been written to a file\n"
     ]
    }
   ],
   "source": [
    "file = open(\"newfile.txt\",\"w\")\n",
    "file.write(\"This has been written to a file\")\n",
    "file.close()\n",
    "\n",
    "file = open(\"newfile.txt\",\"r\")\n",
    "print(file.read())\n",
    "file.close()"
   ]
  },
  {
   "cell_type": "markdown",
   "metadata": {
    "colab_type": "text",
    "id": "Y5av_lL5-nBv",
    "nbpresent": {
     "id": "ac335140-6ae4-4601-9497-63069303e51c"
    }
   },
   "source": [
    "\n",
    "<div class=\"alert alert-danger\">\n",
    "<b>WARNING: </b> Overwritting!\n",
    "<p>When a file is opened in \"w\" mode, the file's existing content is deleted.</p>\n",
    "</div>"
   ]
  },
  {
   "cell_type": "code",
   "execution_count": 22,
   "metadata": {
    "colab": {},
    "colab_type": "code",
    "id": "ukHQ-FBB-nBw",
    "nbpresent": {
     "id": "6268816c-686c-4abd-a9d3-0ff244fec13a"
    },
    "slideshow": {
     "slide_type": "slide"
    }
   },
   "outputs": [
    {
     "name": "stdout",
     "output_type": "stream",
     "text": [
      "Reading initial contents\n",
      "This has been written to a file\n",
      "Finished\n",
      "Reading new contents\n",
      "Some new text\n",
      "Finished\n"
     ]
    }
   ],
   "source": [
    "file = open(\"newfile.txt\",\"r\")\n",
    "print(\"Reading initial contents\")\n",
    "print(file.read())\n",
    "print(\"Finished\")\n",
    "file.close()\n",
    "\n",
    "file = open(\"newfile.txt\",\"w\")\n",
    "file.write(\"Some new text\")\n",
    "file.close()\n",
    "\n",
    "file = open(\"newfile.txt\",\"r\")\n",
    "print(\"Reading new contents\")\n",
    "print(file.read())\n",
    "print(\"Finished\")\n",
    "file.close()"
   ]
  },
  {
   "cell_type": "markdown",
   "metadata": {
    "colab_type": "text",
    "id": "SMAHFENH-nBy",
    "nbpresent": {
     "id": "86b5c9d9-7087-444a-a518-3e9c5294ce1c"
    },
    "slideshow": {
     "slide_type": "slide"
    }
   },
   "source": [
    "The **`write`** method returns the number of **bytes** written to a file, if successful. "
   ]
  },
  {
   "cell_type": "code",
   "execution_count": null,
   "metadata": {
    "colab": {},
    "colab_type": "code",
    "collapsed": true,
    "id": "CH8CXt2m-nBz",
    "nbpresent": {
     "id": "25fc0546-abcf-4388-8b18-3a5f1053fab7"
    }
   },
   "outputs": [],
   "source": [
    "msg = \"Hello world!\"\n",
    "file = open(\"newfile.txt\",\"w\")\n",
    "amount_written = file.write(msg)\n",
    "print(amount_written)\n",
    "file.close()\n"
   ]
  },
  {
   "cell_type": "markdown",
   "metadata": {
    "colab_type": "text",
    "id": "-e1DpdIklBj3"
   },
   "source": [
    "<div class=\"alert alert-warning\">\n",
    "<b>EXERCISE 1: </b> \n",
    "<p>Create a file called <tt><b>testfile.txt</b></tt> and write 3 lines in it \"Hello World!\"; \"Here is another line!\"; \"This is the last line!\". Remember to close it.\n"
   ]
  },
  {
   "cell_type": "code",
   "execution_count": 1,
   "metadata": {},
   "outputs": [],
   "source": [
    "# Write your solution here"
   ]
  },
  {
   "cell_type": "markdown",
   "metadata": {
    "colab_type": "text",
    "id": "vOjaqI9PnC3M"
   },
   "source": [
    "<div class=\"alert alert-warning\">\n",
    "<b>EXERCISE 2: </b> \n",
    "<p>Open <tt><b>testfile.txt</b></tt> and print its content.\n",
    "<p>"
   ]
  },
  {
   "cell_type": "code",
   "execution_count": 2,
   "metadata": {},
   "outputs": [],
   "source": [
    "# Write your solution here"
   ]
  },
  {
   "cell_type": "markdown",
   "metadata": {
    "colab_type": "text",
    "id": "9SJ_ruEyoE9q"
   },
   "source": [
    "<div class=\"alert alert-warning\">\n",
    "<b>EXERCISE 3: </b> \n",
    "<p>Open <tt><b>testfile.txt</b></tt> and add another line: \"This is actually the last line.\".\n"
   ]
  },
  {
   "cell_type": "code",
   "execution_count": 3,
   "metadata": {},
   "outputs": [],
   "source": [
    "# Write your solution here"
   ]
  },
  {
   "cell_type": "markdown",
   "metadata": {
    "colab_type": "text",
    "id": "XVu9P9zLrH9e"
   },
   "source": [
    "<div class=\"alert alert-warning\">\n",
    "<b>EXERCISE 4: </b> \n",
    "<p>Open <tt><b>testfile.txt</b></tt> in write mode and do not close it. \n"
   ]
  },
  {
   "cell_type": "code",
   "execution_count": 4,
   "metadata": {},
   "outputs": [],
   "source": [
    "# Write your solution here"
   ]
  },
  {
   "cell_type": "markdown",
   "metadata": {
    "colab_type": "text",
    "id": "w0SqfwoHr4sa"
   },
   "source": [
    "<div class=\"alert alert-warning\">\n",
    "<b>EXERCISE 5: </b> \n",
    "<p>Print the content of the file. \n",
    "<p>The file is empty now - that is why it is important to <b>always</b> close the file, otherwise you will lose its content. </p>\n"
   ]
  },
  {
   "cell_type": "code",
   "execution_count": 5,
   "metadata": {},
   "outputs": [],
   "source": [
    "# Write your solution here"
   ]
  },
  {
   "cell_type": "markdown",
   "metadata": {
    "colab_type": "text",
    "id": "bfHEEAD9-nB2",
    "nbpresent": {
     "id": "647e32a8-d188-45de-8fd4-95590ad3db5a"
    },
    "slideshow": {
     "slide_type": "slide"
    }
   },
   "source": [
    "# 4. Working with files\n",
    "\n",
    "It is good practice to avoid wasting resources by making sure that files are always closed after they have been used. One way of doing this is to use the **`try`** and **`finally`** statements."
   ]
  },
  {
   "cell_type": "code",
   "execution_count": null,
   "metadata": {
    "colab": {},
    "colab_type": "code",
    "collapsed": true,
    "id": "r2JqWchO-nB2",
    "nbpresent": {
     "id": "d18ebbf2-3dda-41cc-a2bf-3726f3425440"
    },
    "slideshow": {
     "slide_type": "slide"
    }
   },
   "outputs": [],
   "source": [
    "try:\n",
    "    f = open(\"filename.txt\")\n",
    "    print(f.read())\n",
    "finally:\n",
    "    f.close()"
   ]
  },
  {
   "cell_type": "markdown",
   "metadata": {
    "colab_type": "text",
    "id": "VBcc5Vmu-nB8",
    "nbpresent": {
     "id": "fe6287f7-935e-41ca-a8e3-4fef614c6254"
    }
   },
   "source": [
    "This ensures that the file is always closed, even if an error occurs. "
   ]
  },
  {
   "cell_type": "markdown",
   "metadata": {
    "colab_type": "text",
    "id": "0K1MVz8N-nB8",
    "nbpresent": {
     "id": "7c1516d0-3610-46b0-9dd7-0812be90a3e6"
    },
    "slideshow": {
     "slide_type": "slide"
    }
   },
   "source": [
    "An alternative way of doing this is the **`with`** statement. This creates a temporary variable (often called \"f\"), which is only accessible in the indented block of the **`with`** statement. In the code below the file is automatically closed at the end of the **`with`** statement, even if exceptions occur within it. "
   ]
  },
  {
   "cell_type": "code",
   "execution_count": null,
   "metadata": {
    "colab": {},
    "colab_type": "code",
    "collapsed": true,
    "id": "EwvOQyVF-nB9",
    "nbpresent": {
     "id": "1b17cafb-18fa-4ff4-a0c8-e718834b1f7e"
    }
   },
   "outputs": [],
   "source": [
    "with open(\"filename.txt\",\"r\") as f:\n",
    "    print(f.read())"
   ]
  },
  {
   "cell_type": "markdown",
   "metadata": {
    "colab_type": "text",
    "id": "iy4k0n3a-nCB",
    "nbpresent": {
     "id": "e913c481-639c-4144-a467-bceed1961d59"
    },
    "slideshow": {
     "slide_type": "slide"
    }
   },
   "source": [
    "## 4.1 Load data from a CSV file\n",
    "\n",
    "You must know how to load data before you can use it to train a machine learning model. We've just had a look at the basics. Lets review what we've learned so far and put it together into something useful:\n",
    "\n",
    "- How to load a file\n",
    "- How to convert strings to floating point numbers\n",
    "- How to convert strings into integers\n",
    "\n",
    "When starting out, it is a good idea to stick with small in-memory datasets using standard file formats like comma separated value (.csv)."
   ]
  },
  {
   "cell_type": "markdown",
   "metadata": {
    "colab_type": "text",
    "id": "Kva7-uwN-nCC",
    "nbpresent": {
     "id": "44f52b32-faf1-4e01-9d30-bd45c13b87ad"
    },
    "slideshow": {
     "slide_type": "slide"
    }
   },
   "source": [
    "### Comma Separated Values\n",
    "\n",
    "The standard file format for small datasets is Comma Separated Values or CSV. \n",
    "\n",
    "In its simplest form, CSV files are comprised of rows of data. Each row is divided into columns using a comma (,). In the following sections, we are going to practice loading two different, standard machine learning\n",
    "datasets in CSV format."
   ]
  },
  {
   "cell_type": "markdown",
   "metadata": {
    "colab_type": "text",
    "id": "PGdrpsG8-nCE",
    "nbpresent": {
     "id": "aa1c8e9c-5e12-42bb-9ecc-9c687e8c58dd"
    },
    "slideshow": {
     "slide_type": "slide"
    }
   },
   "source": [
    "### Load CSV File\n",
    "\n",
    "Here we create a function called load **`csv()`** to wrap this behavior that will take a filename and return our dataset. We will represent the loaded dataset as a list of lists. The first list is a list of observations or rows, and the second list is the list of column values for a given row."
   ]
  },
  {
   "cell_type": "code",
   "execution_count": 9,
   "metadata": {
    "colab": {},
    "colab_type": "code",
    "id": "uXTcJOQx-nCE",
    "nbpresent": {
     "id": "bf3ff319-ed35-439a-8eee-bd0c7d51e598"
    }
   },
   "outputs": [],
   "source": [
    "from csv import reader\n",
    "\n",
    "#Load a CSV file\n",
    "def load_csv(filename):\n",
    "    file = open(filename, \"r\")\n",
    "    lines = reader(file)\n",
    "    dataset = list(lines)\n",
    "    return dataset"
   ]
  },
  {
   "cell_type": "markdown",
   "metadata": {
    "colab_type": "text",
    "id": "ubnZjLe0-nCG",
    "nbpresent": {
     "id": "424aba4e-8fe5-495e-b84e-9eb7ea76330a"
    },
    "slideshow": {
     "slide_type": "slide"
    }
   },
   "source": [
    "Let’s use the new function and load the dataset. The data is numeric and separated by commas and we can expect that the whole file meets this expectation. Once loaded we can report some simple details such as the number of rows and columns loaded."
   ]
  },
  {
   "cell_type": "code",
   "execution_count": 10,
   "metadata": {
    "colab": {},
    "colab_type": "code",
    "id": "bBZxyGFK-nCI",
    "nbpresent": {
     "id": "99ad611a-64ce-4718-924e-5da8ac9ac592"
    },
    "slideshow": {
     "slide_type": "-"
    }
   },
   "outputs": [
    {
     "name": "stdout",
     "output_type": "stream",
     "text": [
      "Loaded data file ./files/pima-indians-diabetes.csv with 768 rows and 9 columns\n"
     ]
    }
   ],
   "source": [
    "# Load dataset\n",
    "filename = './files/pima-indians-diabetes.csv'\n",
    "dataset = load_csv(filename)\n",
    "print(\"Loaded data file {0} with {1} rows and {2} columns\".format(filename, len(dataset), len(dataset[0])))"
   ]
  },
  {
   "cell_type": "markdown",
   "metadata": {
    "colab_type": "text",
    "id": "CRYoUbLR-nCM",
    "nbpresent": {
     "id": "d6d766e7-87e1-4015-995f-c5e1d307c1bc"
    },
    "slideshow": {
     "slide_type": "slide"
    }
   },
   "source": [
    "A limitation of the previous function is that it will load empty lines from data files and add them to our list of rows. \n",
    "\n",
    "We can overcome this by adding rows of data one at a time to our dataset and skipping empty rows. "
   ]
  },
  {
   "cell_type": "code",
   "execution_count": 11,
   "metadata": {
    "colab": {},
    "colab_type": "code",
    "id": "YKt_K3y0-nCM",
    "nbpresent": {
     "id": "eb4cd71a-3600-4fe4-a647-5f2648b80a74"
    }
   },
   "outputs": [
    {
     "name": "stdout",
     "output_type": "stream",
     "text": [
      "Loaded data file ./files/pima-indians-diabetes.csv with 768 rows and 9 columns\n"
     ]
    }
   ],
   "source": [
    "# Load a CSV file\n",
    "def load_csv(filename):\n",
    "    dataset = list()\n",
    "    with open(filename, 'r') as file:\n",
    "        csv_reader = reader(file)\n",
    "        for row in csv_reader:\n",
    "            if not row: # skipping empty rows\n",
    "                continue\n",
    "            dataset.append(row)\n",
    "    return dataset\n",
    "\n",
    "# Load dataset\n",
    "filename = './files/pima-indians-diabetes.csv'\n",
    "dataset = load_csv(filename)\n",
    "print(\"Loaded data file {0} with {1} rows and {2} columns\".format(filename, len(dataset), len(dataset[0])))"
   ]
  },
  {
   "cell_type": "markdown",
   "metadata": {
    "colab_type": "text",
    "id": "IgXjUavx-nCg",
    "nbpresent": {
     "id": "d387410f-c84b-4dbc-beec-242cf9e638cd"
    },
    "slideshow": {
     "slide_type": "slide"
    }
   },
   "source": [
    "# 5. Extensions\n",
    "\n",
    "Data loading can be a difficult task given the variety of data cleaning and conversion that may be required from problem to problem. There are many extensions that you could make to make these examples more robust to new and different data files. \n",
    "\n",
    "Below are just a few ideas you can consider researching and implementing yourself:\n",
    "- Detect and remove empty lines at the top or bottom of the file.\n",
    "- Detect and handle missing values in a column.\n",
    "- Detect and handle rows that do not match expectations for the rest of the file.   \n",
    "- Support for other delimiters such as pipe (|) or white space.\n",
    "- Support more efficient data structures such as arrays."
   ]
  },
  {
   "cell_type": "markdown",
   "metadata": {
    "colab_type": "text",
    "id": "UXEoUeY1-nCk",
    "nbpresent": {
     "id": "86d01c4c-4958-4cb2-b3fe-4641e21f3e8c"
    },
    "slideshow": {
     "slide_type": "slide"
    }
   },
   "source": [
    "Two libraries we will use for loading CSV and Excel Spreadsheets data are NumPy and Pandas. \n",
    "\n",
    "- **`NumPy`** offers the **`loadtxt()`** function for loading data files as NumPy arrays.\n",
    "\n",
    "- **`Pandas`** offers the read **`csv()`** function that offers a lot of flexibility regarding data types, file headers and more."
   ]
  },
  {
   "cell_type": "markdown",
   "metadata": {
    "colab_type": "text",
    "collapsed": true,
    "id": "7_cx5ZeWfotV",
    "nbpresent": {
     "id": "c2a6d4cc-1192-409c-bbfb-8b2639f62ede"
    },
    "slideshow": {
     "slide_type": "slide"
    }
   },
   "source": [
    "# 6. NumPy\n",
    "\n",
    "\n",
    "Machine learning data is represented as arrays. In Python, data is almost universally represented as **`NumPy`** arrays.\n",
    "\n",
    "You may still be a bit confused by some of the pythonic ways of accessing data, such as negative indexing and array slicing. This week, we will cover how to manipulate and access your data correctly in **`NumPy`** arrays."
   ]
  },
  {
   "cell_type": "code",
   "execution_count": 4,
   "metadata": {
    "colab": {},
    "colab_type": "code",
    "id": "biZZKi0efotS",
    "nbpresent": {
     "id": "4ae226d1-47ef-4b1a-a133-34b225bfb91e"
    },
    "slideshow": {
     "slide_type": "skip"
    }
   },
   "outputs": [],
   "source": [
    "from IPython.core.interactiveshell import InteractiveShell\n",
    "InteractiveShell.ast_node_interactivity = \"all\"\n",
    "\n",
    "import numpy as np "
   ]
  },
  {
   "cell_type": "markdown",
   "metadata": {
    "colab_type": "text",
    "id": "5Hzs2P92fotW",
    "nbpresent": {
     "id": "13ee6f2f-9dc6-4b66-9a6c-f5d388345006"
    },
    "slideshow": {
     "slide_type": "slide"
    }
   },
   "source": [
    "After completing this lecture, you should know how to:\n",
    "\n",
    "- How to convert your list data to NumPy arrays.\n",
    "- How to access data using Pythonic indexing and slicing.\n",
    "- How to resize your data to meet the expectations of some machine learning APIs."
   ]
  },
  {
   "cell_type": "markdown",
   "metadata": {
    "colab_type": "text",
    "id": "uwMwNryVfotX",
    "nbpresent": {
     "id": "bb3f77fd-1c26-424b-b0c4-ff5e9599b429"
    },
    "slideshow": {
     "slide_type": "slide"
    }
   },
   "source": [
    "**`NumPy`**, short for Numerical Python, is a fundemental package for high performance scientific computing and data analysis. It provides:\n",
    "\n",
    "- **`ndarray`** is a fast and space-efficient multidimensional array providing vectorized operations\n",
    "- It provides standard mathematical functions for fast operations on entire arrays (without having to write loops)\n",
    "- Tools for reading/writing data to disk and memory-mapped files \n",
    "- Linear algebra, random number generation and FFT functions \n",
    "- Tools for integrating with C, C++ and Fortran code bases "
   ]
  },
  {
   "cell_type": "markdown",
   "metadata": {
    "colab_type": "text",
    "id": "iOvJqjTDfotY",
    "nbpresent": {
     "id": "aa114a44-a2d0-4f19-81fc-e91b863826b1"
    },
    "slideshow": {
     "slide_type": "slide"
    }
   },
   "source": [
    "Whilst NumPy on its own doesn't have much high-level data analytics functionality, having an understanding of NumPy arrays and array-oriented computing will help you use tools like **`pandas`** much more effectively. \n",
    "\n",
    "The main areas of functionality that we'll use for data analysis applications include the following:\n",
    "- Fast vectorized array operations for data munging and cleaning, subsetting, transforming etc. \n",
    "- Common array algorithms like sorting, unique and set operations \n",
    "- Efficient descriptive statistics and aggregating/summarizing data \n"
   ]
  },
  {
   "cell_type": "markdown",
   "metadata": {
    "colab_type": "text",
    "id": "Z_0BkwfSfotY",
    "nbpresent": {
     "id": "f68aa4c6-04ff-4dc5-8b7a-03016db7419a"
    },
    "slideshow": {
     "slide_type": "slide"
    }
   },
   "source": [
    "- Data alignmnet and relational data manipulation for merging and joining dta sets\n",
    "- Expressing conditional logic as array expressions instead of loops \n",
    "- Group-wise data manipulations including aggregation\n",
    "\n",
    "Whilst **`NumPy`** provides the computational foundation for these operations, you will likely use **`pandas`** as the basis for most kinds of data analysis (especially structured or tabluar data). "
   ]
  },
  {
   "cell_type": "markdown",
   "metadata": {
    "colab_type": "text",
    "id": "wKbcIfE_fota",
    "nbpresent": {
     "id": "29f1ed39-a28e-4051-bea0-10c8dbb32f4f"
    },
    "slideshow": {
     "slide_type": "slide"
    }
   },
   "source": [
    "## 6.1 A Multi-dimensional array object\n",
    "\n",
    "One of the key featues of **`NumPy`** is its N-dimensional array object or **`ndarray`**, a fast and flexible container for Python. "
   ]
  },
  {
   "cell_type": "code",
   "execution_count": 8,
   "metadata": {
    "colab": {},
    "colab_type": "code",
    "id": "9V5JOF-9fotc",
    "nbpresent": {
     "id": "100b0dd0-c308-4c4e-a62c-ab64d9fb70af"
    }
   },
   "outputs": [
    {
     "data": {
      "text/plain": [
       "array([[  1.9 ,  -0.48, 161.76],\n",
       "       [  1.12,   0.46,   1.82]])"
      ]
     },
     "execution_count": 8,
     "metadata": {},
     "output_type": "execute_result"
    },
    {
     "data": {
      "text/plain": [
       "array([[  1.9 ,  -0.48, 161.76],\n",
       "       [  1.12,   0.46,   1.82]])"
      ]
     },
     "execution_count": 8,
     "metadata": {},
     "output_type": "execute_result"
    }
   ],
   "source": [
    "import numpy as np \n",
    "\n",
    "data = [[0.95, -0.24, 80.88],[0.56, 0.23, 0.91]]\n",
    "\n",
    "data = np.array(data)\n",
    "data * 2\n",
    "\n",
    "data + data"
   ]
  },
  {
   "cell_type": "markdown",
   "metadata": {
    "colab_type": "text",
    "id": "J69WBrzWfotg",
    "nbpresent": {
     "id": "5d9a64c3-81a5-4f9f-845c-cc7d53701c9c"
    },
    "slideshow": {
     "slide_type": "slide"
    }
   },
   "source": [
    "## 6.2 Creating **`ndarrays`**\n",
    "\n",
    "The easiest way to create an array is to use the **`array`** function. Nested sequences, like a list of equal-lenght lists, will be converted into a multidiementional array:"
   ]
  },
  {
   "cell_type": "code",
   "execution_count": 5,
   "metadata": {
    "colab": {},
    "colab_type": "code",
    "id": "50piVXtkfoti"
   },
   "outputs": [
    {
     "data": {
      "text/plain": [
       "array([[1, 2, 3, 4],\n",
       "       [5, 6, 7, 8]])"
      ]
     },
     "execution_count": 5,
     "metadata": {},
     "output_type": "execute_result"
    },
    {
     "data": {
      "text/plain": [
       "2"
      ]
     },
     "execution_count": 5,
     "metadata": {},
     "output_type": "execute_result"
    },
    {
     "data": {
      "text/plain": [
       "(2, 4)"
      ]
     },
     "execution_count": 5,
     "metadata": {},
     "output_type": "execute_result"
    },
    {
     "data": {
      "text/plain": [
       "dtype('int32')"
      ]
     },
     "execution_count": 5,
     "metadata": {},
     "output_type": "execute_result"
    }
   ],
   "source": [
    "data2 = [[1, 2, 3, 4],[5, 6, 7, 8]]\n",
    "arr2 = np.array(data2)\n",
    "\n",
    "arr2\n",
    "arr2.ndim\n",
    "arr2.shape\n",
    "arr2.dtype"
   ]
  },
  {
   "cell_type": "markdown",
   "metadata": {
    "colab_type": "text",
    "id": "fIUfeqJifotn",
    "nbpresent": {
     "id": "d720672b-2e7a-4431-bbf3-31cee7001ce9"
    },
    "slideshow": {
     "slide_type": "slide"
    }
   },
   "source": [
    "<div class=\"alert alert-info\">\n",
    "    \n",
    "HINT: **`np.array`** types\n",
    "    \n",
    "Unless explicitly specified, **`np.array`** tries to infrer a good data type for the array that it creates. The data type stored in a special **`dtype`** object\n",
    "\n",
    "</div>"
   ]
  },
  {
   "cell_type": "markdown",
   "metadata": {
    "colab_type": "text",
    "id": "4HjbV3uffotn",
    "nbpresent": {
     "id": "5bc96c71-6566-48ec-9a31-e922b50a43eb"
    },
    "slideshow": {
     "slide_type": "slide"
    }
   },
   "source": [
    "In addition to **`np.array`** there are a few other functions for creating new array objects. \n",
    "\n",
    "Principally, **`zeros`** and **`ones`** create arrays of 0's and 1's with a given lenght or shape (passed using a tuple as the argument). "
   ]
  },
  {
   "cell_type": "code",
   "execution_count": 6,
   "metadata": {
    "colab": {},
    "colab_type": "code",
    "id": "hTgmEGuefotp",
    "nbpresent": {
     "id": "f23129e7-2600-4af1-a393-f6e9882b2b03"
    }
   },
   "outputs": [
    {
     "data": {
      "text/plain": [
       "array([0., 0., 0., 0., 0., 0., 0., 0., 0., 0.])"
      ]
     },
     "execution_count": 6,
     "metadata": {},
     "output_type": "execute_result"
    },
    {
     "data": {
      "text/plain": [
       "array([[1., 1., 1., 1., 1., 1.],\n",
       "       [1., 1., 1., 1., 1., 1.],\n",
       "       [1., 1., 1., 1., 1., 1.]])"
      ]
     },
     "execution_count": 6,
     "metadata": {},
     "output_type": "execute_result"
    }
   ],
   "source": [
    "np.zeros(10)\n",
    "np.ones((3,6))"
   ]
  },
  {
   "cell_type": "markdown",
   "metadata": {
    "colab_type": "text",
    "id": "aFgRHeaXfotu",
    "nbpresent": {
     "id": "db06d27c-b8a3-408e-9154-d72c8e4b5c0f"
    },
    "slideshow": {
     "slide_type": "slide"
    }
   },
   "source": [
    "The **`empty`** method creates an array without initializing its values to any particular value. "
   ]
  },
  {
   "cell_type": "code",
   "execution_count": 9,
   "metadata": {
    "colab": {},
    "colab_type": "code",
    "id": "1mpC6mjMfotv",
    "nbpresent": {
     "id": "24ad8bbb-759d-458f-913c-3c514ab8ab08"
    }
   },
   "outputs": [
    {
     "data": {
      "text/plain": [
       "array([[[8.87520548e-312, 3.16202013e-322],\n",
       "        [0.00000000e+000, 0.00000000e+000],\n",
       "        [0.00000000e+000, 2.85331937e-056]],\n",
       "\n",
       "       [[1.11598049e-046, 7.69859440e+169],\n",
       "        [7.27343280e-043, 1.60365503e-051],\n",
       "        [1.86489094e+160, 9.30590047e+165]]])"
      ]
     },
     "execution_count": 9,
     "metadata": {},
     "output_type": "execute_result"
    }
   ],
   "source": [
    "np.empty((2,3,2))"
   ]
  },
  {
   "cell_type": "markdown",
   "metadata": {
    "colab_type": "text",
    "id": "KlTcwwMSfoty",
    "nbpresent": {
     "id": "cc7efaa3-23ae-491f-bf3c-0c61d40fa700"
    },
    "slideshow": {
     "slide_type": "slide"
    }
   },
   "source": [
    "<div class=\"alert alert-danger\">\n",
    "<b>WARNING: </b> Array initialization \n",
    "\n",
    "It is not safe to assume that **`np.array`** will return an array of all zeros. In most cases, as above, it will return uninitialized garbage values.\n",
    "\n",
    "</div>"
   ]
  },
  {
   "cell_type": "markdown",
   "metadata": {
    "colab_type": "text",
    "id": "Oq8NzqpRfotz",
    "nbpresent": {
     "id": "d954d671-9383-4875-8183-171bca323f9e"
    },
    "slideshow": {
     "slide_type": "slide"
    }
   },
   "source": [
    "**`arange`** is an array-valued version of the build-in Python **`range`** function. See the table below for a short list of standard array creation functions. \n",
    "\n",
    "Since **`NumPy`** is focused on numerical computations, the data type, if not specificed, will in many cases be **`float64`** (floating point).\n"
   ]
  },
  {
   "cell_type": "code",
   "execution_count": 12,
   "metadata": {
    "colab": {},
    "colab_type": "code",
    "id": "sBGMHmbcfotz",
    "nbpresent": {
     "id": "a26d50ca-38d3-4517-98f5-8b3cf87b65a8"
    }
   },
   "outputs": [
    {
     "data": {
      "text/plain": [
       "array([ 0,  1,  2,  3,  4,  5,  6,  7,  8,  9, 10, 11, 12, 13, 14])"
      ]
     },
     "execution_count": 12,
     "metadata": {},
     "output_type": "execute_result"
    },
    {
     "data": {
      "text/plain": [
       "array([  0,  10,  20,  30,  40,  50,  60,  70,  80,  90, 100])"
      ]
     },
     "execution_count": 12,
     "metadata": {},
     "output_type": "execute_result"
    }
   ],
   "source": [
    "np.arange(15)\n",
    "np.arange(11)*10"
   ]
  },
  {
   "cell_type": "markdown",
   "metadata": {
    "colab_type": "text",
    "id": "1_WXM6CUfot2",
    "nbpresent": {
     "id": "73129f1e-34a1-4c65-bbc9-c66dff285a22"
    },
    "slideshow": {
     "slide_type": "slide"
    }
   },
   "source": [
    "### Array cretion functions\n",
    "\n",
    "| |\n",
    "|:---| :---|\n",
    "|** Funcion **   |  ** Description **  |\n",
    "|**`array`** |  Convert input data (list, tuple, array, or other sequence type) to an ndarray either by inferring a dtype or explicitly specifying a dtype. Copies the input data by default.|\n",
    "|**`asarray`** | Convert input to ndarray, but do not copy if the input is already an ndarray |\n",
    "|**`arange`**  | Like the built-in range but returns an ndarray instead of a list. |\n",
    "|**`ones`** **`ones_like`** | Produce an array of all 1’s with the given shape and dtype. ones_like takes another array and produces a ones array of the same shape and dtype. |\n",
    "|**`zeros`** **`zeros_like`** |Like ones and ones_like but producing arrays of 0’s instead|\n",
    "|**`empty`** **`empty_like`** |Create new arrays by allocating new memory, but do not populate with any values like ones and zeros|\n",
    "|**`eye`** **`identity`** |Create a square N x N identity matrix (1’s on the diagonal and 0’s elsewhere)|"
   ]
  },
  {
   "cell_type": "markdown",
   "metadata": {},
   "source": [
    "## 6.3 Using NumPy to import flat files\n",
    "\n",
    "We can load CSV files in numpy using the numpy function **`loadtxt()`**:\n",
    "\n",
    "- The first argument will be the filename.\n",
    "- The second will be the delimiter which, in this case, is a comma."
   ]
  },
  {
   "cell_type": "code",
   "execution_count": 13,
   "metadata": {},
   "outputs": [
    {
     "name": "stdout",
     "output_type": "stream",
     "text": [
      "<class 'numpy.ndarray'>\n"
     ]
    }
   ],
   "source": [
    "# Import package\n",
    "import numpy as np\n",
    "\n",
    "# Assign filename to variable: file\n",
    "file = './files/pima-indians-diabetes.csv'\n",
    "\n",
    "# Load file as array: digits\n",
    "dataset = np.loadtxt(file, delimiter=',')\n",
    "\n",
    "# Print datatype of digits\n",
    "print(type(dataset))"
   ]
  },
  {
   "cell_type": "markdown",
   "metadata": {},
   "source": [
    "There are a number of arguments that **`np.loadtxt()`**  takes: \n",
    "- Delimiter changes the delimiter that **`loadtxt()`**  is expecting, for example, you can use `','` and `'\\t'` for comma-delimited and tab-delimited respectively; \n",
    "- `Skiprows` allows you to specify how many rows (not indices) you wish to skip; `usecols` takes a list of the indices of the columns you wish to keep."
   ]
  },
  {
   "cell_type": "markdown",
   "metadata": {},
   "source": [
    "## Importing different datatypes\n",
    "\n",
    "The file seaslug.txt\n",
    "\n",
    "- has a text header, consisting of strings\n",
    "- is tab-delimited.\n",
    "\n",
    "These data consists of percentage of sea slug larvae that had metamorphosed in a given time period. Read more here (http://www.stat.ucla.edu/~rgould/datasets/aboutseaslugs.html).\n",
    "\n",
    "Due to the header, if you tried to import it as-is using np.loadtxt(), Python would throw you a ValueError and tell you that it could not convert string to float. There are two ways to deal with this: firstly, you can set the data type argument dtype equal to str (for string).\n",
    "\n",
    "Alternatively, you can skip the first row as we have seen before, using the skiprows argument."
   ]
  },
  {
   "cell_type": "code",
   "execution_count": 15,
   "metadata": {},
   "outputs": [
    {
     "name": "stdout",
     "output_type": "stream",
     "text": [
      "['Time' 'Percent']\n",
      "[0.    0.357]\n"
     ]
    },
    {
     "data": {
      "image/png": "[encoded data removed]",
      "text/plain": [
       "<Figure size 432x288 with 1 Axes>"
      ]
     },
     "metadata": {
      "needs_background": "light"
     },
     "output_type": "display_data"
    }
   ],
   "source": [
    "import matplotlib.pyplot as plt\n",
    "\n",
    "# Assign filename: file\n",
    "file = './files/seaslug.txt'\n",
    "\n",
    "# Import file: data\n",
    "data = np.loadtxt(file, delimiter='\\t', dtype=str)\n",
    "\n",
    "# Print the first element of data\n",
    "print(data[0])\n",
    "\n",
    "# Import data as floats and skip the first row: data_float\n",
    "data_float = np.loadtxt(file, delimiter='\\t', dtype=float, skiprows=1)\n",
    "\n",
    "# Print the 10th element of data_float\n",
    "print(data_float[9])\n",
    "\n",
    "# Plot a scatterplot of the data\n",
    "plt.scatter(data_float[:, 0], data_float[:, 1])\n",
    "plt.xlabel('time (min.)')\n",
    "plt.ylabel('percentage of larvae')\n",
    "plt.show()"
   ]
  },
  {
   "cell_type": "markdown",
   "metadata": {},
   "source": [
    "# 7. Pandas\n",
    "\n",
    "Much of the programming work in analytics projects is spent on data preparation: loading, cleaning, transforming, and rearranging. Sometimes the way that data is stored in files or databases is not the way you need it for a data processing application. \n",
    "\n",
    "Many people choose to do *ad hoc* processing of data from one form to another using a general purpose programming, like Python, Perl, R, or Java, or UNIX text processing tools like *sed* or *awk*. \n",
    "\n",
    "Fortunately, **`pandas`** along with the Python standard library provide you with a high-level, flexible, and high-performance set of core manipulations and algorithms to enable you to wrangle data into the right form without much trouble.\n",
    "\n"
   ]
  },
  {
   "cell_type": "markdown",
   "metadata": {
    "colab_type": "text",
    "id": "cgPIoFVGkxyt",
    "nbpresent": {
     "id": "1ae17bab-22d4-4c92-b553-6e5c1b735377"
    },
    "slideshow": {
     "slide_type": "slide"
    }
   },
   "source": [
    "**`pandas`** contains high-level data structures and manipulation tools designed to make data analysis fast and easy in Python. \n",
    "\n",
    "**`pandas`** is built on top of **`NumPy`** and makes it easy to use in NumPy-centric applications."
   ]
  },
  {
   "cell_type": "markdown",
   "metadata": {
    "colab_type": "text",
    "id": "BPB4OIh8kxyu",
    "nbpresent": {
     "id": "96f786d8-3e13-4bbc-b4aa-c8a2c87c3070"
    },
    "slideshow": {
     "slide_type": "slide"
    }
   },
   "source": [
    "As a bit of background, the **`pandas`** module was started in 2008 and at the time, data analysis had a distinct set of requirements that were not well-addressed by any single Python package:\n",
    "- Data structures with labeled axes supporting automatic or explicit data alignment. This prevents common errors resulting from misaligned data and working with differently-indexed data coming from different sources.\n",
    "- Integrated time series functionality.\n",
    "- A data structure that handles BOTH  time series data and non-time series data.\n",
    "- Arithmetic operations and reductions (like summing across an axis) would pass on the metadata (axis labels).\n",
    "- Flexible handling of missing data.\n",
    "- Merge and other relational operations found in popular database databases (SQL- based, for example)."
   ]
  },
  {
   "cell_type": "markdown",
   "metadata": {
    "colab_type": "text",
    "collapsed": true,
    "id": "5JqiFZXDkxyz",
    "nbpresent": {
     "id": "99c373e5-5fa9-4a8e-a3ca-5c777099f0a3"
    },
    "slideshow": {
     "slide_type": "slide"
    }
   },
   "source": [
    "## 7.1 **`Pandas`** Data Structures \n",
    "\n",
    "To get started with **`pandas`**, you will need to get comfortable with its two workhorse data structures: **`Series`** and **`DataFrame`**. \n",
    "\n",
    "While they are not a universal solution for every problem, they provide a solid, easy-to-use basis for most applications.\n"
   ]
  },
  {
   "cell_type": "markdown",
   "metadata": {
    "colab_type": "text",
    "id": "66avdctnkxy0",
    "nbpresent": {
     "id": "fb7529d1-97fb-4819-8b87-335f66135618"
    },
    "slideshow": {
     "slide_type": "slide"
    }
   },
   "source": [
    "### 7.1.1 Series \n",
    "\n",
    "A **`Series`** is a one-dimensional array-like object containing an array of data (of any **`NumPy`** data type) and an associated array of data labels, called its **`index`**. \n",
    "\n",
    "The simplest **`Series`** is formed from only an array of data:"
   ]
  },
  {
   "cell_type": "code",
   "execution_count": 1,
   "metadata": {
    "colab": {
     "base_uri": "https://localhost:8080/",
     "height": 102
    },
    "colab_type": "code",
    "id": "2Q_YKD4Jkxy2",
    "nbpresent": {
     "id": "f2e978a5-672a-4539-9d6e-12d7cfa25a67"
    },
    "outputId": "92777289-de04-49a4-9e73-534d8cef1cc6"
   },
   "outputs": [
    {
     "data": {
      "text/plain": [
       "0    4\n",
       "1    7\n",
       "2   -5\n",
       "3    3\n",
       "dtype: int64"
      ]
     },
     "execution_count": 1,
     "metadata": {},
     "output_type": "execute_result"
    }
   ],
   "source": [
    "import pandas as pd\n",
    "\n",
    "obj = pd.Series([4, 7, -5, 3])\n",
    "obj"
   ]
  },
  {
   "cell_type": "markdown",
   "metadata": {
    "colab_type": "text",
    "id": "3z9djvMXkxy8",
    "nbpresent": {
     "id": "18910e98-f41c-4edc-9d20-3958dcd23cb1"
    },
    "slideshow": {
     "slide_type": "slide"
    }
   },
   "source": [
    "\n",
    "The string representation of a **`Series`** displayed interactively shows the *index* on the left and the *values* on the right. \n",
    "\n",
    "Since we did not specify an index for the data, a default one consisting of the integers 0 through N - 1 (where N is the length of the data) is created. \n",
    "\n",
    "You can get the array representation and index object of the Series via its values and index attributes, respectively:"
   ]
  },
  {
   "cell_type": "code",
   "execution_count": 3,
   "metadata": {
    "colab": {
     "base_uri": "https://localhost:8080/",
     "height": 34
    },
    "colab_type": "code",
    "id": "s0xA9J0Dkxy9",
    "nbpresent": {
     "id": "d2532719-7407-4862-978b-0984bdc9a9ea"
    },
    "outputId": "ffd30e13-8b23-415a-f88f-a7abc74af626"
   },
   "outputs": [
    {
     "data": {
      "text/plain": [
       "array([ 4,  7, -5,  3])"
      ]
     },
     "execution_count": 3,
     "metadata": {},
     "output_type": "execute_result"
    },
    {
     "data": {
      "text/plain": [
       "RangeIndex(start=0, stop=4, step=1)"
      ]
     },
     "execution_count": 3,
     "metadata": {},
     "output_type": "execute_result"
    }
   ],
   "source": [
    "obj.values\n",
    "obj.index"
   ]
  },
  {
   "cell_type": "markdown",
   "metadata": {
    "colab_type": "text",
    "id": "u3ejlEHGkxzB",
    "nbpresent": {
     "id": "8e012eaf-8447-494b-829c-6d3732ac2da4"
    },
    "slideshow": {
     "slide_type": "slide"
    }
   },
   "source": [
    "Often it will be desirable to create a **`Series`** with an index identifying each data point:"
   ]
  },
  {
   "cell_type": "code",
   "execution_count": 4,
   "metadata": {
    "colab": {
     "base_uri": "https://localhost:8080/",
     "height": 102
    },
    "colab_type": "code",
    "id": "RMfwOm2NkxzC",
    "nbpresent": {
     "id": "aeab2444-771e-4cee-9942-eccb860ab1f6"
    },
    "outputId": "b8b96986-3411-42e9-8884-0bc0db87c6b8"
   },
   "outputs": [
    {
     "data": {
      "text/plain": [
       "d    4\n",
       "b    7\n",
       "a   -5\n",
       "c    3\n",
       "dtype: int64"
      ]
     },
     "execution_count": 4,
     "metadata": {},
     "output_type": "execute_result"
    },
    {
     "data": {
      "text/plain": [
       "Index(['d', 'b', 'a', 'c'], dtype='object')"
      ]
     },
     "execution_count": 4,
     "metadata": {},
     "output_type": "execute_result"
    }
   ],
   "source": [
    "obj2 = pd.Series([4, 7, -5, 3], index=['d', 'b', 'a', 'c'])\n",
    "obj2\n",
    "obj2.index"
   ]
  },
  {
   "cell_type": "markdown",
   "metadata": {
    "colab_type": "text",
    "id": "LJpuYlUMkxzH",
    "nbpresent": {
     "id": "3a0a81fd-93e5-436c-aa05-a7394ed57cb5"
    },
    "slideshow": {
     "slide_type": "slide"
    }
   },
   "source": [
    "Compared with a regular **`NumPy`** array, you can use values in the index when selecting single values or a set of values:"
   ]
  },
  {
   "cell_type": "code",
   "execution_count": 5,
   "metadata": {
    "colab": {
     "base_uri": "https://localhost:8080/",
     "height": 85
    },
    "colab_type": "code",
    "id": "6WQqf8IgkxzJ",
    "nbpresent": {
     "id": "f9041328-1611-4ef6-83f1-065822d69535"
    },
    "outputId": "b99b58ae-fa3f-465b-acde-3b20d24e96ea"
   },
   "outputs": [
    {
     "data": {
      "text/plain": [
       "-5"
      ]
     },
     "execution_count": 5,
     "metadata": {},
     "output_type": "execute_result"
    },
    {
     "data": {
      "text/plain": [
       "c    3\n",
       "a   -5\n",
       "d    6\n",
       "dtype: int64"
      ]
     },
     "execution_count": 5,
     "metadata": {},
     "output_type": "execute_result"
    }
   ],
   "source": [
    "obj2['a']\n",
    "obj2['d'] = 6\n",
    "obj2[['c', 'a', 'd']]"
   ]
  },
  {
   "cell_type": "markdown",
   "metadata": {
    "colab_type": "text",
    "id": "d4fmTdslkxzL",
    "nbpresent": {
     "id": "4be2ef42-8fb4-4a99-9ba5-311ac75a5f71"
    },
    "slideshow": {
     "slide_type": "slide"
    }
   },
   "source": [
    "**`NumPy`** array operations, such as filtering with a boolean array, scalar multiplication, or applying math functions, will preserve the index-value link:"
   ]
  },
  {
   "cell_type": "code",
   "execution_count": 6,
   "metadata": {
    "colab": {
     "base_uri": "https://localhost:8080/",
     "height": 153
    },
    "colab_type": "code",
    "id": "K_VQ2CmlkxzM",
    "nbpresent": {
     "id": "6333878f-6b5b-4c45-858c-e7fa4f75f10e"
    },
    "outputId": "52d0e54d-2744-4f85-dfa7-fccc500c5139"
   },
   "outputs": [
    {
     "data": {
      "text/plain": [
       "d    6\n",
       "b    7\n",
       "a   -5\n",
       "c    3\n",
       "dtype: int64"
      ]
     },
     "execution_count": 6,
     "metadata": {},
     "output_type": "execute_result"
    },
    {
     "data": {
      "text/plain": [
       "d    6\n",
       "b    7\n",
       "c    3\n",
       "dtype: int64"
      ]
     },
     "execution_count": 6,
     "metadata": {},
     "output_type": "execute_result"
    }
   ],
   "source": [
    "obj2\n",
    "obj2[obj2 > 0]"
   ]
  },
  {
   "cell_type": "code",
   "execution_count": 7,
   "metadata": {
    "colab": {
     "base_uri": "https://localhost:8080/",
     "height": 170
    },
    "colab_type": "code",
    "id": "ErQZ3GDikxzR",
    "nbpresent": {
     "id": "e3bf3d93-2c9c-4e75-bc3a-6c42ffd1fca3"
    },
    "outputId": "439c8ee2-b256-42ff-8c5d-78e5e29615f6",
    "slideshow": {
     "slide_type": "skip"
    }
   },
   "outputs": [
    {
     "data": {
      "text/plain": [
       "d    12\n",
       "b    14\n",
       "a   -10\n",
       "c     6\n",
       "dtype: int64"
      ]
     },
     "execution_count": 7,
     "metadata": {},
     "output_type": "execute_result"
    },
    {
     "data": {
      "text/plain": [
       "d     403.428793\n",
       "b    1096.633158\n",
       "a       0.006738\n",
       "c      20.085537\n",
       "dtype: float64"
      ]
     },
     "execution_count": 7,
     "metadata": {},
     "output_type": "execute_result"
    }
   ],
   "source": [
    "obj2 * 2\n",
    "np.exp(obj2)"
   ]
  },
  {
   "cell_type": "markdown",
   "metadata": {
    "colab_type": "text",
    "id": "YpCnJujckxzV",
    "nbpresent": {
     "id": "760afa75-0266-499e-b6d2-cf31820d6506"
    },
    "slideshow": {
     "slide_type": "slide"
    }
   },
   "source": [
    "Another way to think about a **`Series`** is as a fixed-length, ordered dict, as it is a mapping of index values to data values. \n",
    "\n",
    "It can be substituted into many functions that expect a dict:"
   ]
  },
  {
   "cell_type": "code",
   "execution_count": 8,
   "metadata": {
    "colab": {
     "base_uri": "https://localhost:8080/",
     "height": 34
    },
    "colab_type": "code",
    "id": "Onkaca5hkxzW",
    "nbpresent": {
     "id": "e025290b-8620-40a6-ab99-12f2eb6450cf"
    },
    "outputId": "bfd1d7ac-1d27-4d08-db2e-a19c4ae42505"
   },
   "outputs": [
    {
     "data": {
      "text/plain": [
       "True"
      ]
     },
     "execution_count": 8,
     "metadata": {},
     "output_type": "execute_result"
    },
    {
     "data": {
      "text/plain": [
       "False"
      ]
     },
     "execution_count": 8,
     "metadata": {},
     "output_type": "execute_result"
    }
   ],
   "source": [
    "'b' in obj2\n",
    "'e' in obj2"
   ]
  },
  {
   "cell_type": "markdown",
   "metadata": {
    "colab_type": "text",
    "id": "Yz9hjE31kxzZ",
    "nbpresent": {
     "id": "8d6a2ae7-e416-45c5-aa8e-6ad31bf4fb40"
    },
    "slideshow": {
     "slide_type": "slide"
    }
   },
   "source": [
    "Should you have data contained in a Python dict, you can create a **`Series`** from it by passing the dict:"
   ]
  },
  {
   "cell_type": "code",
   "execution_count": 9,
   "metadata": {
    "colab": {
     "base_uri": "https://localhost:8080/",
     "height": 102
    },
    "colab_type": "code",
    "id": "2cWqdh44kxzb",
    "nbpresent": {
     "id": "dcc761ec-14a8-401d-89e6-346e96f0bc91"
    },
    "outputId": "893b5445-f3ac-426d-e163-0e6aa12879e8"
   },
   "outputs": [
    {
     "data": {
      "text/plain": [
       "Ohio      35000\n",
       "Texas     71000\n",
       "Oregon    16000\n",
       "Utah       5000\n",
       "dtype: int64"
      ]
     },
     "execution_count": 9,
     "metadata": {},
     "output_type": "execute_result"
    }
   ],
   "source": [
    "sdata = {'Ohio': 35000, 'Texas': 71000, 'Oregon': 16000, 'Utah': 5000}\n",
    "obj3 = pd.Series(sdata)\n",
    "obj3"
   ]
  },
  {
   "cell_type": "markdown",
   "metadata": {
    "colab_type": "text",
    "id": "nyAmoi6mkxze",
    "nbpresent": {
     "id": "1cbac6e7-aaa4-4cbf-990f-02683860426c"
    },
    "slideshow": {
     "slide_type": "slide"
    }
   },
   "source": [
    "When only passing a dict, the index in the resulting **`Series`** will have the dict’s keys in sorted order."
   ]
  },
  {
   "cell_type": "code",
   "execution_count": 10,
   "metadata": {
    "colab": {
     "base_uri": "https://localhost:8080/",
     "height": 102
    },
    "colab_type": "code",
    "id": "kBUgmeVekxzf",
    "nbpresent": {
     "id": "a698519b-ae88-458a-b0e4-e7c3e237d89a"
    },
    "outputId": "2e9cf892-711d-476b-94ff-9d045099f09a"
   },
   "outputs": [
    {
     "data": {
      "text/plain": [
       "California        NaN\n",
       "Ohio          35000.0\n",
       "Oregon        16000.0\n",
       "Texas         71000.0\n",
       "dtype: float64"
      ]
     },
     "execution_count": 10,
     "metadata": {},
     "output_type": "execute_result"
    }
   ],
   "source": [
    "states = ['California', 'Ohio', 'Oregon', 'Texas']\n",
    "obj4 = pd.Series(sdata, index=states)\n",
    "obj4"
   ]
  },
  {
   "cell_type": "markdown",
   "metadata": {
    "colab_type": "text",
    "id": "qCcfOkzZkxzj",
    "nbpresent": {
     "id": "53c5ff6f-6010-4a2f-9f76-f457d7c2f3df"
    },
    "slideshow": {
     "slide_type": "slide"
    }
   },
   "source": [
    "In this example, 3 values found in **`sdata`** were placed in the appropriate locations, but since no value for 'California' was found, it appears as **`NaN`** (*not a number*) which is considered in **`pandas`** to mark missing or *NA* values. We will use the terms “missing” or “NA” to refer to missing data. \n",
    "\n",
    "The **`isnull`** and **`notnull`** functions in **`pandas`** should be used to detect missing data:"
   ]
  },
  {
   "cell_type": "code",
   "execution_count": 11,
   "metadata": {
    "colab": {
     "base_uri": "https://localhost:8080/",
     "height": 102
    },
    "colab_type": "code",
    "id": "Id3HP79ukxzk",
    "nbpresent": {
     "id": "cecc73d3-c814-4ad0-89d2-6cf3fea10329"
    },
    "outputId": "cd970ab3-e2d2-43cb-e4d5-81bca8520115"
   },
   "outputs": [
    {
     "data": {
      "text/plain": [
       "California     True\n",
       "Ohio          False\n",
       "Oregon        False\n",
       "Texas         False\n",
       "dtype: bool"
      ]
     },
     "execution_count": 11,
     "metadata": {},
     "output_type": "execute_result"
    }
   ],
   "source": [
    "pd.isnull(obj4)"
   ]
  },
  {
   "cell_type": "code",
   "execution_count": 12,
   "metadata": {
    "colab": {
     "base_uri": "https://localhost:8080/",
     "height": 102
    },
    "colab_type": "code",
    "id": "g7JfTXlokxzp",
    "nbpresent": {
     "id": "53f06760-5d1c-40ec-8230-dc3b09d639b1"
    },
    "outputId": "d72f6216-9c42-429a-968b-f7ed13d58be1",
    "slideshow": {
     "slide_type": "skip"
    }
   },
   "outputs": [
    {
     "data": {
      "text/plain": [
       "California    False\n",
       "Ohio           True\n",
       "Oregon         True\n",
       "Texas          True\n",
       "dtype: bool"
      ]
     },
     "execution_count": 12,
     "metadata": {},
     "output_type": "execute_result"
    }
   ],
   "source": [
    "pd.notnull(obj4)"
   ]
  },
  {
   "cell_type": "markdown",
   "metadata": {
    "colab_type": "text",
    "id": "DhD4QX7zkxzt",
    "nbpresent": {
     "id": "8ddee10a-89d7-44aa-9f70-e51093baae74"
    },
    "slideshow": {
     "slide_type": "slide"
    }
   },
   "source": [
    "**`Series`** also has these as instance methods:"
   ]
  },
  {
   "cell_type": "code",
   "execution_count": 13,
   "metadata": {
    "colab": {
     "base_uri": "https://localhost:8080/",
     "height": 102
    },
    "colab_type": "code",
    "id": "Z_-EHanzkxzu",
    "nbpresent": {
     "id": "5ebcc068-340a-4e4f-b5d2-acfd063a8ee9"
    },
    "outputId": "e01a02b0-a4d0-45ea-ae9c-a99a0487e2f6"
   },
   "outputs": [
    {
     "data": {
      "text/plain": [
       "California     True\n",
       "Ohio          False\n",
       "Oregon        False\n",
       "Texas         False\n",
       "dtype: bool"
      ]
     },
     "execution_count": 13,
     "metadata": {},
     "output_type": "execute_result"
    }
   ],
   "source": [
    "obj4.isnull()"
   ]
  },
  {
   "cell_type": "markdown",
   "metadata": {
    "colab_type": "text",
    "id": "njrSXUbakxzw",
    "nbpresent": {
     "id": "9d0cd540-a4ae-4b71-89e6-7e1ab0ca2b8f"
    },
    "slideshow": {
     "slide_type": "slide"
    }
   },
   "source": [
    "A critical **`Series`** feature for many applications is that it automatically aligns differently-indexed data in arithmetic operations:"
   ]
  },
  {
   "cell_type": "code",
   "execution_count": 14,
   "metadata": {
    "colab": {
     "base_uri": "https://localhost:8080/",
     "height": 170
    },
    "colab_type": "code",
    "id": "TDXPeKt3kxzx",
    "nbpresent": {
     "id": "e2497a03-f71e-49c8-8889-8de0152999af"
    },
    "outputId": "c4cc7759-60b8-4cc4-f60e-c569f365a418"
   },
   "outputs": [
    {
     "data": {
      "text/plain": [
       "Ohio      35000\n",
       "Texas     71000\n",
       "Oregon    16000\n",
       "Utah       5000\n",
       "dtype: int64"
      ]
     },
     "execution_count": 14,
     "metadata": {},
     "output_type": "execute_result"
    },
    {
     "data": {
      "text/plain": [
       "California        NaN\n",
       "Ohio          35000.0\n",
       "Oregon        16000.0\n",
       "Texas         71000.0\n",
       "dtype: float64"
      ]
     },
     "execution_count": 14,
     "metadata": {},
     "output_type": "execute_result"
    }
   ],
   "source": [
    "obj3\n",
    "obj4"
   ]
  },
  {
   "cell_type": "markdown",
   "metadata": {
    "colab_type": "text",
    "id": "_bmUJT1Ykxz0",
    "nbpresent": {
     "id": "6316e16c-fd65-47a4-bd68-3022a226891f"
    },
    "slideshow": {
     "slide_type": "slide"
    }
   },
   "source": [
    "So for example when we use the operator + on **`obj3`** + "
   ]
  },
  {
   "cell_type": "code",
   "execution_count": 15,
   "metadata": {
    "colab": {
     "base_uri": "https://localhost:8080/",
     "height": 119
    },
    "colab_type": "code",
    "id": "8pN_khZEkxz0",
    "nbpresent": {
     "id": "cff23bdc-31c5-42c3-ae08-926b3b595c2b"
    },
    "outputId": "77bc3ba0-ec18-4ea3-f7ec-99e6e9335f55",
    "slideshow": {
     "slide_type": "-"
    }
   },
   "outputs": [
    {
     "data": {
      "text/plain": [
       "California         NaN\n",
       "Ohio           70000.0\n",
       "Oregon         32000.0\n",
       "Texas         142000.0\n",
       "Utah               NaN\n",
       "dtype: float64"
      ]
     },
     "execution_count": 15,
     "metadata": {},
     "output_type": "execute_result"
    }
   ],
   "source": [
    "obj3 + obj4"
   ]
  },
  {
   "cell_type": "markdown",
   "metadata": {
    "colab_type": "text",
    "id": "W4i9C5M7kxz3",
    "nbpresent": {
     "id": "763f8452-b5b2-44c1-88dc-640990e1bb72"
    },
    "slideshow": {
     "slide_type": "slide"
    }
   },
   "source": [
    "Both the **`Series`** object itself and its *index* have a **name** attribute, which integrates with other key areas of pandas functionality:"
   ]
  },
  {
   "cell_type": "code",
   "execution_count": 16,
   "metadata": {
    "colab": {
     "base_uri": "https://localhost:8080/",
     "height": 119
    },
    "colab_type": "code",
    "id": "vRrjfo-Bkxz4",
    "nbpresent": {
     "id": "978b7377-3de7-4c9c-8844-e517016a08b3"
    },
    "outputId": "78e69de2-ebab-49f5-8319-a6ae4d22e80d"
   },
   "outputs": [
    {
     "data": {
      "text/plain": [
       "state\n",
       "California        NaN\n",
       "Ohio          35000.0\n",
       "Oregon        16000.0\n",
       "Texas         71000.0\n",
       "Name: population, dtype: float64"
      ]
     },
     "execution_count": 16,
     "metadata": {},
     "output_type": "execute_result"
    }
   ],
   "source": [
    "obj4.name = 'population'\n",
    "obj4.index.name = 'state'\n",
    "obj4"
   ]
  },
  {
   "cell_type": "markdown",
   "metadata": {
    "colab_type": "text",
    "id": "7q8O7cgZkxz9",
    "nbpresent": {
     "id": "9184d5cc-3b9c-47f0-b27d-df1386f2fe4a"
    },
    "slideshow": {
     "slide_type": "slide"
    }
   },
   "source": [
    "A **`Series`** index can be altered in place by assignment:"
   ]
  },
  {
   "cell_type": "code",
   "execution_count": 17,
   "metadata": {
    "colab": {
     "base_uri": "https://localhost:8080/",
     "height": 170
    },
    "colab_type": "code",
    "id": "8bUc1Ldskxz9",
    "nbpresent": {
     "id": "52933b7d-aaa3-40d8-a782-0d0f5c41d17a"
    },
    "outputId": "543d7470-416b-4c25-ffad-c6fad7146a69"
   },
   "outputs": [
    {
     "data": {
      "text/plain": [
       "0    4\n",
       "1    7\n",
       "2   -5\n",
       "3    3\n",
       "dtype: int64"
      ]
     },
     "execution_count": 17,
     "metadata": {},
     "output_type": "execute_result"
    },
    {
     "data": {
      "text/plain": [
       "Bob      4\n",
       "Steve    7\n",
       "Jeff    -5\n",
       "Ryan     3\n",
       "dtype: int64"
      ]
     },
     "execution_count": 17,
     "metadata": {},
     "output_type": "execute_result"
    }
   ],
   "source": [
    "obj = pd.Series([4, 7, -5, 3])\n",
    "obj\n",
    "obj.index = ['Bob', 'Steve', 'Jeff', 'Ryan']\n",
    "obj"
   ]
  },
  {
   "cell_type": "markdown",
   "metadata": {
    "colab_type": "text",
    "id": "M74w7cOHkx0A",
    "nbpresent": {
     "id": "7a096887-f50f-4734-87bd-b5710a5ddbce"
    },
    "slideshow": {
     "slide_type": "slide"
    }
   },
   "source": [
    "### 7.1.2 DataFrames\n",
    "\n",
    "A **`DataFrame`** represents a tabular, spreadsheet-like data structure containing an ordered collection of columns, each of which can be a different value type (numeric, string, boolean, etc.). \n",
    "\n",
    "The **`DataFrame`** has both a row and column *index*; it can be thought of as a dict of **`Series`** (one for all sharing the same index). Compared with other such DataFrame-like structures you may have used before (like R’s data.frame), row-oriented and column-oriented operations in DataFrame are treated roughly symmetrically.\n",
    "\n",
    "Under the hood, the data is stored as one or more two-dimensional blocks rather than a list, dict, or some other collection of one-dimensional arrays. The exact details of DataFrame’s internals are far outside the scope of this course."
   ]
  },
  {
   "cell_type": "markdown",
   "metadata": {
    "colab_type": "text",
    "id": "dIsmQzXXkx0C",
    "nbpresent": {
     "id": "a79e9af9-3267-40bc-ae34-f35eeb901895"
    },
    "slideshow": {
     "slide_type": "slide"
    }
   },
   "source": [
    "There are numerous ways to construct a **`DataFrame`**, though one of the most common is from a dict of equal-length lists or **`NumPy`** arrays:\n"
   ]
  },
  {
   "cell_type": "code",
   "execution_count": 18,
   "metadata": {
    "colab": {},
    "colab_type": "code",
    "id": "-KNV_eUekx0C",
    "nbpresent": {
     "id": "3dae748e-b539-447c-8553-75e6eefb44e9"
    }
   },
   "outputs": [],
   "source": [
    "data = {'state': ['Ohio', 'Ohio', 'Ohio', 'Nevada', 'Nevada'], \n",
    "        'year': [2000, 2001, 2002, 2001, 2002],\n",
    "        'pop': [1.5, 1.7, 3.6, 2.4, 2.9]}\n",
    "frame = pd.DataFrame(data)"
   ]
  },
  {
   "cell_type": "markdown",
   "metadata": {
    "colab_type": "text",
    "id": "tQFcd3Hckx0F",
    "nbpresent": {
     "id": "a58d346f-171a-472e-9be5-85b4658f399e"
    },
    "slideshow": {
     "slide_type": "slide"
    }
   },
   "source": [
    "The resulting **`DataFrame`** will have its index assigned automatically as with **`Series`**, and the columns are placed in sorted order:"
   ]
  },
  {
   "cell_type": "code",
   "execution_count": 19,
   "metadata": {
    "colab": {
     "base_uri": "https://localhost:8080/",
     "height": 204
    },
    "colab_type": "code",
    "id": "n9JLvqFJkx0F",
    "nbpresent": {
     "id": "800702db-7aa2-45d8-9127-6c335b195e15"
    },
    "outputId": "729b7f56-b38c-47d7-8e67-e324d14fa570"
   },
   "outputs": [
    {
     "data": {
      "text/html": [
       "<div>\n",
       "<style scoped>\n",
       "    .dataframe tbody tr th:only-of-type {\n",
       "        vertical-align: middle;\n",
       "    }\n",
       "\n",
       "    .dataframe tbody tr th {\n",
       "        vertical-align: top;\n",
       "    }\n",
       "\n",
       "    .dataframe thead th {\n",
       "        text-align: right;\n",
       "    }\n",
       "</style>\n",
       "<table border=\"1\" class=\"dataframe\">\n",
       "  <thead>\n",
       "    <tr style=\"text-align: right;\">\n",
       "      <th></th>\n",
       "      <th>state</th>\n",
       "      <th>year</th>\n",
       "      <th>pop</th>\n",
       "    </tr>\n",
       "  </thead>\n",
       "  <tbody>\n",
       "    <tr>\n",
       "      <th>0</th>\n",
       "      <td>Ohio</td>\n",
       "      <td>2000</td>\n",
       "      <td>1.5</td>\n",
       "    </tr>\n",
       "    <tr>\n",
       "      <th>1</th>\n",
       "      <td>Ohio</td>\n",
       "      <td>2001</td>\n",
       "      <td>1.7</td>\n",
       "    </tr>\n",
       "    <tr>\n",
       "      <th>2</th>\n",
       "      <td>Ohio</td>\n",
       "      <td>2002</td>\n",
       "      <td>3.6</td>\n",
       "    </tr>\n",
       "    <tr>\n",
       "      <th>3</th>\n",
       "      <td>Nevada</td>\n",
       "      <td>2001</td>\n",
       "      <td>2.4</td>\n",
       "    </tr>\n",
       "    <tr>\n",
       "      <th>4</th>\n",
       "      <td>Nevada</td>\n",
       "      <td>2002</td>\n",
       "      <td>2.9</td>\n",
       "    </tr>\n",
       "  </tbody>\n",
       "</table>\n",
       "</div>"
      ],
      "text/plain": [
       "    state  year  pop\n",
       "0    Ohio  2000  1.5\n",
       "1    Ohio  2001  1.7\n",
       "2    Ohio  2002  3.6\n",
       "3  Nevada  2001  2.4\n",
       "4  Nevada  2002  2.9"
      ]
     },
     "execution_count": 19,
     "metadata": {},
     "output_type": "execute_result"
    }
   ],
   "source": [
    "frame"
   ]
  },
  {
   "cell_type": "markdown",
   "metadata": {
    "colab_type": "text",
    "id": "xCoCd7CRkx0I",
    "nbpresent": {
     "id": "1d85d6a4-a7ca-47ac-bff2-3881d8fb12bd"
    },
    "slideshow": {
     "slide_type": "slide"
    }
   },
   "source": [
    "If you specify a sequence of columns, the **`DataFrame’s`** columns will be exactly what you pass:"
   ]
  },
  {
   "cell_type": "code",
   "execution_count": 20,
   "metadata": {
    "colab": {
     "base_uri": "https://localhost:8080/",
     "height": 204
    },
    "colab_type": "code",
    "id": "NRp0jh3Gkx0I",
    "nbpresent": {
     "id": "d36271dc-a3a4-454f-a23a-a88627e9266b"
    },
    "outputId": "bf80b4de-0045-4516-c3ea-7eea96efa6da"
   },
   "outputs": [
    {
     "data": {
      "text/html": [
       "<div>\n",
       "<style scoped>\n",
       "    .dataframe tbody tr th:only-of-type {\n",
       "        vertical-align: middle;\n",
       "    }\n",
       "\n",
       "    .dataframe tbody tr th {\n",
       "        vertical-align: top;\n",
       "    }\n",
       "\n",
       "    .dataframe thead th {\n",
       "        text-align: right;\n",
       "    }\n",
       "</style>\n",
       "<table border=\"1\" class=\"dataframe\">\n",
       "  <thead>\n",
       "    <tr style=\"text-align: right;\">\n",
       "      <th></th>\n",
       "      <th>year</th>\n",
       "      <th>state</th>\n",
       "      <th>pop</th>\n",
       "    </tr>\n",
       "  </thead>\n",
       "  <tbody>\n",
       "    <tr>\n",
       "      <th>0</th>\n",
       "      <td>2000</td>\n",
       "      <td>Ohio</td>\n",
       "      <td>1.5</td>\n",
       "    </tr>\n",
       "    <tr>\n",
       "      <th>1</th>\n",
       "      <td>2001</td>\n",
       "      <td>Ohio</td>\n",
       "      <td>1.7</td>\n",
       "    </tr>\n",
       "    <tr>\n",
       "      <th>2</th>\n",
       "      <td>2002</td>\n",
       "      <td>Ohio</td>\n",
       "      <td>3.6</td>\n",
       "    </tr>\n",
       "    <tr>\n",
       "      <th>3</th>\n",
       "      <td>2001</td>\n",
       "      <td>Nevada</td>\n",
       "      <td>2.4</td>\n",
       "    </tr>\n",
       "    <tr>\n",
       "      <th>4</th>\n",
       "      <td>2002</td>\n",
       "      <td>Nevada</td>\n",
       "      <td>2.9</td>\n",
       "    </tr>\n",
       "  </tbody>\n",
       "</table>\n",
       "</div>"
      ],
      "text/plain": [
       "   year   state  pop\n",
       "0  2000    Ohio  1.5\n",
       "1  2001    Ohio  1.7\n",
       "2  2002    Ohio  3.6\n",
       "3  2001  Nevada  2.4\n",
       "4  2002  Nevada  2.9"
      ]
     },
     "execution_count": 20,
     "metadata": {},
     "output_type": "execute_result"
    }
   ],
   "source": [
    "pd.DataFrame(data, columns=['year', 'state', 'pop'])"
   ]
  },
  {
   "cell_type": "markdown",
   "metadata": {
    "colab_type": "text",
    "id": "L74ZeBvbkx0L",
    "nbpresent": {
     "id": "02253de4-daf1-42dc-b14c-e58303e47216"
    },
    "slideshow": {
     "slide_type": "slide"
    }
   },
   "source": [
    "As with **`Series`**, if you pass a column that isn’t contained in data, it will appear with NaN values in the result:"
   ]
  },
  {
   "cell_type": "code",
   "execution_count": 21,
   "metadata": {
    "colab": {
     "base_uri": "https://localhost:8080/",
     "height": 221
    },
    "colab_type": "code",
    "id": "DIqug4nFkx0M",
    "nbpresent": {
     "id": "d2b75c65-b353-4ac9-a644-6165786f8350"
    },
    "outputId": "509259a8-e1fa-4f51-8102-7065544aad7d",
    "scrolled": true
   },
   "outputs": [
    {
     "data": {
      "text/html": [
       "<div>\n",
       "<style scoped>\n",
       "    .dataframe tbody tr th:only-of-type {\n",
       "        vertical-align: middle;\n",
       "    }\n",
       "\n",
       "    .dataframe tbody tr th {\n",
       "        vertical-align: top;\n",
       "    }\n",
       "\n",
       "    .dataframe thead th {\n",
       "        text-align: right;\n",
       "    }\n",
       "</style>\n",
       "<table border=\"1\" class=\"dataframe\">\n",
       "  <thead>\n",
       "    <tr style=\"text-align: right;\">\n",
       "      <th></th>\n",
       "      <th>year</th>\n",
       "      <th>state</th>\n",
       "      <th>pop</th>\n",
       "      <th>debt</th>\n",
       "    </tr>\n",
       "  </thead>\n",
       "  <tbody>\n",
       "    <tr>\n",
       "      <th>one</th>\n",
       "      <td>2000</td>\n",
       "      <td>Ohio</td>\n",
       "      <td>1.5</td>\n",
       "      <td>NaN</td>\n",
       "    </tr>\n",
       "    <tr>\n",
       "      <th>two</th>\n",
       "      <td>2001</td>\n",
       "      <td>Ohio</td>\n",
       "      <td>1.7</td>\n",
       "      <td>NaN</td>\n",
       "    </tr>\n",
       "    <tr>\n",
       "      <th>three</th>\n",
       "      <td>2002</td>\n",
       "      <td>Ohio</td>\n",
       "      <td>3.6</td>\n",
       "      <td>NaN</td>\n",
       "    </tr>\n",
       "    <tr>\n",
       "      <th>four</th>\n",
       "      <td>2001</td>\n",
       "      <td>Nevada</td>\n",
       "      <td>2.4</td>\n",
       "      <td>NaN</td>\n",
       "    </tr>\n",
       "    <tr>\n",
       "      <th>five</th>\n",
       "      <td>2002</td>\n",
       "      <td>Nevada</td>\n",
       "      <td>2.9</td>\n",
       "      <td>NaN</td>\n",
       "    </tr>\n",
       "  </tbody>\n",
       "</table>\n",
       "</div>"
      ],
      "text/plain": [
       "       year   state  pop debt\n",
       "one    2000    Ohio  1.5  NaN\n",
       "two    2001    Ohio  1.7  NaN\n",
       "three  2002    Ohio  3.6  NaN\n",
       "four   2001  Nevada  2.4  NaN\n",
       "five   2002  Nevada  2.9  NaN"
      ]
     },
     "execution_count": 21,
     "metadata": {},
     "output_type": "execute_result"
    },
    {
     "data": {
      "text/plain": [
       "Index(['year', 'state', 'pop', 'debt'], dtype='object')"
      ]
     },
     "execution_count": 21,
     "metadata": {},
     "output_type": "execute_result"
    }
   ],
   "source": [
    "frame2 = pd.DataFrame(data, columns=['year', 'state', 'pop', 'debt'],\n",
    "                         index=['one', 'two', 'three', 'four', 'five'])\n",
    "frame2\n",
    "frame2.columns"
   ]
  },
  {
   "cell_type": "markdown",
   "metadata": {
    "colab_type": "text",
    "id": "63KIJcI9kx0O",
    "nbpresent": {
     "id": "b54820b7-04ee-4f19-a469-5b809f12bb4a"
    },
    "slideshow": {
     "slide_type": "slide"
    }
   },
   "source": [
    "A column in a **`DataFrame`** can be retrieved as a Series either by dict-like notation or by attribute:"
   ]
  },
  {
   "cell_type": "code",
   "execution_count": 22,
   "metadata": {
    "colab": {
     "base_uri": "https://localhost:8080/",
     "height": 221
    },
    "colab_type": "code",
    "format": "row",
    "id": "YHN3ed1pkx0P",
    "nbpresent": {
     "id": "b2ebaf43-eb61-4011-ad9e-e881f93ddae3"
    },
    "outputId": "be791808-72ef-475a-bf47-b2600b411092"
   },
   "outputs": [
    {
     "data": {
      "text/html": [
       "<div>\n",
       "<style scoped>\n",
       "    .dataframe tbody tr th:only-of-type {\n",
       "        vertical-align: middle;\n",
       "    }\n",
       "\n",
       "    .dataframe tbody tr th {\n",
       "        vertical-align: top;\n",
       "    }\n",
       "\n",
       "    .dataframe thead th {\n",
       "        text-align: right;\n",
       "    }\n",
       "</style>\n",
       "<table border=\"1\" class=\"dataframe\">\n",
       "  <thead>\n",
       "    <tr style=\"text-align: right;\">\n",
       "      <th></th>\n",
       "      <th>year</th>\n",
       "      <th>state</th>\n",
       "      <th>pop</th>\n",
       "      <th>debt</th>\n",
       "    </tr>\n",
       "  </thead>\n",
       "  <tbody>\n",
       "    <tr>\n",
       "      <th>one</th>\n",
       "      <td>2000</td>\n",
       "      <td>Ohio</td>\n",
       "      <td>1.5</td>\n",
       "      <td>NaN</td>\n",
       "    </tr>\n",
       "    <tr>\n",
       "      <th>two</th>\n",
       "      <td>2001</td>\n",
       "      <td>Ohio</td>\n",
       "      <td>1.7</td>\n",
       "      <td>NaN</td>\n",
       "    </tr>\n",
       "    <tr>\n",
       "      <th>three</th>\n",
       "      <td>2002</td>\n",
       "      <td>Ohio</td>\n",
       "      <td>3.6</td>\n",
       "      <td>NaN</td>\n",
       "    </tr>\n",
       "    <tr>\n",
       "      <th>four</th>\n",
       "      <td>2001</td>\n",
       "      <td>Nevada</td>\n",
       "      <td>2.4</td>\n",
       "      <td>NaN</td>\n",
       "    </tr>\n",
       "    <tr>\n",
       "      <th>five</th>\n",
       "      <td>2002</td>\n",
       "      <td>Nevada</td>\n",
       "      <td>2.9</td>\n",
       "      <td>NaN</td>\n",
       "    </tr>\n",
       "  </tbody>\n",
       "</table>\n",
       "</div>"
      ],
      "text/plain": [
       "       year   state  pop debt\n",
       "one    2000    Ohio  1.5  NaN\n",
       "two    2001    Ohio  1.7  NaN\n",
       "three  2002    Ohio  3.6  NaN\n",
       "four   2001  Nevada  2.4  NaN\n",
       "five   2002  Nevada  2.9  NaN"
      ]
     },
     "execution_count": 22,
     "metadata": {},
     "output_type": "execute_result"
    },
    {
     "data": {
      "text/plain": [
       "Index(['year', 'state', 'pop', 'debt'], dtype='object')"
      ]
     },
     "execution_count": 22,
     "metadata": {},
     "output_type": "execute_result"
    }
   ],
   "source": [
    "frame2 = pd.DataFrame(data, columns=['year', 'state', 'pop', 'debt'],\n",
    "                         index=['one', 'two', 'three', 'four', 'five'])\n",
    "frame2\n",
    "frame2.columns"
   ]
  },
  {
   "cell_type": "markdown",
   "metadata": {
    "colab_type": "text",
    "id": "cMDQZyOzkx0S",
    "nbpresent": {
     "id": "b5731bb8-1844-4fea-bc3c-2a49eb271303"
    },
    "slideshow": {
     "slide_type": "slide"
    }
   },
   "source": [
    "Note that the returned **`Series`** have the same index as the **`DataFrame`**, and their name attribute has been appropriately set."
   ]
  },
  {
   "cell_type": "code",
   "execution_count": 23,
   "metadata": {
    "colab": {
     "base_uri": "https://localhost:8080/",
     "height": 119
    },
    "colab_type": "code",
    "id": "P7H8UVCEkx0T",
    "nbpresent": {
     "id": "2760357c-bf72-49c4-a05e-be7e2f705ef1"
    },
    "outputId": "298f3ae7-928f-4100-b443-65405ed723b5",
    "slideshow": {
     "slide_type": "-"
    }
   },
   "outputs": [
    {
     "data": {
      "text/plain": [
       "one      2000\n",
       "two      2001\n",
       "three    2002\n",
       "four     2001\n",
       "five     2002\n",
       "Name: year, dtype: int64"
      ]
     },
     "execution_count": 23,
     "metadata": {},
     "output_type": "execute_result"
    }
   ],
   "source": [
    "frame2.year"
   ]
  },
  {
   "cell_type": "markdown",
   "metadata": {
    "colab_type": "text",
    "id": "CWJKHhhMkx0W",
    "nbpresent": {
     "id": "2eaa5976-430c-4ce5-ba94-a85546675f36"
    },
    "slideshow": {
     "slide_type": "slide"
    }
   },
   "source": [
    "Rows can also be retrieved by position or name by a couple of methods, such as the **`loc`** indexing field (much more on this later):"
   ]
  },
  {
   "cell_type": "code",
   "execution_count": 24,
   "metadata": {
    "colab": {
     "base_uri": "https://localhost:8080/",
     "height": 238
    },
    "colab_type": "code",
    "id": "kCGeTwKmkx0W",
    "nbpresent": {
     "id": "5d38f114-d2b3-4afc-962f-ddaa65a5bfe8"
    },
    "outputId": "c5f8e724-efec-4860-df23-73315d2dc033"
   },
   "outputs": [
    {
     "data": {
      "text/plain": [
       "year     2002\n",
       "state    Ohio\n",
       "pop       3.6\n",
       "debt      NaN\n",
       "Name: three, dtype: object"
      ]
     },
     "execution_count": 24,
     "metadata": {},
     "output_type": "execute_result"
    }
   ],
   "source": [
    "frame2.loc['three']"
   ]
  },
  {
   "cell_type": "markdown",
   "metadata": {
    "colab_type": "text",
    "id": "UrmBkVj4kx0Z",
    "nbpresent": {
     "id": "edef4d65-092d-4b62-a276-d96aa4daa138"
    },
    "slideshow": {
     "slide_type": "slide"
    }
   },
   "source": [
    "Columns can be modified by assignment. \n",
    "\n",
    "For example, the empty 'debt' column could be assigned a scalar value or an array of values:"
   ]
  },
  {
   "cell_type": "code",
   "execution_count": 25,
   "metadata": {
    "colab": {
     "base_uri": "https://localhost:8080/",
     "height": 204
    },
    "colab_type": "code",
    "id": "rFkVUZflkx0a",
    "nbpresent": {
     "id": "d77b1f7c-9f2c-4cf3-88ff-e302d32562d6"
    },
    "outputId": "ed8d6a15-c84b-4076-c5b3-64097f31538b"
   },
   "outputs": [
    {
     "data": {
      "text/html": [
       "<div>\n",
       "<style scoped>\n",
       "    .dataframe tbody tr th:only-of-type {\n",
       "        vertical-align: middle;\n",
       "    }\n",
       "\n",
       "    .dataframe tbody tr th {\n",
       "        vertical-align: top;\n",
       "    }\n",
       "\n",
       "    .dataframe thead th {\n",
       "        text-align: right;\n",
       "    }\n",
       "</style>\n",
       "<table border=\"1\" class=\"dataframe\">\n",
       "  <thead>\n",
       "    <tr style=\"text-align: right;\">\n",
       "      <th></th>\n",
       "      <th>year</th>\n",
       "      <th>state</th>\n",
       "      <th>pop</th>\n",
       "      <th>debt</th>\n",
       "    </tr>\n",
       "  </thead>\n",
       "  <tbody>\n",
       "    <tr>\n",
       "      <th>one</th>\n",
       "      <td>2000</td>\n",
       "      <td>Ohio</td>\n",
       "      <td>1.5</td>\n",
       "      <td>16.5</td>\n",
       "    </tr>\n",
       "    <tr>\n",
       "      <th>two</th>\n",
       "      <td>2001</td>\n",
       "      <td>Ohio</td>\n",
       "      <td>1.7</td>\n",
       "      <td>16.5</td>\n",
       "    </tr>\n",
       "    <tr>\n",
       "      <th>three</th>\n",
       "      <td>2002</td>\n",
       "      <td>Ohio</td>\n",
       "      <td>3.6</td>\n",
       "      <td>16.5</td>\n",
       "    </tr>\n",
       "    <tr>\n",
       "      <th>four</th>\n",
       "      <td>2001</td>\n",
       "      <td>Nevada</td>\n",
       "      <td>2.4</td>\n",
       "      <td>16.5</td>\n",
       "    </tr>\n",
       "    <tr>\n",
       "      <th>five</th>\n",
       "      <td>2002</td>\n",
       "      <td>Nevada</td>\n",
       "      <td>2.9</td>\n",
       "      <td>16.5</td>\n",
       "    </tr>\n",
       "  </tbody>\n",
       "</table>\n",
       "</div>"
      ],
      "text/plain": [
       "       year   state  pop  debt\n",
       "one    2000    Ohio  1.5  16.5\n",
       "two    2001    Ohio  1.7  16.5\n",
       "three  2002    Ohio  3.6  16.5\n",
       "four   2001  Nevada  2.4  16.5\n",
       "five   2002  Nevada  2.9  16.5"
      ]
     },
     "execution_count": 25,
     "metadata": {},
     "output_type": "execute_result"
    }
   ],
   "source": [
    "frame2['debt'] = 16.5\n",
    "frame2"
   ]
  },
  {
   "cell_type": "code",
   "execution_count": 26,
   "metadata": {
    "colab": {
     "base_uri": "https://localhost:8080/",
     "height": 204
    },
    "colab_type": "code",
    "id": "yzicOCaSkx0e",
    "nbpresent": {
     "id": "d414cefd-9f30-4cd9-a560-d6fb4f557345"
    },
    "outputId": "bc9766a7-a535-4391-ccf7-03c7b7d9e8ca",
    "slideshow": {
     "slide_type": "slide"
    }
   },
   "outputs": [
    {
     "data": {
      "text/html": [
       "<div>\n",
       "<style scoped>\n",
       "    .dataframe tbody tr th:only-of-type {\n",
       "        vertical-align: middle;\n",
       "    }\n",
       "\n",
       "    .dataframe tbody tr th {\n",
       "        vertical-align: top;\n",
       "    }\n",
       "\n",
       "    .dataframe thead th {\n",
       "        text-align: right;\n",
       "    }\n",
       "</style>\n",
       "<table border=\"1\" class=\"dataframe\">\n",
       "  <thead>\n",
       "    <tr style=\"text-align: right;\">\n",
       "      <th></th>\n",
       "      <th>year</th>\n",
       "      <th>state</th>\n",
       "      <th>pop</th>\n",
       "      <th>debt</th>\n",
       "    </tr>\n",
       "  </thead>\n",
       "  <tbody>\n",
       "    <tr>\n",
       "      <th>one</th>\n",
       "      <td>2000</td>\n",
       "      <td>Ohio</td>\n",
       "      <td>1.5</td>\n",
       "      <td>0.0</td>\n",
       "    </tr>\n",
       "    <tr>\n",
       "      <th>two</th>\n",
       "      <td>2001</td>\n",
       "      <td>Ohio</td>\n",
       "      <td>1.7</td>\n",
       "      <td>1.0</td>\n",
       "    </tr>\n",
       "    <tr>\n",
       "      <th>three</th>\n",
       "      <td>2002</td>\n",
       "      <td>Ohio</td>\n",
       "      <td>3.6</td>\n",
       "      <td>2.0</td>\n",
       "    </tr>\n",
       "    <tr>\n",
       "      <th>four</th>\n",
       "      <td>2001</td>\n",
       "      <td>Nevada</td>\n",
       "      <td>2.4</td>\n",
       "      <td>3.0</td>\n",
       "    </tr>\n",
       "    <tr>\n",
       "      <th>five</th>\n",
       "      <td>2002</td>\n",
       "      <td>Nevada</td>\n",
       "      <td>2.9</td>\n",
       "      <td>4.0</td>\n",
       "    </tr>\n",
       "  </tbody>\n",
       "</table>\n",
       "</div>"
      ],
      "text/plain": [
       "       year   state  pop  debt\n",
       "one    2000    Ohio  1.5   0.0\n",
       "two    2001    Ohio  1.7   1.0\n",
       "three  2002    Ohio  3.6   2.0\n",
       "four   2001  Nevada  2.4   3.0\n",
       "five   2002  Nevada  2.9   4.0"
      ]
     },
     "execution_count": 26,
     "metadata": {},
     "output_type": "execute_result"
    }
   ],
   "source": [
    "frame2['debt'] = np.arange(5.)\n",
    "frame2"
   ]
  },
  {
   "cell_type": "markdown",
   "metadata": {
    "colab_type": "text",
    "id": "E8Vu6QTMkx0h",
    "nbpresent": {
     "id": "102ad75b-83b5-454b-9857-7f76843bc3f6"
    },
    "slideshow": {
     "slide_type": "slide"
    }
   },
   "source": [
    "When assigning lists or arrays to a column, the value’s length must match the length of the **`DataFrame`**. \n",
    "\n",
    "If you assign a **`Series`**, it will be instead conformed exactly to the **`DataFrame’s`** index, inserting missing values in any holes:"
   ]
  },
  {
   "cell_type": "code",
   "execution_count": 27,
   "metadata": {
    "colab": {
     "base_uri": "https://localhost:8080/",
     "height": 204
    },
    "colab_type": "code",
    "id": "VbxaGxzlkx0h",
    "nbpresent": {
     "id": "27cf998d-884a-47e2-90a8-6a7ebb236a75"
    },
    "outputId": "6a586e84-3707-49bd-830c-e998cece1608"
   },
   "outputs": [
    {
     "data": {
      "text/html": [
       "<div>\n",
       "<style scoped>\n",
       "    .dataframe tbody tr th:only-of-type {\n",
       "        vertical-align: middle;\n",
       "    }\n",
       "\n",
       "    .dataframe tbody tr th {\n",
       "        vertical-align: top;\n",
       "    }\n",
       "\n",
       "    .dataframe thead th {\n",
       "        text-align: right;\n",
       "    }\n",
       "</style>\n",
       "<table border=\"1\" class=\"dataframe\">\n",
       "  <thead>\n",
       "    <tr style=\"text-align: right;\">\n",
       "      <th></th>\n",
       "      <th>year</th>\n",
       "      <th>state</th>\n",
       "      <th>pop</th>\n",
       "      <th>debt</th>\n",
       "    </tr>\n",
       "  </thead>\n",
       "  <tbody>\n",
       "    <tr>\n",
       "      <th>one</th>\n",
       "      <td>2000</td>\n",
       "      <td>Ohio</td>\n",
       "      <td>1.5</td>\n",
       "      <td>NaN</td>\n",
       "    </tr>\n",
       "    <tr>\n",
       "      <th>two</th>\n",
       "      <td>2001</td>\n",
       "      <td>Ohio</td>\n",
       "      <td>1.7</td>\n",
       "      <td>-1.2</td>\n",
       "    </tr>\n",
       "    <tr>\n",
       "      <th>three</th>\n",
       "      <td>2002</td>\n",
       "      <td>Ohio</td>\n",
       "      <td>3.6</td>\n",
       "      <td>NaN</td>\n",
       "    </tr>\n",
       "    <tr>\n",
       "      <th>four</th>\n",
       "      <td>2001</td>\n",
       "      <td>Nevada</td>\n",
       "      <td>2.4</td>\n",
       "      <td>-1.5</td>\n",
       "    </tr>\n",
       "    <tr>\n",
       "      <th>five</th>\n",
       "      <td>2002</td>\n",
       "      <td>Nevada</td>\n",
       "      <td>2.9</td>\n",
       "      <td>-1.7</td>\n",
       "    </tr>\n",
       "  </tbody>\n",
       "</table>\n",
       "</div>"
      ],
      "text/plain": [
       "       year   state  pop  debt\n",
       "one    2000    Ohio  1.5   NaN\n",
       "two    2001    Ohio  1.7  -1.2\n",
       "three  2002    Ohio  3.6   NaN\n",
       "four   2001  Nevada  2.4  -1.5\n",
       "five   2002  Nevada  2.9  -1.7"
      ]
     },
     "execution_count": 27,
     "metadata": {},
     "output_type": "execute_result"
    }
   ],
   "source": [
    "val = pd.Series([-1.2, -1.5, -1.7], index=['two', 'four', 'five'])\n",
    "frame2['debt'] = val\n",
    "frame2"
   ]
  },
  {
   "cell_type": "markdown",
   "metadata": {
    "colab_type": "text",
    "id": "dl_i3qNYkx0l",
    "nbpresent": {
     "id": "be94ec7b-079a-4383-8c83-0c06a852915f"
    },
    "slideshow": {
     "slide_type": "slide"
    }
   },
   "source": [
    "Assigning a column that doesn’t exist will create a new column. The **`del`** *keyword* will delete columns as with a dict:"
   ]
  },
  {
   "cell_type": "code",
   "execution_count": 28,
   "metadata": {
    "colab": {
     "base_uri": "https://localhost:8080/",
     "height": 204
    },
    "colab_type": "code",
    "id": "3-hTYBLukx0l",
    "nbpresent": {
     "id": "5fed2557-6a17-4d6c-91ad-233e1447dc38"
    },
    "outputId": "d6c73a0e-4d5d-48fe-c9e1-7aa848f3706d"
   },
   "outputs": [
    {
     "data": {
      "text/html": [
       "<div>\n",
       "<style scoped>\n",
       "    .dataframe tbody tr th:only-of-type {\n",
       "        vertical-align: middle;\n",
       "    }\n",
       "\n",
       "    .dataframe tbody tr th {\n",
       "        vertical-align: top;\n",
       "    }\n",
       "\n",
       "    .dataframe thead th {\n",
       "        text-align: right;\n",
       "    }\n",
       "</style>\n",
       "<table border=\"1\" class=\"dataframe\">\n",
       "  <thead>\n",
       "    <tr style=\"text-align: right;\">\n",
       "      <th></th>\n",
       "      <th>year</th>\n",
       "      <th>state</th>\n",
       "      <th>pop</th>\n",
       "      <th>debt</th>\n",
       "      <th>eastern</th>\n",
       "    </tr>\n",
       "  </thead>\n",
       "  <tbody>\n",
       "    <tr>\n",
       "      <th>one</th>\n",
       "      <td>2000</td>\n",
       "      <td>Ohio</td>\n",
       "      <td>1.5</td>\n",
       "      <td>NaN</td>\n",
       "      <td>True</td>\n",
       "    </tr>\n",
       "    <tr>\n",
       "      <th>two</th>\n",
       "      <td>2001</td>\n",
       "      <td>Ohio</td>\n",
       "      <td>1.7</td>\n",
       "      <td>-1.2</td>\n",
       "      <td>True</td>\n",
       "    </tr>\n",
       "    <tr>\n",
       "      <th>three</th>\n",
       "      <td>2002</td>\n",
       "      <td>Ohio</td>\n",
       "      <td>3.6</td>\n",
       "      <td>NaN</td>\n",
       "      <td>True</td>\n",
       "    </tr>\n",
       "    <tr>\n",
       "      <th>four</th>\n",
       "      <td>2001</td>\n",
       "      <td>Nevada</td>\n",
       "      <td>2.4</td>\n",
       "      <td>-1.5</td>\n",
       "      <td>False</td>\n",
       "    </tr>\n",
       "    <tr>\n",
       "      <th>five</th>\n",
       "      <td>2002</td>\n",
       "      <td>Nevada</td>\n",
       "      <td>2.9</td>\n",
       "      <td>-1.7</td>\n",
       "      <td>False</td>\n",
       "    </tr>\n",
       "  </tbody>\n",
       "</table>\n",
       "</div>"
      ],
      "text/plain": [
       "       year   state  pop  debt  eastern\n",
       "one    2000    Ohio  1.5   NaN     True\n",
       "two    2001    Ohio  1.7  -1.2     True\n",
       "three  2002    Ohio  3.6   NaN     True\n",
       "four   2001  Nevada  2.4  -1.5    False\n",
       "five   2002  Nevada  2.9  -1.7    False"
      ]
     },
     "execution_count": 28,
     "metadata": {},
     "output_type": "execute_result"
    }
   ],
   "source": [
    "frame2['eastern'] = frame2.state == 'Ohio'\n",
    "frame2"
   ]
  },
  {
   "cell_type": "code",
   "execution_count": 29,
   "metadata": {
    "colab": {
     "base_uri": "https://localhost:8080/",
     "height": 221
    },
    "colab_type": "code",
    "id": "B4khyNqykx0o",
    "nbpresent": {
     "id": "4329c0d7-faaf-489f-bd8a-ee0741a7511c"
    },
    "outputId": "aca9544c-3e5e-4a3a-a6e1-7e1039a6aa96",
    "slideshow": {
     "slide_type": "slide"
    }
   },
   "outputs": [
    {
     "data": {
      "text/html": [
       "<div>\n",
       "<style scoped>\n",
       "    .dataframe tbody tr th:only-of-type {\n",
       "        vertical-align: middle;\n",
       "    }\n",
       "\n",
       "    .dataframe tbody tr th {\n",
       "        vertical-align: top;\n",
       "    }\n",
       "\n",
       "    .dataframe thead th {\n",
       "        text-align: right;\n",
       "    }\n",
       "</style>\n",
       "<table border=\"1\" class=\"dataframe\">\n",
       "  <thead>\n",
       "    <tr style=\"text-align: right;\">\n",
       "      <th></th>\n",
       "      <th>year</th>\n",
       "      <th>state</th>\n",
       "      <th>pop</th>\n",
       "      <th>debt</th>\n",
       "    </tr>\n",
       "  </thead>\n",
       "  <tbody>\n",
       "    <tr>\n",
       "      <th>one</th>\n",
       "      <td>2000</td>\n",
       "      <td>Ohio</td>\n",
       "      <td>1.5</td>\n",
       "      <td>NaN</td>\n",
       "    </tr>\n",
       "    <tr>\n",
       "      <th>two</th>\n",
       "      <td>2001</td>\n",
       "      <td>Ohio</td>\n",
       "      <td>1.7</td>\n",
       "      <td>-1.2</td>\n",
       "    </tr>\n",
       "    <tr>\n",
       "      <th>three</th>\n",
       "      <td>2002</td>\n",
       "      <td>Ohio</td>\n",
       "      <td>3.6</td>\n",
       "      <td>NaN</td>\n",
       "    </tr>\n",
       "    <tr>\n",
       "      <th>four</th>\n",
       "      <td>2001</td>\n",
       "      <td>Nevada</td>\n",
       "      <td>2.4</td>\n",
       "      <td>-1.5</td>\n",
       "    </tr>\n",
       "    <tr>\n",
       "      <th>five</th>\n",
       "      <td>2002</td>\n",
       "      <td>Nevada</td>\n",
       "      <td>2.9</td>\n",
       "      <td>-1.7</td>\n",
       "    </tr>\n",
       "  </tbody>\n",
       "</table>\n",
       "</div>"
      ],
      "text/plain": [
       "       year   state  pop  debt\n",
       "one    2000    Ohio  1.5   NaN\n",
       "two    2001    Ohio  1.7  -1.2\n",
       "three  2002    Ohio  3.6   NaN\n",
       "four   2001  Nevada  2.4  -1.5\n",
       "five   2002  Nevada  2.9  -1.7"
      ]
     },
     "execution_count": 29,
     "metadata": {},
     "output_type": "execute_result"
    },
    {
     "data": {
      "text/plain": [
       "Index(['year', 'state', 'pop', 'debt'], dtype='object')"
      ]
     },
     "execution_count": 29,
     "metadata": {},
     "output_type": "execute_result"
    }
   ],
   "source": [
    "frame2['eastern'] = frame2.state == 'Ohio'\n",
    "del frame2['eastern']\n",
    "frame2\n",
    "frame2.columns"
   ]
  },
  {
   "cell_type": "markdown",
   "metadata": {
    "colab_type": "text",
    "id": "fzRUweMqkx0s",
    "nbpresent": {
     "id": "90a88cdb-f2e2-4eaf-9f6f-2d4af99bd0f8"
    },
    "slideshow": {
     "slide_type": "slide"
    }
   },
   "source": [
    "<div class=\"alert alert-danger\">\n",
    "<b>WARNING: </b> \n",
    "\n",
    "**`Dataframes`** and *views*\n",
    "\n",
    "The column returned when indexing a **`DataFrame`** is a view on the underlying data, not a copy. Thus, any in-place modifications to the **`Series`** will be reflected in the **`DataFrame`**. The column can be explicitly copied using the **`Series copy`** method.\n",
    "\n",
    "</div>\n",
    "\n"
   ]
  },
  {
   "cell_type": "markdown",
   "metadata": {
    "colab_type": "text",
    "id": "7nK_3XNLkx0v",
    "nbpresent": {
     "id": "36de5559-6eba-4124-bbaa-e9ad3efc969c"
    },
    "slideshow": {
     "slide_type": "slide"
    }
   },
   "source": [
    "Another common form of data is a nested dict of dicts format:"
   ]
  },
  {
   "cell_type": "code",
   "execution_count": 30,
   "metadata": {
    "colab": {
     "base_uri": "https://localhost:8080/",
     "height": 34
    },
    "colab_type": "code",
    "id": "S8J2zqAFkx0w",
    "nbpresent": {
     "id": "1f2fceb3-93b0-4820-8a4c-5e5696693d77"
    },
    "outputId": "99734df6-9487-4624-e52f-300c6ccfa79f"
   },
   "outputs": [
    {
     "data": {
      "text/plain": [
       "{'Nevada': {2001: 2.4, 2002: 2.9}, 'Ohio': {2000: 1.5, 2001: 1.7, 2002: 3.6}}"
      ]
     },
     "execution_count": 30,
     "metadata": {},
     "output_type": "execute_result"
    }
   ],
   "source": [
    "pop = {'Nevada': {2001: 2.4, 2002: 2.9},\n",
    "         'Ohio': {2000: 1.5, 2001: 1.7, 2002: 3.6}}\n",
    "pop"
   ]
  },
  {
   "cell_type": "markdown",
   "metadata": {
    "colab_type": "text",
    "id": "0-ZzPVcnkx00",
    "nbpresent": {
     "id": "1b95ef46-60a0-481b-a612-755f65eeec6d"
    },
    "slideshow": {
     "slide_type": "slide"
    }
   },
   "source": [
    "If passed to **`DataFrame`**, it will interpret the outer dict keys as the columns and the inner keys as the row indices:"
   ]
  },
  {
   "cell_type": "code",
   "execution_count": 31,
   "metadata": {
    "colab": {
     "base_uri": "https://localhost:8080/",
     "height": 142
    },
    "colab_type": "code",
    "id": "izYZ5myQkx01",
    "nbpresent": {
     "id": "f2cf7959-3b53-4447-9c8c-585b85e71145"
    },
    "outputId": "c27d1bbb-9133-49d3-b1cb-b81d5d1b30cc",
    "scrolled": true
   },
   "outputs": [
    {
     "data": {
      "text/html": [
       "<div>\n",
       "<style scoped>\n",
       "    .dataframe tbody tr th:only-of-type {\n",
       "        vertical-align: middle;\n",
       "    }\n",
       "\n",
       "    .dataframe tbody tr th {\n",
       "        vertical-align: top;\n",
       "    }\n",
       "\n",
       "    .dataframe thead th {\n",
       "        text-align: right;\n",
       "    }\n",
       "</style>\n",
       "<table border=\"1\" class=\"dataframe\">\n",
       "  <thead>\n",
       "    <tr style=\"text-align: right;\">\n",
       "      <th></th>\n",
       "      <th>Nevada</th>\n",
       "      <th>Ohio</th>\n",
       "    </tr>\n",
       "  </thead>\n",
       "  <tbody>\n",
       "    <tr>\n",
       "      <th>2001</th>\n",
       "      <td>2.4</td>\n",
       "      <td>1.7</td>\n",
       "    </tr>\n",
       "    <tr>\n",
       "      <th>2002</th>\n",
       "      <td>2.9</td>\n",
       "      <td>3.6</td>\n",
       "    </tr>\n",
       "    <tr>\n",
       "      <th>2000</th>\n",
       "      <td>NaN</td>\n",
       "      <td>1.5</td>\n",
       "    </tr>\n",
       "  </tbody>\n",
       "</table>\n",
       "</div>"
      ],
      "text/plain": [
       "      Nevada  Ohio\n",
       "2001     2.4   1.7\n",
       "2002     2.9   3.6\n",
       "2000     NaN   1.5"
      ]
     },
     "execution_count": 31,
     "metadata": {},
     "output_type": "execute_result"
    }
   ],
   "source": [
    "frame3 = pd.DataFrame(pop)\n",
    "frame3"
   ]
  },
  {
   "cell_type": "markdown",
   "metadata": {
    "colab_type": "text",
    "id": "iDPFgBHnkx04",
    "nbpresent": {
     "id": "03875933-441f-45fd-9b8c-da5029bbb9d5"
    },
    "slideshow": {
     "slide_type": "slide"
    }
   },
   "source": [
    "And similarilty to NumPy you can always transpose the result:"
   ]
  },
  {
   "cell_type": "code",
   "execution_count": 32,
   "metadata": {
    "colab": {
     "base_uri": "https://localhost:8080/",
     "height": 236
    },
    "colab_type": "code",
    "id": "JdIV1kbbkx06",
    "nbpresent": {
     "id": "890ac322-1c84-4336-bba9-4cc628705b83"
    },
    "outputId": "5253cfd9-c000-477f-d171-3a9f18d645be"
   },
   "outputs": [
    {
     "data": {
      "text/html": [
       "<div>\n",
       "<style scoped>\n",
       "    .dataframe tbody tr th:only-of-type {\n",
       "        vertical-align: middle;\n",
       "    }\n",
       "\n",
       "    .dataframe tbody tr th {\n",
       "        vertical-align: top;\n",
       "    }\n",
       "\n",
       "    .dataframe thead th {\n",
       "        text-align: right;\n",
       "    }\n",
       "</style>\n",
       "<table border=\"1\" class=\"dataframe\">\n",
       "  <thead>\n",
       "    <tr style=\"text-align: right;\">\n",
       "      <th></th>\n",
       "      <th>2001</th>\n",
       "      <th>2002</th>\n",
       "      <th>2000</th>\n",
       "    </tr>\n",
       "  </thead>\n",
       "  <tbody>\n",
       "    <tr>\n",
       "      <th>Nevada</th>\n",
       "      <td>2.4</td>\n",
       "      <td>2.9</td>\n",
       "      <td>NaN</td>\n",
       "    </tr>\n",
       "    <tr>\n",
       "      <th>Ohio</th>\n",
       "      <td>1.7</td>\n",
       "      <td>3.6</td>\n",
       "      <td>1.5</td>\n",
       "    </tr>\n",
       "  </tbody>\n",
       "</table>\n",
       "</div>"
      ],
      "text/plain": [
       "        2001  2002  2000\n",
       "Nevada   2.4   2.9   NaN\n",
       "Ohio     1.7   3.6   1.5"
      ]
     },
     "execution_count": 32,
     "metadata": {},
     "output_type": "execute_result"
    }
   ],
   "source": [
    "frame3.T"
   ]
  },
  {
   "cell_type": "markdown",
   "metadata": {
    "colab_type": "text",
    "id": "mzHW9nyWkx08",
    "nbpresent": {
     "id": "ec961911-441d-4a55-970a-af25458d1259"
    },
    "slideshow": {
     "slide_type": "slide"
    }
   },
   "source": [
    "The keys in the inner dicts are unioned and sorted to form the index in the result. This isn’t true if an explicit index is specified:"
   ]
  },
  {
   "cell_type": "code",
   "execution_count": 33,
   "metadata": {
    "colab": {
     "base_uri": "https://localhost:8080/",
     "height": 142
    },
    "colab_type": "code",
    "id": "-ZxKfETtkx09",
    "nbpresent": {
     "id": "706ff86a-2662-4cea-8131-6014e1c6de89"
    },
    "outputId": "c5748242-2bdd-4542-8f76-7cbd1cd98a71"
   },
   "outputs": [
    {
     "data": {
      "text/html": [
       "<div>\n",
       "<style scoped>\n",
       "    .dataframe tbody tr th:only-of-type {\n",
       "        vertical-align: middle;\n",
       "    }\n",
       "\n",
       "    .dataframe tbody tr th {\n",
       "        vertical-align: top;\n",
       "    }\n",
       "\n",
       "    .dataframe thead th {\n",
       "        text-align: right;\n",
       "    }\n",
       "</style>\n",
       "<table border=\"1\" class=\"dataframe\">\n",
       "  <thead>\n",
       "    <tr style=\"text-align: right;\">\n",
       "      <th></th>\n",
       "      <th>Nevada</th>\n",
       "      <th>Ohio</th>\n",
       "    </tr>\n",
       "  </thead>\n",
       "  <tbody>\n",
       "    <tr>\n",
       "      <th>2002</th>\n",
       "      <td>2.9</td>\n",
       "      <td>3.6</td>\n",
       "    </tr>\n",
       "    <tr>\n",
       "      <th>2001</th>\n",
       "      <td>2.4</td>\n",
       "      <td>1.7</td>\n",
       "    </tr>\n",
       "    <tr>\n",
       "      <th>2003</th>\n",
       "      <td>NaN</td>\n",
       "      <td>NaN</td>\n",
       "    </tr>\n",
       "  </tbody>\n",
       "</table>\n",
       "</div>"
      ],
      "text/plain": [
       "      Nevada  Ohio\n",
       "2002     2.9   3.6\n",
       "2001     2.4   1.7\n",
       "2003     NaN   NaN"
      ]
     },
     "execution_count": 33,
     "metadata": {},
     "output_type": "execute_result"
    }
   ],
   "source": [
    "pd.DataFrame(pop, index=[2002, 2001, 2003])"
   ]
  },
  {
   "cell_type": "markdown",
   "metadata": {
    "colab_type": "text",
    "id": "OTiAONdJkx0_",
    "nbpresent": {
     "id": "bc991e48-f7ac-4796-a706-26f5db10b2d5"
    },
    "slideshow": {
     "slide_type": "slide"
    }
   },
   "source": [
    "Dicts of Series are treated much in the same way:"
   ]
  },
  {
   "cell_type": "code",
   "execution_count": 34,
   "metadata": {
    "colab": {
     "base_uri": "https://localhost:8080/",
     "height": 111
    },
    "colab_type": "code",
    "id": "joxzFzQlkx1A",
    "nbpresent": {
     "id": "42755a7e-ef9f-4e8b-b500-fdf4d809ac56"
    },
    "outputId": "369aff7a-bc96-4638-82b0-8617ef2b1b78"
   },
   "outputs": [
    {
     "data": {
      "text/html": [
       "<div>\n",
       "<style scoped>\n",
       "    .dataframe tbody tr th:only-of-type {\n",
       "        vertical-align: middle;\n",
       "    }\n",
       "\n",
       "    .dataframe tbody tr th {\n",
       "        vertical-align: top;\n",
       "    }\n",
       "\n",
       "    .dataframe thead th {\n",
       "        text-align: right;\n",
       "    }\n",
       "</style>\n",
       "<table border=\"1\" class=\"dataframe\">\n",
       "  <thead>\n",
       "    <tr style=\"text-align: right;\">\n",
       "      <th></th>\n",
       "      <th>Ohio</th>\n",
       "      <th>Nevada</th>\n",
       "    </tr>\n",
       "  </thead>\n",
       "  <tbody>\n",
       "    <tr>\n",
       "      <th>2001</th>\n",
       "      <td>1.7</td>\n",
       "      <td>2.4</td>\n",
       "    </tr>\n",
       "    <tr>\n",
       "      <th>2002</th>\n",
       "      <td>3.6</td>\n",
       "      <td>2.9</td>\n",
       "    </tr>\n",
       "  </tbody>\n",
       "</table>\n",
       "</div>"
      ],
      "text/plain": [
       "      Ohio  Nevada\n",
       "2001   1.7     2.4\n",
       "2002   3.6     2.9"
      ]
     },
     "execution_count": 34,
     "metadata": {},
     "output_type": "execute_result"
    }
   ],
   "source": [
    "pdata = {'Ohio': frame3['Ohio'][:-1],'Nevada': frame3['Nevada'][:2]}\n",
    "pd.DataFrame(pdata)"
   ]
  },
  {
   "cell_type": "markdown",
   "metadata": {
    "colab_type": "text",
    "id": "eoafBuYMkx1D",
    "nbpresent": {
     "id": "5358b291-5c30-44fa-ac1c-36034ba7ec84"
    },
    "slideshow": {
     "slide_type": "slide"
    }
   },
   "source": [
    "If a **`DataFrame`** index and columns have their name attributes set, these will also be\n",
    "displayed:"
   ]
  },
  {
   "cell_type": "code",
   "execution_count": 35,
   "metadata": {
    "colab": {
     "base_uri": "https://localhost:8080/",
     "height": 173
    },
    "colab_type": "code",
    "id": "rUpZTyp8kx1E",
    "nbpresent": {
     "id": "81831dc4-de93-40a2-a97a-577a88e73910"
    },
    "outputId": "6f688d69-ee02-4900-fa93-101223dc1386"
   },
   "outputs": [
    {
     "data": {
      "text/html": [
       "<div>\n",
       "<style scoped>\n",
       "    .dataframe tbody tr th:only-of-type {\n",
       "        vertical-align: middle;\n",
       "    }\n",
       "\n",
       "    .dataframe tbody tr th {\n",
       "        vertical-align: top;\n",
       "    }\n",
       "\n",
       "    .dataframe thead th {\n",
       "        text-align: right;\n",
       "    }\n",
       "</style>\n",
       "<table border=\"1\" class=\"dataframe\">\n",
       "  <thead>\n",
       "    <tr style=\"text-align: right;\">\n",
       "      <th>state</th>\n",
       "      <th>Nevada</th>\n",
       "      <th>Ohio</th>\n",
       "    </tr>\n",
       "    <tr>\n",
       "      <th>year</th>\n",
       "      <th></th>\n",
       "      <th></th>\n",
       "    </tr>\n",
       "  </thead>\n",
       "  <tbody>\n",
       "    <tr>\n",
       "      <th>2001</th>\n",
       "      <td>2.4</td>\n",
       "      <td>1.7</td>\n",
       "    </tr>\n",
       "    <tr>\n",
       "      <th>2002</th>\n",
       "      <td>2.9</td>\n",
       "      <td>3.6</td>\n",
       "    </tr>\n",
       "    <tr>\n",
       "      <th>2000</th>\n",
       "      <td>NaN</td>\n",
       "      <td>1.5</td>\n",
       "    </tr>\n",
       "  </tbody>\n",
       "</table>\n",
       "</div>"
      ],
      "text/plain": [
       "state  Nevada  Ohio\n",
       "year               \n",
       "2001      2.4   1.7\n",
       "2002      2.9   3.6\n",
       "2000      NaN   1.5"
      ]
     },
     "execution_count": 35,
     "metadata": {},
     "output_type": "execute_result"
    }
   ],
   "source": [
    "frame3.index.name = 'year'; frame3.columns.name = 'state'\n",
    "frame3"
   ]
  },
  {
   "cell_type": "markdown",
   "metadata": {
    "colab_type": "text",
    "id": "Rpke0VRKkx1H",
    "nbpresent": {
     "id": "09e2b9d1-5144-46b1-a88c-29bdc7e01270"
    },
    "slideshow": {
     "slide_type": "slide"
    }
   },
   "source": [
    "Like **`Series`**, the **`values`** attribute returns the data contained in the **`DataFrame`** as a 2D ndarray:"
   ]
  },
  {
   "cell_type": "code",
   "execution_count": 36,
   "metadata": {
    "colab": {
     "base_uri": "https://localhost:8080/",
     "height": 68
    },
    "colab_type": "code",
    "id": "-nazFxSCkx1H",
    "nbpresent": {
     "id": "a9e77722-7a70-42f7-8adb-3c0316910648"
    },
    "outputId": "13761004-44db-40c4-a9d2-d64755a07b02"
   },
   "outputs": [
    {
     "data": {
      "text/plain": [
       "array([[2.4, 1.7],\n",
       "       [2.9, 3.6],\n",
       "       [nan, 1.5]])"
      ]
     },
     "execution_count": 36,
     "metadata": {},
     "output_type": "execute_result"
    }
   ],
   "source": [
    "frame3.values"
   ]
  },
  {
   "cell_type": "markdown",
   "metadata": {
    "colab_type": "text",
    "id": "JnY7dEtwkx1L",
    "nbpresent": {
     "id": "eb7c6596-ae87-4691-9a59-e42e3acd4420"
    },
    "slideshow": {
     "slide_type": "slide"
    }
   },
   "source": [
    "If the **`DataFrame`** columns are different **`dtypes`**, the **`dtype`** of the values array will be chosen to accomodate all of the columns:"
   ]
  },
  {
   "cell_type": "code",
   "execution_count": 37,
   "metadata": {
    "colab": {
     "base_uri": "https://localhost:8080/",
     "height": 102
    },
    "colab_type": "code",
    "id": "1QN7Fr0Ckx1M",
    "nbpresent": {
     "id": "6de127a5-7488-4c6a-b6dc-27da56dfae35"
    },
    "outputId": "69be4e3e-2a6b-420d-b16a-1fb0253ebf8c"
   },
   "outputs": [
    {
     "data": {
      "text/plain": [
       "array([[2000, 'Ohio', 1.5, nan],\n",
       "       [2001, 'Ohio', 1.7, -1.2],\n",
       "       [2002, 'Ohio', 3.6, nan],\n",
       "       [2001, 'Nevada', 2.4, -1.5],\n",
       "       [2002, 'Nevada', 2.9, -1.7]], dtype=object)"
      ]
     },
     "execution_count": 37,
     "metadata": {},
     "output_type": "execute_result"
    }
   ],
   "source": [
    "frame2.values"
   ]
  },
  {
   "cell_type": "markdown",
   "metadata": {
    "colab_type": "text",
    "id": "3MfnsFEekx1S",
    "nbpresent": {
     "id": "5fabc09d-00cc-45f5-8ab1-00d9dc183940"
    },
    "slideshow": {
     "slide_type": "slide"
    }
   },
   "source": [
    "Possible data inputs to **`DataFrame`** constructor\n",
    "\n",
    "\n",
    "|**Type**   |  **Notes**  |\n",
    "|:---| :---|\n",
    "| 2D **`ndarray`** |  A matrix of data, passing optional row and column labels|\n",
    "| dict of arrays, lists, or tuples | Each sequence becomes a column in the **`DataFrame`**. All sequences must be the same length. |\n",
    "| NumPy structured/record array  | Treated as the “dict of arrays” case |\n",
    "| dict of Series | Each value becomes a column. Indexes from each Series are unioned together to form the result’s row index if no explicit index is passed. |\n",
    "| dict of dicts |Each inner dict becomes a column. Keys are unioned to form the row index as in the “dict of Series” case.|\n",
    "| list of dicts or Series | Each item becomes a row in the **`DataFrame`**. Union of dict keys or Series indexes become the **`DataFrame`** column labels |\n",
    "| List of lists or tuples | Treated as the “2D **`ndarray`**” case |\n",
    "| Another DataFrame | The **`DataFrame`** indexes are used unless different ones are passed |\n",
    "| NumPy MaskedArray | Like the “2D **`ndarray`**” case except masked values become NA/missing in the **`DataFrame`** result |"
   ]
  },
  {
   "cell_type": "markdown",
   "metadata": {
    "colab_type": "text",
    "id": "YEqitpHUkx1T",
    "nbpresent": {
     "id": "891b0277-7639-427b-b1d0-fd945533ab82"
    },
    "slideshow": {
     "slide_type": "slide"
    }
   },
   "source": [
    "### 7.1.3 Index Objects \n",
    "\n",
    "**`pandas`** *Index objects* are responsible for holding the axis labels and other metadata (like the axis name or names). \n",
    "\n",
    "Any array or other sequence of labels used when constructing a **`Series`** or **`DataFrame`** is internally converted to an **`Index`**:"
   ]
  },
  {
   "cell_type": "code",
   "execution_count": 38,
   "metadata": {
    "colab": {
     "base_uri": "https://localhost:8080/",
     "height": 85
    },
    "colab_type": "code",
    "id": "kz1iVALskx1U",
    "nbpresent": {
     "id": "85978bd2-8e33-48cc-9993-706b3273db0b"
    },
    "outputId": "fc36f7f4-9a57-46b3-889d-33889503ba67",
    "slideshow": {
     "slide_type": "-"
    }
   },
   "outputs": [
    {
     "data": {
      "text/plain": [
       "a    0\n",
       "b    1\n",
       "c    2\n",
       "dtype: int64"
      ]
     },
     "execution_count": 38,
     "metadata": {},
     "output_type": "execute_result"
    },
    {
     "data": {
      "text/plain": [
       "Index(['a', 'b', 'c'], dtype='object')"
      ]
     },
     "execution_count": 38,
     "metadata": {},
     "output_type": "execute_result"
    }
   ],
   "source": [
    "obj = pd.Series(range(3), index=['a', 'b', 'c'])\n",
    "obj\n",
    "index = obj.index\n",
    "index"
   ]
  },
  {
   "cell_type": "code",
   "execution_count": 39,
   "metadata": {
    "colab": {
     "base_uri": "https://localhost:8080/",
     "height": 34
    },
    "colab_type": "code",
    "id": "KLRw9cQMkx1W",
    "nbpresent": {
     "id": "5466717c-ad7b-4ee1-95bf-9fb22d6887f6"
    },
    "outputId": "848bd386-bc3e-4539-aae0-d7452cd4fb4f",
    "slideshow": {
     "slide_type": "skip"
    }
   },
   "outputs": [
    {
     "data": {
      "text/plain": [
       "Index(['b', 'c'], dtype='object')"
      ]
     },
     "execution_count": 39,
     "metadata": {},
     "output_type": "execute_result"
    }
   ],
   "source": [
    "index[1:]"
   ]
  },
  {
   "cell_type": "markdown",
   "metadata": {
    "colab_type": "text",
    "id": "kb9KzwUbkx1Y",
    "nbpresent": {
     "id": "4f10c49d-1932-42de-b132-5d220affa400"
    },
    "slideshow": {
     "slide_type": "slide"
    }
   },
   "source": [
    "**`Index`** objects are immutable and thus can’t be modified by the user:"
   ]
  },
  {
   "cell_type": "code",
   "execution_count": 40,
   "metadata": {
    "colab": {
     "base_uri": "https://localhost:8080/",
     "height": 283
    },
    "colab_type": "code",
    "id": "zdh_Ek22kx1Z",
    "nbpresent": {
     "id": "4e453910-6676-4c5f-b161-ee56321decc8"
    },
    "outputId": "5b6f4fb7-b719-47c1-e87c-e4bacc615559",
    "slideshow": {
     "slide_type": "skip"
    }
   },
   "outputs": [
    {
     "ename": "TypeError",
     "evalue": "Index does not support mutable operations",
     "output_type": "error",
     "traceback": [
      "\u001b[0;31m---------------------------------------------------------------------------\u001b[0m",
      "\u001b[0;31mTypeError\u001b[0m                                 Traceback (most recent call last)",
      "\u001b[0;32m<ipython-input-40-a452e55ce13b>\u001b[0m in \u001b[0;36m<module>\u001b[0;34m\u001b[0m\n\u001b[0;32m----> 1\u001b[0;31m \u001b[0mindex\u001b[0m\u001b[0;34m[\u001b[0m\u001b[0;36m1\u001b[0m\u001b[0;34m]\u001b[0m \u001b[0;34m=\u001b[0m \u001b[0;34m'd'\u001b[0m\u001b[0;34m\u001b[0m\u001b[0;34m\u001b[0m\u001b[0m\n\u001b[0m",
      "\u001b[0;32m/opt/anaconda/envs/Python3/lib/python3.6/site-packages/pandas/core/indexes/base.py\u001b[0m in \u001b[0;36m__setitem__\u001b[0;34m(self, key, value)\u001b[0m\n\u001b[1;32m   4258\u001b[0m \u001b[0;34m\u001b[0m\u001b[0m\n\u001b[1;32m   4259\u001b[0m     \u001b[0;32mdef\u001b[0m \u001b[0m__setitem__\u001b[0m\u001b[0;34m(\u001b[0m\u001b[0mself\u001b[0m\u001b[0;34m,\u001b[0m \u001b[0mkey\u001b[0m\u001b[0;34m,\u001b[0m \u001b[0mvalue\u001b[0m\u001b[0;34m)\u001b[0m\u001b[0;34m:\u001b[0m\u001b[0;34m\u001b[0m\u001b[0;34m\u001b[0m\u001b[0m\n\u001b[0;32m-> 4260\u001b[0;31m         \u001b[0;32mraise\u001b[0m \u001b[0mTypeError\u001b[0m\u001b[0;34m(\u001b[0m\u001b[0;34m\"Index does not support mutable operations\"\u001b[0m\u001b[0;34m)\u001b[0m\u001b[0;34m\u001b[0m\u001b[0;34m\u001b[0m\u001b[0m\n\u001b[0m\u001b[1;32m   4261\u001b[0m \u001b[0;34m\u001b[0m\u001b[0m\n\u001b[1;32m   4262\u001b[0m     \u001b[0;32mdef\u001b[0m \u001b[0m__getitem__\u001b[0m\u001b[0;34m(\u001b[0m\u001b[0mself\u001b[0m\u001b[0;34m,\u001b[0m \u001b[0mkey\u001b[0m\u001b[0;34m)\u001b[0m\u001b[0;34m:\u001b[0m\u001b[0;34m\u001b[0m\u001b[0;34m\u001b[0m\u001b[0m\n",
      "\u001b[0;31mTypeError\u001b[0m: Index does not support mutable operations"
     ]
    }
   ],
   "source": [
    "index[1] = 'd'"
   ]
  },
  {
   "cell_type": "markdown",
   "metadata": {
    "colab_type": "text",
    "id": "NAOCEw6Wkx1b",
    "nbpresent": {
     "id": "2b2c66df-7e64-4d12-ba1b-f733342fc46d"
    },
    "slideshow": {
     "slide_type": "skip"
    }
   },
   "source": [
    "Immutability is important so that **`Index`** objects can be safely shared among data structures:"
   ]
  },
  {
   "cell_type": "code",
   "execution_count": 41,
   "metadata": {
    "colab": {
     "base_uri": "https://localhost:8080/",
     "height": 34
    },
    "colab_type": "code",
    "id": "mPDbigPOkx1c",
    "nbpresent": {
     "id": "3dfeb541-93ea-48fb-a8e1-d11fb04304dc"
    },
    "outputId": "cd876a38-9cab-45fd-bbd6-2ef140b32911",
    "slideshow": {
     "slide_type": "skip"
    }
   },
   "outputs": [
    {
     "data": {
      "text/plain": [
       "True"
      ]
     },
     "execution_count": 41,
     "metadata": {},
     "output_type": "execute_result"
    }
   ],
   "source": [
    "index = pd.Index(np.arange(3))\n",
    "obj2 = pd.Series([1.5, -2.5, 0], index=index)\n",
    "obj2.index is index"
   ]
  },
  {
   "cell_type": "markdown",
   "metadata": {
    "colab_type": "text",
    "id": "QPb5isxUkx1e",
    "nbpresent": {
     "id": "33c1cce5-4b40-41c1-8e28-1664c5eea6de"
    },
    "slideshow": {
     "slide_type": "skip"
    }
   },
   "source": [
    "<div class=\"alert alert-success\">\n",
    "<b>TIP: </b> \n",
    "\n",
    "**`Index`** objects\n",
    "\n",
    "You will not need to know much about **`Index`** objects, but they’re nonetheless an important part of pandas’s data model. "
   ]
  },
  {
   "cell_type": "markdown",
   "metadata": {
    "colab_type": "text",
    "id": "l_sib33qkx1f",
    "nbpresent": {
     "id": "f4097160-24a4-4c3f-ac2e-41617bd11f5e"
    },
    "slideshow": {
     "slide_type": "skip"
    }
   },
   "source": [
    "In addition to being array-like, an **`Index`** also functions as a fixed-size set:"
   ]
  },
  {
   "cell_type": "code",
   "execution_count": 42,
   "metadata": {
    "colab": {
     "base_uri": "https://localhost:8080/",
     "height": 190
    },
    "colab_type": "code",
    "id": "AZWPJ3dekx1f",
    "nbpresent": {
     "id": "4da386e3-a81b-4a0e-99cc-f7715dad08d6"
    },
    "outputId": "82835496-c0ed-4189-b3e5-2203575d4d33",
    "slideshow": {
     "slide_type": "skip"
    }
   },
   "outputs": [
    {
     "data": {
      "text/html": [
       "<div>\n",
       "<style scoped>\n",
       "    .dataframe tbody tr th:only-of-type {\n",
       "        vertical-align: middle;\n",
       "    }\n",
       "\n",
       "    .dataframe tbody tr th {\n",
       "        vertical-align: top;\n",
       "    }\n",
       "\n",
       "    .dataframe thead th {\n",
       "        text-align: right;\n",
       "    }\n",
       "</style>\n",
       "<table border=\"1\" class=\"dataframe\">\n",
       "  <thead>\n",
       "    <tr style=\"text-align: right;\">\n",
       "      <th>state</th>\n",
       "      <th>Nevada</th>\n",
       "      <th>Ohio</th>\n",
       "    </tr>\n",
       "    <tr>\n",
       "      <th>year</th>\n",
       "      <th></th>\n",
       "      <th></th>\n",
       "    </tr>\n",
       "  </thead>\n",
       "  <tbody>\n",
       "    <tr>\n",
       "      <th>2001</th>\n",
       "      <td>2.4</td>\n",
       "      <td>1.7</td>\n",
       "    </tr>\n",
       "    <tr>\n",
       "      <th>2002</th>\n",
       "      <td>2.9</td>\n",
       "      <td>3.6</td>\n",
       "    </tr>\n",
       "    <tr>\n",
       "      <th>2000</th>\n",
       "      <td>NaN</td>\n",
       "      <td>1.5</td>\n",
       "    </tr>\n",
       "  </tbody>\n",
       "</table>\n",
       "</div>"
      ],
      "text/plain": [
       "state  Nevada  Ohio\n",
       "year               \n",
       "2001      2.4   1.7\n",
       "2002      2.9   3.6\n",
       "2000      NaN   1.5"
      ]
     },
     "execution_count": 42,
     "metadata": {},
     "output_type": "execute_result"
    },
    {
     "data": {
      "text/plain": [
       "False"
      ]
     },
     "execution_count": 42,
     "metadata": {},
     "output_type": "execute_result"
    },
    {
     "data": {
      "text/plain": [
       "False"
      ]
     },
     "execution_count": 42,
     "metadata": {},
     "output_type": "execute_result"
    }
   ],
   "source": [
    "frame3\n",
    "'Ohio' in frame3.index\n",
    "2003 in frame3.index"
   ]
  },
  {
   "cell_type": "markdown",
   "metadata": {
    "colab_type": "text",
    "id": "q0N3d3Ifkx1h",
    "nbpresent": {
     "id": "9774b75c-6b79-4018-9be3-aa66fb6458af"
    },
    "slideshow": {
     "slide_type": "skip"
    }
   },
   "source": [
    "Each **`Index`** has a number of methods and properties for set logic and answering other common questions about the data it contains."
   ]
  },
  {
   "cell_type": "markdown",
   "metadata": {
    "colab_type": "text",
    "id": "MK9Ab1Yhkx1j",
    "nbpresent": {
     "id": "d43ad303-de4c-4e1c-9189-d7f35ba16089"
    },
    "slideshow": {
     "slide_type": "skip"
    }
   },
   "source": [
    "**`Index`** methods and properties\n",
    "\n",
    "\n",
    "|**Method**   |  **Description**  |\n",
    "|:---| :---|\n",
    "| **`append`** | Concatenate with additional **`Index`** objects, producing a new **`Index`** |\n",
    "| **`diff`** |  Compute set difference as an **`Index`** |\n",
    "| **`intersection`** | Compute set intersection |\n",
    "| **`union`** | Compute set union |\n",
    "| **`isin`** | Compute boolean array indicating whether each value is contained in the passed collection |\n",
    "| **`delete`** | Compute new Index with element at index i deleted |\n",
    "| **`drop`** | Compute new index by deleting passed values |\n",
    "| **`insert`** | Compute new Index by inserting element at index i |\n",
    "| **`is_monotonic`** | Returns **`True`** if each element is greater than or equal to the previous element |\n",
    "| **`is_unique`** | Returns **`True`** if the Index has no duplicate values |\n",
    "| **`unique`** | Compute the array of unique values in the **`Index`** |\n"
   ]
  },
  {
   "cell_type": "markdown",
   "metadata": {
    "colab_type": "text",
    "id": "C2coFsIc2Lxz"
   },
   "source": [
    "<div class=\"alert alert-warning\">\n",
    "<b>EXERCISE 1:</b>\n",
    "\n",
    "Use below data about the number of graduate students at UCL to create a data frame, called `df_grad`. Once the data frame is created please check if there are any missing values.<p>\n",
    "`grad = {'2015-16': {'Male': 7980, 'Female': 12490},\n",
    "        '2016-17': {'Male': 8090, 'Female': 13075},\n",
    "        '2017-18': {'Male': 8410, 'Female': None}}`"
   ]
  },
  {
   "cell_type": "code",
   "execution_count": 6,
   "metadata": {
    "colab": {
     "base_uri": "https://localhost:8080/",
     "height": 111
    },
    "colab_type": "code",
    "id": "2uL0K08h9ldA",
    "outputId": "57d12f3c-5226-4e09-bf8b-6c6071d6ba9d"
   },
   "outputs": [],
   "source": [
    "# Write your solution here\n"
   ]
  },
  {
   "cell_type": "markdown",
   "metadata": {
    "colab_type": "text",
    "id": "5YGtz8PM-WHK"
   },
   "source": [
    "<div class=\"alert alert-warning\">\n",
    "<b>EXERCISE 2:</b>\n",
    "<p>You must have realized that there is a missing value - please update that value with $13895$.<p>\n",
    "</div>"
   ]
  },
  {
   "cell_type": "code",
   "execution_count": 7,
   "metadata": {
    "colab": {
     "base_uri": "https://localhost:8080/",
     "height": 196
    },
    "colab_type": "code",
    "id": "Lr3xMlU7-vMA",
    "outputId": "c49f9b43-c395-41fb-9e03-6189f61b353d"
   },
   "outputs": [],
   "source": [
    "# Write your solution here"
   ]
  },
  {
   "cell_type": "markdown",
   "metadata": {},
   "source": [
    "<div class=\"alert alert-success\">\n",
    "<b>TIP: </b> \n",
    "\n",
    "**`SettingWithCopyWarning`**\n",
    "\n",
    "The `SettingWithCopyWarning` was created to flag \"chained assignment\" operations. Please refer to this [link](https://stackoverflow.com/questions/20625582/how-to-deal-with-settingwithcopywarning-in-pandas) for detail explanation and see how you can aviod it. "
   ]
  },
  {
   "cell_type": "markdown",
   "metadata": {
    "colab_type": "text",
    "id": "qdSTws_t_heH"
   },
   "source": [
    "<div class=\"alert alert-warning\">\n",
    "<b>EXERCISE 3:</b>\n",
    "\n",
    "Please transpose the data frame and save it as `df_grad_new`.\n",
    "\n",
    "Once that is done please add a new column called `Total` and populate it with the sum of values from columns `Female` and `Male`.\n",
    "</div>"
   ]
  },
  {
   "cell_type": "code",
   "execution_count": 8,
   "metadata": {
    "colab": {
     "base_uri": "https://localhost:8080/",
     "height": 142
    },
    "colab_type": "code",
    "id": "kNk5rP8aCF2e",
    "outputId": "c6999987-93b1-4156-c175-83225afce2a5"
   },
   "outputs": [],
   "source": [
    "# Write your solution here"
   ]
  },
  {
   "cell_type": "markdown",
   "metadata": {
    "colab_type": "text",
    "id": "TEPHLu6QCeZj"
   },
   "source": [
    "<div class=\"alert alert-warning\">\n",
    "<b>EXERCISE 4:</b>\n",
    "\n",
    "Write the code that shows just one column of the data frame - `Total`.\n",
    "\n",
    "</div>"
   ]
  },
  {
   "cell_type": "code",
   "execution_count": 9,
   "metadata": {
    "colab": {
     "base_uri": "https://localhost:8080/",
     "height": 85
    },
    "colab_type": "code",
    "id": "0xgWTSJxDBlS",
    "outputId": "8dc363cc-fcba-4434-8b92-50e7737e701d"
   },
   "outputs": [],
   "source": [
    "# Write your solution here"
   ]
  },
  {
   "cell_type": "markdown",
   "metadata": {
    "colab_type": "text",
    "id": "JaIvzuXHDKtI"
   },
   "source": [
    "<div class=\"alert alert-warning\">\n",
    "<b>EXERCISE 5:</b>\n",
    "\n",
    "Write the code that checks if the string `2014-15` is in the index of `df_grad_new` data frame.\n",
    "</div>"
   ]
  },
  {
   "cell_type": "code",
   "execution_count": 10,
   "metadata": {
    "colab": {
     "base_uri": "https://localhost:8080/",
     "height": 34
    },
    "colab_type": "code",
    "id": "85i-1X7VD4-l",
    "outputId": "aa8cad31-ab95-4c12-e447-b0d4e1d790f0"
   },
   "outputs": [],
   "source": [
    "# Write your solution here"
   ]
  },
  {
   "cell_type": "markdown",
   "metadata": {
    "colab_type": "text",
    "id": "R-LEgMy9kx1k",
    "nbpresent": {
     "id": "742e8b36-3bad-4ea7-bdb4-4625a275c095"
    },
    "slideshow": {
     "slide_type": "slide"
    }
   },
   "source": [
    "## 7.2 Essential Functionality\n",
    "\n",
    "Now lets look at the fundamental mechanics of interacting with the data contained in a **`Series`** or **`DataFrame`**. "
   ]
  },
  {
   "cell_type": "markdown",
   "metadata": {
    "colab_type": "text",
    "id": "UsWH5ZaFkx1l",
    "nbpresent": {
     "id": "d244b041-6663-4c85-839d-fc856b201635"
    },
    "slideshow": {
     "slide_type": "slide"
    }
   },
   "source": [
    "### 7.2.1 Reindexing\n",
    "\n",
    "A critical method on **`pandas`** objects is **`reindex`**, which means to create a new object with the data *conformed* to a new index. Consider a simple example from above:"
   ]
  },
  {
   "cell_type": "code",
   "execution_count": 49,
   "metadata": {
    "colab": {
     "base_uri": "https://localhost:8080/",
     "height": 102
    },
    "colab_type": "code",
    "id": "eI7zTokDkx1l",
    "nbpresent": {
     "id": "0157de49-1911-470b-a1bd-c4faf23d6115"
    },
    "outputId": "fc6a7dae-45aa-4cdc-978f-db5f82dfb1e7"
   },
   "outputs": [
    {
     "data": {
      "text/plain": [
       "d    4.5\n",
       "b    7.2\n",
       "a   -5.3\n",
       "c    3.6\n",
       "dtype: float64"
      ]
     },
     "execution_count": 49,
     "metadata": {},
     "output_type": "execute_result"
    }
   ],
   "source": [
    "obj = pd.Series([4.5, 7.2, -5.3, 3.6], index=['d', 'b', 'a', 'c'])\n",
    "obj"
   ]
  },
  {
   "cell_type": "markdown",
   "metadata": {
    "colab_type": "text",
    "id": "2ZH0nI0bkx1m",
    "nbpresent": {
     "id": "06e452e9-3c1f-4607-a7b7-80caad001a32"
    },
    "slideshow": {
     "slide_type": "slide"
    }
   },
   "source": [
    "Calling **`reindex`** on this **`Series`** rearranges the data according to the new index, introducing missing values if any index values were not already present:"
   ]
  },
  {
   "cell_type": "code",
   "execution_count": 50,
   "metadata": {
    "colab": {
     "base_uri": "https://localhost:8080/",
     "height": 119
    },
    "colab_type": "code",
    "id": "7nC5uowGkx1n",
    "nbpresent": {
     "id": "a0237368-0557-46e1-9927-c358870ecf05"
    },
    "outputId": "41b5104a-ee1b-4abe-fd06-579ab1739235"
   },
   "outputs": [
    {
     "data": {
      "text/plain": [
       "a   -5.3\n",
       "b    7.2\n",
       "c    3.6\n",
       "d    4.5\n",
       "e    NaN\n",
       "dtype: float64"
      ]
     },
     "execution_count": 50,
     "metadata": {},
     "output_type": "execute_result"
    }
   ],
   "source": [
    "obj2 = obj.reindex(['a', 'b', 'c', 'd', 'e'])\n",
    "obj2"
   ]
  },
  {
   "cell_type": "code",
   "execution_count": 51,
   "metadata": {
    "colab": {
     "base_uri": "https://localhost:8080/",
     "height": 119
    },
    "colab_type": "code",
    "id": "MDfTi4vikx1p",
    "nbpresent": {
     "id": "0293f029-26b1-404a-bee0-1a7769163219"
    },
    "outputId": "3086f9dd-3340-4c28-ad22-537a2e075e0c",
    "slideshow": {
     "slide_type": "skip"
    }
   },
   "outputs": [
    {
     "data": {
      "text/plain": [
       "a   -5.3\n",
       "b    7.2\n",
       "c    3.6\n",
       "d    4.5\n",
       "e    0.0\n",
       "dtype: float64"
      ]
     },
     "execution_count": 51,
     "metadata": {},
     "output_type": "execute_result"
    }
   ],
   "source": [
    "obj.reindex(['a', 'b', 'c', 'd', 'e'], fill_value=0)"
   ]
  },
  {
   "cell_type": "markdown",
   "metadata": {
    "colab_type": "text",
    "id": "Q_7IY6Mvkx1r",
    "nbpresent": {
     "id": "b93fd5aa-7d57-4036-b40c-27cbb8f401b8"
    },
    "slideshow": {
     "slide_type": "slide"
    }
   },
   "source": [
    "For ordered data like time series, it may be desirable to do some interpolation or filling of values when reindexing. The method option allows us to do this, using a method such as **`ffill`** which forward fills the values:"
   ]
  },
  {
   "cell_type": "code",
   "execution_count": 52,
   "metadata": {
    "colab": {
     "base_uri": "https://localhost:8080/",
     "height": 136
    },
    "colab_type": "code",
    "id": "PdXbxtZzkx1t",
    "nbpresent": {
     "id": "95ac1dec-6523-43f0-a2ba-b88817530ae2"
    },
    "outputId": "10d1f45e-6a99-42cd-e582-e2d16a867aa5"
   },
   "outputs": [
    {
     "data": {
      "text/plain": [
       "0      blue\n",
       "1      blue\n",
       "2    purple\n",
       "3    purple\n",
       "4    yellow\n",
       "5    yellow\n",
       "dtype: object"
      ]
     },
     "execution_count": 52,
     "metadata": {},
     "output_type": "execute_result"
    }
   ],
   "source": [
    "obj3 = pd.Series(['blue', 'purple', 'yellow'], index=[0, 2, 4])\n",
    "obj3.reindex(range(6), method='ffill')"
   ]
  },
  {
   "cell_type": "markdown",
   "metadata": {
    "colab_type": "text",
    "id": "p4hsiC-skx1u",
    "nbpresent": {
     "id": "a4bb5320-e01f-47f3-950b-22191cb14970"
    },
    "slideshow": {
     "slide_type": "slide"
    }
   },
   "source": [
    "At this time, interpolation more sophisticated than forward- and backfilling would need to be applied after the fact.\n",
    "\n",
    "**`reindex`**  **method (interpolation) options**\n",
    "\n",
    "\n",
    "|**Argument**   |  **Description**  |\n",
    "|:---| :---|\n",
    "| **`ffill`** or **`pad`** | Fill (or carry) values forward |\n",
    "| **`bfill`** or **`backfill`** | Fill (or carry) values backward |"
   ]
  },
  {
   "cell_type": "markdown",
   "metadata": {
    "colab_type": "text",
    "id": "5_i40_P3kx1u",
    "nbpresent": {
     "id": "1eaa9f92-b475-4136-afd7-0aa4d1d738f1"
    },
    "slideshow": {
     "slide_type": "slide"
    }
   },
   "source": [
    "With **`DataFrame`**, reindex can alter either the (row) index, columns, or both. \n",
    "\n",
    "When passed just a sequence, the rows are reindexed in the result:"
   ]
  },
  {
   "cell_type": "code",
   "execution_count": 53,
   "metadata": {
    "colab": {},
    "colab_type": "code",
    "id": "T-SprmCvkx1w",
    "nbpresent": {
     "id": "ac6dc1b1-01ab-4c6a-aa0d-c3278909e8a8"
    },
    "outputId": "47f0e7eb-db3a-44f0-b317-d980b1fcf51a"
   },
   "outputs": [
    {
     "data": {
      "text/html": [
       "<div>\n",
       "<style scoped>\n",
       "    .dataframe tbody tr th:only-of-type {\n",
       "        vertical-align: middle;\n",
       "    }\n",
       "\n",
       "    .dataframe tbody tr th {\n",
       "        vertical-align: top;\n",
       "    }\n",
       "\n",
       "    .dataframe thead th {\n",
       "        text-align: right;\n",
       "    }\n",
       "</style>\n",
       "<table border=\"1\" class=\"dataframe\">\n",
       "  <thead>\n",
       "    <tr style=\"text-align: right;\">\n",
       "      <th></th>\n",
       "      <th>Ohio</th>\n",
       "      <th>Texas</th>\n",
       "      <th>California</th>\n",
       "    </tr>\n",
       "  </thead>\n",
       "  <tbody>\n",
       "    <tr>\n",
       "      <th>a</th>\n",
       "      <td>0</td>\n",
       "      <td>1</td>\n",
       "      <td>2</td>\n",
       "    </tr>\n",
       "    <tr>\n",
       "      <th>c</th>\n",
       "      <td>3</td>\n",
       "      <td>4</td>\n",
       "      <td>5</td>\n",
       "    </tr>\n",
       "    <tr>\n",
       "      <th>d</th>\n",
       "      <td>6</td>\n",
       "      <td>7</td>\n",
       "      <td>8</td>\n",
       "    </tr>\n",
       "  </tbody>\n",
       "</table>\n",
       "</div>"
      ],
      "text/plain": [
       "   Ohio  Texas  California\n",
       "a     0      1           2\n",
       "c     3      4           5\n",
       "d     6      7           8"
      ]
     },
     "execution_count": 53,
     "metadata": {},
     "output_type": "execute_result"
    },
    {
     "data": {
      "text/html": [
       "<div>\n",
       "<style scoped>\n",
       "    .dataframe tbody tr th:only-of-type {\n",
       "        vertical-align: middle;\n",
       "    }\n",
       "\n",
       "    .dataframe tbody tr th {\n",
       "        vertical-align: top;\n",
       "    }\n",
       "\n",
       "    .dataframe thead th {\n",
       "        text-align: right;\n",
       "    }\n",
       "</style>\n",
       "<table border=\"1\" class=\"dataframe\">\n",
       "  <thead>\n",
       "    <tr style=\"text-align: right;\">\n",
       "      <th></th>\n",
       "      <th>Ohio</th>\n",
       "      <th>Texas</th>\n",
       "      <th>California</th>\n",
       "    </tr>\n",
       "  </thead>\n",
       "  <tbody>\n",
       "    <tr>\n",
       "      <th>a</th>\n",
       "      <td>0.0</td>\n",
       "      <td>1.0</td>\n",
       "      <td>2.0</td>\n",
       "    </tr>\n",
       "    <tr>\n",
       "      <th>b</th>\n",
       "      <td>NaN</td>\n",
       "      <td>NaN</td>\n",
       "      <td>NaN</td>\n",
       "    </tr>\n",
       "    <tr>\n",
       "      <th>c</th>\n",
       "      <td>3.0</td>\n",
       "      <td>4.0</td>\n",
       "      <td>5.0</td>\n",
       "    </tr>\n",
       "    <tr>\n",
       "      <th>d</th>\n",
       "      <td>6.0</td>\n",
       "      <td>7.0</td>\n",
       "      <td>8.0</td>\n",
       "    </tr>\n",
       "  </tbody>\n",
       "</table>\n",
       "</div>"
      ],
      "text/plain": [
       "   Ohio  Texas  California\n",
       "a   0.0    1.0         2.0\n",
       "b   NaN    NaN         NaN\n",
       "c   3.0    4.0         5.0\n",
       "d   6.0    7.0         8.0"
      ]
     },
     "execution_count": 53,
     "metadata": {},
     "output_type": "execute_result"
    }
   ],
   "source": [
    "frame = pd.DataFrame(np.arange(9).reshape((3, 3)), index=['a', 'c', 'd'], columns=['Ohio', 'Texas', 'California'])\n",
    "frame\n",
    "frame2 = frame.reindex(['a','b','c','d'])\n",
    "frame2"
   ]
  },
  {
   "cell_type": "markdown",
   "metadata": {
    "colab_type": "text",
    "id": "1f8_sOYpkx12",
    "nbpresent": {
     "id": "198f0bd8-25e4-4aa4-bda2-dad52076f0ac"
    },
    "slideshow": {
     "slide_type": "slide"
    }
   },
   "source": [
    "The columns can be reindexed using the columns keyword:"
   ]
  },
  {
   "cell_type": "code",
   "execution_count": 54,
   "metadata": {
    "colab": {},
    "colab_type": "code",
    "id": "XH-FJElrkx15",
    "nbpresent": {
     "id": "2ee2f542-6858-4bed-919b-cf614967c72f"
    },
    "outputId": "e6bd1669-120e-494d-bccb-e77fa1e3dfbe"
   },
   "outputs": [
    {
     "data": {
      "text/html": [
       "<div>\n",
       "<style scoped>\n",
       "    .dataframe tbody tr th:only-of-type {\n",
       "        vertical-align: middle;\n",
       "    }\n",
       "\n",
       "    .dataframe tbody tr th {\n",
       "        vertical-align: top;\n",
       "    }\n",
       "\n",
       "    .dataframe thead th {\n",
       "        text-align: right;\n",
       "    }\n",
       "</style>\n",
       "<table border=\"1\" class=\"dataframe\">\n",
       "  <thead>\n",
       "    <tr style=\"text-align: right;\">\n",
       "      <th></th>\n",
       "      <th>Texas</th>\n",
       "      <th>Utah</th>\n",
       "      <th>California</th>\n",
       "    </tr>\n",
       "  </thead>\n",
       "  <tbody>\n",
       "    <tr>\n",
       "      <th>a</th>\n",
       "      <td>1</td>\n",
       "      <td>NaN</td>\n",
       "      <td>2</td>\n",
       "    </tr>\n",
       "    <tr>\n",
       "      <th>c</th>\n",
       "      <td>4</td>\n",
       "      <td>NaN</td>\n",
       "      <td>5</td>\n",
       "    </tr>\n",
       "    <tr>\n",
       "      <th>d</th>\n",
       "      <td>7</td>\n",
       "      <td>NaN</td>\n",
       "      <td>8</td>\n",
       "    </tr>\n",
       "  </tbody>\n",
       "</table>\n",
       "</div>"
      ],
      "text/plain": [
       "   Texas  Utah  California\n",
       "a      1   NaN           2\n",
       "c      4   NaN           5\n",
       "d      7   NaN           8"
      ]
     },
     "execution_count": 54,
     "metadata": {},
     "output_type": "execute_result"
    }
   ],
   "source": [
    "states = ['Texas', 'Utah', 'California']\n",
    "frame.reindex(columns=states)"
   ]
  },
  {
   "cell_type": "markdown",
   "metadata": {
    "colab_type": "text",
    "id": "AxNGkh-2kx19",
    "nbpresent": {
     "id": "73b49723-655a-4214-8512-d8f154e706da"
    },
    "slideshow": {
     "slide_type": "slide"
    }
   },
   "source": [
    "Both can be reindexed in one shot, though interpolation will only apply row-wise (axis 0):"
   ]
  },
  {
   "cell_type": "code",
   "execution_count": 55,
   "metadata": {},
   "outputs": [
    {
     "data": {
      "text/html": [
       "<div>\n",
       "<style scoped>\n",
       "    .dataframe tbody tr th:only-of-type {\n",
       "        vertical-align: middle;\n",
       "    }\n",
       "\n",
       "    .dataframe tbody tr th {\n",
       "        vertical-align: top;\n",
       "    }\n",
       "\n",
       "    .dataframe thead th {\n",
       "        text-align: right;\n",
       "    }\n",
       "</style>\n",
       "<table border=\"1\" class=\"dataframe\">\n",
       "  <thead>\n",
       "    <tr style=\"text-align: right;\">\n",
       "      <th></th>\n",
       "      <th>Texas</th>\n",
       "      <th>Utah</th>\n",
       "      <th>California</th>\n",
       "    </tr>\n",
       "  </thead>\n",
       "  <tbody>\n",
       "    <tr>\n",
       "      <th>a</th>\n",
       "      <td>1.0</td>\n",
       "      <td>NaN</td>\n",
       "      <td>2.0</td>\n",
       "    </tr>\n",
       "    <tr>\n",
       "      <th>b</th>\n",
       "      <td>1.0</td>\n",
       "      <td>NaN</td>\n",
       "      <td>2.0</td>\n",
       "    </tr>\n",
       "    <tr>\n",
       "      <th>c</th>\n",
       "      <td>4.0</td>\n",
       "      <td>NaN</td>\n",
       "      <td>5.0</td>\n",
       "    </tr>\n",
       "    <tr>\n",
       "      <th>d</th>\n",
       "      <td>7.0</td>\n",
       "      <td>NaN</td>\n",
       "      <td>8.0</td>\n",
       "    </tr>\n",
       "  </tbody>\n",
       "</table>\n",
       "</div>"
      ],
      "text/plain": [
       "   Texas  Utah  California\n",
       "a    1.0   NaN         2.0\n",
       "b    1.0   NaN         2.0\n",
       "c    4.0   NaN         5.0\n",
       "d    7.0   NaN         8.0"
      ]
     },
     "execution_count": 55,
     "metadata": {},
     "output_type": "execute_result"
    }
   ],
   "source": [
    "frame.reindex(index=['a','b','c','d'],columns=states).ffill()"
   ]
  },
  {
   "cell_type": "markdown",
   "metadata": {
    "colab_type": "text",
    "id": "HKuu92dRkx2D",
    "nbpresent": {
     "id": "6557a525-2487-407b-89c9-f1cd86ed182f"
    },
    "slideshow": {
     "slide_type": "slide"
    }
   },
   "source": [
    "**`reindex`**  **function arguments**\n",
    "\n",
    "\n",
    "|**Argument**   |  **Description**  |\n",
    "|:---| :---|\n",
    "| **`index`** | New sequence to use as index. Can be **`Index`** instance or any other sequence-like Python data structure. An **`Index`** will be used exactly as is without any copying |\n",
    "| **`method`** | Interpolation (fill) method |\n",
    "| **`fill_value`** | Substitute value to use when introducing missing data by reindexing |\n",
    "| **`limit`** | When forward- or backfilling, maximum size gap to fill |\n",
    "| **`level`** | Match simple **`Index`** on level of MultiIndex, otherwise select subset of |\n",
    "| **`copy`** | Do not copy underlying data if new index is equivalent to old index. **`True`** by default (i.e. always copy data). |\n"
   ]
  },
  {
   "cell_type": "markdown",
   "metadata": {
    "colab_type": "text",
    "id": "hKonMxcqkx2E",
    "nbpresent": {
     "id": "27a02fc8-be4f-4b5a-872a-29ff6c9f2f46"
    },
    "slideshow": {
     "slide_type": "slide"
    }
   },
   "source": [
    "### 7.2.2 Dropping entries from an axis\n",
    "\n",
    "Dropping one or more entries from an axis is easy if you have an index array or list without those entries. \n",
    "\n",
    "As that can require a bit of munging and set logic, the drop method will return a new object with the indicated value or values deleted from an axis:"
   ]
  },
  {
   "cell_type": "code",
   "execution_count": 56,
   "metadata": {
    "colab": {},
    "colab_type": "code",
    "id": "d6xFp_Nmkx2E",
    "nbpresent": {
     "id": "792dc43d-98ab-49ba-998c-b3c37b63157f"
    },
    "outputId": "43ec72a9-1020-4eeb-9f3f-88df92102138",
    "slideshow": {
     "slide_type": "slide"
    }
   },
   "outputs": [
    {
     "data": {
      "text/plain": [
       "a    0.0\n",
       "b    1.0\n",
       "d    3.0\n",
       "e    4.0\n",
       "dtype: float64"
      ]
     },
     "execution_count": 56,
     "metadata": {},
     "output_type": "execute_result"
    },
    {
     "data": {
      "text/plain": [
       "a    0.0\n",
       "b    1.0\n",
       "e    4.0\n",
       "dtype: float64"
      ]
     },
     "execution_count": 56,
     "metadata": {},
     "output_type": "execute_result"
    }
   ],
   "source": [
    "obj = pd.Series(np.arange(5.), index=['a', 'b', 'c', 'd', 'e'])\n",
    "new_obj = obj.drop('c')\n",
    "new_obj\n",
    "obj.drop(['d','c'])"
   ]
  },
  {
   "cell_type": "markdown",
   "metadata": {
    "colab_type": "text",
    "id": "C8mUstfYkx2F",
    "nbpresent": {
     "id": "88611fc1-e571-4121-bf20-4fb624054092"
    },
    "slideshow": {
     "slide_type": "slide"
    }
   },
   "source": [
    "With **`DataFrame`**, index values can be deleted from either axis:"
   ]
  },
  {
   "cell_type": "code",
   "execution_count": 57,
   "metadata": {
    "colab": {},
    "colab_type": "code",
    "id": "eBTjjmOfkx2G",
    "nbpresent": {
     "id": "a1ca4a3a-9e56-4e1a-8a82-a8a750f5ff2b"
    },
    "outputId": "26d3e512-a82b-4035-d961-bd0747ee2e87",
    "slideshow": {
     "slide_type": "slide"
    }
   },
   "outputs": [
    {
     "data": {
      "text/html": [
       "<div>\n",
       "<style scoped>\n",
       "    .dataframe tbody tr th:only-of-type {\n",
       "        vertical-align: middle;\n",
       "    }\n",
       "\n",
       "    .dataframe tbody tr th {\n",
       "        vertical-align: top;\n",
       "    }\n",
       "\n",
       "    .dataframe thead th {\n",
       "        text-align: right;\n",
       "    }\n",
       "</style>\n",
       "<table border=\"1\" class=\"dataframe\">\n",
       "  <thead>\n",
       "    <tr style=\"text-align: right;\">\n",
       "      <th></th>\n",
       "      <th>one</th>\n",
       "      <th>two</th>\n",
       "      <th>three</th>\n",
       "      <th>four</th>\n",
       "    </tr>\n",
       "  </thead>\n",
       "  <tbody>\n",
       "    <tr>\n",
       "      <th>Utah</th>\n",
       "      <td>8</td>\n",
       "      <td>9</td>\n",
       "      <td>10</td>\n",
       "      <td>11</td>\n",
       "    </tr>\n",
       "    <tr>\n",
       "      <th>New York</th>\n",
       "      <td>12</td>\n",
       "      <td>13</td>\n",
       "      <td>14</td>\n",
       "      <td>15</td>\n",
       "    </tr>\n",
       "  </tbody>\n",
       "</table>\n",
       "</div>"
      ],
      "text/plain": [
       "          one  two  three  four\n",
       "Utah        8    9     10    11\n",
       "New York   12   13     14    15"
      ]
     },
     "execution_count": 57,
     "metadata": {},
     "output_type": "execute_result"
    },
    {
     "data": {
      "text/html": [
       "<div>\n",
       "<style scoped>\n",
       "    .dataframe tbody tr th:only-of-type {\n",
       "        vertical-align: middle;\n",
       "    }\n",
       "\n",
       "    .dataframe tbody tr th {\n",
       "        vertical-align: top;\n",
       "    }\n",
       "\n",
       "    .dataframe thead th {\n",
       "        text-align: right;\n",
       "    }\n",
       "</style>\n",
       "<table border=\"1\" class=\"dataframe\">\n",
       "  <thead>\n",
       "    <tr style=\"text-align: right;\">\n",
       "      <th></th>\n",
       "      <th>one</th>\n",
       "      <th>three</th>\n",
       "      <th>four</th>\n",
       "    </tr>\n",
       "  </thead>\n",
       "  <tbody>\n",
       "    <tr>\n",
       "      <th>Ohio</th>\n",
       "      <td>0</td>\n",
       "      <td>2</td>\n",
       "      <td>3</td>\n",
       "    </tr>\n",
       "    <tr>\n",
       "      <th>Colorado</th>\n",
       "      <td>4</td>\n",
       "      <td>6</td>\n",
       "      <td>7</td>\n",
       "    </tr>\n",
       "    <tr>\n",
       "      <th>Utah</th>\n",
       "      <td>8</td>\n",
       "      <td>10</td>\n",
       "      <td>11</td>\n",
       "    </tr>\n",
       "    <tr>\n",
       "      <th>New York</th>\n",
       "      <td>12</td>\n",
       "      <td>14</td>\n",
       "      <td>15</td>\n",
       "    </tr>\n",
       "  </tbody>\n",
       "</table>\n",
       "</div>"
      ],
      "text/plain": [
       "          one  three  four\n",
       "Ohio        0      2     3\n",
       "Colorado    4      6     7\n",
       "Utah        8     10    11\n",
       "New York   12     14    15"
      ]
     },
     "execution_count": 57,
     "metadata": {},
     "output_type": "execute_result"
    },
    {
     "data": {
      "text/html": [
       "<div>\n",
       "<style scoped>\n",
       "    .dataframe tbody tr th:only-of-type {\n",
       "        vertical-align: middle;\n",
       "    }\n",
       "\n",
       "    .dataframe tbody tr th {\n",
       "        vertical-align: top;\n",
       "    }\n",
       "\n",
       "    .dataframe thead th {\n",
       "        text-align: right;\n",
       "    }\n",
       "</style>\n",
       "<table border=\"1\" class=\"dataframe\">\n",
       "  <thead>\n",
       "    <tr style=\"text-align: right;\">\n",
       "      <th></th>\n",
       "      <th>one</th>\n",
       "      <th>three</th>\n",
       "    </tr>\n",
       "  </thead>\n",
       "  <tbody>\n",
       "    <tr>\n",
       "      <th>Ohio</th>\n",
       "      <td>0</td>\n",
       "      <td>2</td>\n",
       "    </tr>\n",
       "    <tr>\n",
       "      <th>Colorado</th>\n",
       "      <td>4</td>\n",
       "      <td>6</td>\n",
       "    </tr>\n",
       "    <tr>\n",
       "      <th>Utah</th>\n",
       "      <td>8</td>\n",
       "      <td>10</td>\n",
       "    </tr>\n",
       "    <tr>\n",
       "      <th>New York</th>\n",
       "      <td>12</td>\n",
       "      <td>14</td>\n",
       "    </tr>\n",
       "  </tbody>\n",
       "</table>\n",
       "</div>"
      ],
      "text/plain": [
       "          one  three\n",
       "Ohio        0      2\n",
       "Colorado    4      6\n",
       "Utah        8     10\n",
       "New York   12     14"
      ]
     },
     "execution_count": 57,
     "metadata": {},
     "output_type": "execute_result"
    }
   ],
   "source": [
    "data = pd.DataFrame(np.arange(16).reshape((4, 4)),\n",
    "                 index=['Ohio', 'Colorado', 'Utah', 'New York'],\n",
    "                 columns=['one', 'two', 'three', 'four'])\n",
    "\n",
    "data.drop(['Colorado', 'Ohio'])\n",
    "data.drop('two', axis=1)\n",
    "data.drop(['two', 'four'], axis=1)"
   ]
  },
  {
   "cell_type": "markdown",
   "metadata": {
    "colab_type": "text",
    "id": "4Jiy5Oswkx2I",
    "nbpresent": {
     "id": "afea7fea-7a11-43ef-818b-97739fcd9e8e"
    },
    "slideshow": {
     "slide_type": "slide"
    }
   },
   "source": [
    "## 7.3 Indexing, selection, and filtering\n",
    "\n",
    "**`Series`** indexing (**`obj[...]`**) works analogously to **`NumPy`** array indexing, except you can use the **`Series`** index values instead of only integers. Here are some examples of this:"
   ]
  },
  {
   "cell_type": "code",
   "execution_count": 58,
   "metadata": {
    "colab": {},
    "colab_type": "code",
    "id": "QoweT4mDkx2I",
    "nbpresent": {
     "id": "cfeb5aa2-1594-44f9-a25e-2ce5a65ce755"
    },
    "outputId": "908f44cc-66fa-4721-93e0-91264ab0e1ef"
   },
   "outputs": [
    {
     "data": {
      "text/plain": [
       "1.0"
      ]
     },
     "execution_count": 58,
     "metadata": {},
     "output_type": "execute_result"
    },
    {
     "data": {
      "text/plain": [
       "1.0"
      ]
     },
     "execution_count": 58,
     "metadata": {},
     "output_type": "execute_result"
    },
    {
     "data": {
      "text/plain": [
       "c    2.0\n",
       "d    3.0\n",
       "dtype: float64"
      ]
     },
     "execution_count": 58,
     "metadata": {},
     "output_type": "execute_result"
    },
    {
     "data": {
      "text/plain": [
       "b    1.0\n",
       "a    0.0\n",
       "d    3.0\n",
       "dtype: float64"
      ]
     },
     "execution_count": 58,
     "metadata": {},
     "output_type": "execute_result"
    }
   ],
   "source": [
    "obj = pd.Series(np.arange(4.), index=['a', 'b', 'c', 'd'])\n",
    "obj['b']\n",
    "obj[1]\n",
    "obj[2:4]\n",
    "obj[['b','a','d']]"
   ]
  },
  {
   "cell_type": "markdown",
   "metadata": {
    "colab_type": "text",
    "id": "jZI-issukx2J",
    "nbpresent": {
     "id": "88957b64-68cd-4955-be37-ee17ed6ce65b"
    },
    "slideshow": {
     "slide_type": "slide"
    }
   },
   "source": [
    "Slicing with labels behaves differently than normal Python slicing in that the endpoint is inclusive:"
   ]
  },
  {
   "cell_type": "code",
   "execution_count": 59,
   "metadata": {
    "colab": {},
    "colab_type": "code",
    "id": "WXyVgqdjkx2K",
    "nbpresent": {
     "id": "ba7de3d8-a055-4777-99d7-5276f4fce8c7"
    },
    "outputId": "1f82aaf4-e2e9-4f03-9327-3c37ec50aaad"
   },
   "outputs": [
    {
     "data": {
      "text/plain": [
       "b    1.0\n",
       "c    2.0\n",
       "dtype: float64"
      ]
     },
     "execution_count": 59,
     "metadata": {},
     "output_type": "execute_result"
    }
   ],
   "source": [
    "obj['b':'c']"
   ]
  },
  {
   "cell_type": "markdown",
   "metadata": {
    "colab_type": "text",
    "id": "B3GR_-kzkx2M",
    "nbpresent": {
     "id": "67ff7aa0-f90d-4557-9072-c769e553b728"
    },
    "slideshow": {
     "slide_type": "slide"
    }
   },
   "source": [
    "*Setting* using these methods works just as you would expect:"
   ]
  },
  {
   "cell_type": "code",
   "execution_count": 60,
   "metadata": {
    "colab": {},
    "colab_type": "code",
    "id": "8GTh9nLGkx2N",
    "nbpresent": {
     "id": "2dba1805-aef1-4e28-bd5f-7c89b92168f7"
    },
    "outputId": "0ae09902-e610-42aa-d9c9-e4ca660eae60"
   },
   "outputs": [
    {
     "data": {
      "text/plain": [
       "a    0.0\n",
       "b    5.0\n",
       "c    5.0\n",
       "d    3.0\n",
       "dtype: float64"
      ]
     },
     "execution_count": 60,
     "metadata": {},
     "output_type": "execute_result"
    }
   ],
   "source": [
    "obj['b':'c'] = 5\n",
    "obj"
   ]
  },
  {
   "cell_type": "markdown",
   "metadata": {
    "colab_type": "text",
    "id": "o4XmW-4Tkx2O",
    "nbpresent": {
     "id": "2325d9ae-5a4a-451e-848e-7bdf8c4ef859"
    },
    "slideshow": {
     "slide_type": "slide"
    }
   },
   "source": [
    "As we’ve seen above, indexing into a **`DataFrame`** is for retrieving one or more columns either with a single value or sequence:"
   ]
  },
  {
   "cell_type": "code",
   "execution_count": 61,
   "metadata": {
    "colab": {},
    "colab_type": "code",
    "id": "xqnx4Vg3kx2P",
    "nbpresent": {
     "id": "5c4d5d7a-0962-437c-a11b-bc2f272e97df"
    },
    "outputId": "64650b65-592f-486f-b530-a5dbea1f0301"
   },
   "outputs": [
    {
     "data": {
      "text/html": [
       "<div>\n",
       "<style scoped>\n",
       "    .dataframe tbody tr th:only-of-type {\n",
       "        vertical-align: middle;\n",
       "    }\n",
       "\n",
       "    .dataframe tbody tr th {\n",
       "        vertical-align: top;\n",
       "    }\n",
       "\n",
       "    .dataframe thead th {\n",
       "        text-align: right;\n",
       "    }\n",
       "</style>\n",
       "<table border=\"1\" class=\"dataframe\">\n",
       "  <thead>\n",
       "    <tr style=\"text-align: right;\">\n",
       "      <th></th>\n",
       "      <th>one</th>\n",
       "      <th>two</th>\n",
       "      <th>three</th>\n",
       "      <th>four</th>\n",
       "    </tr>\n",
       "  </thead>\n",
       "  <tbody>\n",
       "    <tr>\n",
       "      <th>Ohio</th>\n",
       "      <td>0</td>\n",
       "      <td>1</td>\n",
       "      <td>2</td>\n",
       "      <td>3</td>\n",
       "    </tr>\n",
       "    <tr>\n",
       "      <th>Colorado</th>\n",
       "      <td>4</td>\n",
       "      <td>5</td>\n",
       "      <td>6</td>\n",
       "      <td>7</td>\n",
       "    </tr>\n",
       "    <tr>\n",
       "      <th>Utah</th>\n",
       "      <td>8</td>\n",
       "      <td>9</td>\n",
       "      <td>10</td>\n",
       "      <td>11</td>\n",
       "    </tr>\n",
       "    <tr>\n",
       "      <th>New York</th>\n",
       "      <td>12</td>\n",
       "      <td>13</td>\n",
       "      <td>14</td>\n",
       "      <td>15</td>\n",
       "    </tr>\n",
       "  </tbody>\n",
       "</table>\n",
       "</div>"
      ],
      "text/plain": [
       "          one  two  three  four\n",
       "Ohio        0    1      2     3\n",
       "Colorado    4    5      6     7\n",
       "Utah        8    9     10    11\n",
       "New York   12   13     14    15"
      ]
     },
     "execution_count": 61,
     "metadata": {},
     "output_type": "execute_result"
    }
   ],
   "source": [
    "data = pd.DataFrame(np.arange(16).reshape((4, 4)),\n",
    "                 index=['Ohio', 'Colorado', 'Utah', 'New York'],\n",
    "                 columns=['one', 'two', 'three', 'four'])\n",
    "data"
   ]
  },
  {
   "cell_type": "code",
   "execution_count": 62,
   "metadata": {
    "colab": {},
    "colab_type": "code",
    "id": "zjr9LPYWkx2P",
    "nbpresent": {
     "id": "b5c3a955-fde0-4e02-a5ef-7e2f68228571"
    },
    "outputId": "9fc0320e-498c-40d4-ac2c-565e767bfe14",
    "slideshow": {
     "slide_type": "slide"
    }
   },
   "outputs": [
    {
     "data": {
      "text/plain": [
       "Ohio         1\n",
       "Colorado     5\n",
       "Utah         9\n",
       "New York    13\n",
       "Name: two, dtype: int64"
      ]
     },
     "execution_count": 62,
     "metadata": {},
     "output_type": "execute_result"
    },
    {
     "data": {
      "text/html": [
       "<div>\n",
       "<style scoped>\n",
       "    .dataframe tbody tr th:only-of-type {\n",
       "        vertical-align: middle;\n",
       "    }\n",
       "\n",
       "    .dataframe tbody tr th {\n",
       "        vertical-align: top;\n",
       "    }\n",
       "\n",
       "    .dataframe thead th {\n",
       "        text-align: right;\n",
       "    }\n",
       "</style>\n",
       "<table border=\"1\" class=\"dataframe\">\n",
       "  <thead>\n",
       "    <tr style=\"text-align: right;\">\n",
       "      <th></th>\n",
       "      <th>three</th>\n",
       "      <th>one</th>\n",
       "    </tr>\n",
       "  </thead>\n",
       "  <tbody>\n",
       "    <tr>\n",
       "      <th>Ohio</th>\n",
       "      <td>2</td>\n",
       "      <td>0</td>\n",
       "    </tr>\n",
       "    <tr>\n",
       "      <th>Colorado</th>\n",
       "      <td>6</td>\n",
       "      <td>4</td>\n",
       "    </tr>\n",
       "    <tr>\n",
       "      <th>Utah</th>\n",
       "      <td>10</td>\n",
       "      <td>8</td>\n",
       "    </tr>\n",
       "    <tr>\n",
       "      <th>New York</th>\n",
       "      <td>14</td>\n",
       "      <td>12</td>\n",
       "    </tr>\n",
       "  </tbody>\n",
       "</table>\n",
       "</div>"
      ],
      "text/plain": [
       "          three  one\n",
       "Ohio          2    0\n",
       "Colorado      6    4\n",
       "Utah         10    8\n",
       "New York     14   12"
      ]
     },
     "execution_count": 62,
     "metadata": {},
     "output_type": "execute_result"
    }
   ],
   "source": [
    "data['two']\n",
    "data[['three','one']]"
   ]
  },
  {
   "cell_type": "markdown",
   "metadata": {
    "colab_type": "text",
    "id": "hjNS7DTIkx2R",
    "nbpresent": {
     "id": "a95473fb-0398-466c-8110-ae5923e13049"
    },
    "slideshow": {
     "slide_type": "slide"
    }
   },
   "source": [
    "Indexing like this has a few special cases. First selecting rows by slicing or a boolean array:"
   ]
  },
  {
   "cell_type": "code",
   "execution_count": 63,
   "metadata": {
    "colab": {},
    "colab_type": "code",
    "id": "1moz_SUgkx2R",
    "nbpresent": {
     "id": "4a297055-2d4d-41c1-a103-4e04c7bbcefa"
    },
    "outputId": "b6448e2e-ea73-46a1-8e06-f8062a8649e6"
   },
   "outputs": [
    {
     "data": {
      "text/html": [
       "<div>\n",
       "<style scoped>\n",
       "    .dataframe tbody tr th:only-of-type {\n",
       "        vertical-align: middle;\n",
       "    }\n",
       "\n",
       "    .dataframe tbody tr th {\n",
       "        vertical-align: top;\n",
       "    }\n",
       "\n",
       "    .dataframe thead th {\n",
       "        text-align: right;\n",
       "    }\n",
       "</style>\n",
       "<table border=\"1\" class=\"dataframe\">\n",
       "  <thead>\n",
       "    <tr style=\"text-align: right;\">\n",
       "      <th></th>\n",
       "      <th>one</th>\n",
       "      <th>two</th>\n",
       "      <th>three</th>\n",
       "      <th>four</th>\n",
       "    </tr>\n",
       "  </thead>\n",
       "  <tbody>\n",
       "    <tr>\n",
       "      <th>Ohio</th>\n",
       "      <td>0</td>\n",
       "      <td>1</td>\n",
       "      <td>2</td>\n",
       "      <td>3</td>\n",
       "    </tr>\n",
       "    <tr>\n",
       "      <th>Colorado</th>\n",
       "      <td>4</td>\n",
       "      <td>5</td>\n",
       "      <td>6</td>\n",
       "      <td>7</td>\n",
       "    </tr>\n",
       "  </tbody>\n",
       "</table>\n",
       "</div>"
      ],
      "text/plain": [
       "          one  two  three  four\n",
       "Ohio        0    1      2     3\n",
       "Colorado    4    5      6     7"
      ]
     },
     "execution_count": 63,
     "metadata": {},
     "output_type": "execute_result"
    },
    {
     "data": {
      "text/html": [
       "<div>\n",
       "<style scoped>\n",
       "    .dataframe tbody tr th:only-of-type {\n",
       "        vertical-align: middle;\n",
       "    }\n",
       "\n",
       "    .dataframe tbody tr th {\n",
       "        vertical-align: top;\n",
       "    }\n",
       "\n",
       "    .dataframe thead th {\n",
       "        text-align: right;\n",
       "    }\n",
       "</style>\n",
       "<table border=\"1\" class=\"dataframe\">\n",
       "  <thead>\n",
       "    <tr style=\"text-align: right;\">\n",
       "      <th></th>\n",
       "      <th>one</th>\n",
       "      <th>two</th>\n",
       "      <th>three</th>\n",
       "      <th>four</th>\n",
       "    </tr>\n",
       "  </thead>\n",
       "  <tbody>\n",
       "    <tr>\n",
       "      <th>Colorado</th>\n",
       "      <td>4</td>\n",
       "      <td>5</td>\n",
       "      <td>6</td>\n",
       "      <td>7</td>\n",
       "    </tr>\n",
       "    <tr>\n",
       "      <th>Utah</th>\n",
       "      <td>8</td>\n",
       "      <td>9</td>\n",
       "      <td>10</td>\n",
       "      <td>11</td>\n",
       "    </tr>\n",
       "    <tr>\n",
       "      <th>New York</th>\n",
       "      <td>12</td>\n",
       "      <td>13</td>\n",
       "      <td>14</td>\n",
       "      <td>15</td>\n",
       "    </tr>\n",
       "  </tbody>\n",
       "</table>\n",
       "</div>"
      ],
      "text/plain": [
       "          one  two  three  four\n",
       "Colorado    4    5      6     7\n",
       "Utah        8    9     10    11\n",
       "New York   12   13     14    15"
      ]
     },
     "execution_count": 63,
     "metadata": {},
     "output_type": "execute_result"
    }
   ],
   "source": [
    "data[:2]\n",
    "data[data['three'] > 5]"
   ]
  },
  {
   "cell_type": "markdown",
   "metadata": {
    "colab_type": "text",
    "id": "h1xJA4uDkx2T",
    "nbpresent": {
     "id": "95752a8f-b795-4ca8-91c2-456f459bac40"
    },
    "slideshow": {
     "slide_type": "slide"
    }
   },
   "source": [
    "<div class=\"alert alert-danger\">\n",
    "<b>WARNING: </b> \n",
    "   \n",
    "**`pandas`** indexing\n",
    "\n",
    "**`pandas`** indexing might seem inconsistent to some readers, but this syntax practicality makes things a bit easier.\n",
    "\n",
    "</div>"
   ]
  },
  {
   "cell_type": "markdown",
   "metadata": {
    "colab_type": "text",
    "id": "Uc9u7eLukx2T",
    "nbpresent": {
     "id": "5526c7f8-a1eb-4e16-a9bc-8aa29bd652fe"
    },
    "slideshow": {
     "slide_type": "slide"
    }
   },
   "source": [
    "Another use case is in indexing with a boolean **`DataFrame`**, such as one produced by a scalar comparison:"
   ]
  },
  {
   "cell_type": "code",
   "execution_count": 64,
   "metadata": {
    "colab": {},
    "colab_type": "code",
    "id": "aLmNBeEtkx2T",
    "nbpresent": {
     "id": "25d5ac4d-8e90-4485-830c-3aaedf6e56ad"
    },
    "outputId": "17b9b5cf-d690-417b-ef87-0c2f501169a4"
   },
   "outputs": [
    {
     "data": {
      "text/html": [
       "<div>\n",
       "<style scoped>\n",
       "    .dataframe tbody tr th:only-of-type {\n",
       "        vertical-align: middle;\n",
       "    }\n",
       "\n",
       "    .dataframe tbody tr th {\n",
       "        vertical-align: top;\n",
       "    }\n",
       "\n",
       "    .dataframe thead th {\n",
       "        text-align: right;\n",
       "    }\n",
       "</style>\n",
       "<table border=\"1\" class=\"dataframe\">\n",
       "  <thead>\n",
       "    <tr style=\"text-align: right;\">\n",
       "      <th></th>\n",
       "      <th>one</th>\n",
       "      <th>two</th>\n",
       "      <th>three</th>\n",
       "      <th>four</th>\n",
       "    </tr>\n",
       "  </thead>\n",
       "  <tbody>\n",
       "    <tr>\n",
       "      <th>Ohio</th>\n",
       "      <td>True</td>\n",
       "      <td>True</td>\n",
       "      <td>True</td>\n",
       "      <td>True</td>\n",
       "    </tr>\n",
       "    <tr>\n",
       "      <th>Colorado</th>\n",
       "      <td>True</td>\n",
       "      <td>False</td>\n",
       "      <td>False</td>\n",
       "      <td>False</td>\n",
       "    </tr>\n",
       "    <tr>\n",
       "      <th>Utah</th>\n",
       "      <td>False</td>\n",
       "      <td>False</td>\n",
       "      <td>False</td>\n",
       "      <td>False</td>\n",
       "    </tr>\n",
       "    <tr>\n",
       "      <th>New York</th>\n",
       "      <td>False</td>\n",
       "      <td>False</td>\n",
       "      <td>False</td>\n",
       "      <td>False</td>\n",
       "    </tr>\n",
       "  </tbody>\n",
       "</table>\n",
       "</div>"
      ],
      "text/plain": [
       "            one    two  three   four\n",
       "Ohio       True   True   True   True\n",
       "Colorado   True  False  False  False\n",
       "Utah      False  False  False  False\n",
       "New York  False  False  False  False"
      ]
     },
     "execution_count": 64,
     "metadata": {},
     "output_type": "execute_result"
    }
   ],
   "source": [
    "data < 5"
   ]
  },
  {
   "cell_type": "code",
   "execution_count": 65,
   "metadata": {
    "colab": {},
    "colab_type": "code",
    "id": "trtiXGMwkx2V",
    "nbpresent": {
     "id": "f419dc1f-4f11-47a9-b6e1-bc668b4aa3ca"
    },
    "outputId": "c1af15ac-523e-4107-bc5e-5969570a5c7b",
    "slideshow": {
     "slide_type": "slide"
    }
   },
   "outputs": [
    {
     "data": {
      "text/html": [
       "<div>\n",
       "<style scoped>\n",
       "    .dataframe tbody tr th:only-of-type {\n",
       "        vertical-align: middle;\n",
       "    }\n",
       "\n",
       "    .dataframe tbody tr th {\n",
       "        vertical-align: top;\n",
       "    }\n",
       "\n",
       "    .dataframe thead th {\n",
       "        text-align: right;\n",
       "    }\n",
       "</style>\n",
       "<table border=\"1\" class=\"dataframe\">\n",
       "  <thead>\n",
       "    <tr style=\"text-align: right;\">\n",
       "      <th></th>\n",
       "      <th>one</th>\n",
       "      <th>two</th>\n",
       "      <th>three</th>\n",
       "      <th>four</th>\n",
       "    </tr>\n",
       "  </thead>\n",
       "  <tbody>\n",
       "    <tr>\n",
       "      <th>Ohio</th>\n",
       "      <td>0</td>\n",
       "      <td>0</td>\n",
       "      <td>0</td>\n",
       "      <td>0</td>\n",
       "    </tr>\n",
       "    <tr>\n",
       "      <th>Colorado</th>\n",
       "      <td>0</td>\n",
       "      <td>5</td>\n",
       "      <td>6</td>\n",
       "      <td>7</td>\n",
       "    </tr>\n",
       "    <tr>\n",
       "      <th>Utah</th>\n",
       "      <td>8</td>\n",
       "      <td>9</td>\n",
       "      <td>10</td>\n",
       "      <td>11</td>\n",
       "    </tr>\n",
       "    <tr>\n",
       "      <th>New York</th>\n",
       "      <td>12</td>\n",
       "      <td>13</td>\n",
       "      <td>14</td>\n",
       "      <td>15</td>\n",
       "    </tr>\n",
       "  </tbody>\n",
       "</table>\n",
       "</div>"
      ],
      "text/plain": [
       "          one  two  three  four\n",
       "Ohio        0    0      0     0\n",
       "Colorado    0    5      6     7\n",
       "Utah        8    9     10    11\n",
       "New York   12   13     14    15"
      ]
     },
     "execution_count": 65,
     "metadata": {},
     "output_type": "execute_result"
    }
   ],
   "source": [
    "data[data < 5] = 0\n",
    "data"
   ]
  },
  {
   "cell_type": "markdown",
   "metadata": {
    "colab_type": "text",
    "id": "KI3OsKOzkx2Z",
    "nbpresent": {
     "id": "f6abb23a-b091-49b1-96dd-ad703c8d3139"
    },
    "slideshow": {
     "slide_type": "slide"
    }
   },
   "source": [
    "So there are many ways to select and rearrange the data contained in a **`pandas`** object. \n",
    "\n",
    "For **`DataFrame`**, there is a short summary of many of them below. You have a number of additional options when working with hierarchical indexes as we’ll later see."
   ]
  },
  {
   "cell_type": "markdown",
   "metadata": {
    "colab_type": "text",
    "id": "Uqq2mGyzkx2Z",
    "nbpresent": {
     "id": "d62a6132-01c3-4e7b-8ed1-1bd476ef78bb"
    },
    "slideshow": {
     "slide_type": "slide"
    }
   },
   "source": [
    "**Indexing options with DataFrame**\n",
    "\n",
    "\n",
    "|**Type**   |  **Notes**  |\n",
    "|:---| :---|\n",
    "| **`obj[val]`** | Select single column or sequence of columns from the DataFrame. Special case conveniences: boolean array (filter rows), slice (slice rows), or boolean DataFrame (set values based on some criterion). |\n",
    "| **`obj.ix[val]`** | Selects single row of subset of rows from the DataFrame. |\n",
    "| **`obj.ix[:,va;]`** | Selects single column of subset of columns. |\n",
    "| **`obj.ix[val1, val2]`** | Select both rows and columns. |\n",
    "| **`reindex`** method | Conform one or more axes to new indexes. |\n",
    "| **`xs`** method | Select single row or column as a Series by label. |\n",
    "| **`icol`**,**`irow`** method | Select single column or row, respectively, as a Series by integer location. |\n",
    "| **`get_value`**, **`set_value`** methods | Select single value by row and column label. |"
   ]
  },
  {
   "cell_type": "markdown",
   "metadata": {
    "colab_type": "text",
    "id": "Biy-4w9Ykx2Z",
    "nbpresent": {
     "id": "7e392e2e-3505-431f-a17d-f87bb6cac5ad"
    },
    "slideshow": {
     "slide_type": "slide"
    }
   },
   "source": [
    "### 7.3.1 Arithmetic and data alignment\n",
    "\n",
    "One of the most important **`pandas`** features is the behavior of arithmetic between objects with *different* indexes. When adding together objects, if any index pairs are not the same, the respective index in the result will be the union of the index pairs. Let’s look at a simple example:"
   ]
  },
  {
   "cell_type": "code",
   "execution_count": 66,
   "metadata": {
    "colab": {
     "base_uri": "https://localhost:8080/",
     "height": 187
    },
    "colab_type": "code",
    "format": "row",
    "id": "UsrI5D14kx2a",
    "nbpresent": {
     "id": "0b45abd3-4c8a-4921-9088-e4de5a3bc155"
    },
    "outputId": "0dc0e1cb-d7b3-41af-d3c2-d08e1babe313",
    "slideshow": {
     "slide_type": "slide"
    }
   },
   "outputs": [
    {
     "data": {
      "text/plain": [
       "a    7.3\n",
       "c   -2.5\n",
       "d    3.4\n",
       "e    1.5\n",
       "dtype: float64"
      ]
     },
     "execution_count": 66,
     "metadata": {},
     "output_type": "execute_result"
    },
    {
     "data": {
      "text/plain": [
       "a   -2.1\n",
       "c    3.6\n",
       "e   -1.5\n",
       "f    4.0\n",
       "g    3.1\n",
       "dtype: float64"
      ]
     },
     "execution_count": 66,
     "metadata": {},
     "output_type": "execute_result"
    }
   ],
   "source": [
    "s1 = pd.Series([7.3, -2.5, 3.4, 1.5], index=['a', 'c', 'd', 'e'])\n",
    "s2 = pd.Series([-2.1, 3.6, -1.5, 4, 3.1], index=['a', 'c', 'e', 'f', 'g'])\n",
    "s1\n",
    "s2"
   ]
  },
  {
   "cell_type": "markdown",
   "metadata": {
    "colab_type": "text",
    "id": "Hy5aJszekx2d",
    "nbpresent": {
     "id": "2fec420a-d424-4cc7-8b26-6ad3b6cd1c7c"
    },
    "slideshow": {
     "slide_type": "slide"
    }
   },
   "source": [
    "Adding these together yields:"
   ]
  },
  {
   "cell_type": "code",
   "execution_count": 67,
   "metadata": {
    "colab": {
     "base_uri": "https://localhost:8080/",
     "height": 136
    },
    "colab_type": "code",
    "id": "jdxN6gC6kx2f",
    "nbpresent": {
     "id": "5266286b-f746-4694-8a2c-e6857daaf081"
    },
    "outputId": "d1b6a2d0-a53d-46f0-a1a7-db6bcc0406bc"
   },
   "outputs": [
    {
     "data": {
      "text/plain": [
       "a    5.2\n",
       "c    1.1\n",
       "d    NaN\n",
       "e    0.0\n",
       "f    NaN\n",
       "g    NaN\n",
       "dtype: float64"
      ]
     },
     "execution_count": 67,
     "metadata": {},
     "output_type": "execute_result"
    }
   ],
   "source": [
    "s1 + s2"
   ]
  },
  {
   "cell_type": "markdown",
   "metadata": {
    "colab_type": "text",
    "id": "ao5V-lDtkx2f",
    "nbpresent": {
     "id": "1ff38927-26a0-405e-b867-36a0ce167536"
    },
    "slideshow": {
     "slide_type": "slide"
    }
   },
   "source": [
    "The internal data alignment introduces **NA** values in the indices that don’t overlap. Missing values propagate in arithmetic computations.\n",
    "\n",
    "In the case of **`DataFrame`**, alignment is performed on both the rows and the columns:"
   ]
  },
  {
   "cell_type": "code",
   "execution_count": 68,
   "metadata": {
    "colab": {},
    "colab_type": "code",
    "id": "7VDYlLuFkx2f",
    "nbpresent": {
     "id": "d6b7f505-805c-4647-8860-9a6200d94a8b"
    },
    "outputId": "156559cc-1bf3-44a3-8171-0fbb65ab7d3d",
    "slideshow": {
     "slide_type": "slide"
    }
   },
   "outputs": [
    {
     "data": {
      "text/html": [
       "<div>\n",
       "<style scoped>\n",
       "    .dataframe tbody tr th:only-of-type {\n",
       "        vertical-align: middle;\n",
       "    }\n",
       "\n",
       "    .dataframe tbody tr th {\n",
       "        vertical-align: top;\n",
       "    }\n",
       "\n",
       "    .dataframe thead th {\n",
       "        text-align: right;\n",
       "    }\n",
       "</style>\n",
       "<table border=\"1\" class=\"dataframe\">\n",
       "  <thead>\n",
       "    <tr style=\"text-align: right;\">\n",
       "      <th></th>\n",
       "      <th>b</th>\n",
       "      <th>c</th>\n",
       "      <th>d</th>\n",
       "    </tr>\n",
       "  </thead>\n",
       "  <tbody>\n",
       "    <tr>\n",
       "      <th>Ohio</th>\n",
       "      <td>0.0</td>\n",
       "      <td>1.0</td>\n",
       "      <td>2.0</td>\n",
       "    </tr>\n",
       "    <tr>\n",
       "      <th>Texas</th>\n",
       "      <td>3.0</td>\n",
       "      <td>4.0</td>\n",
       "      <td>5.0</td>\n",
       "    </tr>\n",
       "    <tr>\n",
       "      <th>Colorado</th>\n",
       "      <td>6.0</td>\n",
       "      <td>7.0</td>\n",
       "      <td>8.0</td>\n",
       "    </tr>\n",
       "  </tbody>\n",
       "</table>\n",
       "</div>"
      ],
      "text/plain": [
       "            b    c    d\n",
       "Ohio      0.0  1.0  2.0\n",
       "Texas     3.0  4.0  5.0\n",
       "Colorado  6.0  7.0  8.0"
      ]
     },
     "execution_count": 68,
     "metadata": {},
     "output_type": "execute_result"
    },
    {
     "data": {
      "text/html": [
       "<div>\n",
       "<style scoped>\n",
       "    .dataframe tbody tr th:only-of-type {\n",
       "        vertical-align: middle;\n",
       "    }\n",
       "\n",
       "    .dataframe tbody tr th {\n",
       "        vertical-align: top;\n",
       "    }\n",
       "\n",
       "    .dataframe thead th {\n",
       "        text-align: right;\n",
       "    }\n",
       "</style>\n",
       "<table border=\"1\" class=\"dataframe\">\n",
       "  <thead>\n",
       "    <tr style=\"text-align: right;\">\n",
       "      <th></th>\n",
       "      <th>b</th>\n",
       "      <th>d</th>\n",
       "      <th>e</th>\n",
       "    </tr>\n",
       "  </thead>\n",
       "  <tbody>\n",
       "    <tr>\n",
       "      <th>Utah</th>\n",
       "      <td>0.0</td>\n",
       "      <td>1.0</td>\n",
       "      <td>2.0</td>\n",
       "    </tr>\n",
       "    <tr>\n",
       "      <th>Ohio</th>\n",
       "      <td>3.0</td>\n",
       "      <td>4.0</td>\n",
       "      <td>5.0</td>\n",
       "    </tr>\n",
       "    <tr>\n",
       "      <th>Texas</th>\n",
       "      <td>6.0</td>\n",
       "      <td>7.0</td>\n",
       "      <td>8.0</td>\n",
       "    </tr>\n",
       "    <tr>\n",
       "      <th>Oregon</th>\n",
       "      <td>9.0</td>\n",
       "      <td>10.0</td>\n",
       "      <td>11.0</td>\n",
       "    </tr>\n",
       "  </tbody>\n",
       "</table>\n",
       "</div>"
      ],
      "text/plain": [
       "          b     d     e\n",
       "Utah    0.0   1.0   2.0\n",
       "Ohio    3.0   4.0   5.0\n",
       "Texas   6.0   7.0   8.0\n",
       "Oregon  9.0  10.0  11.0"
      ]
     },
     "execution_count": 68,
     "metadata": {},
     "output_type": "execute_result"
    }
   ],
   "source": [
    "df1 = pd.DataFrame(np.arange(9.).reshape((3, 3)), columns=list('bcd'), index=['Ohio', 'Texas', 'Colorado'])\n",
    "df2 = pd.DataFrame(np.arange(12.).reshape((4, 3)), columns=list('bde'), index=['Utah', 'Ohio', 'Texas', 'Oregon'])\n",
    "df1\n",
    "df2 "
   ]
  },
  {
   "cell_type": "markdown",
   "metadata": {
    "colab_type": "text",
    "id": "b32NfPyPkx2h",
    "nbpresent": {
     "id": "733322a4-01fd-4775-8539-3ea6b216f8e5"
    },
    "slideshow": {
     "slide_type": "slide"
    }
   },
   "source": [
    "Adding these together returns a **`DataFrame`** whose index and columns are the unions of the ones in each DataFrame:"
   ]
  },
  {
   "cell_type": "code",
   "execution_count": 69,
   "metadata": {
    "colab": {},
    "colab_type": "code",
    "id": "tX_--Et5kx2h",
    "nbpresent": {
     "id": "b50d2406-ac87-4ab8-8de5-4fd48f9df01c"
    },
    "outputId": "f820753a-d083-4a41-adac-8d7bb86c26b0"
   },
   "outputs": [
    {
     "data": {
      "text/html": [
       "<div>\n",
       "<style scoped>\n",
       "    .dataframe tbody tr th:only-of-type {\n",
       "        vertical-align: middle;\n",
       "    }\n",
       "\n",
       "    .dataframe tbody tr th {\n",
       "        vertical-align: top;\n",
       "    }\n",
       "\n",
       "    .dataframe thead th {\n",
       "        text-align: right;\n",
       "    }\n",
       "</style>\n",
       "<table border=\"1\" class=\"dataframe\">\n",
       "  <thead>\n",
       "    <tr style=\"text-align: right;\">\n",
       "      <th></th>\n",
       "      <th>b</th>\n",
       "      <th>c</th>\n",
       "      <th>d</th>\n",
       "      <th>e</th>\n",
       "    </tr>\n",
       "  </thead>\n",
       "  <tbody>\n",
       "    <tr>\n",
       "      <th>Colorado</th>\n",
       "      <td>NaN</td>\n",
       "      <td>NaN</td>\n",
       "      <td>NaN</td>\n",
       "      <td>NaN</td>\n",
       "    </tr>\n",
       "    <tr>\n",
       "      <th>Ohio</th>\n",
       "      <td>3.0</td>\n",
       "      <td>NaN</td>\n",
       "      <td>6.0</td>\n",
       "      <td>NaN</td>\n",
       "    </tr>\n",
       "    <tr>\n",
       "      <th>Oregon</th>\n",
       "      <td>NaN</td>\n",
       "      <td>NaN</td>\n",
       "      <td>NaN</td>\n",
       "      <td>NaN</td>\n",
       "    </tr>\n",
       "    <tr>\n",
       "      <th>Texas</th>\n",
       "      <td>9.0</td>\n",
       "      <td>NaN</td>\n",
       "      <td>12.0</td>\n",
       "      <td>NaN</td>\n",
       "    </tr>\n",
       "    <tr>\n",
       "      <th>Utah</th>\n",
       "      <td>NaN</td>\n",
       "      <td>NaN</td>\n",
       "      <td>NaN</td>\n",
       "      <td>NaN</td>\n",
       "    </tr>\n",
       "  </tbody>\n",
       "</table>\n",
       "</div>"
      ],
      "text/plain": [
       "            b   c     d   e\n",
       "Colorado  NaN NaN   NaN NaN\n",
       "Ohio      3.0 NaN   6.0 NaN\n",
       "Oregon    NaN NaN   NaN NaN\n",
       "Texas     9.0 NaN  12.0 NaN\n",
       "Utah      NaN NaN   NaN NaN"
      ]
     },
     "execution_count": 69,
     "metadata": {},
     "output_type": "execute_result"
    }
   ],
   "source": [
    "df1 + df2"
   ]
  },
  {
   "cell_type": "markdown",
   "metadata": {
    "colab_type": "text",
    "id": "puT0URJ7kx2k",
    "nbpresent": {
     "id": "237c2bd5-ff1d-486c-b59c-74e082d2a7be"
    },
    "slideshow": {
     "slide_type": "slide"
    }
   },
   "source": [
    "### Arithmetic methods with fill values\n",
    "\n",
    "In arithmetic operations between differently-indexed objects, you might want to fill with a special value, like 0, when an axis label is found in one object but not the other:"
   ]
  },
  {
   "cell_type": "code",
   "execution_count": 70,
   "metadata": {
    "colab": {},
    "colab_type": "code",
    "id": "XuhbKR8mkx2k",
    "nbpresent": {
     "id": "f87dbb10-4ea0-45f0-b16a-55aa01f9b309"
    },
    "outputId": "3de40e3e-1d9f-4c58-a968-826265939292",
    "slideshow": {
     "slide_type": "slide"
    }
   },
   "outputs": [
    {
     "data": {
      "text/html": [
       "<div>\n",
       "<style scoped>\n",
       "    .dataframe tbody tr th:only-of-type {\n",
       "        vertical-align: middle;\n",
       "    }\n",
       "\n",
       "    .dataframe tbody tr th {\n",
       "        vertical-align: top;\n",
       "    }\n",
       "\n",
       "    .dataframe thead th {\n",
       "        text-align: right;\n",
       "    }\n",
       "</style>\n",
       "<table border=\"1\" class=\"dataframe\">\n",
       "  <thead>\n",
       "    <tr style=\"text-align: right;\">\n",
       "      <th></th>\n",
       "      <th>a</th>\n",
       "      <th>b</th>\n",
       "      <th>c</th>\n",
       "      <th>d</th>\n",
       "    </tr>\n",
       "  </thead>\n",
       "  <tbody>\n",
       "    <tr>\n",
       "      <th>0</th>\n",
       "      <td>0.0</td>\n",
       "      <td>1.0</td>\n",
       "      <td>2.0</td>\n",
       "      <td>3.0</td>\n",
       "    </tr>\n",
       "    <tr>\n",
       "      <th>1</th>\n",
       "      <td>4.0</td>\n",
       "      <td>5.0</td>\n",
       "      <td>6.0</td>\n",
       "      <td>7.0</td>\n",
       "    </tr>\n",
       "    <tr>\n",
       "      <th>2</th>\n",
       "      <td>8.0</td>\n",
       "      <td>9.0</td>\n",
       "      <td>10.0</td>\n",
       "      <td>11.0</td>\n",
       "    </tr>\n",
       "  </tbody>\n",
       "</table>\n",
       "</div>"
      ],
      "text/plain": [
       "     a    b     c     d\n",
       "0  0.0  1.0   2.0   3.0\n",
       "1  4.0  5.0   6.0   7.0\n",
       "2  8.0  9.0  10.0  11.0"
      ]
     },
     "execution_count": 70,
     "metadata": {},
     "output_type": "execute_result"
    },
    {
     "data": {
      "text/html": [
       "<div>\n",
       "<style scoped>\n",
       "    .dataframe tbody tr th:only-of-type {\n",
       "        vertical-align: middle;\n",
       "    }\n",
       "\n",
       "    .dataframe tbody tr th {\n",
       "        vertical-align: top;\n",
       "    }\n",
       "\n",
       "    .dataframe thead th {\n",
       "        text-align: right;\n",
       "    }\n",
       "</style>\n",
       "<table border=\"1\" class=\"dataframe\">\n",
       "  <thead>\n",
       "    <tr style=\"text-align: right;\">\n",
       "      <th></th>\n",
       "      <th>a</th>\n",
       "      <th>b</th>\n",
       "      <th>c</th>\n",
       "      <th>d</th>\n",
       "      <th>e</th>\n",
       "    </tr>\n",
       "  </thead>\n",
       "  <tbody>\n",
       "    <tr>\n",
       "      <th>0</th>\n",
       "      <td>0.0</td>\n",
       "      <td>1.0</td>\n",
       "      <td>2.0</td>\n",
       "      <td>3.0</td>\n",
       "      <td>4.0</td>\n",
       "    </tr>\n",
       "    <tr>\n",
       "      <th>1</th>\n",
       "      <td>5.0</td>\n",
       "      <td>6.0</td>\n",
       "      <td>7.0</td>\n",
       "      <td>8.0</td>\n",
       "      <td>9.0</td>\n",
       "    </tr>\n",
       "    <tr>\n",
       "      <th>2</th>\n",
       "      <td>10.0</td>\n",
       "      <td>11.0</td>\n",
       "      <td>12.0</td>\n",
       "      <td>13.0</td>\n",
       "      <td>14.0</td>\n",
       "    </tr>\n",
       "    <tr>\n",
       "      <th>3</th>\n",
       "      <td>15.0</td>\n",
       "      <td>16.0</td>\n",
       "      <td>17.0</td>\n",
       "      <td>18.0</td>\n",
       "      <td>19.0</td>\n",
       "    </tr>\n",
       "  </tbody>\n",
       "</table>\n",
       "</div>"
      ],
      "text/plain": [
       "      a     b     c     d     e\n",
       "0   0.0   1.0   2.0   3.0   4.0\n",
       "1   5.0   6.0   7.0   8.0   9.0\n",
       "2  10.0  11.0  12.0  13.0  14.0\n",
       "3  15.0  16.0  17.0  18.0  19.0"
      ]
     },
     "execution_count": 70,
     "metadata": {},
     "output_type": "execute_result"
    }
   ],
   "source": [
    "df1 = pd.DataFrame(np.arange(12.).reshape((3, 4)), columns=list('abcd'))\n",
    "df2 = pd.DataFrame(np.arange(20.).reshape((4, 5)), columns=list('abcde'))\n",
    "df1\n",
    "df2"
   ]
  },
  {
   "cell_type": "markdown",
   "metadata": {
    "colab_type": "text",
    "id": "gyJJOC20kx2n",
    "nbpresent": {
     "id": "2f334f72-4013-4cd2-9183-fff4f1ee9b74"
    },
    "slideshow": {
     "slide_type": "slide"
    }
   },
   "source": [
    "Adding these together results in NA values (**`NaN`**) in the locations that don’t overlap:"
   ]
  },
  {
   "cell_type": "code",
   "execution_count": 71,
   "metadata": {
    "colab": {},
    "colab_type": "code",
    "id": "hmQNAPaTkx2n",
    "nbpresent": {
     "id": "09889dd8-1451-466d-b257-0823d7cf1974"
    },
    "outputId": "27f4d01e-6491-4ca8-827e-c2557084dcc9"
   },
   "outputs": [
    {
     "data": {
      "text/html": [
       "<div>\n",
       "<style scoped>\n",
       "    .dataframe tbody tr th:only-of-type {\n",
       "        vertical-align: middle;\n",
       "    }\n",
       "\n",
       "    .dataframe tbody tr th {\n",
       "        vertical-align: top;\n",
       "    }\n",
       "\n",
       "    .dataframe thead th {\n",
       "        text-align: right;\n",
       "    }\n",
       "</style>\n",
       "<table border=\"1\" class=\"dataframe\">\n",
       "  <thead>\n",
       "    <tr style=\"text-align: right;\">\n",
       "      <th></th>\n",
       "      <th>a</th>\n",
       "      <th>b</th>\n",
       "      <th>c</th>\n",
       "      <th>d</th>\n",
       "      <th>e</th>\n",
       "    </tr>\n",
       "  </thead>\n",
       "  <tbody>\n",
       "    <tr>\n",
       "      <th>0</th>\n",
       "      <td>0.0</td>\n",
       "      <td>2.0</td>\n",
       "      <td>4.0</td>\n",
       "      <td>6.0</td>\n",
       "      <td>NaN</td>\n",
       "    </tr>\n",
       "    <tr>\n",
       "      <th>1</th>\n",
       "      <td>9.0</td>\n",
       "      <td>11.0</td>\n",
       "      <td>13.0</td>\n",
       "      <td>15.0</td>\n",
       "      <td>NaN</td>\n",
       "    </tr>\n",
       "    <tr>\n",
       "      <th>2</th>\n",
       "      <td>18.0</td>\n",
       "      <td>20.0</td>\n",
       "      <td>22.0</td>\n",
       "      <td>24.0</td>\n",
       "      <td>NaN</td>\n",
       "    </tr>\n",
       "    <tr>\n",
       "      <th>3</th>\n",
       "      <td>NaN</td>\n",
       "      <td>NaN</td>\n",
       "      <td>NaN</td>\n",
       "      <td>NaN</td>\n",
       "      <td>NaN</td>\n",
       "    </tr>\n",
       "  </tbody>\n",
       "</table>\n",
       "</div>"
      ],
      "text/plain": [
       "      a     b     c     d   e\n",
       "0   0.0   2.0   4.0   6.0 NaN\n",
       "1   9.0  11.0  13.0  15.0 NaN\n",
       "2  18.0  20.0  22.0  24.0 NaN\n",
       "3   NaN   NaN   NaN   NaN NaN"
      ]
     },
     "execution_count": 71,
     "metadata": {},
     "output_type": "execute_result"
    }
   ],
   "source": [
    "df1 + df2"
   ]
  },
  {
   "cell_type": "markdown",
   "metadata": {
    "colab_type": "text",
    "id": "Cbu6UO5nkx2p",
    "nbpresent": {
     "id": "71fe946c-5047-41f7-904d-6ef6ff419d76"
    },
    "slideshow": {
     "slide_type": "slide"
    }
   },
   "source": [
    "Using the add method on **`df1`**, we can pass **`df2`** and an argument to **`fill_value`**:"
   ]
  },
  {
   "cell_type": "code",
   "execution_count": 72,
   "metadata": {
    "colab": {},
    "colab_type": "code",
    "id": "yiN5lu7Qkx2p",
    "nbpresent": {
     "id": "4ba5b87d-c01c-4ed2-8f13-80bff3442d19"
    },
    "outputId": "3677cc37-1fc1-46ba-f919-da1c7b313f43"
   },
   "outputs": [
    {
     "data": {
      "text/html": [
       "<div>\n",
       "<style scoped>\n",
       "    .dataframe tbody tr th:only-of-type {\n",
       "        vertical-align: middle;\n",
       "    }\n",
       "\n",
       "    .dataframe tbody tr th {\n",
       "        vertical-align: top;\n",
       "    }\n",
       "\n",
       "    .dataframe thead th {\n",
       "        text-align: right;\n",
       "    }\n",
       "</style>\n",
       "<table border=\"1\" class=\"dataframe\">\n",
       "  <thead>\n",
       "    <tr style=\"text-align: right;\">\n",
       "      <th></th>\n",
       "      <th>a</th>\n",
       "      <th>b</th>\n",
       "      <th>c</th>\n",
       "      <th>d</th>\n",
       "      <th>e</th>\n",
       "    </tr>\n",
       "  </thead>\n",
       "  <tbody>\n",
       "    <tr>\n",
       "      <th>0</th>\n",
       "      <td>0.0</td>\n",
       "      <td>2.0</td>\n",
       "      <td>4.0</td>\n",
       "      <td>6.0</td>\n",
       "      <td>4.0</td>\n",
       "    </tr>\n",
       "    <tr>\n",
       "      <th>1</th>\n",
       "      <td>9.0</td>\n",
       "      <td>11.0</td>\n",
       "      <td>13.0</td>\n",
       "      <td>15.0</td>\n",
       "      <td>9.0</td>\n",
       "    </tr>\n",
       "    <tr>\n",
       "      <th>2</th>\n",
       "      <td>18.0</td>\n",
       "      <td>20.0</td>\n",
       "      <td>22.0</td>\n",
       "      <td>24.0</td>\n",
       "      <td>14.0</td>\n",
       "    </tr>\n",
       "    <tr>\n",
       "      <th>3</th>\n",
       "      <td>15.0</td>\n",
       "      <td>16.0</td>\n",
       "      <td>17.0</td>\n",
       "      <td>18.0</td>\n",
       "      <td>19.0</td>\n",
       "    </tr>\n",
       "  </tbody>\n",
       "</table>\n",
       "</div>"
      ],
      "text/plain": [
       "      a     b     c     d     e\n",
       "0   0.0   2.0   4.0   6.0   4.0\n",
       "1   9.0  11.0  13.0  15.0   9.0\n",
       "2  18.0  20.0  22.0  24.0  14.0\n",
       "3  15.0  16.0  17.0  18.0  19.0"
      ]
     },
     "execution_count": 72,
     "metadata": {},
     "output_type": "execute_result"
    }
   ],
   "source": [
    "df1.add(df2, fill_value=0)"
   ]
  },
  {
   "cell_type": "markdown",
   "metadata": {
    "colab_type": "text",
    "id": "dPG-Edg9kx2s",
    "nbpresent": {
     "id": "10066fe6-4b90-4159-afa5-5fc6c1e1e31f"
    },
    "slideshow": {
     "slide_type": "slide"
    }
   },
   "source": [
    "Relatedly, when reindexing a **`Series`** or **`DataFrame`**, you can also specify a different fill value:"
   ]
  },
  {
   "cell_type": "code",
   "execution_count": 73,
   "metadata": {
    "colab": {},
    "colab_type": "code",
    "id": "Nzavk_rUkx2s",
    "nbpresent": {
     "id": "600b5b20-2840-4067-921f-cf794c0ebacc"
    },
    "outputId": "dd5e4b46-273e-455c-f2ae-b0f93f07822e"
   },
   "outputs": [
    {
     "data": {
      "text/html": [
       "<div>\n",
       "<style scoped>\n",
       "    .dataframe tbody tr th:only-of-type {\n",
       "        vertical-align: middle;\n",
       "    }\n",
       "\n",
       "    .dataframe tbody tr th {\n",
       "        vertical-align: top;\n",
       "    }\n",
       "\n",
       "    .dataframe thead th {\n",
       "        text-align: right;\n",
       "    }\n",
       "</style>\n",
       "<table border=\"1\" class=\"dataframe\">\n",
       "  <thead>\n",
       "    <tr style=\"text-align: right;\">\n",
       "      <th></th>\n",
       "      <th>a</th>\n",
       "      <th>b</th>\n",
       "      <th>c</th>\n",
       "      <th>d</th>\n",
       "      <th>e</th>\n",
       "    </tr>\n",
       "  </thead>\n",
       "  <tbody>\n",
       "    <tr>\n",
       "      <th>0</th>\n",
       "      <td>0.0</td>\n",
       "      <td>1.0</td>\n",
       "      <td>2.0</td>\n",
       "      <td>3.0</td>\n",
       "      <td>0</td>\n",
       "    </tr>\n",
       "    <tr>\n",
       "      <th>1</th>\n",
       "      <td>4.0</td>\n",
       "      <td>5.0</td>\n",
       "      <td>6.0</td>\n",
       "      <td>7.0</td>\n",
       "      <td>0</td>\n",
       "    </tr>\n",
       "    <tr>\n",
       "      <th>2</th>\n",
       "      <td>8.0</td>\n",
       "      <td>9.0</td>\n",
       "      <td>10.0</td>\n",
       "      <td>11.0</td>\n",
       "      <td>0</td>\n",
       "    </tr>\n",
       "  </tbody>\n",
       "</table>\n",
       "</div>"
      ],
      "text/plain": [
       "     a    b     c     d  e\n",
       "0  0.0  1.0   2.0   3.0  0\n",
       "1  4.0  5.0   6.0   7.0  0\n",
       "2  8.0  9.0  10.0  11.0  0"
      ]
     },
     "execution_count": 73,
     "metadata": {},
     "output_type": "execute_result"
    }
   ],
   "source": [
    "df1.reindex(columns=df2.columns, fill_value=0)"
   ]
  },
  {
   "cell_type": "markdown",
   "metadata": {
    "colab_type": "text",
    "id": "PH8GrQw-kx2u",
    "nbpresent": {
     "id": "dd5472df-1d80-4fd3-acd6-02cafd5af249"
    },
    "slideshow": {
     "slide_type": "slide"
    }
   },
   "source": [
    "**Flexible arithmetic methods**\n",
    "\n",
    "|**Method**   |  **Description**  |\n",
    "|:---| :---|\n",
    "| **`add`** | Method for addition (+) |\n",
    "| **`sub`** | Method for subtraction (-) |\n",
    "| **`div`** | Method for division (/) |\n",
    "| **`mul`** | Method for multiplication (*) |\n",
    "\n"
   ]
  },
  {
   "cell_type": "markdown",
   "metadata": {
    "colab_type": "text",
    "id": "ZPO2z9sUkx2v",
    "nbpresent": {
     "id": "49f6b246-2ba9-4b72-a93b-aa5da053aa8f"
    },
    "slideshow": {
     "slide_type": "skip"
    }
   },
   "source": [
    "### Operations between DataFrame and Series\n",
    "\n",
    "As with **`NumPy`** arrays, arithmetic between **`DataFrame`** and **`Series`** is well-defined. \n",
    "\n",
    "First, as a motivating example, consider the difference between a 2D array and one of its rows:"
   ]
  },
  {
   "cell_type": "code",
   "execution_count": 74,
   "metadata": {
    "colab": {},
    "colab_type": "code",
    "id": "AI10TXGKkx2v",
    "nbpresent": {
     "id": "5d55a9ae-64ee-4628-bc70-2c9f1d2cc4fe"
    },
    "outputId": "bf81a995-8ebe-407c-c79a-1b362dd326c2",
    "slideshow": {
     "slide_type": "skip"
    }
   },
   "outputs": [
    {
     "data": {
      "text/plain": [
       "array([[ 0.,  1.,  2.,  3.],\n",
       "       [ 4.,  5.,  6.,  7.],\n",
       "       [ 8.,  9., 10., 11.]])"
      ]
     },
     "execution_count": 74,
     "metadata": {},
     "output_type": "execute_result"
    }
   ],
   "source": [
    "arr = np.arange(12.).reshape((3, 4))\n",
    "arr"
   ]
  },
  {
   "cell_type": "code",
   "execution_count": 75,
   "metadata": {
    "colab": {},
    "colab_type": "code",
    "id": "Jr0391z_kx2x",
    "nbpresent": {
     "id": "8f5803c8-463d-4cc8-b079-9203d63cc228"
    },
    "outputId": "afd3ccef-0296-4518-b02a-f5cc3be8d225",
    "slideshow": {
     "slide_type": "skip"
    }
   },
   "outputs": [
    {
     "data": {
      "text/plain": [
       "array([0., 1., 2., 3.])"
      ]
     },
     "execution_count": 75,
     "metadata": {},
     "output_type": "execute_result"
    }
   ],
   "source": [
    "arr[0]"
   ]
  },
  {
   "cell_type": "code",
   "execution_count": 76,
   "metadata": {
    "colab": {},
    "colab_type": "code",
    "id": "araxSoDBkx2z",
    "nbpresent": {
     "id": "c8e83ce4-b50f-4f39-8475-ee95e25b4e4e"
    },
    "outputId": "208d67ae-55e8-451e-81e3-c9427969829f",
    "slideshow": {
     "slide_type": "skip"
    }
   },
   "outputs": [
    {
     "data": {
      "text/plain": [
       "array([[0., 0., 0., 0.],\n",
       "       [4., 4., 4., 4.],\n",
       "       [8., 8., 8., 8.]])"
      ]
     },
     "execution_count": 76,
     "metadata": {},
     "output_type": "execute_result"
    }
   ],
   "source": [
    "arr - arr[0]"
   ]
  },
  {
   "cell_type": "markdown",
   "metadata": {
    "colab_type": "text",
    "id": "IR1K3Z4Jkx22",
    "nbpresent": {
     "id": "e76d71b3-e7eb-49d9-b352-618558160a17"
    },
    "slideshow": {
     "slide_type": "skip"
    }
   },
   "source": [
    "This is referred to as *broadcasting* but we won't go into detail her. \n",
    "\n",
    "Operations between a **`DataFrame`** and a **`Series`** are similar:"
   ]
  },
  {
   "cell_type": "code",
   "execution_count": 77,
   "metadata": {
    "colab": {},
    "colab_type": "code",
    "id": "GWr9RoCjkx23",
    "nbpresent": {
     "id": "66223da1-7515-4c83-ae57-8603b85b8f94"
    },
    "slideshow": {
     "slide_type": "skip"
    }
   },
   "outputs": [],
   "source": [
    "frame = pd.DataFrame(np.arange(12.).reshape((4, 3)), columns=list('bde'), index=['Utah', 'Ohio', 'Texas', 'Oregon'])\n",
    "series = frame.iloc[0]"
   ]
  },
  {
   "cell_type": "code",
   "execution_count": 78,
   "metadata": {
    "colab": {},
    "colab_type": "code",
    "id": "3UsdSE_bkx25",
    "nbpresent": {
     "id": "ced851ee-29a5-416c-ba74-9331aa4580af"
    },
    "outputId": "3cf68268-d22a-4bdf-86f8-ed5b82b44203",
    "slideshow": {
     "slide_type": "skip"
    }
   },
   "outputs": [
    {
     "data": {
      "text/html": [
       "<div>\n",
       "<style scoped>\n",
       "    .dataframe tbody tr th:only-of-type {\n",
       "        vertical-align: middle;\n",
       "    }\n",
       "\n",
       "    .dataframe tbody tr th {\n",
       "        vertical-align: top;\n",
       "    }\n",
       "\n",
       "    .dataframe thead th {\n",
       "        text-align: right;\n",
       "    }\n",
       "</style>\n",
       "<table border=\"1\" class=\"dataframe\">\n",
       "  <thead>\n",
       "    <tr style=\"text-align: right;\">\n",
       "      <th></th>\n",
       "      <th>b</th>\n",
       "      <th>d</th>\n",
       "      <th>e</th>\n",
       "    </tr>\n",
       "  </thead>\n",
       "  <tbody>\n",
       "    <tr>\n",
       "      <th>Utah</th>\n",
       "      <td>0.0</td>\n",
       "      <td>1.0</td>\n",
       "      <td>2.0</td>\n",
       "    </tr>\n",
       "    <tr>\n",
       "      <th>Ohio</th>\n",
       "      <td>3.0</td>\n",
       "      <td>4.0</td>\n",
       "      <td>5.0</td>\n",
       "    </tr>\n",
       "    <tr>\n",
       "      <th>Texas</th>\n",
       "      <td>6.0</td>\n",
       "      <td>7.0</td>\n",
       "      <td>8.0</td>\n",
       "    </tr>\n",
       "    <tr>\n",
       "      <th>Oregon</th>\n",
       "      <td>9.0</td>\n",
       "      <td>10.0</td>\n",
       "      <td>11.0</td>\n",
       "    </tr>\n",
       "  </tbody>\n",
       "</table>\n",
       "</div>"
      ],
      "text/plain": [
       "          b     d     e\n",
       "Utah    0.0   1.0   2.0\n",
       "Ohio    3.0   4.0   5.0\n",
       "Texas   6.0   7.0   8.0\n",
       "Oregon  9.0  10.0  11.0"
      ]
     },
     "execution_count": 78,
     "metadata": {},
     "output_type": "execute_result"
    },
    {
     "data": {
      "text/plain": [
       "b    0.0\n",
       "d    1.0\n",
       "e    2.0\n",
       "Name: Utah, dtype: float64"
      ]
     },
     "execution_count": 78,
     "metadata": {},
     "output_type": "execute_result"
    }
   ],
   "source": [
    "frame\n",
    "series"
   ]
  },
  {
   "cell_type": "markdown",
   "metadata": {
    "colab_type": "text",
    "id": "xlosYFaikx27",
    "nbpresent": {
     "id": "32cef201-4a10-4400-b232-e25c7c8c2487"
    },
    "slideshow": {
     "slide_type": "skip"
    }
   },
   "source": [
    "By default, arithmetic between **`DataFrame`** and **`Series`** matches the index of the **`Series`** on the **`DataFrame`** columns, broadcasting down the rows:"
   ]
  },
  {
   "cell_type": "code",
   "execution_count": 79,
   "metadata": {
    "colab": {},
    "colab_type": "code",
    "id": "_LDjxt0Bkx27",
    "nbpresent": {
     "id": "ec0e6ce9-7d48-4d2d-9ee8-aed835857f44"
    },
    "outputId": "0b8c47d6-3574-4fcd-e7bf-e0a6219e2b8c",
    "slideshow": {
     "slide_type": "skip"
    }
   },
   "outputs": [
    {
     "data": {
      "text/html": [
       "<div>\n",
       "<style scoped>\n",
       "    .dataframe tbody tr th:only-of-type {\n",
       "        vertical-align: middle;\n",
       "    }\n",
       "\n",
       "    .dataframe tbody tr th {\n",
       "        vertical-align: top;\n",
       "    }\n",
       "\n",
       "    .dataframe thead th {\n",
       "        text-align: right;\n",
       "    }\n",
       "</style>\n",
       "<table border=\"1\" class=\"dataframe\">\n",
       "  <thead>\n",
       "    <tr style=\"text-align: right;\">\n",
       "      <th></th>\n",
       "      <th>b</th>\n",
       "      <th>d</th>\n",
       "      <th>e</th>\n",
       "    </tr>\n",
       "  </thead>\n",
       "  <tbody>\n",
       "    <tr>\n",
       "      <th>Utah</th>\n",
       "      <td>0.0</td>\n",
       "      <td>0.0</td>\n",
       "      <td>0.0</td>\n",
       "    </tr>\n",
       "    <tr>\n",
       "      <th>Ohio</th>\n",
       "      <td>3.0</td>\n",
       "      <td>3.0</td>\n",
       "      <td>3.0</td>\n",
       "    </tr>\n",
       "    <tr>\n",
       "      <th>Texas</th>\n",
       "      <td>6.0</td>\n",
       "      <td>6.0</td>\n",
       "      <td>6.0</td>\n",
       "    </tr>\n",
       "    <tr>\n",
       "      <th>Oregon</th>\n",
       "      <td>9.0</td>\n",
       "      <td>9.0</td>\n",
       "      <td>9.0</td>\n",
       "    </tr>\n",
       "  </tbody>\n",
       "</table>\n",
       "</div>"
      ],
      "text/plain": [
       "          b    d    e\n",
       "Utah    0.0  0.0  0.0\n",
       "Ohio    3.0  3.0  3.0\n",
       "Texas   6.0  6.0  6.0\n",
       "Oregon  9.0  9.0  9.0"
      ]
     },
     "execution_count": 79,
     "metadata": {},
     "output_type": "execute_result"
    }
   ],
   "source": [
    "frame - series"
   ]
  },
  {
   "cell_type": "markdown",
   "metadata": {
    "colab_type": "text",
    "id": "5H54uIz1kx29",
    "nbpresent": {
     "id": "2dd29be0-b5c9-43c8-83e8-6ca3cc01a6db"
    },
    "slideshow": {
     "slide_type": "skip"
    }
   },
   "source": [
    "If an index value is not found in either the **`DataFrame`** columns or the **`Series`** index, the objects will be reindexed to form the union:"
   ]
  },
  {
   "cell_type": "code",
   "execution_count": 80,
   "metadata": {
    "colab": {},
    "colab_type": "code",
    "id": "nlrPp3Owkx2-",
    "nbpresent": {
     "id": "797834d4-3086-4e04-8bd6-1952e4b04c7b"
    },
    "outputId": "ba7e338d-05dc-4915-f5a0-009a24fcf61f",
    "slideshow": {
     "slide_type": "skip"
    }
   },
   "outputs": [
    {
     "data": {
      "text/html": [
       "<div>\n",
       "<style scoped>\n",
       "    .dataframe tbody tr th:only-of-type {\n",
       "        vertical-align: middle;\n",
       "    }\n",
       "\n",
       "    .dataframe tbody tr th {\n",
       "        vertical-align: top;\n",
       "    }\n",
       "\n",
       "    .dataframe thead th {\n",
       "        text-align: right;\n",
       "    }\n",
       "</style>\n",
       "<table border=\"1\" class=\"dataframe\">\n",
       "  <thead>\n",
       "    <tr style=\"text-align: right;\">\n",
       "      <th></th>\n",
       "      <th>b</th>\n",
       "      <th>d</th>\n",
       "      <th>e</th>\n",
       "      <th>f</th>\n",
       "    </tr>\n",
       "  </thead>\n",
       "  <tbody>\n",
       "    <tr>\n",
       "      <th>Utah</th>\n",
       "      <td>0.0</td>\n",
       "      <td>NaN</td>\n",
       "      <td>3.0</td>\n",
       "      <td>NaN</td>\n",
       "    </tr>\n",
       "    <tr>\n",
       "      <th>Ohio</th>\n",
       "      <td>3.0</td>\n",
       "      <td>NaN</td>\n",
       "      <td>6.0</td>\n",
       "      <td>NaN</td>\n",
       "    </tr>\n",
       "    <tr>\n",
       "      <th>Texas</th>\n",
       "      <td>6.0</td>\n",
       "      <td>NaN</td>\n",
       "      <td>9.0</td>\n",
       "      <td>NaN</td>\n",
       "    </tr>\n",
       "    <tr>\n",
       "      <th>Oregon</th>\n",
       "      <td>9.0</td>\n",
       "      <td>NaN</td>\n",
       "      <td>12.0</td>\n",
       "      <td>NaN</td>\n",
       "    </tr>\n",
       "  </tbody>\n",
       "</table>\n",
       "</div>"
      ],
      "text/plain": [
       "          b   d     e   f\n",
       "Utah    0.0 NaN   3.0 NaN\n",
       "Ohio    3.0 NaN   6.0 NaN\n",
       "Texas   6.0 NaN   9.0 NaN\n",
       "Oregon  9.0 NaN  12.0 NaN"
      ]
     },
     "execution_count": 80,
     "metadata": {},
     "output_type": "execute_result"
    }
   ],
   "source": [
    "series2 = pd.Series(range(3), index=['b', 'e', 'f'])\n",
    "frame + series2"
   ]
  },
  {
   "cell_type": "markdown",
   "metadata": {
    "colab_type": "text",
    "id": "OjsDAsiZkx3B",
    "nbpresent": {
     "id": "0c2491ff-1064-46cf-b227-fc7b71c856ac"
    },
    "slideshow": {
     "slide_type": "skip"
    }
   },
   "source": [
    "If you want to instead broadcast over the columns, matching on the rows, you have to use one of the arithmetic methods. For example:"
   ]
  },
  {
   "cell_type": "code",
   "execution_count": 81,
   "metadata": {
    "colab": {},
    "colab_type": "code",
    "id": "XgNfwq-Xkx3B",
    "nbpresent": {
     "id": "662693cd-9df0-4f4c-abee-9e58bdc3ab78"
    },
    "outputId": "4cb59766-faed-4922-cd14-8aa13297f06b",
    "slideshow": {
     "slide_type": "skip"
    }
   },
   "outputs": [
    {
     "data": {
      "text/html": [
       "<div>\n",
       "<style scoped>\n",
       "    .dataframe tbody tr th:only-of-type {\n",
       "        vertical-align: middle;\n",
       "    }\n",
       "\n",
       "    .dataframe tbody tr th {\n",
       "        vertical-align: top;\n",
       "    }\n",
       "\n",
       "    .dataframe thead th {\n",
       "        text-align: right;\n",
       "    }\n",
       "</style>\n",
       "<table border=\"1\" class=\"dataframe\">\n",
       "  <thead>\n",
       "    <tr style=\"text-align: right;\">\n",
       "      <th></th>\n",
       "      <th>b</th>\n",
       "      <th>d</th>\n",
       "      <th>e</th>\n",
       "    </tr>\n",
       "  </thead>\n",
       "  <tbody>\n",
       "    <tr>\n",
       "      <th>Utah</th>\n",
       "      <td>0.0</td>\n",
       "      <td>1.0</td>\n",
       "      <td>2.0</td>\n",
       "    </tr>\n",
       "    <tr>\n",
       "      <th>Ohio</th>\n",
       "      <td>3.0</td>\n",
       "      <td>4.0</td>\n",
       "      <td>5.0</td>\n",
       "    </tr>\n",
       "    <tr>\n",
       "      <th>Texas</th>\n",
       "      <td>6.0</td>\n",
       "      <td>7.0</td>\n",
       "      <td>8.0</td>\n",
       "    </tr>\n",
       "    <tr>\n",
       "      <th>Oregon</th>\n",
       "      <td>9.0</td>\n",
       "      <td>10.0</td>\n",
       "      <td>11.0</td>\n",
       "    </tr>\n",
       "  </tbody>\n",
       "</table>\n",
       "</div>"
      ],
      "text/plain": [
       "          b     d     e\n",
       "Utah    0.0   1.0   2.0\n",
       "Ohio    3.0   4.0   5.0\n",
       "Texas   6.0   7.0   8.0\n",
       "Oregon  9.0  10.0  11.0"
      ]
     },
     "execution_count": 81,
     "metadata": {},
     "output_type": "execute_result"
    },
    {
     "data": {
      "text/plain": [
       "Utah       1.0\n",
       "Ohio       4.0\n",
       "Texas      7.0\n",
       "Oregon    10.0\n",
       "Name: d, dtype: float64"
      ]
     },
     "execution_count": 81,
     "metadata": {},
     "output_type": "execute_result"
    }
   ],
   "source": [
    "series3 = frame['d']\n",
    "frame\n",
    "series3"
   ]
  },
  {
   "cell_type": "markdown",
   "metadata": {
    "colab_type": "text",
    "id": "ZG4IvdIckx3C",
    "nbpresent": {
     "id": "7cf8ac73-41cd-4651-aed4-b855d0bd088b"
    },
    "slideshow": {
     "slide_type": "skip"
    }
   },
   "source": [
    "The axis number that you pass is the axis to match on. In this case we mean to match on the **`DataFrame`** row index and broadcast across.\n"
   ]
  },
  {
   "cell_type": "code",
   "execution_count": 82,
   "metadata": {
    "colab": {},
    "colab_type": "code",
    "id": "FvVLvvlRkx3D",
    "nbpresent": {
     "id": "96d847b8-74b2-4796-b464-9a6d069db41c"
    },
    "outputId": "5a2d54d1-8652-4a96-e083-98ceadfec991",
    "slideshow": {
     "slide_type": "skip"
    }
   },
   "outputs": [
    {
     "data": {
      "text/html": [
       "<div>\n",
       "<style scoped>\n",
       "    .dataframe tbody tr th:only-of-type {\n",
       "        vertical-align: middle;\n",
       "    }\n",
       "\n",
       "    .dataframe tbody tr th {\n",
       "        vertical-align: top;\n",
       "    }\n",
       "\n",
       "    .dataframe thead th {\n",
       "        text-align: right;\n",
       "    }\n",
       "</style>\n",
       "<table border=\"1\" class=\"dataframe\">\n",
       "  <thead>\n",
       "    <tr style=\"text-align: right;\">\n",
       "      <th></th>\n",
       "      <th>b</th>\n",
       "      <th>d</th>\n",
       "      <th>e</th>\n",
       "    </tr>\n",
       "  </thead>\n",
       "  <tbody>\n",
       "    <tr>\n",
       "      <th>Utah</th>\n",
       "      <td>-1.0</td>\n",
       "      <td>0.0</td>\n",
       "      <td>1.0</td>\n",
       "    </tr>\n",
       "    <tr>\n",
       "      <th>Ohio</th>\n",
       "      <td>-1.0</td>\n",
       "      <td>0.0</td>\n",
       "      <td>1.0</td>\n",
       "    </tr>\n",
       "    <tr>\n",
       "      <th>Texas</th>\n",
       "      <td>-1.0</td>\n",
       "      <td>0.0</td>\n",
       "      <td>1.0</td>\n",
       "    </tr>\n",
       "    <tr>\n",
       "      <th>Oregon</th>\n",
       "      <td>-1.0</td>\n",
       "      <td>0.0</td>\n",
       "      <td>1.0</td>\n",
       "    </tr>\n",
       "  </tbody>\n",
       "</table>\n",
       "</div>"
      ],
      "text/plain": [
       "          b    d    e\n",
       "Utah   -1.0  0.0  1.0\n",
       "Ohio   -1.0  0.0  1.0\n",
       "Texas  -1.0  0.0  1.0\n",
       "Oregon -1.0  0.0  1.0"
      ]
     },
     "execution_count": 82,
     "metadata": {},
     "output_type": "execute_result"
    }
   ],
   "source": [
    "frame.sub(series3, axis=0)"
   ]
  },
  {
   "cell_type": "markdown",
   "metadata": {
    "colab_type": "text",
    "id": "kKZ9FWaukx3G",
    "nbpresent": {
     "id": "77aa8652-79db-40ec-973b-64ad2ea901e6"
    },
    "slideshow": {
     "slide_type": "slide"
    }
   },
   "source": [
    "### 7.3.2 Function application and mapping\n",
    "\n",
    "**`NumPy`** ufuncs (element-wise array methods) work fine with **`pandas`** objects:"
   ]
  },
  {
   "cell_type": "code",
   "execution_count": 83,
   "metadata": {
    "colab": {},
    "colab_type": "code",
    "id": "5ePFubmRkx3G",
    "nbpresent": {
     "id": "0eae92a4-4540-47b9-aa87-1cf4a458d0bd"
    },
    "outputId": "e04ece41-7910-40eb-9c33-7437b055075a",
    "scrolled": true
   },
   "outputs": [
    {
     "data": {
      "text/html": [
       "<div>\n",
       "<style scoped>\n",
       "    .dataframe tbody tr th:only-of-type {\n",
       "        vertical-align: middle;\n",
       "    }\n",
       "\n",
       "    .dataframe tbody tr th {\n",
       "        vertical-align: top;\n",
       "    }\n",
       "\n",
       "    .dataframe thead th {\n",
       "        text-align: right;\n",
       "    }\n",
       "</style>\n",
       "<table border=\"1\" class=\"dataframe\">\n",
       "  <thead>\n",
       "    <tr style=\"text-align: right;\">\n",
       "      <th></th>\n",
       "      <th>b</th>\n",
       "      <th>d</th>\n",
       "      <th>e</th>\n",
       "    </tr>\n",
       "  </thead>\n",
       "  <tbody>\n",
       "    <tr>\n",
       "      <th>Utah</th>\n",
       "      <td>-0.196372</td>\n",
       "      <td>-1.736525</td>\n",
       "      <td>0.256273</td>\n",
       "    </tr>\n",
       "    <tr>\n",
       "      <th>Ohio</th>\n",
       "      <td>1.961072</td>\n",
       "      <td>0.626807</td>\n",
       "      <td>-0.136444</td>\n",
       "    </tr>\n",
       "    <tr>\n",
       "      <th>Texas</th>\n",
       "      <td>0.697866</td>\n",
       "      <td>1.070806</td>\n",
       "      <td>-0.793645</td>\n",
       "    </tr>\n",
       "    <tr>\n",
       "      <th>Oregon</th>\n",
       "      <td>0.153743</td>\n",
       "      <td>-1.570301</td>\n",
       "      <td>0.524193</td>\n",
       "    </tr>\n",
       "  </tbody>\n",
       "</table>\n",
       "</div>"
      ],
      "text/plain": [
       "               b         d         e\n",
       "Utah   -0.196372 -1.736525  0.256273\n",
       "Ohio    1.961072  0.626807 -0.136444\n",
       "Texas   0.697866  1.070806 -0.793645\n",
       "Oregon  0.153743 -1.570301  0.524193"
      ]
     },
     "execution_count": 83,
     "metadata": {},
     "output_type": "execute_result"
    },
    {
     "data": {
      "text/html": [
       "<div>\n",
       "<style scoped>\n",
       "    .dataframe tbody tr th:only-of-type {\n",
       "        vertical-align: middle;\n",
       "    }\n",
       "\n",
       "    .dataframe tbody tr th {\n",
       "        vertical-align: top;\n",
       "    }\n",
       "\n",
       "    .dataframe thead th {\n",
       "        text-align: right;\n",
       "    }\n",
       "</style>\n",
       "<table border=\"1\" class=\"dataframe\">\n",
       "  <thead>\n",
       "    <tr style=\"text-align: right;\">\n",
       "      <th></th>\n",
       "      <th>b</th>\n",
       "      <th>d</th>\n",
       "      <th>e</th>\n",
       "    </tr>\n",
       "  </thead>\n",
       "  <tbody>\n",
       "    <tr>\n",
       "      <th>Utah</th>\n",
       "      <td>0.196372</td>\n",
       "      <td>1.736525</td>\n",
       "      <td>0.256273</td>\n",
       "    </tr>\n",
       "    <tr>\n",
       "      <th>Ohio</th>\n",
       "      <td>1.961072</td>\n",
       "      <td>0.626807</td>\n",
       "      <td>0.136444</td>\n",
       "    </tr>\n",
       "    <tr>\n",
       "      <th>Texas</th>\n",
       "      <td>0.697866</td>\n",
       "      <td>1.070806</td>\n",
       "      <td>0.793645</td>\n",
       "    </tr>\n",
       "    <tr>\n",
       "      <th>Oregon</th>\n",
       "      <td>0.153743</td>\n",
       "      <td>1.570301</td>\n",
       "      <td>0.524193</td>\n",
       "    </tr>\n",
       "  </tbody>\n",
       "</table>\n",
       "</div>"
      ],
      "text/plain": [
       "               b         d         e\n",
       "Utah    0.196372  1.736525  0.256273\n",
       "Ohio    1.961072  0.626807  0.136444\n",
       "Texas   0.697866  1.070806  0.793645\n",
       "Oregon  0.153743  1.570301  0.524193"
      ]
     },
     "execution_count": 83,
     "metadata": {},
     "output_type": "execute_result"
    }
   ],
   "source": [
    "frame = pd.DataFrame(np.random.randn(4, 3), columns=list('bde'), index=['Utah', 'Ohio', 'Texas', 'Oregon'])\n",
    "frame\n",
    "np.abs(frame)"
   ]
  },
  {
   "cell_type": "markdown",
   "metadata": {
    "colab_type": "text",
    "id": "2pOnLV6tkx3J",
    "nbpresent": {
     "id": "d1b7289d-89d1-4dc3-acac-c6a8585d1f59"
    },
    "slideshow": {
     "slide_type": "slide"
    }
   },
   "source": [
    "Another frequent operation is applying a function on 1D arrays to each column or row. **`DataFrame`** apply method does exactly this:"
   ]
  },
  {
   "cell_type": "code",
   "execution_count": 84,
   "metadata": {
    "colab": {},
    "colab_type": "code",
    "id": "YsSv799vkx3J",
    "nbpresent": {
     "id": "4db76788-b779-4fa6-83b5-dc78e62f86ca"
    },
    "outputId": "88be5f6f-9b68-4642-de49-ff354a0e9f48"
   },
   "outputs": [
    {
     "data": {
      "text/plain": [
       "b    2.157444\n",
       "d    2.807331\n",
       "e    1.317838\n",
       "dtype: float64"
      ]
     },
     "execution_count": 84,
     "metadata": {},
     "output_type": "execute_result"
    },
    {
     "data": {
      "text/plain": [
       "Utah      1.992798\n",
       "Ohio      2.097517\n",
       "Texas     1.864451\n",
       "Oregon    2.094493\n",
       "dtype: float64"
      ]
     },
     "execution_count": 84,
     "metadata": {},
     "output_type": "execute_result"
    }
   ],
   "source": [
    "f = lambda x: x.max() - x.min()  #Don't worry about Lambda functions, we will return to this in following weeks\n",
    "frame.apply(f)\n",
    "frame.apply(f, axis=1)"
   ]
  },
  {
   "cell_type": "markdown",
   "metadata": {
    "colab_type": "text",
    "id": "vF7q0a4Qkx3L",
    "nbpresent": {
     "id": "cc59ee32-f892-4652-a1c3-b5a2fe5d799a"
    },
    "slideshow": {
     "slide_type": "slide"
    }
   },
   "source": [
    "\n",
    "<div class=\"alert alert-success\">\n",
    "\n",
    "TIP: **`Dataframe`** methods\n",
    "\n",
    "Many of the most common array statistics (like **`sum`** and **`mean`**) are **`DataFrame`** methods,\n",
    "so using the **`apply`** method is not necessary. Over time, and with practise, you will memorize those than you use most frequently.\n"
   ]
  },
  {
   "cell_type": "markdown",
   "metadata": {
    "colab_type": "text",
    "id": "BD8NW6kRkx3L",
    "nbpresent": {
     "id": "ed533046-0d0d-4333-8188-97ff925df999"
    },
    "slideshow": {
     "slide_type": "skip"
    }
   },
   "source": [
    "The function passed to apply need not return a scalar value, it can also return a **`Series`**\n",
    "with multiple values:"
   ]
  },
  {
   "cell_type": "code",
   "execution_count": 85,
   "metadata": {
    "colab": {},
    "colab_type": "code",
    "id": "_BVng8gskx3L",
    "nbpresent": {
     "id": "ce33de78-f4d2-4d9e-8285-3efcd2a5cb87"
    },
    "outputId": "084be432-4f8a-4dc1-c851-2eda010c00bc",
    "slideshow": {
     "slide_type": "skip"
    }
   },
   "outputs": [
    {
     "data": {
      "text/html": [
       "<div>\n",
       "<style scoped>\n",
       "    .dataframe tbody tr th:only-of-type {\n",
       "        vertical-align: middle;\n",
       "    }\n",
       "\n",
       "    .dataframe tbody tr th {\n",
       "        vertical-align: top;\n",
       "    }\n",
       "\n",
       "    .dataframe thead th {\n",
       "        text-align: right;\n",
       "    }\n",
       "</style>\n",
       "<table border=\"1\" class=\"dataframe\">\n",
       "  <thead>\n",
       "    <tr style=\"text-align: right;\">\n",
       "      <th></th>\n",
       "      <th>b</th>\n",
       "      <th>d</th>\n",
       "      <th>e</th>\n",
       "    </tr>\n",
       "  </thead>\n",
       "  <tbody>\n",
       "    <tr>\n",
       "      <th>min</th>\n",
       "      <td>-0.196372</td>\n",
       "      <td>-1.736525</td>\n",
       "      <td>-0.793645</td>\n",
       "    </tr>\n",
       "    <tr>\n",
       "      <th>max</th>\n",
       "      <td>1.961072</td>\n",
       "      <td>1.070806</td>\n",
       "      <td>0.524193</td>\n",
       "    </tr>\n",
       "  </tbody>\n",
       "</table>\n",
       "</div>"
      ],
      "text/plain": [
       "            b         d         e\n",
       "min -0.196372 -1.736525 -0.793645\n",
       "max  1.961072  1.070806  0.524193"
      ]
     },
     "execution_count": 85,
     "metadata": {},
     "output_type": "execute_result"
    }
   ],
   "source": [
    "def f(x):\n",
    "    return pd.Series([x.min(), x.max()], index=['min', 'max'])\n",
    "\n",
    "frame.apply(f)"
   ]
  },
  {
   "cell_type": "markdown",
   "metadata": {
    "colab_type": "text",
    "id": "wR8TiDNVkx3N",
    "nbpresent": {
     "id": "6a1dd30a-65f8-4ba3-a7fa-2502fd7ee0f9"
    },
    "slideshow": {
     "slide_type": "skip"
    }
   },
   "source": [
    "Element-wise Python functions can be used, too. Suppose you wanted to compute a formatted string from each floating point value in **`frame`**. You can do this with **`applymap`**:"
   ]
  },
  {
   "cell_type": "code",
   "execution_count": 86,
   "metadata": {
    "colab": {},
    "colab_type": "code",
    "id": "uf4c6x0wkx3N",
    "nbpresent": {
     "id": "c87d4217-290a-4734-bc24-9eff5b490db1"
    },
    "outputId": "71d4a9cb-17c1-489c-d908-1be28d32b8ae",
    "slideshow": {
     "slide_type": "skip"
    }
   },
   "outputs": [
    {
     "data": {
      "text/html": [
       "<div>\n",
       "<style scoped>\n",
       "    .dataframe tbody tr th:only-of-type {\n",
       "        vertical-align: middle;\n",
       "    }\n",
       "\n",
       "    .dataframe tbody tr th {\n",
       "        vertical-align: top;\n",
       "    }\n",
       "\n",
       "    .dataframe thead th {\n",
       "        text-align: right;\n",
       "    }\n",
       "</style>\n",
       "<table border=\"1\" class=\"dataframe\">\n",
       "  <thead>\n",
       "    <tr style=\"text-align: right;\">\n",
       "      <th></th>\n",
       "      <th>b</th>\n",
       "      <th>d</th>\n",
       "      <th>e</th>\n",
       "    </tr>\n",
       "  </thead>\n",
       "  <tbody>\n",
       "    <tr>\n",
       "      <th>Utah</th>\n",
       "      <td>-0.20</td>\n",
       "      <td>-1.74</td>\n",
       "      <td>0.26</td>\n",
       "    </tr>\n",
       "    <tr>\n",
       "      <th>Ohio</th>\n",
       "      <td>1.96</td>\n",
       "      <td>0.63</td>\n",
       "      <td>-0.14</td>\n",
       "    </tr>\n",
       "    <tr>\n",
       "      <th>Texas</th>\n",
       "      <td>0.70</td>\n",
       "      <td>1.07</td>\n",
       "      <td>-0.79</td>\n",
       "    </tr>\n",
       "    <tr>\n",
       "      <th>Oregon</th>\n",
       "      <td>0.15</td>\n",
       "      <td>-1.57</td>\n",
       "      <td>0.52</td>\n",
       "    </tr>\n",
       "  </tbody>\n",
       "</table>\n",
       "</div>"
      ],
      "text/plain": [
       "            b      d      e\n",
       "Utah    -0.20  -1.74   0.26\n",
       "Ohio     1.96   0.63  -0.14\n",
       "Texas    0.70   1.07  -0.79\n",
       "Oregon   0.15  -1.57   0.52"
      ]
     },
     "execution_count": 86,
     "metadata": {},
     "output_type": "execute_result"
    }
   ],
   "source": [
    "format = lambda x: '%.2f' % x\n",
    "frame.applymap(format)"
   ]
  },
  {
   "cell_type": "markdown",
   "metadata": {
    "colab_type": "text",
    "id": "xiX5laeAkx3P",
    "nbpresent": {
     "id": "2b974506-c7fa-427a-bbb0-94ff49f80592"
    },
    "slideshow": {
     "slide_type": "skip"
    }
   },
   "source": [
    "The reason for the name **`applymap`** is that **`Series`** has a map method for applying an element-wise function:"
   ]
  },
  {
   "cell_type": "code",
   "execution_count": 87,
   "metadata": {
    "colab": {},
    "colab_type": "code",
    "id": "ravvqD93kx3P",
    "nbpresent": {
     "id": "eb6bc3b9-4c3e-41b1-ab3f-694263fd4240"
    },
    "outputId": "64499fc5-bfdf-4f3f-e1ef-10d3405a7337"
   },
   "outputs": [
    {
     "data": {
      "text/plain": [
       "Utah       0.26\n",
       "Ohio      -0.14\n",
       "Texas     -0.79\n",
       "Oregon     0.52\n",
       "Name: e, dtype: object"
      ]
     },
     "execution_count": 87,
     "metadata": {},
     "output_type": "execute_result"
    }
   ],
   "source": [
    "frame['e'].map(format)"
   ]
  },
  {
   "cell_type": "markdown",
   "metadata": {
    "colab_type": "text",
    "id": "SJAw-w2rkx3R",
    "nbpresent": {
     "id": "0b9b94ed-e90f-4e8d-983f-523081b64f8f"
    },
    "slideshow": {
     "slide_type": "slide"
    }
   },
   "source": [
    "### 7.3.3 Sorting and ranking\n",
    "\n",
    "Sorting a data set by some criterion is another important built-in operation. To sort lexicographically by row or column index, use the **`sort_index`** method, which returns a new, sorted object:"
   ]
  },
  {
   "cell_type": "code",
   "execution_count": 88,
   "metadata": {
    "colab": {},
    "colab_type": "code",
    "id": "U82q5Kuokx3R",
    "nbpresent": {
     "id": "ef12d8dc-909a-4564-97d9-1f762643a8b6"
    },
    "outputId": "343a02da-33a2-4fdb-f203-0d361b3dac64"
   },
   "outputs": [
    {
     "data": {
      "text/plain": [
       "a    1\n",
       "b    2\n",
       "c    3\n",
       "d    0\n",
       "dtype: int64"
      ]
     },
     "execution_count": 88,
     "metadata": {},
     "output_type": "execute_result"
    }
   ],
   "source": [
    "obj = pd.Series(range(4), index=['d', 'a', 'b', 'c'])\n",
    "obj.sort_index()"
   ]
  },
  {
   "cell_type": "markdown",
   "metadata": {
    "colab_type": "text",
    "id": "88kTMcErkx3S",
    "nbpresent": {
     "id": "56ac32d2-e7a0-4c2d-81fa-122bb243e396"
    },
    "slideshow": {
     "slide_type": "slide"
    }
   },
   "source": [
    "With a **`DataFrame`**, you can sort by index on either axis:"
   ]
  },
  {
   "cell_type": "code",
   "execution_count": 89,
   "metadata": {
    "colab": {},
    "colab_type": "code",
    "id": "kVT5NcF8kx3V",
    "nbpresent": {
     "id": "0197eb42-8313-4f88-a350-e3981424893e"
    },
    "outputId": "23d27465-eeb2-4220-84f8-2f4305b19fb1"
   },
   "outputs": [
    {
     "data": {
      "text/html": [
       "<div>\n",
       "<style scoped>\n",
       "    .dataframe tbody tr th:only-of-type {\n",
       "        vertical-align: middle;\n",
       "    }\n",
       "\n",
       "    .dataframe tbody tr th {\n",
       "        vertical-align: top;\n",
       "    }\n",
       "\n",
       "    .dataframe thead th {\n",
       "        text-align: right;\n",
       "    }\n",
       "</style>\n",
       "<table border=\"1\" class=\"dataframe\">\n",
       "  <thead>\n",
       "    <tr style=\"text-align: right;\">\n",
       "      <th></th>\n",
       "      <th>d</th>\n",
       "      <th>a</th>\n",
       "      <th>b</th>\n",
       "      <th>c</th>\n",
       "    </tr>\n",
       "  </thead>\n",
       "  <tbody>\n",
       "    <tr>\n",
       "      <th>one</th>\n",
       "      <td>4</td>\n",
       "      <td>5</td>\n",
       "      <td>6</td>\n",
       "      <td>7</td>\n",
       "    </tr>\n",
       "    <tr>\n",
       "      <th>three</th>\n",
       "      <td>0</td>\n",
       "      <td>1</td>\n",
       "      <td>2</td>\n",
       "      <td>3</td>\n",
       "    </tr>\n",
       "  </tbody>\n",
       "</table>\n",
       "</div>"
      ],
      "text/plain": [
       "       d  a  b  c\n",
       "one    4  5  6  7\n",
       "three  0  1  2  3"
      ]
     },
     "execution_count": 89,
     "metadata": {},
     "output_type": "execute_result"
    },
    {
     "data": {
      "text/html": [
       "<div>\n",
       "<style scoped>\n",
       "    .dataframe tbody tr th:only-of-type {\n",
       "        vertical-align: middle;\n",
       "    }\n",
       "\n",
       "    .dataframe tbody tr th {\n",
       "        vertical-align: top;\n",
       "    }\n",
       "\n",
       "    .dataframe thead th {\n",
       "        text-align: right;\n",
       "    }\n",
       "</style>\n",
       "<table border=\"1\" class=\"dataframe\">\n",
       "  <thead>\n",
       "    <tr style=\"text-align: right;\">\n",
       "      <th></th>\n",
       "      <th>a</th>\n",
       "      <th>b</th>\n",
       "      <th>c</th>\n",
       "      <th>d</th>\n",
       "    </tr>\n",
       "  </thead>\n",
       "  <tbody>\n",
       "    <tr>\n",
       "      <th>three</th>\n",
       "      <td>1</td>\n",
       "      <td>2</td>\n",
       "      <td>3</td>\n",
       "      <td>0</td>\n",
       "    </tr>\n",
       "    <tr>\n",
       "      <th>one</th>\n",
       "      <td>5</td>\n",
       "      <td>6</td>\n",
       "      <td>7</td>\n",
       "      <td>4</td>\n",
       "    </tr>\n",
       "  </tbody>\n",
       "</table>\n",
       "</div>"
      ],
      "text/plain": [
       "       a  b  c  d\n",
       "three  1  2  3  0\n",
       "one    5  6  7  4"
      ]
     },
     "execution_count": 89,
     "metadata": {},
     "output_type": "execute_result"
    }
   ],
   "source": [
    "frame = pd.DataFrame(np.arange(8).reshape((2, 4)), index=['three', 'one'], columns=['d', 'a', 'b', 'c'])\n",
    "frame.sort_index()\n",
    "frame.sort_index(axis=1)"
   ]
  },
  {
   "cell_type": "markdown",
   "metadata": {
    "colab_type": "text",
    "id": "LpkL4GHFkx3W",
    "nbpresent": {
     "id": "b9f3737b-ac30-4a98-97c3-581f20a62c28"
    },
    "slideshow": {
     "slide_type": "slide"
    }
   },
   "source": [
    "The data is *sorted* in ascending order by default, but can be sorted in descending order, too:"
   ]
  },
  {
   "cell_type": "code",
   "execution_count": 90,
   "metadata": {
    "colab": {},
    "colab_type": "code",
    "id": "QmOH_Lypkx3c",
    "nbpresent": {
     "id": "300802b0-5041-4eaa-b54e-028ecc40c041"
    },
    "outputId": "b45bda3e-b8a6-4663-dadb-7ef7b78e7629"
   },
   "outputs": [
    {
     "data": {
      "text/html": [
       "<div>\n",
       "<style scoped>\n",
       "    .dataframe tbody tr th:only-of-type {\n",
       "        vertical-align: middle;\n",
       "    }\n",
       "\n",
       "    .dataframe tbody tr th {\n",
       "        vertical-align: top;\n",
       "    }\n",
       "\n",
       "    .dataframe thead th {\n",
       "        text-align: right;\n",
       "    }\n",
       "</style>\n",
       "<table border=\"1\" class=\"dataframe\">\n",
       "  <thead>\n",
       "    <tr style=\"text-align: right;\">\n",
       "      <th></th>\n",
       "      <th>d</th>\n",
       "      <th>c</th>\n",
       "      <th>b</th>\n",
       "      <th>a</th>\n",
       "    </tr>\n",
       "  </thead>\n",
       "  <tbody>\n",
       "    <tr>\n",
       "      <th>three</th>\n",
       "      <td>0</td>\n",
       "      <td>3</td>\n",
       "      <td>2</td>\n",
       "      <td>1</td>\n",
       "    </tr>\n",
       "    <tr>\n",
       "      <th>one</th>\n",
       "      <td>4</td>\n",
       "      <td>7</td>\n",
       "      <td>6</td>\n",
       "      <td>5</td>\n",
       "    </tr>\n",
       "  </tbody>\n",
       "</table>\n",
       "</div>"
      ],
      "text/plain": [
       "       d  c  b  a\n",
       "three  0  3  2  1\n",
       "one    4  7  6  5"
      ]
     },
     "execution_count": 90,
     "metadata": {},
     "output_type": "execute_result"
    }
   ],
   "source": [
    "frame.sort_index(axis=1, ascending=False)"
   ]
  },
  {
   "cell_type": "markdown",
   "metadata": {
    "colab_type": "text",
    "id": "orFauzwAkx3e",
    "nbpresent": {
     "id": "40006f23-35bb-4178-b29b-f48577a9fede"
    },
    "slideshow": {
     "slide_type": "slide"
    }
   },
   "source": [
    "To sort a **`Series`** by its values, use its **`sort_values`** method:"
   ]
  },
  {
   "cell_type": "code",
   "execution_count": 91,
   "metadata": {
    "colab": {},
    "colab_type": "code",
    "id": "FSg1GcDJkx3f",
    "nbpresent": {
     "id": "117c9d1d-0f81-426c-8b7d-7bc0876ac5b8"
    },
    "outputId": "acd5a31c-6aac-4a91-c66b-62e54696617a"
   },
   "outputs": [
    {
     "data": {
      "text/plain": [
       "2   -3\n",
       "3    2\n",
       "0    4\n",
       "1    7\n",
       "dtype: int64"
      ]
     },
     "execution_count": 91,
     "metadata": {},
     "output_type": "execute_result"
    }
   ],
   "source": [
    "obj = pd.Series([4, 7, -3, 2])\n",
    "obj.sort_values()"
   ]
  },
  {
   "cell_type": "markdown",
   "metadata": {
    "colab_type": "text",
    "id": "byOrnnlRkx3i",
    "nbpresent": {
     "id": "2c2fcb86-4ba8-4b42-97ac-cce3be630402"
    },
    "slideshow": {
     "slide_type": "slide"
    }
   },
   "source": [
    "\n",
    "Any missing values are sorted to the end of the **`Series`** by default:"
   ]
  },
  {
   "cell_type": "code",
   "execution_count": 92,
   "metadata": {
    "colab": {},
    "colab_type": "code",
    "id": "NAKxZVDqkx3j",
    "nbpresent": {
     "id": "ba9b20a4-b437-4b34-9753-8aa1305a6757"
    },
    "outputId": "4f53631d-78e8-4999-e76a-510b370b32f9"
   },
   "outputs": [
    {
     "data": {
      "text/plain": [
       "4   -3.0\n",
       "5    2.0\n",
       "0    4.0\n",
       "2    7.0\n",
       "1    NaN\n",
       "3    NaN\n",
       "dtype: float64"
      ]
     },
     "execution_count": 92,
     "metadata": {},
     "output_type": "execute_result"
    }
   ],
   "source": [
    "obj = pd.Series([4,np.nan,7, np.nan, -3, 2])\n",
    "obj.sort_values()"
   ]
  },
  {
   "cell_type": "markdown",
   "metadata": {
    "colab_type": "text",
    "id": "wHPNCGdakx3m",
    "nbpresent": {
     "id": "b7711948-1c18-429b-8aa1-21e7f96a59ec"
    },
    "slideshow": {
     "slide_type": "slide"
    }
   },
   "source": [
    "On **`DataFrame`**, you may want to sort by the values in one or more columns. To do so, pass one or more column names to the by option:"
   ]
  },
  {
   "cell_type": "code",
   "execution_count": 93,
   "metadata": {
    "colab": {},
    "colab_type": "code",
    "id": "WOcZHtF1kx3n",
    "nbpresent": {
     "id": "c21dfb1b-1573-4e71-9114-e267c41daece"
    },
    "outputId": "6565de6e-c9fa-4e94-d9e1-a18ebb7f3f48"
   },
   "outputs": [
    {
     "data": {
      "text/html": [
       "<div>\n",
       "<style scoped>\n",
       "    .dataframe tbody tr th:only-of-type {\n",
       "        vertical-align: middle;\n",
       "    }\n",
       "\n",
       "    .dataframe tbody tr th {\n",
       "        vertical-align: top;\n",
       "    }\n",
       "\n",
       "    .dataframe thead th {\n",
       "        text-align: right;\n",
       "    }\n",
       "</style>\n",
       "<table border=\"1\" class=\"dataframe\">\n",
       "  <thead>\n",
       "    <tr style=\"text-align: right;\">\n",
       "      <th></th>\n",
       "      <th>b</th>\n",
       "      <th>a</th>\n",
       "    </tr>\n",
       "  </thead>\n",
       "  <tbody>\n",
       "    <tr>\n",
       "      <th>0</th>\n",
       "      <td>4</td>\n",
       "      <td>0</td>\n",
       "    </tr>\n",
       "    <tr>\n",
       "      <th>1</th>\n",
       "      <td>7</td>\n",
       "      <td>1</td>\n",
       "    </tr>\n",
       "    <tr>\n",
       "      <th>2</th>\n",
       "      <td>-3</td>\n",
       "      <td>0</td>\n",
       "    </tr>\n",
       "    <tr>\n",
       "      <th>3</th>\n",
       "      <td>2</td>\n",
       "      <td>1</td>\n",
       "    </tr>\n",
       "  </tbody>\n",
       "</table>\n",
       "</div>"
      ],
      "text/plain": [
       "   b  a\n",
       "0  4  0\n",
       "1  7  1\n",
       "2 -3  0\n",
       "3  2  1"
      ]
     },
     "execution_count": 93,
     "metadata": {},
     "output_type": "execute_result"
    },
    {
     "data": {
      "text/html": [
       "<div>\n",
       "<style scoped>\n",
       "    .dataframe tbody tr th:only-of-type {\n",
       "        vertical-align: middle;\n",
       "    }\n",
       "\n",
       "    .dataframe tbody tr th {\n",
       "        vertical-align: top;\n",
       "    }\n",
       "\n",
       "    .dataframe thead th {\n",
       "        text-align: right;\n",
       "    }\n",
       "</style>\n",
       "<table border=\"1\" class=\"dataframe\">\n",
       "  <thead>\n",
       "    <tr style=\"text-align: right;\">\n",
       "      <th></th>\n",
       "      <th>b</th>\n",
       "      <th>a</th>\n",
       "    </tr>\n",
       "  </thead>\n",
       "  <tbody>\n",
       "    <tr>\n",
       "      <th>2</th>\n",
       "      <td>-3</td>\n",
       "      <td>0</td>\n",
       "    </tr>\n",
       "    <tr>\n",
       "      <th>3</th>\n",
       "      <td>2</td>\n",
       "      <td>1</td>\n",
       "    </tr>\n",
       "    <tr>\n",
       "      <th>0</th>\n",
       "      <td>4</td>\n",
       "      <td>0</td>\n",
       "    </tr>\n",
       "    <tr>\n",
       "      <th>1</th>\n",
       "      <td>7</td>\n",
       "      <td>1</td>\n",
       "    </tr>\n",
       "  </tbody>\n",
       "</table>\n",
       "</div>"
      ],
      "text/plain": [
       "   b  a\n",
       "2 -3  0\n",
       "3  2  1\n",
       "0  4  0\n",
       "1  7  1"
      ]
     },
     "execution_count": 93,
     "metadata": {},
     "output_type": "execute_result"
    }
   ],
   "source": [
    "frame = pd.DataFrame({'b': [4, 7, -3, 2], 'a': [0, 1, 0, 1]})\n",
    "frame\n",
    "frame.sort_values(by='b')"
   ]
  },
  {
   "cell_type": "markdown",
   "metadata": {
    "colab_type": "text",
    "id": "YEeHDefWkx3p",
    "nbpresent": {
     "id": "2c94ed98-23e3-410b-a698-1ef4562711c1"
    },
    "slideshow": {
     "slide_type": "slide"
    }
   },
   "source": [
    "To sort by multiple columns, pass a list of names:"
   ]
  },
  {
   "cell_type": "code",
   "execution_count": 94,
   "metadata": {
    "colab": {},
    "colab_type": "code",
    "id": "hobr76NOkx3p",
    "nbpresent": {
     "id": "73957ef6-37db-480b-b27f-e421a2ff9964"
    },
    "outputId": "ebc454b3-fea5-4c6a-9d3f-575646c75947"
   },
   "outputs": [
    {
     "data": {
      "text/html": [
       "<div>\n",
       "<style scoped>\n",
       "    .dataframe tbody tr th:only-of-type {\n",
       "        vertical-align: middle;\n",
       "    }\n",
       "\n",
       "    .dataframe tbody tr th {\n",
       "        vertical-align: top;\n",
       "    }\n",
       "\n",
       "    .dataframe thead th {\n",
       "        text-align: right;\n",
       "    }\n",
       "</style>\n",
       "<table border=\"1\" class=\"dataframe\">\n",
       "  <thead>\n",
       "    <tr style=\"text-align: right;\">\n",
       "      <th></th>\n",
       "      <th>b</th>\n",
       "      <th>a</th>\n",
       "    </tr>\n",
       "  </thead>\n",
       "  <tbody>\n",
       "    <tr>\n",
       "      <th>2</th>\n",
       "      <td>-3</td>\n",
       "      <td>0</td>\n",
       "    </tr>\n",
       "    <tr>\n",
       "      <th>0</th>\n",
       "      <td>4</td>\n",
       "      <td>0</td>\n",
       "    </tr>\n",
       "    <tr>\n",
       "      <th>3</th>\n",
       "      <td>2</td>\n",
       "      <td>1</td>\n",
       "    </tr>\n",
       "    <tr>\n",
       "      <th>1</th>\n",
       "      <td>7</td>\n",
       "      <td>1</td>\n",
       "    </tr>\n",
       "  </tbody>\n",
       "</table>\n",
       "</div>"
      ],
      "text/plain": [
       "   b  a\n",
       "2 -3  0\n",
       "0  4  0\n",
       "3  2  1\n",
       "1  7  1"
      ]
     },
     "execution_count": 94,
     "metadata": {},
     "output_type": "execute_result"
    }
   ],
   "source": [
    "frame.sort_values(by=['a', 'b'])"
   ]
  },
  {
   "cell_type": "markdown",
   "metadata": {
    "colab_type": "text",
    "id": "kq31GDtykx3p",
    "nbpresent": {
     "id": "d5ada9bb-29f4-48d2-84b1-386ad9a27261"
    },
    "slideshow": {
     "slide_type": "slide"
    }
   },
   "source": [
    "*Ranking* is closely related to *sorting*, assigning ranks from one through the number of valid data points in an array. It is similar to the indirect sort indices produced by **`numpy.argsort`**, except that ties are broken according to a rule. "
   ]
  },
  {
   "cell_type": "markdown",
   "metadata": {
    "colab_type": "text",
    "id": "1Arc7n9Vkx3q",
    "nbpresent": {
     "id": "ed21cb4c-45dd-49b2-933f-54aae7b50278"
    },
    "slideshow": {
     "slide_type": "slide"
    }
   },
   "source": [
    "The **`rank`** methods for **`Series`** and **`DataFrame`** are the place to look; by default **`rank`** breaks ties by assigning each group the mean rank:"
   ]
  },
  {
   "cell_type": "code",
   "execution_count": 95,
   "metadata": {
    "colab": {},
    "colab_type": "code",
    "id": "_4vj1I0Ckx3r",
    "nbpresent": {
     "id": "7aec2211-d58d-42f7-a6ee-6147073c4f3f"
    },
    "outputId": "0543c233-c405-4e08-ea14-e076be9ed117"
   },
   "outputs": [
    {
     "data": {
      "text/plain": [
       "0    6.5\n",
       "1    1.0\n",
       "2    6.5\n",
       "3    4.5\n",
       "4    3.0\n",
       "5    2.0\n",
       "6    4.5\n",
       "dtype: float64"
      ]
     },
     "execution_count": 95,
     "metadata": {},
     "output_type": "execute_result"
    }
   ],
   "source": [
    "obj = pd.Series([7, -5, 7, 4, 2, 0, 4])\n",
    "obj.rank()"
   ]
  },
  {
   "cell_type": "markdown",
   "metadata": {
    "colab_type": "text",
    "id": "lRdjE0M0kx3s",
    "nbpresent": {
     "id": "aa31365d-7dbc-4cd8-83ab-859d5ae3bd92"
    },
    "slideshow": {
     "slide_type": "slide"
    }
   },
   "source": [
    "Ranks can also be assigned according to the order they’re observed in the data:"
   ]
  },
  {
   "cell_type": "code",
   "execution_count": 96,
   "metadata": {
    "colab": {},
    "colab_type": "code",
    "id": "ZmLLlTUjkx3s",
    "nbpresent": {
     "id": "35037a24-5a1a-47fd-a095-47bb98b79713"
    },
    "outputId": "5f8d1b88-3546-4677-a6bd-6fe55f0903e3"
   },
   "outputs": [
    {
     "data": {
      "text/plain": [
       "0    6.0\n",
       "1    1.0\n",
       "2    7.0\n",
       "3    4.0\n",
       "4    3.0\n",
       "5    2.0\n",
       "6    5.0\n",
       "dtype: float64"
      ]
     },
     "execution_count": 96,
     "metadata": {},
     "output_type": "execute_result"
    }
   ],
   "source": [
    "obj.rank(method='first')"
   ]
  },
  {
   "cell_type": "markdown",
   "metadata": {
    "colab_type": "text",
    "id": "x-iEMzIlkx3v",
    "nbpresent": {
     "id": "d20b0433-fe37-456d-a709-36ebfcd08590"
    },
    "slideshow": {
     "slide_type": "slide"
    }
   },
   "source": [
    "Naturally, you can rank in *descending* order, too:"
   ]
  },
  {
   "cell_type": "code",
   "execution_count": 97,
   "metadata": {
    "colab": {
     "base_uri": "https://localhost:8080/",
     "height": 102
    },
    "colab_type": "code",
    "id": "GeDu-GcCkx3w",
    "nbpresent": {
     "id": "121ca95e-cf73-432e-a998-8be78347a619"
    },
    "outputId": "d05e2c76-0e49-4194-c6c7-72a77e255ae8"
   },
   "outputs": [
    {
     "data": {
      "text/plain": [
       "0    2.0\n",
       "1    7.0\n",
       "2    2.0\n",
       "3    4.0\n",
       "4    5.0\n",
       "5    6.0\n",
       "6    4.0\n",
       "dtype: float64"
      ]
     },
     "execution_count": 97,
     "metadata": {},
     "output_type": "execute_result"
    }
   ],
   "source": [
    "obj.rank(ascending=False, method='max')"
   ]
  },
  {
   "cell_type": "markdown",
   "metadata": {
    "colab_type": "text",
    "id": "nrMJpZjBkx3y",
    "nbpresent": {
     "id": "7ae2087d-c477-4bbf-b22a-9873b3af36dd"
    },
    "slideshow": {
     "slide_type": "slide"
    }
   },
   "source": [
    "**`DataFrame`** can compute ranks over the rows or the columns:"
   ]
  },
  {
   "cell_type": "code",
   "execution_count": 98,
   "metadata": {
    "colab": {},
    "colab_type": "code",
    "id": "L9xyhKkckx3z",
    "nbpresent": {
     "id": "8965c110-1844-4e78-95b1-d422194b2fc0"
    },
    "outputId": "400652db-7986-495d-a163-93906063c384"
   },
   "outputs": [
    {
     "data": {
      "text/html": [
       "<div>\n",
       "<style scoped>\n",
       "    .dataframe tbody tr th:only-of-type {\n",
       "        vertical-align: middle;\n",
       "    }\n",
       "\n",
       "    .dataframe tbody tr th {\n",
       "        vertical-align: top;\n",
       "    }\n",
       "\n",
       "    .dataframe thead th {\n",
       "        text-align: right;\n",
       "    }\n",
       "</style>\n",
       "<table border=\"1\" class=\"dataframe\">\n",
       "  <thead>\n",
       "    <tr style=\"text-align: right;\">\n",
       "      <th></th>\n",
       "      <th>b</th>\n",
       "      <th>a</th>\n",
       "      <th>c</th>\n",
       "    </tr>\n",
       "  </thead>\n",
       "  <tbody>\n",
       "    <tr>\n",
       "      <th>0</th>\n",
       "      <td>4.3</td>\n",
       "      <td>0</td>\n",
       "      <td>-2.0</td>\n",
       "    </tr>\n",
       "    <tr>\n",
       "      <th>1</th>\n",
       "      <td>7.0</td>\n",
       "      <td>1</td>\n",
       "      <td>5.0</td>\n",
       "    </tr>\n",
       "    <tr>\n",
       "      <th>2</th>\n",
       "      <td>-3.0</td>\n",
       "      <td>0</td>\n",
       "      <td>8.0</td>\n",
       "    </tr>\n",
       "    <tr>\n",
       "      <th>3</th>\n",
       "      <td>2.0</td>\n",
       "      <td>1</td>\n",
       "      <td>-2.5</td>\n",
       "    </tr>\n",
       "  </tbody>\n",
       "</table>\n",
       "</div>"
      ],
      "text/plain": [
       "     b  a    c\n",
       "0  4.3  0 -2.0\n",
       "1  7.0  1  5.0\n",
       "2 -3.0  0  8.0\n",
       "3  2.0  1 -2.5"
      ]
     },
     "execution_count": 98,
     "metadata": {},
     "output_type": "execute_result"
    },
    {
     "data": {
      "text/html": [
       "<div>\n",
       "<style scoped>\n",
       "    .dataframe tbody tr th:only-of-type {\n",
       "        vertical-align: middle;\n",
       "    }\n",
       "\n",
       "    .dataframe tbody tr th {\n",
       "        vertical-align: top;\n",
       "    }\n",
       "\n",
       "    .dataframe thead th {\n",
       "        text-align: right;\n",
       "    }\n",
       "</style>\n",
       "<table border=\"1\" class=\"dataframe\">\n",
       "  <thead>\n",
       "    <tr style=\"text-align: right;\">\n",
       "      <th></th>\n",
       "      <th>b</th>\n",
       "      <th>a</th>\n",
       "      <th>c</th>\n",
       "    </tr>\n",
       "  </thead>\n",
       "  <tbody>\n",
       "    <tr>\n",
       "      <th>0</th>\n",
       "      <td>3.0</td>\n",
       "      <td>2.0</td>\n",
       "      <td>1.0</td>\n",
       "    </tr>\n",
       "    <tr>\n",
       "      <th>1</th>\n",
       "      <td>3.0</td>\n",
       "      <td>1.0</td>\n",
       "      <td>2.0</td>\n",
       "    </tr>\n",
       "    <tr>\n",
       "      <th>2</th>\n",
       "      <td>1.0</td>\n",
       "      <td>2.0</td>\n",
       "      <td>3.0</td>\n",
       "    </tr>\n",
       "    <tr>\n",
       "      <th>3</th>\n",
       "      <td>3.0</td>\n",
       "      <td>2.0</td>\n",
       "      <td>1.0</td>\n",
       "    </tr>\n",
       "  </tbody>\n",
       "</table>\n",
       "</div>"
      ],
      "text/plain": [
       "     b    a    c\n",
       "0  3.0  2.0  1.0\n",
       "1  3.0  1.0  2.0\n",
       "2  1.0  2.0  3.0\n",
       "3  3.0  2.0  1.0"
      ]
     },
     "execution_count": 98,
     "metadata": {},
     "output_type": "execute_result"
    }
   ],
   "source": [
    "frame = pd.DataFrame({'b': [4.3, 7, -3, 2], 'a': [0, 1, 0, 1], 'c': [-2, 5, 8, -2.5]})\n",
    "frame\n",
    "frame.rank(axis=1)"
   ]
  },
  {
   "cell_type": "markdown",
   "metadata": {
    "colab_type": "text",
    "id": "VqVCY77Akx31",
    "nbpresent": {
     "id": "8ea4c755-a27a-436a-bda8-0c316d3afe35"
    },
    "slideshow": {
     "slide_type": "slide"
    }
   },
   "source": [
    "**Tie-breaking methods with** **`rank`**\n",
    "\n",
    "\n",
    "\n",
    "|**Method**   |  **Description**  |\n",
    "|:---| :---|\n",
    "| **`average`** | Default: assign the average rank to each entry in the equal group. |\n",
    "| **`max`** | Use the maximum rank for the whole group. |\n",
    "| **`min`** | Use the minimum rank for the whole group. |\n",
    "| **`first`** | Assign ranks in the order the values appear in the data. |\n"
   ]
  },
  {
   "cell_type": "markdown",
   "metadata": {
    "colab_type": "text",
    "id": "A4dpGz3Akx32",
    "nbpresent": {
     "id": "7047ba44-6628-4c4a-bf9d-d2cb3e3f228b"
    },
    "slideshow": {
     "slide_type": "slide"
    }
   },
   "source": [
    "### 7.3.4 Axis indexes with duplicate values\n",
    "\n",
    "Up until now all of the examples we’ve seen have had unique axis labels (index values). \n",
    "\n",
    "While many **`pandas`** functions (like **`reindex`**) require that the labels be unique, it’s not mandatory. \n",
    "\n"
   ]
  },
  {
   "cell_type": "markdown",
   "metadata": {
    "colab_type": "text",
    "id": "28pD8e26kx32",
    "nbpresent": {
     "id": "3a2c7199-f6dd-40f5-b4a4-394fe55d258c"
    },
    "slideshow": {
     "slide_type": "slide"
    }
   },
   "source": [
    "Let’s consider a small Series with duplicate indices:"
   ]
  },
  {
   "cell_type": "code",
   "execution_count": 99,
   "metadata": {
    "colab": {
     "base_uri": "https://localhost:8080/",
     "height": 119
    },
    "colab_type": "code",
    "id": "bIGPf7cjkx33",
    "nbpresent": {
     "id": "230fbadc-6d37-43e7-b00d-8e30b1a43f3e"
    },
    "outputId": "9b994d83-c7b9-4ef4-9fb3-a1082260f076"
   },
   "outputs": [
    {
     "data": {
      "text/plain": [
       "a    0\n",
       "a    1\n",
       "b    2\n",
       "b    3\n",
       "c    4\n",
       "dtype: int64"
      ]
     },
     "execution_count": 99,
     "metadata": {},
     "output_type": "execute_result"
    }
   ],
   "source": [
    "obj = pd.Series(range(5), index=['a', 'a', 'b', 'b', 'c'])\n",
    "obj"
   ]
  },
  {
   "cell_type": "markdown",
   "metadata": {
    "colab_type": "text",
    "id": "I9hIOkWikx35",
    "nbpresent": {
     "id": "04fb9a2d-8ea3-4751-9003-8b7734ff66b8"
    },
    "slideshow": {
     "slide_type": "slide"
    }
   },
   "source": [
    "The index’s **`is_unique`** property can tell you whether its values are unique or not:"
   ]
  },
  {
   "cell_type": "code",
   "execution_count": 100,
   "metadata": {
    "colab": {},
    "colab_type": "code",
    "id": "vUM7s5FXkx35",
    "nbpresent": {
     "id": "f1aac0a9-6b52-4f46-8124-203e984de88a"
    },
    "outputId": "f94cabab-8808-45d1-b282-be12ed132396"
   },
   "outputs": [
    {
     "data": {
      "text/plain": [
       "False"
      ]
     },
     "execution_count": 100,
     "metadata": {},
     "output_type": "execute_result"
    }
   ],
   "source": [
    "obj.index.is_unique"
   ]
  },
  {
   "cell_type": "markdown",
   "metadata": {
    "colab_type": "text",
    "id": "05CAgcXckx38",
    "nbpresent": {
     "id": "d28f073a-d08b-4659-b900-f1e997d88aea"
    },
    "slideshow": {
     "slide_type": "slide"
    }
   },
   "source": [
    "Data selection is one of the main things that behaves differently with duplicates. \n",
    "\n",
    "Indexing a value with multiple entries returns a **Series** while single entries return a scalar value:"
   ]
  },
  {
   "cell_type": "code",
   "execution_count": 101,
   "metadata": {
    "colab": {},
    "colab_type": "code",
    "id": "7TTfBhKmkx3-",
    "nbpresent": {
     "id": "8f57742a-4f28-45dd-ba5e-4daede2e5a6d"
    },
    "outputId": "fd3b1b04-d28f-42c1-e8a1-d22b1eae898c"
   },
   "outputs": [
    {
     "data": {
      "text/plain": [
       "a    0\n",
       "a    1\n",
       "dtype: int64"
      ]
     },
     "execution_count": 101,
     "metadata": {},
     "output_type": "execute_result"
    },
    {
     "data": {
      "text/plain": [
       "4"
      ]
     },
     "execution_count": 101,
     "metadata": {},
     "output_type": "execute_result"
    }
   ],
   "source": [
    "obj['a']\n",
    "obj['c']"
   ]
  },
  {
   "cell_type": "markdown",
   "metadata": {
    "colab_type": "text",
    "id": "AkZG0AlCkx4A",
    "nbpresent": {
     "id": "dbfad4aa-18e2-431e-8444-f309b23d8f30"
    },
    "slideshow": {
     "slide_type": "slide"
    }
   },
   "source": [
    "The same logic extends to indexing rows in a **`DataFrame`**:"
   ]
  },
  {
   "cell_type": "code",
   "execution_count": 102,
   "metadata": {
    "colab": {},
    "colab_type": "code",
    "id": "oaj_bDzGkx4A",
    "nbpresent": {
     "id": "9984a829-8f2c-4859-8fe2-ee7f63821a64"
    },
    "outputId": "fd39a1ac-6375-49b6-a2f0-dc44efb2bdac"
   },
   "outputs": [
    {
     "data": {
      "text/html": [
       "<div>\n",
       "<style scoped>\n",
       "    .dataframe tbody tr th:only-of-type {\n",
       "        vertical-align: middle;\n",
       "    }\n",
       "\n",
       "    .dataframe tbody tr th {\n",
       "        vertical-align: top;\n",
       "    }\n",
       "\n",
       "    .dataframe thead th {\n",
       "        text-align: right;\n",
       "    }\n",
       "</style>\n",
       "<table border=\"1\" class=\"dataframe\">\n",
       "  <thead>\n",
       "    <tr style=\"text-align: right;\">\n",
       "      <th></th>\n",
       "      <th>0</th>\n",
       "      <th>1</th>\n",
       "      <th>2</th>\n",
       "    </tr>\n",
       "  </thead>\n",
       "  <tbody>\n",
       "    <tr>\n",
       "      <th>a</th>\n",
       "      <td>-0.717828</td>\n",
       "      <td>0.063083</td>\n",
       "      <td>-0.035465</td>\n",
       "    </tr>\n",
       "    <tr>\n",
       "      <th>a</th>\n",
       "      <td>0.734727</td>\n",
       "      <td>-1.759435</td>\n",
       "      <td>-0.028872</td>\n",
       "    </tr>\n",
       "    <tr>\n",
       "      <th>b</th>\n",
       "      <td>-2.366311</td>\n",
       "      <td>-0.661562</td>\n",
       "      <td>0.698817</td>\n",
       "    </tr>\n",
       "    <tr>\n",
       "      <th>b</th>\n",
       "      <td>1.326963</td>\n",
       "      <td>1.369562</td>\n",
       "      <td>-0.246142</td>\n",
       "    </tr>\n",
       "  </tbody>\n",
       "</table>\n",
       "</div>"
      ],
      "text/plain": [
       "          0         1         2\n",
       "a -0.717828  0.063083 -0.035465\n",
       "a  0.734727 -1.759435 -0.028872\n",
       "b -2.366311 -0.661562  0.698817\n",
       "b  1.326963  1.369562 -0.246142"
      ]
     },
     "execution_count": 102,
     "metadata": {},
     "output_type": "execute_result"
    },
    {
     "data": {
      "text/html": [
       "<div>\n",
       "<style scoped>\n",
       "    .dataframe tbody tr th:only-of-type {\n",
       "        vertical-align: middle;\n",
       "    }\n",
       "\n",
       "    .dataframe tbody tr th {\n",
       "        vertical-align: top;\n",
       "    }\n",
       "\n",
       "    .dataframe thead th {\n",
       "        text-align: right;\n",
       "    }\n",
       "</style>\n",
       "<table border=\"1\" class=\"dataframe\">\n",
       "  <thead>\n",
       "    <tr style=\"text-align: right;\">\n",
       "      <th></th>\n",
       "      <th>0</th>\n",
       "      <th>1</th>\n",
       "      <th>2</th>\n",
       "    </tr>\n",
       "  </thead>\n",
       "  <tbody>\n",
       "    <tr>\n",
       "      <th>b</th>\n",
       "      <td>-2.366311</td>\n",
       "      <td>-0.661562</td>\n",
       "      <td>0.698817</td>\n",
       "    </tr>\n",
       "    <tr>\n",
       "      <th>b</th>\n",
       "      <td>1.326963</td>\n",
       "      <td>1.369562</td>\n",
       "      <td>-0.246142</td>\n",
       "    </tr>\n",
       "  </tbody>\n",
       "</table>\n",
       "</div>"
      ],
      "text/plain": [
       "          0         1         2\n",
       "b -2.366311 -0.661562  0.698817\n",
       "b  1.326963  1.369562 -0.246142"
      ]
     },
     "execution_count": 102,
     "metadata": {},
     "output_type": "execute_result"
    }
   ],
   "source": [
    "df = pd.DataFrame(np.random.randn(4, 3), index=['a', 'a', 'b', 'b'])\n",
    "df\n",
    "df.loc['b']"
   ]
  },
  {
   "cell_type": "markdown",
   "metadata": {
    "colab_type": "text",
    "id": "r0NL06G6J7nj"
   },
   "source": [
    "<div class=\"alert alert-warning\">\n",
    "<b>EXERCISE 6: </b> \n",
    "\n",
    "Write a code that creates two series one with numbers from 0 to 7 and the other one with numbers from 7 to 0. \n",
    "\n",
    "Use the following letters for indexing `index=['a','b', 'c', 'd', 'x', 'f', 'g', 'h']`.\n",
    "</div>"
   ]
  },
  {
   "cell_type": "code",
   "execution_count": 11,
   "metadata": {
    "colab": {},
    "colab_type": "code",
    "id": "dWCF6Ba2kHxg"
   },
   "outputs": [],
   "source": [
    "# Write your solution here"
   ]
  },
  {
   "cell_type": "markdown",
   "metadata": {
    "colab_type": "text",
    "id": "qdOOlZWOoTLB"
   },
   "source": [
    "<div class=\"alert alert-warning\">\n",
    "<b>EXERCISE 7: </b> \n",
    "<p> Create a dataframe with the index from excersise 6 and with columns obj1 and obj2 that contain values from the series.</p>\n",
    "</div>\n"
   ]
  },
  {
   "cell_type": "code",
   "execution_count": 12,
   "metadata": {
    "colab": {},
    "colab_type": "code",
    "id": "-nqb_8lk6nTt"
   },
   "outputs": [],
   "source": [
    "# Write your solution here"
   ]
  },
  {
   "cell_type": "markdown",
   "metadata": {
    "colab_type": "text",
    "id": "Zi268Iaj6uUY"
   },
   "source": [
    "<div class=\"alert alert-warning\">\n",
    "<b>EXERCISE 8: </b> \n",
    "\n",
    "Replace `x` in the index with `e`.\n",
    "</div>\n"
   ]
  },
  {
   "cell_type": "code",
   "execution_count": 13,
   "metadata": {
    "colab": {
     "base_uri": "https://localhost:8080/",
     "height": 297
    },
    "colab_type": "code",
    "id": "xy334ccOoExn",
    "outputId": "aa5912a4-8002-40cf-d6b8-4d47cce75f83"
   },
   "outputs": [],
   "source": [
    "# Write your solution here"
   ]
  },
  {
   "cell_type": "markdown",
   "metadata": {
    "colab_type": "text",
    "id": "xiXhgHlV7JOe"
   },
   "source": [
    "<div class=\"alert alert-warning\">\n",
    "<b>EXERCISE 9: </b> \n",
    "\n",
    "Sort the dataframe by index from `h` to `a`.\n",
    "</div>\n"
   ]
  },
  {
   "cell_type": "code",
   "execution_count": 14,
   "metadata": {},
   "outputs": [],
   "source": [
    "# Write your solution here"
   ]
  },
  {
   "cell_type": "markdown",
   "metadata": {
    "colab_type": "text",
    "id": "kcazQ9QG7YtR"
   },
   "source": [
    "<div class=\"alert alert-warning\">\n",
    "<b>EXERCISE 10: </b> \n",
    "<p> Write a code that shows the the following part of the dataframe.</p>\n",
    "  <p><code>d &nbsp;   4</p>\n",
    "<p>e  &nbsp;  3</code></p>\n",
    "</div>\n"
   ]
  },
  {
   "cell_type": "code",
   "execution_count": 15,
   "metadata": {},
   "outputs": [],
   "source": [
    "# Write your solution here"
   ]
  },
  {
   "cell_type": "markdown",
   "metadata": {
    "colab_type": "text",
    "id": "9d_RigdLkx4B",
    "nbpresent": {
     "id": "d6d89820-fcd9-4e55-83d7-5c4ead1dd8d6"
    },
    "slideshow": {
     "slide_type": "slide"
    }
   },
   "source": [
    "## 7.4 Computing Descriptive Statistics\n",
    "\n",
    "**`pandas`** objects are equipped with a set of common mathematical and statistical methods. Most of these fall into the category of reductions or summary statistics, methods that extract a single value (like the **`sum`** or **`mean`**) from a **`Series`** or a **`Series`** of values from the rows or columns of a **`DataFrame`**.\n",
    "\n",
    "Compared with the equivalent methods of vanilla **`NumPy`** arrays, they are all built from the ground up to exclude missing data. Consider a small DataFrame:"
   ]
  },
  {
   "cell_type": "code",
   "execution_count": 108,
   "metadata": {
    "colab": {},
    "colab_type": "code",
    "id": "m1QmA4Bekx4B",
    "nbpresent": {
     "id": "b7e51ff7-1de5-4693-a83c-712fee3ebc28"
    },
    "outputId": "08868043-e6b9-49c6-fda8-7088274dc85d",
    "slideshow": {
     "slide_type": "slide"
    }
   },
   "outputs": [
    {
     "data": {
      "text/html": [
       "<div>\n",
       "<style scoped>\n",
       "    .dataframe tbody tr th:only-of-type {\n",
       "        vertical-align: middle;\n",
       "    }\n",
       "\n",
       "    .dataframe tbody tr th {\n",
       "        vertical-align: top;\n",
       "    }\n",
       "\n",
       "    .dataframe thead th {\n",
       "        text-align: right;\n",
       "    }\n",
       "</style>\n",
       "<table border=\"1\" class=\"dataframe\">\n",
       "  <thead>\n",
       "    <tr style=\"text-align: right;\">\n",
       "      <th></th>\n",
       "      <th>one</th>\n",
       "      <th>two</th>\n",
       "    </tr>\n",
       "  </thead>\n",
       "  <tbody>\n",
       "    <tr>\n",
       "      <th>a</th>\n",
       "      <td>1.40</td>\n",
       "      <td>NaN</td>\n",
       "    </tr>\n",
       "    <tr>\n",
       "      <th>b</th>\n",
       "      <td>7.10</td>\n",
       "      <td>-4.5</td>\n",
       "    </tr>\n",
       "    <tr>\n",
       "      <th>c</th>\n",
       "      <td>NaN</td>\n",
       "      <td>NaN</td>\n",
       "    </tr>\n",
       "    <tr>\n",
       "      <th>d</th>\n",
       "      <td>0.75</td>\n",
       "      <td>-1.3</td>\n",
       "    </tr>\n",
       "  </tbody>\n",
       "</table>\n",
       "</div>"
      ],
      "text/plain": [
       "    one  two\n",
       "a  1.40  NaN\n",
       "b  7.10 -4.5\n",
       "c   NaN  NaN\n",
       "d  0.75 -1.3"
      ]
     },
     "execution_count": 108,
     "metadata": {},
     "output_type": "execute_result"
    }
   ],
   "source": [
    "df = DataFrame([[1.4, np.nan], [7.1, -4.5], [np.nan, np.nan], [0.75, -1.3]],\n",
    "                index=['a', 'b', 'c', 'd'], columns=['one', 'two'])\n",
    "df"
   ]
  },
  {
   "cell_type": "markdown",
   "metadata": {
    "colab_type": "text",
    "id": "DTcz8jZwkx4E",
    "nbpresent": {
     "id": "fd510ad2-a6bd-4c9d-8392-17acfba83319"
    },
    "slideshow": {
     "slide_type": "slide"
    }
   },
   "source": [
    "Calling **`DataFrame`** sum method returns a **`Series`** containing column sums:"
   ]
  },
  {
   "cell_type": "code",
   "execution_count": 109,
   "metadata": {
    "colab": {},
    "colab_type": "code",
    "id": "_SuzFyHqkx4E",
    "nbpresent": {
     "id": "78b99907-46cd-4f4f-9d52-8ea52d3fdcbf"
    },
    "outputId": "058a7e4d-dbf3-4e7a-a196-0799807a83e0"
   },
   "outputs": [
    {
     "data": {
      "text/plain": [
       "one    9.25\n",
       "two   -5.80\n",
       "dtype: float64"
      ]
     },
     "execution_count": 109,
     "metadata": {},
     "output_type": "execute_result"
    }
   ],
   "source": [
    "df.sum()"
   ]
  },
  {
   "cell_type": "markdown",
   "metadata": {
    "colab_type": "text",
    "id": "Ud4Dvbv4kx4G",
    "nbpresent": {
     "id": "cd877275-9863-46eb-880c-67354bbbbb81"
    },
    "slideshow": {
     "slide_type": "slide"
    }
   },
   "source": [
    "Passing **`axis=1`** sums over the rows instead:"
   ]
  },
  {
   "cell_type": "code",
   "execution_count": 110,
   "metadata": {
    "colab": {},
    "colab_type": "code",
    "id": "MFArvN_dkx4G",
    "nbpresent": {
     "id": "78a1b6a7-b0e4-4c81-b453-2912973a6989"
    },
    "outputId": "39b6c4ca-183a-4671-c75f-14e957e9d058"
   },
   "outputs": [
    {
     "data": {
      "text/plain": [
       "a    1.40\n",
       "b    2.60\n",
       "c    0.00\n",
       "d   -0.55\n",
       "dtype: float64"
      ]
     },
     "execution_count": 110,
     "metadata": {},
     "output_type": "execute_result"
    }
   ],
   "source": [
    "df.sum(axis=1)"
   ]
  },
  {
   "cell_type": "markdown",
   "metadata": {
    "colab_type": "text",
    "id": "VpRFvOpFkx4I",
    "nbpresent": {
     "id": "32a38ca7-6528-4ebe-bd43-602ecc491882"
    },
    "slideshow": {
     "slide_type": "slide"
    }
   },
   "source": [
    "NA values are excluded unless the entire slice (row or column in this case) is NA. This can be disabled using the **`skipna`** option:"
   ]
  },
  {
   "cell_type": "code",
   "execution_count": 111,
   "metadata": {
    "colab": {},
    "colab_type": "code",
    "id": "a5CRQUnxkx4K",
    "nbpresent": {
     "id": "105c261a-353f-4449-a945-2e531ad50511"
    },
    "outputId": "ccccb60a-e129-4829-e463-f58edb10c515"
   },
   "outputs": [
    {
     "data": {
      "text/plain": [
       "a      NaN\n",
       "b    1.300\n",
       "c      NaN\n",
       "d   -0.275\n",
       "dtype: float64"
      ]
     },
     "execution_count": 111,
     "metadata": {},
     "output_type": "execute_result"
    }
   ],
   "source": [
    "df.mean(axis=1, skipna=False)"
   ]
  },
  {
   "cell_type": "markdown",
   "metadata": {
    "colab_type": "text",
    "id": "TuZHdG1Qkx4L",
    "nbpresent": {
     "id": "e4919c83-d107-4538-b24c-c616a36aa548"
    },
    "slideshow": {
     "slide_type": "slide"
    }
   },
   "source": [
    "**Options for reduction methods**\n",
    "\n",
    "\n",
    "\n",
    "|**Method**   |  **Description**  |\n",
    "|:---| :---|\n",
    "| **`axis`** | Axis to reduce over. 0 for DataFrame’s rows and 1 for columns. |\n",
    "| **`skipna`** | Exclude missing values, **`True`** by default. |\n",
    "| **`level`** | Reduce grouped by level if the axis is hierarchically-indexed (MultiIndex).|\n"
   ]
  },
  {
   "cell_type": "markdown",
   "metadata": {
    "colab_type": "text",
    "id": "KSrkMMOtkx4L",
    "nbpresent": {
     "id": "6b6891e3-7220-41c3-83f9-860bd41d91fa"
    },
    "slideshow": {
     "slide_type": "slide"
    }
   },
   "source": [
    "Some methods, like **`idxmin`** and **`idxmax`**, return indirect statistics like the index value where the minimum or maximum values are attained:"
   ]
  },
  {
   "cell_type": "code",
   "execution_count": 112,
   "metadata": {
    "colab": {},
    "colab_type": "code",
    "id": "8ceNnhQpkx4N",
    "nbpresent": {
     "id": "e42f4616-70c6-4919-8ae5-210b94a32bcd"
    },
    "outputId": "7fda8403-f842-4a89-f20f-e1f55aac5238"
   },
   "outputs": [
    {
     "data": {
      "text/plain": [
       "one    b\n",
       "two    d\n",
       "dtype: object"
      ]
     },
     "execution_count": 112,
     "metadata": {},
     "output_type": "execute_result"
    }
   ],
   "source": [
    "df.idxmax()"
   ]
  },
  {
   "cell_type": "markdown",
   "metadata": {
    "colab_type": "text",
    "id": "ipw-2wyLkx4O",
    "nbpresent": {
     "id": "98d0d371-a7fa-4afe-8cb1-fe95267e6fd0"
    },
    "slideshow": {
     "slide_type": "slide"
    }
   },
   "source": [
    "Other methods are *accumulations*:"
   ]
  },
  {
   "cell_type": "code",
   "execution_count": 113,
   "metadata": {
    "colab": {},
    "colab_type": "code",
    "id": "OoZ07s7vkx4P",
    "nbpresent": {
     "id": "3ac44518-1253-4d73-9362-e641b9cf931c"
    },
    "outputId": "8c9e91cb-14c4-4645-bad5-7dc9757586bd"
   },
   "outputs": [
    {
     "data": {
      "text/html": [
       "<div>\n",
       "<style scoped>\n",
       "    .dataframe tbody tr th:only-of-type {\n",
       "        vertical-align: middle;\n",
       "    }\n",
       "\n",
       "    .dataframe tbody tr th {\n",
       "        vertical-align: top;\n",
       "    }\n",
       "\n",
       "    .dataframe thead th {\n",
       "        text-align: right;\n",
       "    }\n",
       "</style>\n",
       "<table border=\"1\" class=\"dataframe\">\n",
       "  <thead>\n",
       "    <tr style=\"text-align: right;\">\n",
       "      <th></th>\n",
       "      <th>one</th>\n",
       "      <th>two</th>\n",
       "    </tr>\n",
       "  </thead>\n",
       "  <tbody>\n",
       "    <tr>\n",
       "      <th>a</th>\n",
       "      <td>1.40</td>\n",
       "      <td>NaN</td>\n",
       "    </tr>\n",
       "    <tr>\n",
       "      <th>b</th>\n",
       "      <td>8.50</td>\n",
       "      <td>-4.5</td>\n",
       "    </tr>\n",
       "    <tr>\n",
       "      <th>c</th>\n",
       "      <td>NaN</td>\n",
       "      <td>NaN</td>\n",
       "    </tr>\n",
       "    <tr>\n",
       "      <th>d</th>\n",
       "      <td>9.25</td>\n",
       "      <td>-5.8</td>\n",
       "    </tr>\n",
       "  </tbody>\n",
       "</table>\n",
       "</div>"
      ],
      "text/plain": [
       "    one  two\n",
       "a  1.40  NaN\n",
       "b  8.50 -4.5\n",
       "c   NaN  NaN\n",
       "d  9.25 -5.8"
      ]
     },
     "execution_count": 113,
     "metadata": {},
     "output_type": "execute_result"
    }
   ],
   "source": [
    "df.cumsum()"
   ]
  },
  {
   "cell_type": "markdown",
   "metadata": {
    "colab_type": "text",
    "id": "f8GzIgg0kx4R",
    "nbpresent": {
     "id": "01d16fa4-a16d-4116-9c6a-debc43f02c15"
    },
    "slideshow": {
     "slide_type": "slide"
    }
   },
   "source": [
    "Another type of method is neither a reduction nor an accumulation. **`describe`** is one such example, producing multiple summary statistics in one shot:"
   ]
  },
  {
   "cell_type": "code",
   "execution_count": 114,
   "metadata": {
    "colab": {},
    "colab_type": "code",
    "id": "D1i2Ywcnkx4S",
    "nbpresent": {
     "id": "2a434fef-d286-4fc0-b024-b411f74160be"
    },
    "outputId": "c73e3128-f2ee-4f80-cec0-015b2df825d9"
   },
   "outputs": [
    {
     "data": {
      "text/html": [
       "<div>\n",
       "<style scoped>\n",
       "    .dataframe tbody tr th:only-of-type {\n",
       "        vertical-align: middle;\n",
       "    }\n",
       "\n",
       "    .dataframe tbody tr th {\n",
       "        vertical-align: top;\n",
       "    }\n",
       "\n",
       "    .dataframe thead th {\n",
       "        text-align: right;\n",
       "    }\n",
       "</style>\n",
       "<table border=\"1\" class=\"dataframe\">\n",
       "  <thead>\n",
       "    <tr style=\"text-align: right;\">\n",
       "      <th></th>\n",
       "      <th>one</th>\n",
       "      <th>two</th>\n",
       "    </tr>\n",
       "  </thead>\n",
       "  <tbody>\n",
       "    <tr>\n",
       "      <th>count</th>\n",
       "      <td>3.000000</td>\n",
       "      <td>2.000000</td>\n",
       "    </tr>\n",
       "    <tr>\n",
       "      <th>mean</th>\n",
       "      <td>3.083333</td>\n",
       "      <td>-2.900000</td>\n",
       "    </tr>\n",
       "    <tr>\n",
       "      <th>std</th>\n",
       "      <td>3.493685</td>\n",
       "      <td>2.262742</td>\n",
       "    </tr>\n",
       "    <tr>\n",
       "      <th>min</th>\n",
       "      <td>0.750000</td>\n",
       "      <td>-4.500000</td>\n",
       "    </tr>\n",
       "    <tr>\n",
       "      <th>25%</th>\n",
       "      <td>1.075000</td>\n",
       "      <td>-3.700000</td>\n",
       "    </tr>\n",
       "    <tr>\n",
       "      <th>50%</th>\n",
       "      <td>1.400000</td>\n",
       "      <td>-2.900000</td>\n",
       "    </tr>\n",
       "    <tr>\n",
       "      <th>75%</th>\n",
       "      <td>4.250000</td>\n",
       "      <td>-2.100000</td>\n",
       "    </tr>\n",
       "    <tr>\n",
       "      <th>max</th>\n",
       "      <td>7.100000</td>\n",
       "      <td>-1.300000</td>\n",
       "    </tr>\n",
       "  </tbody>\n",
       "</table>\n",
       "</div>"
      ],
      "text/plain": [
       "            one       two\n",
       "count  3.000000  2.000000\n",
       "mean   3.083333 -2.900000\n",
       "std    3.493685  2.262742\n",
       "min    0.750000 -4.500000\n",
       "25%    1.075000 -3.700000\n",
       "50%    1.400000 -2.900000\n",
       "75%    4.250000 -2.100000\n",
       "max    7.100000 -1.300000"
      ]
     },
     "execution_count": 114,
     "metadata": {},
     "output_type": "execute_result"
    }
   ],
   "source": [
    "df.describe()"
   ]
  },
  {
   "cell_type": "markdown",
   "metadata": {
    "colab_type": "text",
    "id": "NTT8x287kx4Z",
    "nbpresent": {
     "id": "e0d9ddc5-1ba7-43e0-8aec-06fc1a72b778"
    },
    "slideshow": {
     "slide_type": "slide"
    }
   },
   "source": [
    "On non-numeric data, **`describe`** produces alternate summary statistics:"
   ]
  },
  {
   "cell_type": "code",
   "execution_count": 115,
   "metadata": {
    "colab": {},
    "colab_type": "code",
    "id": "9cVHF784kx4a",
    "nbpresent": {
     "id": "bd426f4b-c2cb-4386-80e9-6115d71d0a4b"
    },
    "outputId": "8ad2926c-28ef-4f0c-80b7-0fd8a6cca6e0"
   },
   "outputs": [
    {
     "data": {
      "text/plain": [
       "count     16\n",
       "unique     3\n",
       "top        a\n",
       "freq       8\n",
       "dtype: object"
      ]
     },
     "execution_count": 115,
     "metadata": {},
     "output_type": "execute_result"
    }
   ],
   "source": [
    "obj = pd.Series(['a', 'a', 'b', 'c'] * 4)\n",
    "#obj\n",
    "obj.describe()"
   ]
  },
  {
   "cell_type": "markdown",
   "metadata": {
    "colab_type": "text",
    "id": "kRWvrK7Ykx4e",
    "nbpresent": {
     "id": "43035eca-16ca-4a79-9134-b943a1def56a"
    },
    "slideshow": {
     "slide_type": "slide"
    }
   },
   "source": [
    "**Descriptive and summary statistics**\n",
    "\n",
    "\n",
    "\n",
    "|**Method**   |  **Description**  |\n",
    "|:---| :---|\n",
    "| **`count`** | Number of non-NA values |\n",
    "| **`describe`** | Compute set of summary statistics for **`Series`** or each **`DataFrame`** column |\n",
    "| **`min`**, **`max`** | Compute minimum and maximum values |\n",
    "| **`argmin`**, **`argmax`** | Compute index locations (integers) at which minimum or maximum value obtained, respectively |\n",
    "| **`idxmin`**, **`idxmin`** | Compute index values at which minimum or maximum value obtained, respectively |\n",
    "| **`quartile`** | Compute sample quantile ranging from 0 to 1 |\n",
    "| **`sum`** | Sum of values |\n",
    "| **`mean`** | Mean of values |\n",
    "| **`median`** | Arithmetic median (50% quantile) of values |\n",
    "| **`mad`** | Mean absolute deviation from mean value |\n",
    "| **`var`** | Sample variance of values |\n",
    "| **`std`** | Sample standard deviation of values |\n",
    "| **`skew`** | Sample skewness (3rd moment) of values |\n",
    "| **`kurt`** | Sample kurtosis (4th moment) of values |\n",
    "| **`cumsum`** | Cumulative sum of values |\n",
    "| **`cummin`**, **`cummax`** | Cumulative minimum or maximum of values, respectively |\n",
    "| **`cumprod`** | Cumulative product of values |\n",
    "| **`diff`** | Compute 1st arithmetic difference (useful for time series) |\n",
    "| **`pct_change`** | Compute percent changes |     "
   ]
  },
  {
   "cell_type": "markdown",
   "metadata": {
    "colab_type": "text",
    "id": "E58bhlwFkx4e",
    "nbpresent": {
     "id": "83a3fea7-7d1f-4e27-a462-9621946ad8fb"
    },
    "slideshow": {
     "slide_type": "slide"
    }
   },
   "source": [
    "### 7.4.1 Correlation and Covariance\n",
    "\n",
    "Some summary statistics, like correlation and covariance, are computed from pairs of arguments. \n",
    "\n",
    "Let’s consider some **`DataFrames`** of stock prices and volumes obtained from *Yahoo! Finance*."
   ]
  },
  {
   "cell_type": "code",
   "execution_count": 119,
   "metadata": {
    "colab": {
     "base_uri": "https://localhost:8080/",
     "height": 368
    },
    "colab_type": "code",
    "id": "1mlVDq_ykx4e",
    "nbpresent": {
     "id": "71ed0144-63df-4d4d-b8f2-894b1544841f"
    },
    "outputId": "f9369f89-c4ab-49ee-ae75-1c52c8baf652",
    "slideshow": {
     "slide_type": "slide"
    }
   },
   "outputs": [],
   "source": [
    "from pandas_datareader import data as web\n",
    "import yfinance as yf\n",
    "import datetime\n",
    "\n",
    "start = datetime.datetime(2000, 1, 1)\n",
    "end = datetime.datetime(2010, 1, 1)\n",
    "\n",
    "all_data = {}\n",
    "\n",
    "for ticker in ['AAPL', 'IBM', 'MSFT', 'GOOGL']: \n",
    "    try:\n",
    "        all_data[ticker] = web.get_data_yahoo(ticker, start, end)\n",
    "    except:\n",
    "        print(\"Can't find \", ticker)\n",
    "\n",
    "price = pd.DataFrame({tic: data['Adj Close'] for tic, data in all_data.items()})\n",
    "volume = pd.DataFrame({tic: data['Volume'] for tic, data in all_data.items()})\n",
    "        "
   ]
  },
  {
   "cell_type": "code",
   "execution_count": 121,
   "metadata": {
    "colab": {},
    "colab_type": "code",
    "id": "LQ20UXeVkx4g",
    "nbpresent": {
     "id": "cafe9f4f-d73f-48aa-ba1e-dd8c34b279e9"
    },
    "outputId": "d8aed443-f912-4ec6-90b8-7c9f2e780886",
    "slideshow": {
     "slide_type": "slide"
    }
   },
   "outputs": [
    {
     "data": {
      "text/html": [
       "<div>\n",
       "<style scoped>\n",
       "    .dataframe tbody tr th:only-of-type {\n",
       "        vertical-align: middle;\n",
       "    }\n",
       "\n",
       "    .dataframe tbody tr th {\n",
       "        vertical-align: top;\n",
       "    }\n",
       "\n",
       "    .dataframe thead th {\n",
       "        text-align: right;\n",
       "    }\n",
       "</style>\n",
       "<table border=\"1\" class=\"dataframe\">\n",
       "  <thead>\n",
       "    <tr style=\"text-align: right;\">\n",
       "      <th></th>\n",
       "      <th>AAPL</th>\n",
       "      <th>IBM</th>\n",
       "      <th>MSFT</th>\n",
       "      <th>GOOGL</th>\n",
       "    </tr>\n",
       "    <tr>\n",
       "      <th>Date</th>\n",
       "      <th></th>\n",
       "      <th></th>\n",
       "      <th></th>\n",
       "      <th></th>\n",
       "    </tr>\n",
       "  </thead>\n",
       "  <tbody>\n",
       "    <tr>\n",
       "      <th>2000-01-03</th>\n",
       "      <td>3.478462</td>\n",
       "      <td>76.411232</td>\n",
       "      <td>37.623280</td>\n",
       "      <td>NaN</td>\n",
       "    </tr>\n",
       "    <tr>\n",
       "      <th>2000-01-04</th>\n",
       "      <td>3.185191</td>\n",
       "      <td>73.817535</td>\n",
       "      <td>36.352352</td>\n",
       "      <td>NaN</td>\n",
       "    </tr>\n",
       "    <tr>\n",
       "      <th>2000-01-05</th>\n",
       "      <td>3.231803</td>\n",
       "      <td>76.411232</td>\n",
       "      <td>36.735657</td>\n",
       "      <td>NaN</td>\n",
       "    </tr>\n",
       "    <tr>\n",
       "      <th>2000-01-06</th>\n",
       "      <td>2.952128</td>\n",
       "      <td>75.093842</td>\n",
       "      <td>35.505081</td>\n",
       "      <td>NaN</td>\n",
       "    </tr>\n",
       "    <tr>\n",
       "      <th>2000-01-07</th>\n",
       "      <td>3.091966</td>\n",
       "      <td>74.764435</td>\n",
       "      <td>35.969063</td>\n",
       "      <td>NaN</td>\n",
       "    </tr>\n",
       "    <tr>\n",
       "      <th>...</th>\n",
       "      <td>...</td>\n",
       "      <td>...</td>\n",
       "      <td>...</td>\n",
       "      <td>...</td>\n",
       "    </tr>\n",
       "    <tr>\n",
       "      <th>2009-12-24</th>\n",
       "      <td>25.983706</td>\n",
       "      <td>95.620552</td>\n",
       "      <td>24.483109</td>\n",
       "      <td>309.549561</td>\n",
       "    </tr>\n",
       "    <tr>\n",
       "      <th>2009-12-28</th>\n",
       "      <td>26.303152</td>\n",
       "      <td>96.894806</td>\n",
       "      <td>24.617369</td>\n",
       "      <td>311.746735</td>\n",
       "    </tr>\n",
       "    <tr>\n",
       "      <th>2009-12-29</th>\n",
       "      <td>25.991158</td>\n",
       "      <td>96.557938</td>\n",
       "      <td>24.791119</td>\n",
       "      <td>310.010010</td>\n",
       "    </tr>\n",
       "    <tr>\n",
       "      <th>2009-12-30</th>\n",
       "      <td>26.306877</td>\n",
       "      <td>97.085197</td>\n",
       "      <td>24.451517</td>\n",
       "      <td>311.676666</td>\n",
       "    </tr>\n",
       "    <tr>\n",
       "      <th>2009-12-31</th>\n",
       "      <td>26.193771</td>\n",
       "      <td>95.862190</td>\n",
       "      <td>24.072418</td>\n",
       "      <td>310.300293</td>\n",
       "    </tr>\n",
       "  </tbody>\n",
       "</table>\n",
       "<p>2515 rows × 4 columns</p>\n",
       "</div>"
      ],
      "text/plain": [
       "                 AAPL        IBM       MSFT       GOOGL\n",
       "Date                                                   \n",
       "2000-01-03   3.478462  76.411232  37.623280         NaN\n",
       "2000-01-04   3.185191  73.817535  36.352352         NaN\n",
       "2000-01-05   3.231803  76.411232  36.735657         NaN\n",
       "2000-01-06   2.952128  75.093842  35.505081         NaN\n",
       "2000-01-07   3.091966  74.764435  35.969063         NaN\n",
       "...               ...        ...        ...         ...\n",
       "2009-12-24  25.983706  95.620552  24.483109  309.549561\n",
       "2009-12-28  26.303152  96.894806  24.617369  311.746735\n",
       "2009-12-29  25.991158  96.557938  24.791119  310.010010\n",
       "2009-12-30  26.306877  97.085197  24.451517  311.676666\n",
       "2009-12-31  26.193771  95.862190  24.072418  310.300293\n",
       "\n",
       "[2515 rows x 4 columns]"
      ]
     },
     "execution_count": 121,
     "metadata": {},
     "output_type": "execute_result"
    }
   ],
   "source": [
    "price"
   ]
  },
  {
   "cell_type": "code",
   "execution_count": 122,
   "metadata": {
    "colab": {},
    "colab_type": "code",
    "id": "LszgOtwvkx4j",
    "nbpresent": {
     "id": "73c21b65-bf3c-4404-bd0e-58e15e60b528"
    },
    "outputId": "de736c20-d972-4694-8305-74aa4cb0fed9",
    "slideshow": {
     "slide_type": "slide"
    }
   },
   "outputs": [
    {
     "data": {
      "text/html": [
       "<div>\n",
       "<style scoped>\n",
       "    .dataframe tbody tr th:only-of-type {\n",
       "        vertical-align: middle;\n",
       "    }\n",
       "\n",
       "    .dataframe tbody tr th {\n",
       "        vertical-align: top;\n",
       "    }\n",
       "\n",
       "    .dataframe thead th {\n",
       "        text-align: right;\n",
       "    }\n",
       "</style>\n",
       "<table border=\"1\" class=\"dataframe\">\n",
       "  <thead>\n",
       "    <tr style=\"text-align: right;\">\n",
       "      <th></th>\n",
       "      <th>AAPL</th>\n",
       "      <th>IBM</th>\n",
       "      <th>MSFT</th>\n",
       "      <th>GOOGL</th>\n",
       "    </tr>\n",
       "    <tr>\n",
       "      <th>Date</th>\n",
       "      <th></th>\n",
       "      <th></th>\n",
       "      <th></th>\n",
       "      <th></th>\n",
       "    </tr>\n",
       "  </thead>\n",
       "  <tbody>\n",
       "    <tr>\n",
       "      <th>2000-01-03</th>\n",
       "      <td>133949200.0</td>\n",
       "      <td>10347700.0</td>\n",
       "      <td>53228400.0</td>\n",
       "      <td>NaN</td>\n",
       "    </tr>\n",
       "    <tr>\n",
       "      <th>2000-01-04</th>\n",
       "      <td>128094400.0</td>\n",
       "      <td>8227800.0</td>\n",
       "      <td>54119000.0</td>\n",
       "      <td>NaN</td>\n",
       "    </tr>\n",
       "    <tr>\n",
       "      <th>2000-01-05</th>\n",
       "      <td>194580400.0</td>\n",
       "      <td>12733200.0</td>\n",
       "      <td>64059600.0</td>\n",
       "      <td>NaN</td>\n",
       "    </tr>\n",
       "    <tr>\n",
       "      <th>2000-01-06</th>\n",
       "      <td>191993200.0</td>\n",
       "      <td>7971900.0</td>\n",
       "      <td>54976600.0</td>\n",
       "      <td>NaN</td>\n",
       "    </tr>\n",
       "    <tr>\n",
       "      <th>2000-01-07</th>\n",
       "      <td>115183600.0</td>\n",
       "      <td>11856700.0</td>\n",
       "      <td>62013600.0</td>\n",
       "      <td>NaN</td>\n",
       "    </tr>\n",
       "    <tr>\n",
       "      <th>...</th>\n",
       "      <td>...</td>\n",
       "      <td>...</td>\n",
       "      <td>...</td>\n",
       "      <td>...</td>\n",
       "    </tr>\n",
       "    <tr>\n",
       "      <th>2009-12-24</th>\n",
       "      <td>125222300.0</td>\n",
       "      <td>4265100.0</td>\n",
       "      <td>11083900.0</td>\n",
       "      <td>1715600.0</td>\n",
       "    </tr>\n",
       "    <tr>\n",
       "      <th>2009-12-28</th>\n",
       "      <td>161141400.0</td>\n",
       "      <td>5800400.0</td>\n",
       "      <td>25384000.0</td>\n",
       "      <td>3392400.0</td>\n",
       "    </tr>\n",
       "    <tr>\n",
       "      <th>2009-12-29</th>\n",
       "      <td>111301400.0</td>\n",
       "      <td>4184200.0</td>\n",
       "      <td>29716200.0</td>\n",
       "      <td>2846700.0</td>\n",
       "    </tr>\n",
       "    <tr>\n",
       "      <th>2009-12-30</th>\n",
       "      <td>103021100.0</td>\n",
       "      <td>3867000.0</td>\n",
       "      <td>42006200.0</td>\n",
       "      <td>2928200.0</td>\n",
       "    </tr>\n",
       "    <tr>\n",
       "      <th>2009-12-31</th>\n",
       "      <td>88102700.0</td>\n",
       "      <td>4223400.0</td>\n",
       "      <td>31929700.0</td>\n",
       "      <td>2437100.0</td>\n",
       "    </tr>\n",
       "  </tbody>\n",
       "</table>\n",
       "<p>2515 rows × 4 columns</p>\n",
       "</div>"
      ],
      "text/plain": [
       "                   AAPL         IBM        MSFT      GOOGL\n",
       "Date                                                      \n",
       "2000-01-03  133949200.0  10347700.0  53228400.0        NaN\n",
       "2000-01-04  128094400.0   8227800.0  54119000.0        NaN\n",
       "2000-01-05  194580400.0  12733200.0  64059600.0        NaN\n",
       "2000-01-06  191993200.0   7971900.0  54976600.0        NaN\n",
       "2000-01-07  115183600.0  11856700.0  62013600.0        NaN\n",
       "...                 ...         ...         ...        ...\n",
       "2009-12-24  125222300.0   4265100.0  11083900.0  1715600.0\n",
       "2009-12-28  161141400.0   5800400.0  25384000.0  3392400.0\n",
       "2009-12-29  111301400.0   4184200.0  29716200.0  2846700.0\n",
       "2009-12-30  103021100.0   3867000.0  42006200.0  2928200.0\n",
       "2009-12-31   88102700.0   4223400.0  31929700.0  2437100.0\n",
       "\n",
       "[2515 rows x 4 columns]"
      ]
     },
     "execution_count": 122,
     "metadata": {},
     "output_type": "execute_result"
    }
   ],
   "source": [
    "volume"
   ]
  },
  {
   "cell_type": "markdown",
   "metadata": {
    "colab_type": "text",
    "id": "XbEVqQnokx4l",
    "nbpresent": {
     "id": "d0d6d2c2-8d0d-4150-882a-13afd85a487d"
    },
    "slideshow": {
     "slide_type": "slide"
    }
   },
   "source": [
    "We can now compute the percentage changes of the prices:"
   ]
  },
  {
   "cell_type": "code",
   "execution_count": 123,
   "metadata": {
    "colab": {},
    "colab_type": "code",
    "id": "jSvgItvrkx4l",
    "nbpresent": {
     "id": "c3749c2b-2559-41d0-abfa-233b9d61913f"
    },
    "outputId": "d5a074e8-4a86-4e6c-9da2-da0df56fdffe"
   },
   "outputs": [
    {
     "data": {
      "text/html": [
       "<div>\n",
       "<style scoped>\n",
       "    .dataframe tbody tr th:only-of-type {\n",
       "        vertical-align: middle;\n",
       "    }\n",
       "\n",
       "    .dataframe tbody tr th {\n",
       "        vertical-align: top;\n",
       "    }\n",
       "\n",
       "    .dataframe thead th {\n",
       "        text-align: right;\n",
       "    }\n",
       "</style>\n",
       "<table border=\"1\" class=\"dataframe\">\n",
       "  <thead>\n",
       "    <tr style=\"text-align: right;\">\n",
       "      <th></th>\n",
       "      <th>AAPL</th>\n",
       "      <th>IBM</th>\n",
       "      <th>MSFT</th>\n",
       "      <th>GOOGL</th>\n",
       "    </tr>\n",
       "    <tr>\n",
       "      <th>Date</th>\n",
       "      <th></th>\n",
       "      <th></th>\n",
       "      <th></th>\n",
       "      <th></th>\n",
       "    </tr>\n",
       "  </thead>\n",
       "  <tbody>\n",
       "    <tr>\n",
       "      <th>2009-12-24</th>\n",
       "      <td>0.034340</td>\n",
       "      <td>0.004385</td>\n",
       "      <td>0.002587</td>\n",
       "      <td>0.011117</td>\n",
       "    </tr>\n",
       "    <tr>\n",
       "      <th>2009-12-28</th>\n",
       "      <td>0.012294</td>\n",
       "      <td>0.013326</td>\n",
       "      <td>0.005484</td>\n",
       "      <td>0.007098</td>\n",
       "    </tr>\n",
       "    <tr>\n",
       "      <th>2009-12-29</th>\n",
       "      <td>-0.011861</td>\n",
       "      <td>-0.003477</td>\n",
       "      <td>0.007058</td>\n",
       "      <td>-0.005571</td>\n",
       "    </tr>\n",
       "    <tr>\n",
       "      <th>2009-12-30</th>\n",
       "      <td>0.012147</td>\n",
       "      <td>0.005461</td>\n",
       "      <td>-0.013699</td>\n",
       "      <td>0.005376</td>\n",
       "    </tr>\n",
       "    <tr>\n",
       "      <th>2009-12-31</th>\n",
       "      <td>-0.004299</td>\n",
       "      <td>-0.012597</td>\n",
       "      <td>-0.015504</td>\n",
       "      <td>-0.004416</td>\n",
       "    </tr>\n",
       "  </tbody>\n",
       "</table>\n",
       "</div>"
      ],
      "text/plain": [
       "                AAPL       IBM      MSFT     GOOGL\n",
       "Date                                              \n",
       "2009-12-24  0.034340  0.004385  0.002587  0.011117\n",
       "2009-12-28  0.012294  0.013326  0.005484  0.007098\n",
       "2009-12-29 -0.011861 -0.003477  0.007058 -0.005571\n",
       "2009-12-30  0.012147  0.005461 -0.013699  0.005376\n",
       "2009-12-31 -0.004299 -0.012597 -0.015504 -0.004416"
      ]
     },
     "execution_count": 123,
     "metadata": {},
     "output_type": "execute_result"
    }
   ],
   "source": [
    "returns = price.pct_change()\n",
    "returns.tail()"
   ]
  },
  {
   "cell_type": "markdown",
   "metadata": {
    "colab_type": "text",
    "id": "H1BbsFQAkx4n",
    "nbpresent": {
     "id": "6f388659-fe9b-43d1-b768-d600201a853c"
    },
    "slideshow": {
     "slide_type": "slide"
    }
   },
   "source": [
    "The **`corr`** method of **`Series`** computes the correlation of the overlapping, non-NA, aligned-by-index values in two **`Series`**. Relatedly, **`cov`** computes the covariance:"
   ]
  },
  {
   "cell_type": "code",
   "execution_count": 124,
   "metadata": {
    "colab": {},
    "colab_type": "code",
    "id": "LlSGx4tDkx4n",
    "nbpresent": {
     "id": "7ef6e094-f6e6-436e-bd15-04dd5b9a4400"
    },
    "outputId": "da505799-6846-4a73-a6ce-da1d35e978a0"
   },
   "outputs": [
    {
     "data": {
      "text/plain": [
       "0.41001087119145374"
      ]
     },
     "execution_count": 124,
     "metadata": {},
     "output_type": "execute_result"
    },
    {
     "data": {
      "text/plain": [
       "0.00025184527810440756"
      ]
     },
     "execution_count": 124,
     "metadata": {},
     "output_type": "execute_result"
    }
   ],
   "source": [
    "returns.AAPL.corr(returns.IBM)\n",
    "returns.AAPL.cov(returns.IBM)"
   ]
  },
  {
   "cell_type": "markdown",
   "metadata": {
    "colab_type": "text",
    "id": "RNcjnSKNkx4q",
    "nbpresent": {
     "id": "dd33524b-2ffe-4304-8e5d-00e60d808c43"
    },
    "slideshow": {
     "slide_type": "slide"
    }
   },
   "source": [
    "**`DataFrame`** **`corr`** and **`cov`** methods, on the other hand, return a full correlation or covariance matrix as a **`DataFrame`**, respectively:"
   ]
  },
  {
   "cell_type": "code",
   "execution_count": 125,
   "metadata": {
    "colab": {},
    "colab_type": "code",
    "id": "wPNNCImrkx4r",
    "nbpresent": {
     "id": "d66abb1c-42de-4e7d-aa83-ae00718f2cf4"
    },
    "outputId": "963268f1-5481-442d-83c1-814d7a4005da"
   },
   "outputs": [
    {
     "data": {
      "text/html": [
       "<div>\n",
       "<style scoped>\n",
       "    .dataframe tbody tr th:only-of-type {\n",
       "        vertical-align: middle;\n",
       "    }\n",
       "\n",
       "    .dataframe tbody tr th {\n",
       "        vertical-align: top;\n",
       "    }\n",
       "\n",
       "    .dataframe thead th {\n",
       "        text-align: right;\n",
       "    }\n",
       "</style>\n",
       "<table border=\"1\" class=\"dataframe\">\n",
       "  <thead>\n",
       "    <tr style=\"text-align: right;\">\n",
       "      <th></th>\n",
       "      <th>AAPL</th>\n",
       "      <th>IBM</th>\n",
       "      <th>MSFT</th>\n",
       "      <th>GOOGL</th>\n",
       "    </tr>\n",
       "  </thead>\n",
       "  <tbody>\n",
       "    <tr>\n",
       "      <th>AAPL</th>\n",
       "      <td>1.000000</td>\n",
       "      <td>0.410011</td>\n",
       "      <td>0.424305</td>\n",
       "      <td>0.470676</td>\n",
       "    </tr>\n",
       "    <tr>\n",
       "      <th>IBM</th>\n",
       "      <td>0.410011</td>\n",
       "      <td>1.000000</td>\n",
       "      <td>0.495979</td>\n",
       "      <td>0.390689</td>\n",
       "    </tr>\n",
       "    <tr>\n",
       "      <th>MSFT</th>\n",
       "      <td>0.424305</td>\n",
       "      <td>0.495979</td>\n",
       "      <td>1.000000</td>\n",
       "      <td>0.443586</td>\n",
       "    </tr>\n",
       "    <tr>\n",
       "      <th>GOOGL</th>\n",
       "      <td>0.470676</td>\n",
       "      <td>0.390689</td>\n",
       "      <td>0.443586</td>\n",
       "      <td>1.000000</td>\n",
       "    </tr>\n",
       "  </tbody>\n",
       "</table>\n",
       "</div>"
      ],
      "text/plain": [
       "           AAPL       IBM      MSFT     GOOGL\n",
       "AAPL   1.000000  0.410011  0.424305  0.470676\n",
       "IBM    0.410011  1.000000  0.495979  0.390689\n",
       "MSFT   0.424305  0.495979  1.000000  0.443586\n",
       "GOOGL  0.470676  0.390689  0.443586  1.000000"
      ]
     },
     "execution_count": 125,
     "metadata": {},
     "output_type": "execute_result"
    }
   ],
   "source": [
    "returns.corr()"
   ]
  },
  {
   "cell_type": "code",
   "execution_count": 126,
   "metadata": {
    "colab": {},
    "colab_type": "code",
    "id": "fSNnNFT_kx4t",
    "nbpresent": {
     "id": "22306514-fa87-4f27-b154-18383e6018b9"
    },
    "outputId": "deacefcb-2edd-4dc7-8c86-11a60407cfab",
    "slideshow": {
     "slide_type": "slide"
    }
   },
   "outputs": [
    {
     "data": {
      "text/html": [
       "<div>\n",
       "<style scoped>\n",
       "    .dataframe tbody tr th:only-of-type {\n",
       "        vertical-align: middle;\n",
       "    }\n",
       "\n",
       "    .dataframe tbody tr th {\n",
       "        vertical-align: top;\n",
       "    }\n",
       "\n",
       "    .dataframe thead th {\n",
       "        text-align: right;\n",
       "    }\n",
       "</style>\n",
       "<table border=\"1\" class=\"dataframe\">\n",
       "  <thead>\n",
       "    <tr style=\"text-align: right;\">\n",
       "      <th></th>\n",
       "      <th>AAPL</th>\n",
       "      <th>IBM</th>\n",
       "      <th>MSFT</th>\n",
       "      <th>GOOGL</th>\n",
       "    </tr>\n",
       "  </thead>\n",
       "  <tbody>\n",
       "    <tr>\n",
       "      <th>AAPL</th>\n",
       "      <td>0.001027</td>\n",
       "      <td>0.000252</td>\n",
       "      <td>0.000309</td>\n",
       "      <td>0.000303</td>\n",
       "    </tr>\n",
       "    <tr>\n",
       "      <th>IBM</th>\n",
       "      <td>0.000252</td>\n",
       "      <td>0.000367</td>\n",
       "      <td>0.000216</td>\n",
       "      <td>0.000142</td>\n",
       "    </tr>\n",
       "    <tr>\n",
       "      <th>MSFT</th>\n",
       "      <td>0.000309</td>\n",
       "      <td>0.000216</td>\n",
       "      <td>0.000516</td>\n",
       "      <td>0.000205</td>\n",
       "    </tr>\n",
       "    <tr>\n",
       "      <th>GOOGL</th>\n",
       "      <td>0.000303</td>\n",
       "      <td>0.000142</td>\n",
       "      <td>0.000205</td>\n",
       "      <td>0.000580</td>\n",
       "    </tr>\n",
       "  </tbody>\n",
       "</table>\n",
       "</div>"
      ],
      "text/plain": [
       "           AAPL       IBM      MSFT     GOOGL\n",
       "AAPL   0.001027  0.000252  0.000309  0.000303\n",
       "IBM    0.000252  0.000367  0.000216  0.000142\n",
       "MSFT   0.000309  0.000216  0.000516  0.000205\n",
       "GOOGL  0.000303  0.000142  0.000205  0.000580"
      ]
     },
     "execution_count": 126,
     "metadata": {},
     "output_type": "execute_result"
    }
   ],
   "source": [
    "returns.cov()"
   ]
  },
  {
   "cell_type": "markdown",
   "metadata": {
    "colab_type": "text",
    "id": "LvFhhuc8kx4v",
    "nbpresent": {
     "id": "0aab2ab5-223c-4a7a-9c15-0276945e44b9"
    },
    "slideshow": {
     "slide_type": "slide"
    }
   },
   "source": [
    "Using **`DataFrame`** **`corrwith`** method, you can compute pairwise correlations between a **`DataFrame`** columns or rows with another **`Series`** or **`DataFrame`**. Passing a **`Series`** returns a **`Series`** with the correlation value computed for each column:"
   ]
  },
  {
   "cell_type": "code",
   "execution_count": 127,
   "metadata": {
    "colab": {},
    "colab_type": "code",
    "id": "wU-4tmJDkx4w",
    "nbpresent": {
     "id": "33071397-420a-4b29-ba7e-4277508cfacc"
    },
    "outputId": "3f6fd020-5146-4ab7-fcdd-a159fc7900a8"
   },
   "outputs": [
    {
     "data": {
      "text/plain": [
       "AAPL     0.410011\n",
       "IBM      1.000000\n",
       "MSFT     0.495979\n",
       "GOOGL    0.390689\n",
       "dtype: float64"
      ]
     },
     "execution_count": 127,
     "metadata": {},
     "output_type": "execute_result"
    }
   ],
   "source": [
    "returns.corrwith(returns.IBM)"
   ]
  },
  {
   "cell_type": "markdown",
   "metadata": {
    "colab_type": "text",
    "id": "MXgbYrABkx4x",
    "nbpresent": {
     "id": "5d762431-ed0d-46f0-8dcf-f93842cb0250"
    },
    "slideshow": {
     "slide_type": "slide"
    }
   },
   "source": [
    "Passing a **`DataFrame`** computes the correlations of matching column names. Here we compute correlations of percent changes with volume:"
   ]
  },
  {
   "cell_type": "code",
   "execution_count": 128,
   "metadata": {
    "colab": {},
    "colab_type": "code",
    "id": "uKGncAlqkx4x",
    "nbpresent": {
     "id": "7b1b2cd9-5bdf-4cfc-a0ff-b70b9a5d402e"
    },
    "outputId": "60bc560d-7fa3-43b5-cf90-1f984190b13b"
   },
   "outputs": [
    {
     "data": {
      "text/plain": [
       "AAPL    -0.057549\n",
       "IBM     -0.007891\n",
       "MSFT    -0.014245\n",
       "GOOGL    0.062648\n",
       "dtype: float64"
      ]
     },
     "execution_count": 128,
     "metadata": {},
     "output_type": "execute_result"
    }
   ],
   "source": [
    "returns.corrwith(volume)"
   ]
  },
  {
   "cell_type": "markdown",
   "metadata": {
    "colab_type": "text",
    "id": "EbNKlEIJkx4z",
    "nbpresent": {
     "id": "3aa35d7d-6a4a-4c15-bd1e-ec2dfd77ea85"
    },
    "slideshow": {
     "slide_type": "slide"
    }
   },
   "source": [
    "### 7.4.2 Unique Values, Value Counts, and Membership\n",
    "\n",
    "Another class of related methods extracts information about the values contained in a one-dimensional **`Series`**. To illustrate these, consider this example:"
   ]
  },
  {
   "cell_type": "code",
   "execution_count": 129,
   "metadata": {
    "colab": {},
    "colab_type": "code",
    "id": "vtu8Owxukx4z",
    "nbpresent": {
     "id": "3313d33b-6864-4650-901c-cacbeabe246b"
    },
    "outputId": "e8164fc7-ccda-4fbf-bcfc-3a3599dbd001"
   },
   "outputs": [
    {
     "data": {
      "text/plain": [
       "0    c\n",
       "1    a\n",
       "2    d\n",
       "3    a\n",
       "4    a\n",
       "5    b\n",
       "6    b\n",
       "7    c\n",
       "8    c\n",
       "dtype: object"
      ]
     },
     "execution_count": 129,
     "metadata": {},
     "output_type": "execute_result"
    }
   ],
   "source": [
    "obj = pd.Series(['c', 'a', 'd', 'a', 'a', 'b', 'b', 'c', 'c'])\n",
    "obj"
   ]
  },
  {
   "cell_type": "markdown",
   "metadata": {
    "colab_type": "text",
    "id": "BbuKg5Mokx41",
    "nbpresent": {
     "id": "8b111e38-5166-4b5b-a3cd-9d74c86b238c"
    },
    "slideshow": {
     "slide_type": "slide"
    }
   },
   "source": [
    "The first function is **`unique`**, which gives you an array of the unique values in a Series:"
   ]
  },
  {
   "cell_type": "code",
   "execution_count": 130,
   "metadata": {
    "colab": {},
    "colab_type": "code",
    "id": "y5Kn__yTkx41",
    "nbpresent": {
     "id": "d262cef9-6392-47e0-accf-3b1b1d1a9961"
    },
    "outputId": "be67f31d-2442-4b8a-ac05-0eaf510dd5ac"
   },
   "outputs": [
    {
     "data": {
      "text/plain": [
       "array(['c', 'a', 'd', 'b'], dtype=object)"
      ]
     },
     "execution_count": 130,
     "metadata": {},
     "output_type": "execute_result"
    }
   ],
   "source": [
    "uniques = obj.unique()\n",
    "uniques"
   ]
  },
  {
   "cell_type": "markdown",
   "metadata": {
    "colab_type": "text",
    "id": "LHSYAUOzkx42",
    "nbpresent": {
     "id": "69a6e2c0-d7b5-4479-b886-d4b901204458"
    },
    "slideshow": {
     "slide_type": "slide"
    }
   },
   "source": [
    "The unique values are not necessarily returned in sorted order, but could be sorted after the fact if needed (**`uniques.sort()`**). Relatedly, **`value_counts`** computes a **`Series`** containing value frequencies:"
   ]
  },
  {
   "cell_type": "code",
   "execution_count": 131,
   "metadata": {
    "colab": {},
    "colab_type": "code",
    "id": "2ud_qAXYkx43",
    "nbpresent": {
     "id": "8121ecd1-2157-4004-a3a4-09ad3ae22206"
    },
    "outputId": "d7a5fdb0-5722-4ccc-db4b-472c8c8cdb30"
   },
   "outputs": [
    {
     "data": {
      "text/plain": [
       "a    3\n",
       "c    3\n",
       "b    2\n",
       "d    1\n",
       "dtype: int64"
      ]
     },
     "execution_count": 131,
     "metadata": {},
     "output_type": "execute_result"
    }
   ],
   "source": [
    "obj.value_counts()"
   ]
  },
  {
   "cell_type": "markdown",
   "metadata": {
    "colab_type": "text",
    "id": "VQE5DLXGkx44",
    "nbpresent": {
     "id": "c544df0e-4faa-4480-88d9-0828dfb01216"
    },
    "slideshow": {
     "slide_type": "slide"
    }
   },
   "source": [
    "The **`Series`** is sorted by value in descending order as a convenience. **`value_counts`** is also available as a top-level **`pandas`** method that can be used with any array or sequence:"
   ]
  },
  {
   "cell_type": "code",
   "execution_count": 132,
   "metadata": {
    "colab": {},
    "colab_type": "code",
    "id": "G6_aNqhqkx45",
    "nbpresent": {
     "id": "7b96f34d-f62d-4347-b349-5730427cdb93"
    },
    "outputId": "5dc08359-8c87-4bba-d828-0fd240416752"
   },
   "outputs": [
    {
     "data": {
      "text/plain": [
       "b    2\n",
       "c    3\n",
       "a    3\n",
       "d    1\n",
       "dtype: int64"
      ]
     },
     "execution_count": 132,
     "metadata": {},
     "output_type": "execute_result"
    }
   ],
   "source": [
    "pd.value_counts(obj.values, sort=False)"
   ]
  },
  {
   "cell_type": "markdown",
   "metadata": {
    "colab_type": "text",
    "id": "7ipv95aUkx46",
    "nbpresent": {
     "id": "5df1491b-40b3-401d-a74d-6e72604f71f9"
    },
    "slideshow": {
     "slide_type": "slide"
    }
   },
   "source": [
    "Lastly, **`isin`** is responsible for vectorized set membership and can be very useful in filtering a data set down to a subset of values in a **`Series`** or column in a **`DataFrame`**:"
   ]
  },
  {
   "cell_type": "code",
   "execution_count": 133,
   "metadata": {
    "colab": {},
    "colab_type": "code",
    "id": "E92OdQw6kx46",
    "nbpresent": {
     "id": "65d5c507-b3c1-412d-a8a8-5facc45b7d85"
    },
    "outputId": "ae983c88-f57c-4582-df52-aaabf524e245"
   },
   "outputs": [
    {
     "data": {
      "text/plain": [
       "0     True\n",
       "1    False\n",
       "2    False\n",
       "3    False\n",
       "4    False\n",
       "5     True\n",
       "6     True\n",
       "7     True\n",
       "8     True\n",
       "dtype: bool"
      ]
     },
     "execution_count": 133,
     "metadata": {},
     "output_type": "execute_result"
    },
    {
     "data": {
      "text/plain": [
       "0    c\n",
       "5    b\n",
       "6    b\n",
       "7    c\n",
       "8    c\n",
       "dtype: object"
      ]
     },
     "execution_count": 133,
     "metadata": {},
     "output_type": "execute_result"
    }
   ],
   "source": [
    "mask = obj.isin(['b', 'c'])\n",
    "mask\n",
    "obj[mask]"
   ]
  },
  {
   "cell_type": "markdown",
   "metadata": {
    "colab_type": "text",
    "id": "wii9xDftkx48",
    "nbpresent": {
     "id": "fed457c1-ec1e-4470-ad89-1a14d2003868"
    },
    "slideshow": {
     "slide_type": "slide"
    }
   },
   "source": [
    "**Unique, value counts, and binning methods**\n",
    "\n",
    "\n",
    "|**Method**   |  **Description**  |\n",
    "|:---| :---|\n",
    "| **`isin`** | Compute boolean array indicating whether each Series value is contained in the passed sequence of values. |\n",
    "| **`unique`** | Compute array of unique values in a Series, returned in the order observed. |\n",
    "| **`value_counts`** | Return a **`Series`** containing unique values as its index and frequencies as its values, ordered count in descending order. |"
   ]
  },
  {
   "cell_type": "markdown",
   "metadata": {
    "colab_type": "text",
    "id": "ANDKyo0Ckx48",
    "nbpresent": {
     "id": "587b5fe4-43bf-4282-b3d1-81acfbd58802"
    },
    "slideshow": {
     "slide_type": "slide"
    }
   },
   "source": [
    "In some cases, you may want to compute a histogram on multiple related columns in a **`DataFrame`**. Here’s an example:"
   ]
  },
  {
   "cell_type": "code",
   "execution_count": 134,
   "metadata": {
    "colab": {},
    "colab_type": "code",
    "id": "gkaoTUUjkx49",
    "nbpresent": {
     "id": "09cf8c4a-2bf4-4b58-bca7-9f7986b7a32f"
    },
    "outputId": "9a63571a-e68a-4ed7-b985-095c3d75b15c"
   },
   "outputs": [
    {
     "data": {
      "text/html": [
       "<div>\n",
       "<style scoped>\n",
       "    .dataframe tbody tr th:only-of-type {\n",
       "        vertical-align: middle;\n",
       "    }\n",
       "\n",
       "    .dataframe tbody tr th {\n",
       "        vertical-align: top;\n",
       "    }\n",
       "\n",
       "    .dataframe thead th {\n",
       "        text-align: right;\n",
       "    }\n",
       "</style>\n",
       "<table border=\"1\" class=\"dataframe\">\n",
       "  <thead>\n",
       "    <tr style=\"text-align: right;\">\n",
       "      <th></th>\n",
       "      <th>Qu1</th>\n",
       "      <th>Qu2</th>\n",
       "      <th>Qu3</th>\n",
       "    </tr>\n",
       "  </thead>\n",
       "  <tbody>\n",
       "    <tr>\n",
       "      <th>0</th>\n",
       "      <td>1</td>\n",
       "      <td>2</td>\n",
       "      <td>1</td>\n",
       "    </tr>\n",
       "    <tr>\n",
       "      <th>1</th>\n",
       "      <td>3</td>\n",
       "      <td>3</td>\n",
       "      <td>5</td>\n",
       "    </tr>\n",
       "    <tr>\n",
       "      <th>2</th>\n",
       "      <td>4</td>\n",
       "      <td>1</td>\n",
       "      <td>2</td>\n",
       "    </tr>\n",
       "    <tr>\n",
       "      <th>3</th>\n",
       "      <td>3</td>\n",
       "      <td>2</td>\n",
       "      <td>4</td>\n",
       "    </tr>\n",
       "    <tr>\n",
       "      <th>4</th>\n",
       "      <td>4</td>\n",
       "      <td>3</td>\n",
       "      <td>4</td>\n",
       "    </tr>\n",
       "  </tbody>\n",
       "</table>\n",
       "</div>"
      ],
      "text/plain": [
       "   Qu1  Qu2  Qu3\n",
       "0    1    2    1\n",
       "1    3    3    5\n",
       "2    4    1    2\n",
       "3    3    2    4\n",
       "4    4    3    4"
      ]
     },
     "execution_count": 134,
     "metadata": {},
     "output_type": "execute_result"
    }
   ],
   "source": [
    "data = pd.DataFrame({'Qu1': [1, 3, 4, 3, 4], \n",
    "                  'Qu2': [2, 3, 1, 2, 3],\n",
    "                  'Qu3': [1, 5, 2, 4, 4]})\n",
    "data"
   ]
  },
  {
   "cell_type": "markdown",
   "metadata": {
    "colab_type": "text",
    "id": "RCj42tZRkx4-",
    "nbpresent": {
     "id": "04e14a09-90a0-4814-923e-f9b34bc8dbb0"
    },
    "slideshow": {
     "slide_type": "slide"
    }
   },
   "source": [
    "Passing **`pandas.value_counts`** to this **`DataFrame`** **`apply`** function gives:"
   ]
  },
  {
   "cell_type": "code",
   "execution_count": 135,
   "metadata": {
    "colab": {},
    "colab_type": "code",
    "id": "kcbQhLl6kx4-",
    "nbpresent": {
     "id": "eefa949e-b95f-4bc4-b06b-a94aac0bde53"
    },
    "outputId": "68846a02-0337-4d6a-c3e1-ba143e26202e"
   },
   "outputs": [
    {
     "data": {
      "text/html": [
       "<div>\n",
       "<style scoped>\n",
       "    .dataframe tbody tr th:only-of-type {\n",
       "        vertical-align: middle;\n",
       "    }\n",
       "\n",
       "    .dataframe tbody tr th {\n",
       "        vertical-align: top;\n",
       "    }\n",
       "\n",
       "    .dataframe thead th {\n",
       "        text-align: right;\n",
       "    }\n",
       "</style>\n",
       "<table border=\"1\" class=\"dataframe\">\n",
       "  <thead>\n",
       "    <tr style=\"text-align: right;\">\n",
       "      <th></th>\n",
       "      <th>Qu1</th>\n",
       "      <th>Qu2</th>\n",
       "      <th>Qu3</th>\n",
       "    </tr>\n",
       "  </thead>\n",
       "  <tbody>\n",
       "    <tr>\n",
       "      <th>1</th>\n",
       "      <td>1.0</td>\n",
       "      <td>1.0</td>\n",
       "      <td>1.0</td>\n",
       "    </tr>\n",
       "    <tr>\n",
       "      <th>2</th>\n",
       "      <td>0.0</td>\n",
       "      <td>2.0</td>\n",
       "      <td>1.0</td>\n",
       "    </tr>\n",
       "    <tr>\n",
       "      <th>3</th>\n",
       "      <td>2.0</td>\n",
       "      <td>2.0</td>\n",
       "      <td>0.0</td>\n",
       "    </tr>\n",
       "    <tr>\n",
       "      <th>4</th>\n",
       "      <td>2.0</td>\n",
       "      <td>0.0</td>\n",
       "      <td>2.0</td>\n",
       "    </tr>\n",
       "    <tr>\n",
       "      <th>5</th>\n",
       "      <td>0.0</td>\n",
       "      <td>0.0</td>\n",
       "      <td>1.0</td>\n",
       "    </tr>\n",
       "  </tbody>\n",
       "</table>\n",
       "</div>"
      ],
      "text/plain": [
       "   Qu1  Qu2  Qu3\n",
       "1  1.0  1.0  1.0\n",
       "2  0.0  2.0  1.0\n",
       "3  2.0  2.0  0.0\n",
       "4  2.0  0.0  2.0\n",
       "5  0.0  0.0  1.0"
      ]
     },
     "execution_count": 135,
     "metadata": {},
     "output_type": "execute_result"
    }
   ],
   "source": [
    "result = data.apply(pd.value_counts).fillna(0)\n",
    "result"
   ]
  },
  {
   "cell_type": "markdown",
   "metadata": {
    "colab_type": "text",
    "id": "n8wOu51AFPf8"
   },
   "source": [
    "<div class=\"alert alert-warning\">\n",
    "<b> Intro</b> \n",
    "\n",
    "In this section we will work with the real financial data. In order to easily import it please install `yfinance` and import the library.\n",
    "</div>"
   ]
  },
  {
   "cell_type": "code",
   "execution_count": 16,
   "metadata": {
    "colab": {},
    "colab_type": "code",
    "id": "J-zA9YytDsaX"
   },
   "outputs": [],
   "source": [
    "# Write your solution here"
   ]
  },
  {
   "cell_type": "markdown",
   "metadata": {
    "colab_type": "text",
    "id": "7WUl_8w2F9Y7"
   },
   "source": [
    "<div class=\"alert alert-warning\">\n",
    "<b>EXERCISE 11:</b> \n",
    "Create a dataframe called `data` using quandl get command to get the prices of WTI Crude Oil price from the US Department of Energy for the period from 1st of September to 16th of November 2018.\n",
    "\n",
    "Consider that WTI Crude Oil has various ticker symbols in Yahoo Finance. For example, CL=F for futures. You can find more information about it here:\n",
    "\n",
    "https://finance.yahoo.com/quote/CL=F/?guccounter=1\n",
    "\n",
    "So, in order to get the data you need to use the following code:\n",
    "\n",
    "```python\n",
    "\n",
    "# Define the ticker symbol and the date range\n",
    "ticker_symbol = \"CL=F\"\n",
    "start_date = \"2018-09-01\"\n",
    "end_date = \"2018-11-16\"\n",
    "\n",
    "# Fetch the data\n",
    "data = yf.download(ticker_symbol, start=start_date, end=end_date)\n",
    "\n",
    "```\n",
    " \n",
    " Write a code to get an overview of the data, such as number of datarows, mean, standard deviation, min and max values, etc.\n",
    "</div>"
   ]
  },
  {
   "cell_type": "code",
   "execution_count": 17,
   "metadata": {
    "colab": {
     "base_uri": "https://localhost:8080/",
     "height": 297
    },
    "colab_type": "code",
    "id": "60vvZbABFAmq",
    "outputId": "728a2de7-65a7-444c-963d-bf09b6bb9c92"
   },
   "outputs": [],
   "source": [
    "# Write your solution here"
   ]
  },
  {
   "cell_type": "markdown",
   "metadata": {
    "colab_type": "text",
    "id": "Vx3ViJnVG4jw"
   },
   "source": [
    "<div class=\"alert alert-warning\">\n",
    "<b>EXERCISE 12:</b> \n",
    "<p> Write a code to see the first and the last 5 rows of the dataset.</p>\n",
    "</div>"
   ]
  },
  {
   "cell_type": "code",
   "execution_count": 19,
   "metadata": {
    "colab": {
     "base_uri": "https://localhost:8080/",
     "height": 235
    },
    "colab_type": "code",
    "id": "NWTS_AetD_FF",
    "outputId": "5bbdd047-b5c8-4b0a-8ab9-5243c0467f7d"
   },
   "outputs": [],
   "source": [
    "# Write your solution here"
   ]
  },
  {
   "cell_type": "markdown",
   "metadata": {
    "colab_type": "text",
    "id": "6l1WJPPWHSBz"
   },
   "source": [
    "<div class=\"alert alert-warning\">\n",
    "<b>EXERCISE 13:</b> \n",
    "<p> Write a code to see the percentage changes of the prices in the dataset.</p>\n",
    "</div>"
   ]
  },
  {
   "cell_type": "code",
   "execution_count": 18,
   "metadata": {
    "colab": {
     "base_uri": "https://localhost:8080/",
     "height": 935
    },
    "colab_type": "code",
    "id": "n6ZA_IpYHSeC",
    "outputId": "28c19c04-5192-4b1d-bbe6-aebf4f963d2b"
   },
   "outputs": [],
   "source": [
    "# Write your solution here"
   ]
  },
  {
   "cell_type": "markdown",
   "metadata": {
    "colab_type": "text",
    "id": "4P3JnadDH3As"
   },
   "source": [
    "<div class=\"alert alert-warning\">\n",
    "<b>EXERCISE 14:</b> \n",
    "<p> Check on how many days the value of WTI Crude was equal or more than $70.</p>\n",
    "</div>"
   ]
  },
  {
   "cell_type": "code",
   "execution_count": 20,
   "metadata": {
    "colab": {
     "base_uri": "https://localhost:8080/",
     "height": 51
    },
    "colab_type": "code",
    "id": "S23hE-HDIgpP",
    "outputId": "192f569a-f31a-48e2-ce59-043cea700977"
   },
   "outputs": [],
   "source": [
    "# Write your solution here"
   ]
  },
  {
   "cell_type": "markdown",
   "metadata": {
    "colab_type": "text",
    "id": "rWJmxy6oJSWg"
   },
   "source": [
    "<div class=\"alert alert-warning\">\n",
    "<b>EXERCISE 15:</b> \n",
    "<p> Write a code that returns the index of the highest and the lowest values in the dataframe.</p>\n",
    "</div>"
   ]
  },
  {
   "cell_type": "code",
   "execution_count": 21,
   "metadata": {
    "colab": {
     "base_uri": "https://localhost:8080/",
     "height": 51
    },
    "colab_type": "code",
    "id": "6PvFxImpJ-VP",
    "outputId": "821f284a-79b8-4b30-cc16-5ee171716e2d"
   },
   "outputs": [],
   "source": [
    "# Write your solution here"
   ]
  },
  {
   "cell_type": "markdown",
   "metadata": {
    "colab_type": "text",
    "id": "EiqDBgHHkx4_",
    "nbpresent": {
     "id": "40c29fdb-0b1a-4079-9b41-f78f24996fbb"
    },
    "slideshow": {
     "slide_type": "slide"
    }
   },
   "source": [
    "## 7.5 Handling Missing Data\n",
    "\n",
    "Missing data is common in most data analysis applications. **`pandas`** was designed to make working with missing data as painless as possible. \n",
    "\n",
    "For example, all of the descriptive statistics on **`pandas`** objects exclude missing data as we’ve seen earlier."
   ]
  },
  {
   "cell_type": "markdown",
   "metadata": {
    "colab_type": "text",
    "id": "XYZeYOaZkx5A",
    "nbpresent": {
     "id": "414cab43-9d43-40a7-9d1d-6dd7a8496f25"
    },
    "slideshow": {
     "slide_type": "slide"
    }
   },
   "source": [
    "**`pandas`** uses the floating point value **`NaN`** (*Not a Number*) to represent missing data in both floating as well as in non-floating point arrays. It is just used as a *sentinel* that can be easily detected:"
   ]
  },
  {
   "cell_type": "code",
   "execution_count": 142,
   "metadata": {
    "colab": {},
    "colab_type": "code",
    "id": "W7TaAej3kx5B",
    "nbpresent": {
     "id": "863150dd-51d2-40ef-a423-a329dd249e3b"
    },
    "outputId": "fc4a249e-5dab-4251-c5dd-81396f61f8cb"
   },
   "outputs": [
    {
     "data": {
      "text/plain": [
       "0     aardvark\n",
       "1    artichoke\n",
       "2          NaN\n",
       "3      avocado\n",
       "dtype: object"
      ]
     },
     "execution_count": 142,
     "metadata": {},
     "output_type": "execute_result"
    },
    {
     "data": {
      "text/plain": [
       "0    False\n",
       "1    False\n",
       "2     True\n",
       "3    False\n",
       "dtype: bool"
      ]
     },
     "execution_count": 142,
     "metadata": {},
     "output_type": "execute_result"
    }
   ],
   "source": [
    "string_data = pd.Series(['aardvark', 'artichoke', np.nan, 'avocado'])\n",
    "string_data\n",
    "string_data.isnull()"
   ]
  },
  {
   "cell_type": "markdown",
   "metadata": {
    "colab_type": "text",
    "id": "OZxttI0akx5I",
    "nbpresent": {
     "id": "f6b6d442-88fe-44ce-9498-c69fd7be7312"
    },
    "slideshow": {
     "slide_type": "slide"
    }
   },
   "source": [
    "The built-in Python **`None`** value is also treated as NA in object arrays:"
   ]
  },
  {
   "cell_type": "code",
   "execution_count": 143,
   "metadata": {
    "colab": {},
    "colab_type": "code",
    "id": "DbV-IB5Ykx5I",
    "nbpresent": {
     "id": "1bdfb307-2a2e-4648-bff9-26801621f918"
    },
    "outputId": "a18ebdf6-07cf-41cb-da61-2e6cf1ba24b0"
   },
   "outputs": [
    {
     "data": {
      "text/plain": [
       "0     True\n",
       "1    False\n",
       "2     True\n",
       "3    False\n",
       "dtype: bool"
      ]
     },
     "execution_count": 143,
     "metadata": {},
     "output_type": "execute_result"
    }
   ],
   "source": [
    "string_data[0] = None\n",
    "string_data.isnull()"
   ]
  },
  {
   "cell_type": "markdown",
   "metadata": {
    "colab_type": "text",
    "id": "qjUnvzmdkx5J",
    "nbpresent": {
     "id": "de1fca13-fcf4-4fb5-a94f-8e57c293a5da"
    },
    "slideshow": {
     "slide_type": "slide"
    }
   },
   "source": [
    "**NA handling methods**\n",
    "\n",
    "\n",
    "|**Method**   |  **Description**  |\n",
    "|:---| :---|\n",
    "| **`dropna`** | Filter axis labels based on whether values for each label have missing data, with varying thresholds for how much missing data to tolerate. |\n",
    "| **`fillna`** | Fill in missing data with some value or using an interpolation method such as **`ffill`** or **`bfill`** |\n",
    "| **`isnull`** | Return like-type object containing boolean values indicating which values are missing / NA. |\n",
    "| **`notnull`** | Negation of **`isnull`** |\n"
   ]
  },
  {
   "cell_type": "markdown",
   "metadata": {
    "colab_type": "text",
    "id": "JlHa2Sdikx5J",
    "nbpresent": {
     "id": "b0715d5f-de72-4cda-9b7d-d953f7c4ed0a"
    },
    "slideshow": {
     "slide_type": "slide"
    }
   },
   "source": [
    "### 7.5.1 Filtering Out Missing Data\n",
    "\n",
    "There are a number of options for filtering out missing data. While doing it by hand is always an option, **`dropna`** can be very helpful. \n",
    "\n",
    "On a **`Series`**, it returns the **`Series`** with only the non-null data and index values:"
   ]
  },
  {
   "cell_type": "code",
   "execution_count": 144,
   "metadata": {
    "colab": {},
    "colab_type": "code",
    "id": "z6zmlYrDkx5J",
    "nbpresent": {
     "id": "454ead32-5481-4b3b-85d6-0fae6430f2e9"
    },
    "outputId": "fb7141a2-e936-4192-ddc1-746a57dfe384"
   },
   "outputs": [
    {
     "data": {
      "text/plain": [
       "0    1.0\n",
       "1    NaN\n",
       "2    3.5\n",
       "3    NaN\n",
       "4    7.0\n",
       "dtype: float64"
      ]
     },
     "execution_count": 144,
     "metadata": {},
     "output_type": "execute_result"
    },
    {
     "data": {
      "text/plain": [
       "0    1.0\n",
       "2    3.5\n",
       "4    7.0\n",
       "dtype: float64"
      ]
     },
     "execution_count": 144,
     "metadata": {},
     "output_type": "execute_result"
    }
   ],
   "source": [
    "from numpy import nan as NA\n",
    "\n",
    "data = pd.Series([1, NA, 3.5, NA, 7])\n",
    "data\n",
    "data.dropna()"
   ]
  },
  {
   "cell_type": "markdown",
   "metadata": {
    "colab_type": "text",
    "id": "6j1b0Q77kx5K",
    "nbpresent": {
     "id": "8db1ad85-db03-491d-8c66-21b38a684b1a"
    },
    "slideshow": {
     "slide_type": "slide"
    }
   },
   "source": [
    "You could have computed this yourself by boolean indexing:"
   ]
  },
  {
   "cell_type": "code",
   "execution_count": 145,
   "metadata": {
    "colab": {},
    "colab_type": "code",
    "id": "MDcwm24Ikx5K",
    "nbpresent": {
     "id": "133485dd-2d73-47e7-820d-53b0c630e374"
    },
    "outputId": "3d9637e1-ef84-4348-c248-5be676ca04bb"
   },
   "outputs": [
    {
     "data": {
      "text/plain": [
       "0    1.0\n",
       "2    3.5\n",
       "4    7.0\n",
       "dtype: float64"
      ]
     },
     "execution_count": 145,
     "metadata": {},
     "output_type": "execute_result"
    }
   ],
   "source": [
    "data[data.notnull()]"
   ]
  },
  {
   "cell_type": "markdown",
   "metadata": {
    "colab_type": "text",
    "id": "8m7WKHNSkx5L",
    "nbpresent": {
     "id": "d2d2df77-05ef-4d5c-895b-3b6b2b947e0a"
    },
    "slideshow": {
     "slide_type": "slide"
    }
   },
   "source": [
    "However, with **`DataFrame`** objects, these are a bit more complex. You may want to drop rows or columns which are all NA or just those containing any NAs. **`dropna`** by default drops any row containing a missing value:"
   ]
  },
  {
   "cell_type": "code",
   "execution_count": 146,
   "metadata": {
    "colab": {},
    "colab_type": "code",
    "id": "fYzZacDKkx5L",
    "nbpresent": {
     "id": "b32b78e9-8a8a-42a6-92d7-94ac1d3af9e6"
    },
    "outputId": "aaeccbc2-c2f6-4639-adec-e5de7d0715f6"
   },
   "outputs": [
    {
     "data": {
      "text/html": [
       "<div>\n",
       "<style scoped>\n",
       "    .dataframe tbody tr th:only-of-type {\n",
       "        vertical-align: middle;\n",
       "    }\n",
       "\n",
       "    .dataframe tbody tr th {\n",
       "        vertical-align: top;\n",
       "    }\n",
       "\n",
       "    .dataframe thead th {\n",
       "        text-align: right;\n",
       "    }\n",
       "</style>\n",
       "<table border=\"1\" class=\"dataframe\">\n",
       "  <thead>\n",
       "    <tr style=\"text-align: right;\">\n",
       "      <th></th>\n",
       "      <th>0</th>\n",
       "      <th>1</th>\n",
       "      <th>2</th>\n",
       "    </tr>\n",
       "  </thead>\n",
       "  <tbody>\n",
       "    <tr>\n",
       "      <th>0</th>\n",
       "      <td>1.0</td>\n",
       "      <td>6.5</td>\n",
       "      <td>3.0</td>\n",
       "    </tr>\n",
       "    <tr>\n",
       "      <th>1</th>\n",
       "      <td>1.0</td>\n",
       "      <td>NaN</td>\n",
       "      <td>NaN</td>\n",
       "    </tr>\n",
       "    <tr>\n",
       "      <th>2</th>\n",
       "      <td>NaN</td>\n",
       "      <td>NaN</td>\n",
       "      <td>NaN</td>\n",
       "    </tr>\n",
       "    <tr>\n",
       "      <th>3</th>\n",
       "      <td>NaN</td>\n",
       "      <td>6.5</td>\n",
       "      <td>3.0</td>\n",
       "    </tr>\n",
       "  </tbody>\n",
       "</table>\n",
       "</div>"
      ],
      "text/plain": [
       "     0    1    2\n",
       "0  1.0  6.5  3.0\n",
       "1  1.0  NaN  NaN\n",
       "2  NaN  NaN  NaN\n",
       "3  NaN  6.5  3.0"
      ]
     },
     "execution_count": 146,
     "metadata": {},
     "output_type": "execute_result"
    },
    {
     "data": {
      "text/html": [
       "<div>\n",
       "<style scoped>\n",
       "    .dataframe tbody tr th:only-of-type {\n",
       "        vertical-align: middle;\n",
       "    }\n",
       "\n",
       "    .dataframe tbody tr th {\n",
       "        vertical-align: top;\n",
       "    }\n",
       "\n",
       "    .dataframe thead th {\n",
       "        text-align: right;\n",
       "    }\n",
       "</style>\n",
       "<table border=\"1\" class=\"dataframe\">\n",
       "  <thead>\n",
       "    <tr style=\"text-align: right;\">\n",
       "      <th></th>\n",
       "      <th>0</th>\n",
       "      <th>1</th>\n",
       "      <th>2</th>\n",
       "    </tr>\n",
       "  </thead>\n",
       "  <tbody>\n",
       "    <tr>\n",
       "      <th>0</th>\n",
       "      <td>1.0</td>\n",
       "      <td>6.5</td>\n",
       "      <td>3.0</td>\n",
       "    </tr>\n",
       "  </tbody>\n",
       "</table>\n",
       "</div>"
      ],
      "text/plain": [
       "     0    1    2\n",
       "0  1.0  6.5  3.0"
      ]
     },
     "execution_count": 146,
     "metadata": {},
     "output_type": "execute_result"
    }
   ],
   "source": [
    "data = pd.DataFrame([[1., 6.5, 3.], [1., NA, NA], [NA, NA, NA], [NA, 6.5, 3.]])\n",
    "cleaned = data.dropna()\n",
    "data\n",
    "cleaned"
   ]
  },
  {
   "cell_type": "markdown",
   "metadata": {
    "colab_type": "text",
    "id": "IBVB0xzxkx5M",
    "nbpresent": {
     "id": "89aed216-9c36-4f1f-8301-af09f560565e"
    },
    "slideshow": {
     "slide_type": "slide"
    }
   },
   "source": [
    "Passing **`how='all'`** will only drop rows that are all NA:"
   ]
  },
  {
   "cell_type": "code",
   "execution_count": 147,
   "metadata": {
    "colab": {},
    "colab_type": "code",
    "id": "S9fzHkqwkx5M",
    "nbpresent": {
     "id": "551034cd-8e8a-4d37-bac7-fa346cb20b3f"
    },
    "outputId": "e8328567-4dc0-4295-e3a6-e4e2728eca37"
   },
   "outputs": [
    {
     "data": {
      "text/html": [
       "<div>\n",
       "<style scoped>\n",
       "    .dataframe tbody tr th:only-of-type {\n",
       "        vertical-align: middle;\n",
       "    }\n",
       "\n",
       "    .dataframe tbody tr th {\n",
       "        vertical-align: top;\n",
       "    }\n",
       "\n",
       "    .dataframe thead th {\n",
       "        text-align: right;\n",
       "    }\n",
       "</style>\n",
       "<table border=\"1\" class=\"dataframe\">\n",
       "  <thead>\n",
       "    <tr style=\"text-align: right;\">\n",
       "      <th></th>\n",
       "      <th>0</th>\n",
       "      <th>1</th>\n",
       "      <th>2</th>\n",
       "    </tr>\n",
       "  </thead>\n",
       "  <tbody>\n",
       "    <tr>\n",
       "      <th>0</th>\n",
       "      <td>1.0</td>\n",
       "      <td>6.5</td>\n",
       "      <td>3.0</td>\n",
       "    </tr>\n",
       "    <tr>\n",
       "      <th>1</th>\n",
       "      <td>1.0</td>\n",
       "      <td>NaN</td>\n",
       "      <td>NaN</td>\n",
       "    </tr>\n",
       "    <tr>\n",
       "      <th>3</th>\n",
       "      <td>NaN</td>\n",
       "      <td>6.5</td>\n",
       "      <td>3.0</td>\n",
       "    </tr>\n",
       "  </tbody>\n",
       "</table>\n",
       "</div>"
      ],
      "text/plain": [
       "     0    1    2\n",
       "0  1.0  6.5  3.0\n",
       "1  1.0  NaN  NaN\n",
       "3  NaN  6.5  3.0"
      ]
     },
     "execution_count": 147,
     "metadata": {},
     "output_type": "execute_result"
    }
   ],
   "source": [
    "data.dropna(how='all')"
   ]
  },
  {
   "cell_type": "markdown",
   "metadata": {
    "colab_type": "text",
    "id": "79VRbOnAkx5O",
    "nbpresent": {
     "id": "0220a1c5-0aec-4685-8969-9e13de40a082"
    },
    "slideshow": {
     "slide_type": "slide"
    }
   },
   "source": [
    "Dropping columns in the same way is only a matter of passing **`axis=1`**:"
   ]
  },
  {
   "cell_type": "code",
   "execution_count": 148,
   "metadata": {
    "colab": {},
    "colab_type": "code",
    "id": "ysfRHGg4kx5O",
    "nbpresent": {
     "id": "0d398c10-b918-40eb-b537-79e4b5347459"
    },
    "outputId": "cd9197de-2d91-427d-959a-d1f6449fb292"
   },
   "outputs": [
    {
     "data": {
      "text/html": [
       "<div>\n",
       "<style scoped>\n",
       "    .dataframe tbody tr th:only-of-type {\n",
       "        vertical-align: middle;\n",
       "    }\n",
       "\n",
       "    .dataframe tbody tr th {\n",
       "        vertical-align: top;\n",
       "    }\n",
       "\n",
       "    .dataframe thead th {\n",
       "        text-align: right;\n",
       "    }\n",
       "</style>\n",
       "<table border=\"1\" class=\"dataframe\">\n",
       "  <thead>\n",
       "    <tr style=\"text-align: right;\">\n",
       "      <th></th>\n",
       "      <th>0</th>\n",
       "      <th>1</th>\n",
       "      <th>2</th>\n",
       "      <th>4</th>\n",
       "    </tr>\n",
       "  </thead>\n",
       "  <tbody>\n",
       "    <tr>\n",
       "      <th>0</th>\n",
       "      <td>1.0</td>\n",
       "      <td>6.5</td>\n",
       "      <td>3.0</td>\n",
       "      <td>NaN</td>\n",
       "    </tr>\n",
       "    <tr>\n",
       "      <th>1</th>\n",
       "      <td>1.0</td>\n",
       "      <td>NaN</td>\n",
       "      <td>NaN</td>\n",
       "      <td>NaN</td>\n",
       "    </tr>\n",
       "    <tr>\n",
       "      <th>2</th>\n",
       "      <td>NaN</td>\n",
       "      <td>NaN</td>\n",
       "      <td>NaN</td>\n",
       "      <td>NaN</td>\n",
       "    </tr>\n",
       "    <tr>\n",
       "      <th>3</th>\n",
       "      <td>NaN</td>\n",
       "      <td>6.5</td>\n",
       "      <td>3.0</td>\n",
       "      <td>NaN</td>\n",
       "    </tr>\n",
       "  </tbody>\n",
       "</table>\n",
       "</div>"
      ],
      "text/plain": [
       "     0    1    2   4\n",
       "0  1.0  6.5  3.0 NaN\n",
       "1  1.0  NaN  NaN NaN\n",
       "2  NaN  NaN  NaN NaN\n",
       "3  NaN  6.5  3.0 NaN"
      ]
     },
     "execution_count": 148,
     "metadata": {},
     "output_type": "execute_result"
    },
    {
     "data": {
      "text/html": [
       "<div>\n",
       "<style scoped>\n",
       "    .dataframe tbody tr th:only-of-type {\n",
       "        vertical-align: middle;\n",
       "    }\n",
       "\n",
       "    .dataframe tbody tr th {\n",
       "        vertical-align: top;\n",
       "    }\n",
       "\n",
       "    .dataframe thead th {\n",
       "        text-align: right;\n",
       "    }\n",
       "</style>\n",
       "<table border=\"1\" class=\"dataframe\">\n",
       "  <thead>\n",
       "    <tr style=\"text-align: right;\">\n",
       "      <th></th>\n",
       "      <th>0</th>\n",
       "      <th>1</th>\n",
       "      <th>2</th>\n",
       "    </tr>\n",
       "  </thead>\n",
       "  <tbody>\n",
       "    <tr>\n",
       "      <th>0</th>\n",
       "      <td>1.0</td>\n",
       "      <td>6.5</td>\n",
       "      <td>3.0</td>\n",
       "    </tr>\n",
       "    <tr>\n",
       "      <th>1</th>\n",
       "      <td>1.0</td>\n",
       "      <td>NaN</td>\n",
       "      <td>NaN</td>\n",
       "    </tr>\n",
       "    <tr>\n",
       "      <th>2</th>\n",
       "      <td>NaN</td>\n",
       "      <td>NaN</td>\n",
       "      <td>NaN</td>\n",
       "    </tr>\n",
       "    <tr>\n",
       "      <th>3</th>\n",
       "      <td>NaN</td>\n",
       "      <td>6.5</td>\n",
       "      <td>3.0</td>\n",
       "    </tr>\n",
       "  </tbody>\n",
       "</table>\n",
       "</div>"
      ],
      "text/plain": [
       "     0    1    2\n",
       "0  1.0  6.5  3.0\n",
       "1  1.0  NaN  NaN\n",
       "2  NaN  NaN  NaN\n",
       "3  NaN  6.5  3.0"
      ]
     },
     "execution_count": 148,
     "metadata": {},
     "output_type": "execute_result"
    }
   ],
   "source": [
    "data[4] = NA\n",
    "data\n",
    "data.dropna(axis=1, how='all')"
   ]
  },
  {
   "cell_type": "markdown",
   "metadata": {
    "colab_type": "text",
    "id": "3i5q9gYdkx5P",
    "nbpresent": {
     "id": "fa5d8101-ede8-481a-90c9-2842cd1f0b36"
    },
    "slideshow": {
     "slide_type": "slide"
    }
   },
   "source": [
    "A related way to filter out **`DataFrame`** rows tends to concern time series data. Suppose you want to keep only rows containing a certain number of observations. You can indicate this with the thresh argument:"
   ]
  },
  {
   "cell_type": "code",
   "execution_count": 149,
   "metadata": {
    "colab": {},
    "colab_type": "code",
    "id": "mDZ2wMKlkx5P",
    "nbpresent": {
     "id": "fb33109e-d6a3-46e7-915c-2b5a870dc2e4"
    },
    "outputId": "54093764-f855-4f63-9a75-d1e80b794518"
   },
   "outputs": [
    {
     "data": {
      "text/html": [
       "<div>\n",
       "<style scoped>\n",
       "    .dataframe tbody tr th:only-of-type {\n",
       "        vertical-align: middle;\n",
       "    }\n",
       "\n",
       "    .dataframe tbody tr th {\n",
       "        vertical-align: top;\n",
       "    }\n",
       "\n",
       "    .dataframe thead th {\n",
       "        text-align: right;\n",
       "    }\n",
       "</style>\n",
       "<table border=\"1\" class=\"dataframe\">\n",
       "  <thead>\n",
       "    <tr style=\"text-align: right;\">\n",
       "      <th></th>\n",
       "      <th>0</th>\n",
       "      <th>1</th>\n",
       "      <th>2</th>\n",
       "    </tr>\n",
       "  </thead>\n",
       "  <tbody>\n",
       "    <tr>\n",
       "      <th>0</th>\n",
       "      <td>0.960170</td>\n",
       "      <td>NaN</td>\n",
       "      <td>NaN</td>\n",
       "    </tr>\n",
       "    <tr>\n",
       "      <th>1</th>\n",
       "      <td>-0.340254</td>\n",
       "      <td>NaN</td>\n",
       "      <td>NaN</td>\n",
       "    </tr>\n",
       "    <tr>\n",
       "      <th>2</th>\n",
       "      <td>-1.370505</td>\n",
       "      <td>NaN</td>\n",
       "      <td>NaN</td>\n",
       "    </tr>\n",
       "    <tr>\n",
       "      <th>3</th>\n",
       "      <td>-0.800074</td>\n",
       "      <td>NaN</td>\n",
       "      <td>-1.086622</td>\n",
       "    </tr>\n",
       "    <tr>\n",
       "      <th>4</th>\n",
       "      <td>-0.286595</td>\n",
       "      <td>NaN</td>\n",
       "      <td>0.663390</td>\n",
       "    </tr>\n",
       "    <tr>\n",
       "      <th>5</th>\n",
       "      <td>-0.131311</td>\n",
       "      <td>0.637776</td>\n",
       "      <td>-0.810333</td>\n",
       "    </tr>\n",
       "    <tr>\n",
       "      <th>6</th>\n",
       "      <td>1.103679</td>\n",
       "      <td>-0.631128</td>\n",
       "      <td>1.695577</td>\n",
       "    </tr>\n",
       "  </tbody>\n",
       "</table>\n",
       "</div>"
      ],
      "text/plain": [
       "          0         1         2\n",
       "0  0.960170       NaN       NaN\n",
       "1 -0.340254       NaN       NaN\n",
       "2 -1.370505       NaN       NaN\n",
       "3 -0.800074       NaN -1.086622\n",
       "4 -0.286595       NaN  0.663390\n",
       "5 -0.131311  0.637776 -0.810333\n",
       "6  1.103679 -0.631128  1.695577"
      ]
     },
     "execution_count": 149,
     "metadata": {},
     "output_type": "execute_result"
    },
    {
     "data": {
      "text/html": [
       "<div>\n",
       "<style scoped>\n",
       "    .dataframe tbody tr th:only-of-type {\n",
       "        vertical-align: middle;\n",
       "    }\n",
       "\n",
       "    .dataframe tbody tr th {\n",
       "        vertical-align: top;\n",
       "    }\n",
       "\n",
       "    .dataframe thead th {\n",
       "        text-align: right;\n",
       "    }\n",
       "</style>\n",
       "<table border=\"1\" class=\"dataframe\">\n",
       "  <thead>\n",
       "    <tr style=\"text-align: right;\">\n",
       "      <th></th>\n",
       "      <th>0</th>\n",
       "      <th>1</th>\n",
       "      <th>2</th>\n",
       "    </tr>\n",
       "  </thead>\n",
       "  <tbody>\n",
       "    <tr>\n",
       "      <th>5</th>\n",
       "      <td>-0.131311</td>\n",
       "      <td>0.637776</td>\n",
       "      <td>-0.810333</td>\n",
       "    </tr>\n",
       "    <tr>\n",
       "      <th>6</th>\n",
       "      <td>1.103679</td>\n",
       "      <td>-0.631128</td>\n",
       "      <td>1.695577</td>\n",
       "    </tr>\n",
       "  </tbody>\n",
       "</table>\n",
       "</div>"
      ],
      "text/plain": [
       "          0         1         2\n",
       "5 -0.131311  0.637776 -0.810333\n",
       "6  1.103679 -0.631128  1.695577"
      ]
     },
     "execution_count": 149,
     "metadata": {},
     "output_type": "execute_result"
    }
   ],
   "source": [
    "df = pd.DataFrame(np.random.randn(7, 3))\n",
    "df.loc[:4,1] = NA\n",
    "df.loc[:2,2] = NA\n",
    "df\n",
    "df.dropna(thresh=3)"
   ]
  },
  {
   "cell_type": "markdown",
   "metadata": {
    "colab_type": "text",
    "id": "IWxp3Fjpkx5Q",
    "nbpresent": {
     "id": "7ad763eb-e7bb-47ad-865d-813d516bc6c3"
    },
    "slideshow": {
     "slide_type": "slide"
    }
   },
   "source": [
    "### 7.5.2 Filling in Missing Data\n",
    "\n",
    "Rather than filtering out missing data (and potentially discarding other data along with it), you may want to fill in the “holes” in any number of ways. \n",
    "\n",
    "For most purposes, the **`fillna`** method is the workhorse function to use. Calling **`fillna`** with a constant replaces missing values with that value:"
   ]
  },
  {
   "cell_type": "code",
   "execution_count": 150,
   "metadata": {
    "colab": {},
    "colab_type": "code",
    "id": "q_izhkR9kx5Q",
    "nbpresent": {
     "id": "c284bba2-fc26-4717-87ba-fd407588e6ec"
    },
    "outputId": "81fa9225-f0be-4748-ab81-1e04a93e2e58"
   },
   "outputs": [
    {
     "data": {
      "text/html": [
       "<div>\n",
       "<style scoped>\n",
       "    .dataframe tbody tr th:only-of-type {\n",
       "        vertical-align: middle;\n",
       "    }\n",
       "\n",
       "    .dataframe tbody tr th {\n",
       "        vertical-align: top;\n",
       "    }\n",
       "\n",
       "    .dataframe thead th {\n",
       "        text-align: right;\n",
       "    }\n",
       "</style>\n",
       "<table border=\"1\" class=\"dataframe\">\n",
       "  <thead>\n",
       "    <tr style=\"text-align: right;\">\n",
       "      <th></th>\n",
       "      <th>0</th>\n",
       "      <th>1</th>\n",
       "      <th>2</th>\n",
       "    </tr>\n",
       "  </thead>\n",
       "  <tbody>\n",
       "    <tr>\n",
       "      <th>0</th>\n",
       "      <td>0.960170</td>\n",
       "      <td>0.000000</td>\n",
       "      <td>0.000000</td>\n",
       "    </tr>\n",
       "    <tr>\n",
       "      <th>1</th>\n",
       "      <td>-0.340254</td>\n",
       "      <td>0.000000</td>\n",
       "      <td>0.000000</td>\n",
       "    </tr>\n",
       "    <tr>\n",
       "      <th>2</th>\n",
       "      <td>-1.370505</td>\n",
       "      <td>0.000000</td>\n",
       "      <td>0.000000</td>\n",
       "    </tr>\n",
       "    <tr>\n",
       "      <th>3</th>\n",
       "      <td>-0.800074</td>\n",
       "      <td>0.000000</td>\n",
       "      <td>-1.086622</td>\n",
       "    </tr>\n",
       "    <tr>\n",
       "      <th>4</th>\n",
       "      <td>-0.286595</td>\n",
       "      <td>0.000000</td>\n",
       "      <td>0.663390</td>\n",
       "    </tr>\n",
       "    <tr>\n",
       "      <th>5</th>\n",
       "      <td>-0.131311</td>\n",
       "      <td>0.637776</td>\n",
       "      <td>-0.810333</td>\n",
       "    </tr>\n",
       "    <tr>\n",
       "      <th>6</th>\n",
       "      <td>1.103679</td>\n",
       "      <td>-0.631128</td>\n",
       "      <td>1.695577</td>\n",
       "    </tr>\n",
       "  </tbody>\n",
       "</table>\n",
       "</div>"
      ],
      "text/plain": [
       "          0         1         2\n",
       "0  0.960170  0.000000  0.000000\n",
       "1 -0.340254  0.000000  0.000000\n",
       "2 -1.370505  0.000000  0.000000\n",
       "3 -0.800074  0.000000 -1.086622\n",
       "4 -0.286595  0.000000  0.663390\n",
       "5 -0.131311  0.637776 -0.810333\n",
       "6  1.103679 -0.631128  1.695577"
      ]
     },
     "execution_count": 150,
     "metadata": {},
     "output_type": "execute_result"
    }
   ],
   "source": [
    "df.fillna(0)"
   ]
  },
  {
   "cell_type": "markdown",
   "metadata": {
    "colab_type": "text",
    "id": "zObVG3LVkx5R",
    "nbpresent": {
     "id": "e7a09672-be5b-4ddb-bc5a-c861a9a1a3d5"
    },
    "slideshow": {
     "slide_type": "slide"
    }
   },
   "source": [
    "Calling **`fillna`** with a dict you can use a different fill value for each column:"
   ]
  },
  {
   "cell_type": "code",
   "execution_count": 151,
   "metadata": {
    "colab": {},
    "colab_type": "code",
    "id": "_8wIaDQzkx5S",
    "nbpresent": {
     "id": "ee6f058e-9cd6-44ea-9ef2-c3f9cc73871a"
    },
    "outputId": "71dfe759-906f-4333-c300-a83c78f81635"
   },
   "outputs": [
    {
     "data": {
      "text/html": [
       "<div>\n",
       "<style scoped>\n",
       "    .dataframe tbody tr th:only-of-type {\n",
       "        vertical-align: middle;\n",
       "    }\n",
       "\n",
       "    .dataframe tbody tr th {\n",
       "        vertical-align: top;\n",
       "    }\n",
       "\n",
       "    .dataframe thead th {\n",
       "        text-align: right;\n",
       "    }\n",
       "</style>\n",
       "<table border=\"1\" class=\"dataframe\">\n",
       "  <thead>\n",
       "    <tr style=\"text-align: right;\">\n",
       "      <th></th>\n",
       "      <th>0</th>\n",
       "      <th>1</th>\n",
       "      <th>2</th>\n",
       "    </tr>\n",
       "  </thead>\n",
       "  <tbody>\n",
       "    <tr>\n",
       "      <th>0</th>\n",
       "      <td>0.960170</td>\n",
       "      <td>0.500000</td>\n",
       "      <td>NaN</td>\n",
       "    </tr>\n",
       "    <tr>\n",
       "      <th>1</th>\n",
       "      <td>-0.340254</td>\n",
       "      <td>0.500000</td>\n",
       "      <td>NaN</td>\n",
       "    </tr>\n",
       "    <tr>\n",
       "      <th>2</th>\n",
       "      <td>-1.370505</td>\n",
       "      <td>0.500000</td>\n",
       "      <td>NaN</td>\n",
       "    </tr>\n",
       "    <tr>\n",
       "      <th>3</th>\n",
       "      <td>-0.800074</td>\n",
       "      <td>0.500000</td>\n",
       "      <td>-1.086622</td>\n",
       "    </tr>\n",
       "    <tr>\n",
       "      <th>4</th>\n",
       "      <td>-0.286595</td>\n",
       "      <td>0.500000</td>\n",
       "      <td>0.663390</td>\n",
       "    </tr>\n",
       "    <tr>\n",
       "      <th>5</th>\n",
       "      <td>-0.131311</td>\n",
       "      <td>0.637776</td>\n",
       "      <td>-0.810333</td>\n",
       "    </tr>\n",
       "    <tr>\n",
       "      <th>6</th>\n",
       "      <td>1.103679</td>\n",
       "      <td>-0.631128</td>\n",
       "      <td>1.695577</td>\n",
       "    </tr>\n",
       "  </tbody>\n",
       "</table>\n",
       "</div>"
      ],
      "text/plain": [
       "          0         1         2\n",
       "0  0.960170  0.500000       NaN\n",
       "1 -0.340254  0.500000       NaN\n",
       "2 -1.370505  0.500000       NaN\n",
       "3 -0.800074  0.500000 -1.086622\n",
       "4 -0.286595  0.500000  0.663390\n",
       "5 -0.131311  0.637776 -0.810333\n",
       "6  1.103679 -0.631128  1.695577"
      ]
     },
     "execution_count": 151,
     "metadata": {},
     "output_type": "execute_result"
    }
   ],
   "source": [
    "df.fillna({1: 0.5, 3: -1})"
   ]
  },
  {
   "cell_type": "markdown",
   "metadata": {
    "colab_type": "text",
    "id": "j_qMSdzxkx5T",
    "nbpresent": {
     "id": "567da896-6de3-4535-8a9e-a09e843dcffb"
    },
    "slideshow": {
     "slide_type": "skip"
    }
   },
   "source": [
    "**`fillna`** returns a new object, but you can modify the existing object in place:"
   ]
  },
  {
   "cell_type": "code",
   "execution_count": 152,
   "metadata": {
    "colab": {},
    "colab_type": "code",
    "id": "n8upGOJWkx5T",
    "nbpresent": {
     "id": "f943ae8a-f9c6-4062-a9b8-26b4ef540887"
    },
    "slideshow": {
     "slide_type": "skip"
    }
   },
   "outputs": [],
   "source": [
    "# always returns a reference to the filled object\n",
    "_ = df.fillna(0, inplace=True)"
   ]
  },
  {
   "cell_type": "code",
   "execution_count": 153,
   "metadata": {
    "colab": {},
    "colab_type": "code",
    "id": "wv_qFQ5Wkx5U",
    "nbpresent": {
     "id": "faea772b-b7ca-4e05-8537-47c748f4dd26"
    },
    "outputId": "373a577a-3654-4f1e-d0c2-f6874d45051d",
    "slideshow": {
     "slide_type": "skip"
    }
   },
   "outputs": [
    {
     "data": {
      "text/html": [
       "<div>\n",
       "<style scoped>\n",
       "    .dataframe tbody tr th:only-of-type {\n",
       "        vertical-align: middle;\n",
       "    }\n",
       "\n",
       "    .dataframe tbody tr th {\n",
       "        vertical-align: top;\n",
       "    }\n",
       "\n",
       "    .dataframe thead th {\n",
       "        text-align: right;\n",
       "    }\n",
       "</style>\n",
       "<table border=\"1\" class=\"dataframe\">\n",
       "  <thead>\n",
       "    <tr style=\"text-align: right;\">\n",
       "      <th></th>\n",
       "      <th>0</th>\n",
       "      <th>1</th>\n",
       "      <th>2</th>\n",
       "    </tr>\n",
       "  </thead>\n",
       "  <tbody>\n",
       "    <tr>\n",
       "      <th>0</th>\n",
       "      <td>0.960170</td>\n",
       "      <td>0.000000</td>\n",
       "      <td>0.000000</td>\n",
       "    </tr>\n",
       "    <tr>\n",
       "      <th>1</th>\n",
       "      <td>-0.340254</td>\n",
       "      <td>0.000000</td>\n",
       "      <td>0.000000</td>\n",
       "    </tr>\n",
       "    <tr>\n",
       "      <th>2</th>\n",
       "      <td>-1.370505</td>\n",
       "      <td>0.000000</td>\n",
       "      <td>0.000000</td>\n",
       "    </tr>\n",
       "    <tr>\n",
       "      <th>3</th>\n",
       "      <td>-0.800074</td>\n",
       "      <td>0.000000</td>\n",
       "      <td>-1.086622</td>\n",
       "    </tr>\n",
       "    <tr>\n",
       "      <th>4</th>\n",
       "      <td>-0.286595</td>\n",
       "      <td>0.000000</td>\n",
       "      <td>0.663390</td>\n",
       "    </tr>\n",
       "    <tr>\n",
       "      <th>5</th>\n",
       "      <td>-0.131311</td>\n",
       "      <td>0.637776</td>\n",
       "      <td>-0.810333</td>\n",
       "    </tr>\n",
       "    <tr>\n",
       "      <th>6</th>\n",
       "      <td>1.103679</td>\n",
       "      <td>-0.631128</td>\n",
       "      <td>1.695577</td>\n",
       "    </tr>\n",
       "  </tbody>\n",
       "</table>\n",
       "</div>"
      ],
      "text/plain": [
       "          0         1         2\n",
       "0  0.960170  0.000000  0.000000\n",
       "1 -0.340254  0.000000  0.000000\n",
       "2 -1.370505  0.000000  0.000000\n",
       "3 -0.800074  0.000000 -1.086622\n",
       "4 -0.286595  0.000000  0.663390\n",
       "5 -0.131311  0.637776 -0.810333\n",
       "6  1.103679 -0.631128  1.695577"
      ]
     },
     "execution_count": 153,
     "metadata": {},
     "output_type": "execute_result"
    }
   ],
   "source": [
    "df"
   ]
  },
  {
   "cell_type": "markdown",
   "metadata": {
    "colab_type": "text",
    "id": "bWOhsPnGkx5V",
    "nbpresent": {
     "id": "cdef4fbc-2fbd-4698-a130-e90e7281857c"
    },
    "slideshow": {
     "slide_type": "skip"
    }
   },
   "source": [
    "The same interpolation methods available for reindexing can be used with **`fillna`**:"
   ]
  },
  {
   "cell_type": "code",
   "execution_count": 154,
   "metadata": {
    "colab": {},
    "colab_type": "code",
    "id": "qHYqzZFSkx5V",
    "nbpresent": {
     "id": "9327be6e-a4d6-4f89-b560-1d8115f38c86"
    },
    "outputId": "4d822081-adaa-4bb2-9d0c-8fa4ddd09725",
    "slideshow": {
     "slide_type": "skip"
    }
   },
   "outputs": [
    {
     "data": {
      "text/html": [
       "<div>\n",
       "<style scoped>\n",
       "    .dataframe tbody tr th:only-of-type {\n",
       "        vertical-align: middle;\n",
       "    }\n",
       "\n",
       "    .dataframe tbody tr th {\n",
       "        vertical-align: top;\n",
       "    }\n",
       "\n",
       "    .dataframe thead th {\n",
       "        text-align: right;\n",
       "    }\n",
       "</style>\n",
       "<table border=\"1\" class=\"dataframe\">\n",
       "  <thead>\n",
       "    <tr style=\"text-align: right;\">\n",
       "      <th></th>\n",
       "      <th>0</th>\n",
       "      <th>1</th>\n",
       "      <th>2</th>\n",
       "    </tr>\n",
       "  </thead>\n",
       "  <tbody>\n",
       "    <tr>\n",
       "      <th>0</th>\n",
       "      <td>1.442467</td>\n",
       "      <td>-0.673173</td>\n",
       "      <td>1.833485</td>\n",
       "    </tr>\n",
       "    <tr>\n",
       "      <th>1</th>\n",
       "      <td>-1.019057</td>\n",
       "      <td>0.481024</td>\n",
       "      <td>1.252056</td>\n",
       "    </tr>\n",
       "    <tr>\n",
       "      <th>2</th>\n",
       "      <td>-0.042657</td>\n",
       "      <td>NaN</td>\n",
       "      <td>0.355456</td>\n",
       "    </tr>\n",
       "    <tr>\n",
       "      <th>3</th>\n",
       "      <td>-0.149363</td>\n",
       "      <td>NaN</td>\n",
       "      <td>0.390122</td>\n",
       "    </tr>\n",
       "    <tr>\n",
       "      <th>4</th>\n",
       "      <td>-0.596277</td>\n",
       "      <td>NaN</td>\n",
       "      <td>NaN</td>\n",
       "    </tr>\n",
       "    <tr>\n",
       "      <th>5</th>\n",
       "      <td>-0.581958</td>\n",
       "      <td>NaN</td>\n",
       "      <td>NaN</td>\n",
       "    </tr>\n",
       "  </tbody>\n",
       "</table>\n",
       "</div>"
      ],
      "text/plain": [
       "          0         1         2\n",
       "0  1.442467 -0.673173  1.833485\n",
       "1 -1.019057  0.481024  1.252056\n",
       "2 -0.042657       NaN  0.355456\n",
       "3 -0.149363       NaN  0.390122\n",
       "4 -0.596277       NaN       NaN\n",
       "5 -0.581958       NaN       NaN"
      ]
     },
     "execution_count": 154,
     "metadata": {},
     "output_type": "execute_result"
    }
   ],
   "source": [
    "df = DataFrame(np.random.randn(6, 3))\n",
    "df.loc[2:, 1] = NA; df.loc[4:, 2] = NA\n",
    "df"
   ]
  },
  {
   "cell_type": "code",
   "execution_count": 155,
   "metadata": {
    "colab": {},
    "colab_type": "code",
    "id": "_oJyoa2Nkx5X",
    "nbpresent": {
     "id": "53b6bfe3-ecbe-4a1e-bb8f-6befc45d4f06"
    },
    "outputId": "d1e61bc7-88b8-489c-db02-aead10d0f5ba",
    "slideshow": {
     "slide_type": "skip"
    }
   },
   "outputs": [
    {
     "data": {
      "text/html": [
       "<div>\n",
       "<style scoped>\n",
       "    .dataframe tbody tr th:only-of-type {\n",
       "        vertical-align: middle;\n",
       "    }\n",
       "\n",
       "    .dataframe tbody tr th {\n",
       "        vertical-align: top;\n",
       "    }\n",
       "\n",
       "    .dataframe thead th {\n",
       "        text-align: right;\n",
       "    }\n",
       "</style>\n",
       "<table border=\"1\" class=\"dataframe\">\n",
       "  <thead>\n",
       "    <tr style=\"text-align: right;\">\n",
       "      <th></th>\n",
       "      <th>0</th>\n",
       "      <th>1</th>\n",
       "      <th>2</th>\n",
       "    </tr>\n",
       "  </thead>\n",
       "  <tbody>\n",
       "    <tr>\n",
       "      <th>0</th>\n",
       "      <td>1.442467</td>\n",
       "      <td>-0.673173</td>\n",
       "      <td>1.833485</td>\n",
       "    </tr>\n",
       "    <tr>\n",
       "      <th>1</th>\n",
       "      <td>-1.019057</td>\n",
       "      <td>0.481024</td>\n",
       "      <td>1.252056</td>\n",
       "    </tr>\n",
       "    <tr>\n",
       "      <th>2</th>\n",
       "      <td>-0.042657</td>\n",
       "      <td>0.481024</td>\n",
       "      <td>0.355456</td>\n",
       "    </tr>\n",
       "    <tr>\n",
       "      <th>3</th>\n",
       "      <td>-0.149363</td>\n",
       "      <td>0.481024</td>\n",
       "      <td>0.390122</td>\n",
       "    </tr>\n",
       "    <tr>\n",
       "      <th>4</th>\n",
       "      <td>-0.596277</td>\n",
       "      <td>0.481024</td>\n",
       "      <td>0.390122</td>\n",
       "    </tr>\n",
       "    <tr>\n",
       "      <th>5</th>\n",
       "      <td>-0.581958</td>\n",
       "      <td>0.481024</td>\n",
       "      <td>0.390122</td>\n",
       "    </tr>\n",
       "  </tbody>\n",
       "</table>\n",
       "</div>"
      ],
      "text/plain": [
       "          0         1         2\n",
       "0  1.442467 -0.673173  1.833485\n",
       "1 -1.019057  0.481024  1.252056\n",
       "2 -0.042657  0.481024  0.355456\n",
       "3 -0.149363  0.481024  0.390122\n",
       "4 -0.596277  0.481024  0.390122\n",
       "5 -0.581958  0.481024  0.390122"
      ]
     },
     "execution_count": 155,
     "metadata": {},
     "output_type": "execute_result"
    }
   ],
   "source": [
    "df.fillna(method='ffill')"
   ]
  },
  {
   "cell_type": "code",
   "execution_count": 156,
   "metadata": {
    "colab": {},
    "colab_type": "code",
    "id": "m4Jy5SbQkx5Z",
    "nbpresent": {
     "id": "b88f6b9c-239b-4829-b0bf-c06ec3e53310"
    },
    "outputId": "57d1a91c-26b2-4274-ecb0-30c09c8ed6a1"
   },
   "outputs": [
    {
     "data": {
      "text/html": [
       "<div>\n",
       "<style scoped>\n",
       "    .dataframe tbody tr th:only-of-type {\n",
       "        vertical-align: middle;\n",
       "    }\n",
       "\n",
       "    .dataframe tbody tr th {\n",
       "        vertical-align: top;\n",
       "    }\n",
       "\n",
       "    .dataframe thead th {\n",
       "        text-align: right;\n",
       "    }\n",
       "</style>\n",
       "<table border=\"1\" class=\"dataframe\">\n",
       "  <thead>\n",
       "    <tr style=\"text-align: right;\">\n",
       "      <th></th>\n",
       "      <th>0</th>\n",
       "      <th>1</th>\n",
       "      <th>2</th>\n",
       "    </tr>\n",
       "  </thead>\n",
       "  <tbody>\n",
       "    <tr>\n",
       "      <th>0</th>\n",
       "      <td>1.442467</td>\n",
       "      <td>-0.673173</td>\n",
       "      <td>1.833485</td>\n",
       "    </tr>\n",
       "    <tr>\n",
       "      <th>1</th>\n",
       "      <td>-1.019057</td>\n",
       "      <td>0.481024</td>\n",
       "      <td>1.252056</td>\n",
       "    </tr>\n",
       "    <tr>\n",
       "      <th>2</th>\n",
       "      <td>-0.042657</td>\n",
       "      <td>0.481024</td>\n",
       "      <td>0.355456</td>\n",
       "    </tr>\n",
       "    <tr>\n",
       "      <th>3</th>\n",
       "      <td>-0.149363</td>\n",
       "      <td>0.481024</td>\n",
       "      <td>0.390122</td>\n",
       "    </tr>\n",
       "    <tr>\n",
       "      <th>4</th>\n",
       "      <td>-0.596277</td>\n",
       "      <td>NaN</td>\n",
       "      <td>0.390122</td>\n",
       "    </tr>\n",
       "    <tr>\n",
       "      <th>5</th>\n",
       "      <td>-0.581958</td>\n",
       "      <td>NaN</td>\n",
       "      <td>0.390122</td>\n",
       "    </tr>\n",
       "  </tbody>\n",
       "</table>\n",
       "</div>"
      ],
      "text/plain": [
       "          0         1         2\n",
       "0  1.442467 -0.673173  1.833485\n",
       "1 -1.019057  0.481024  1.252056\n",
       "2 -0.042657  0.481024  0.355456\n",
       "3 -0.149363  0.481024  0.390122\n",
       "4 -0.596277       NaN  0.390122\n",
       "5 -0.581958       NaN  0.390122"
      ]
     },
     "execution_count": 156,
     "metadata": {},
     "output_type": "execute_result"
    }
   ],
   "source": [
    "df.fillna(method='ffill', limit=2)"
   ]
  },
  {
   "cell_type": "markdown",
   "metadata": {
    "colab_type": "text",
    "id": "seiktA2Wkx5a",
    "nbpresent": {
     "id": "daa37a1c-449a-44b4-a989-32e049fadcf7"
    },
    "slideshow": {
     "slide_type": "slide"
    }
   },
   "source": [
    "With **`fillna`** you can do lots of other things with a little creativity. \n",
    "\n",
    "For example, you might pass the mean or median value of a Series:"
   ]
  },
  {
   "cell_type": "code",
   "execution_count": 157,
   "metadata": {
    "colab": {},
    "colab_type": "code",
    "id": "YoxYT5tBkx5a",
    "nbpresent": {
     "id": "c6739567-70be-4f6a-91f9-6f2e6d36dda5"
    },
    "outputId": "f666226c-bf45-4504-d70a-8f08cd799c9a",
    "slideshow": {
     "slide_type": "skip"
    }
   },
   "outputs": [
    {
     "data": {
      "text/plain": [
       "0    1.0\n",
       "1    NaN\n",
       "2    3.5\n",
       "3    NaN\n",
       "4    7.0\n",
       "dtype: float64"
      ]
     },
     "execution_count": 157,
     "metadata": {},
     "output_type": "execute_result"
    }
   ],
   "source": [
    "data = pd.Series([1., NA, 3.5, NA, 7])\n",
    "data"
   ]
  },
  {
   "cell_type": "markdown",
   "metadata": {
    "colab_type": "text",
    "id": "7K2XMal1kx5c",
    "nbpresent": {
     "id": "1afd6e11-e268-4496-b4f4-9de24a3aa57f"
    },
    "slideshow": {
     "slide_type": "skip"
    }
   },
   "source": [
    "**`fillna`** **function arguments**\n",
    "\n",
    "\n",
    "|**Argument**   |  **Description**  |\n",
    "|:---| :---|\n",
    "| **`value `** | Scalar value or dict-like object to use to fill missing values |\n",
    "| **`method`** | Interpolation, by default **`ffill`** if function called with no other arguments |\n",
    "| **`axis`** | Axis to fill on, default **`axis=0`** |\n",
    "| **`inplace`** | Modify the calling object without producing a copy |\n",
    "| **`limit`** | For forward and backward filling, maximum number of consecutive periods to fill |\n"
   ]
  },
  {
   "cell_type": "markdown",
   "metadata": {
    "colab_type": "text",
    "id": "fsgqPwgrKjTA"
   },
   "source": [
    "<div class=\"alert alert-warning\">\n",
    "<b>Intro</b> \n",
    "\n",
    "Create a dataframe called `df` using the below code:\n",
    "\n",
    "\n",
    "`data = {'name': ['Jack', np.nan, 'Anna', 'Michael', 'Vanessa', 'Andrew', 'Monica'], \n",
    "         'surname': ['Snow', np.nan, 'Scott', 'Jordna', 'Willis', 'Hughes', 'Dee'],        \n",
    "         'age': [31, np.nan, 23, 26, 21, 28, 24],\n",
    "         'sex': ['m', np.nan, 'f', 'm', 'f', 'm', 'f'], \n",
    "         'quiz1': [71, np.nan, np.nan, 65, 59, 61, 73],\n",
    "         'quiz2': [85, np.nan, np.nan, 76, 68, 65, 80]}`\n",
    "\n",
    "<br>\n",
    "\n",
    "`df = pd.DataFrame(data, columns = ['name', 'surname', 'age', 'sex', 'quiz1', 'quiz2'])`\n",
    "</div>"
   ]
  },
  {
   "cell_type": "code",
   "execution_count": 22,
   "metadata": {
    "colab": {
     "base_uri": "https://localhost:8080/",
     "height": 266
    },
    "colab_type": "code",
    "id": "xrBSf7hRKjof",
    "outputId": "80efcb0c-af6b-4f4b-d5fd-205bfc55a1cc"
   },
   "outputs": [],
   "source": [
    "# Write your solution here\n"
   ]
  },
  {
   "cell_type": "markdown",
   "metadata": {
    "colab_type": "text",
    "id": "jLWSrxR9NSYi"
   },
   "source": [
    "<div class=\"alert alert-warning\">\n",
    "<b>EXERCISE 16:</b> \n",
    "<p> Check if there are any missing values in the dataframe.</p>\n",
    "</div>"
   ]
  },
  {
   "cell_type": "code",
   "execution_count": 23,
   "metadata": {
    "colab": {
     "base_uri": "https://localhost:8080/",
     "height": 266
    },
    "colab_type": "code",
    "id": "jT19YYt-NdbD",
    "outputId": "afb8fcdb-3781-4c29-c2ed-f6a673163439"
   },
   "outputs": [],
   "source": [
    "# Write your solution here"
   ]
  },
  {
   "cell_type": "markdown",
   "metadata": {
    "colab_type": "text",
    "id": "EZ4W_YuHNbjS"
   },
   "source": [
    "<div class=\"alert alert-warning\">\n",
    "<b>EXERCISE 17:</b> \n",
    "<p> Write a code to drop rows that have any missing values.</p>\n",
    "</div>"
   ]
  },
  {
   "cell_type": "code",
   "execution_count": 24,
   "metadata": {
    "colab": {
     "base_uri": "https://localhost:8080/",
     "height": 204
    },
    "colab_type": "code",
    "id": "ghawIkYJNeHs",
    "outputId": "f2ad9d5d-0407-4726-8f24-c5b9a9cf6803"
   },
   "outputs": [],
   "source": [
    "# Write your solution here"
   ]
  },
  {
   "cell_type": "markdown",
   "metadata": {
    "colab_type": "text",
    "id": "NF0KbEWHNb2h"
   },
   "source": [
    "<div class=\"alert alert-warning\">\n",
    "<b>EXERCISE 18:</b> \n",
    "<p> Write a code to drop rows that have all values missing. Then replace the remaining missing values with the mean for the given column.</p>\n",
    "</div>"
   ]
  },
  {
   "cell_type": "code",
   "execution_count": 25,
   "metadata": {
    "colab": {
     "base_uri": "https://localhost:8080/",
     "height": 439
    },
    "colab_type": "code",
    "id": "cYTxa85KNe1b",
    "outputId": "5c02afbe-b734-4191-d5b4-8040fd45e7fb"
   },
   "outputs": [],
   "source": [
    "# Write your solution here\n"
   ]
  },
  {
   "cell_type": "markdown",
   "metadata": {
    "colab_type": "text",
    "id": "vRAFzyHxNcIY"
   },
   "source": [
    "<div class=\"alert alert-warning\">\n",
    "<b>EXERCISE 19:</b> \n",
    "<p> Write a code to replace the missing values using backward filling method.</p>\n",
    "</div>"
   ]
  },
  {
   "cell_type": "code",
   "execution_count": 26,
   "metadata": {
    "colab": {
     "base_uri": "https://localhost:8080/",
     "height": 266
    },
    "colab_type": "code",
    "id": "afhKpQFSNf4Y",
    "outputId": "449d5816-47dc-4485-aaae-86e00008eed7"
   },
   "outputs": [],
   "source": [
    "# Write your solution here"
   ]
  },
  {
   "cell_type": "markdown",
   "metadata": {
    "colab_type": "text",
    "id": "aMCIakgjNcuw"
   },
   "source": [
    "<div class=\"alert alert-warning\">\n",
    "<b>EXERCISE 20:</b> \n",
    "\n",
    "Write a code to see which cells do **not** contain missing values.\n",
    "\n",
    "</div>"
   ]
  },
  {
   "cell_type": "code",
   "execution_count": 27,
   "metadata": {
    "colab": {
     "base_uri": "https://localhost:8080/",
     "height": 266
    },
    "colab_type": "code",
    "id": "SzjjRNXlNgdi",
    "outputId": "fe910a77-6dcf-4568-e579-be4a81bd8754"
   },
   "outputs": [],
   "source": [
    "# Write your solution here"
   ]
  },
  {
   "cell_type": "markdown",
   "metadata": {},
   "source": [
    "## 7.6 Custom data import\n",
    "\n",
    "The pandas package is also great at dealing with many of the issues you will encounter when importing data, such as:\n",
    "\n",
    " - Comments\n",
    " - Empty rows, columns, and missing values. \n",
    "\n",
    "*Note that missing values are also commonly referred to as `NA` or `NaN`. "
   ]
  },
  {
   "cell_type": "markdown",
   "metadata": {
    "slideshow": {
     "slide_type": "slide"
    }
   },
   "source": [
    "We can easily import files of mixed data types as DataFrames using the pandas functions \n",
    "- **`read_csv()`**\n",
    "- **`read_excel()`**\n",
    "- **`read_table()`**"
   ]
  },
  {
   "cell_type": "code",
   "execution_count": 16,
   "metadata": {},
   "outputs": [
    {
     "name": "stdout",
     "output_type": "stream",
     "text": [
      "   6  148  72  35    0  33.6  0.627  50  1\n",
      "0  1   85  66  29    0  26.6  0.351  31  0\n",
      "1  8  183  64   0    0  23.3  0.672  32  1\n",
      "2  1   89  66  23   94  28.1  0.167  21  0\n",
      "3  0  137  40  35  168  43.1  2.288  33  1\n",
      "4  5  116  74   0    0  25.6  0.201  30  0\n"
     ]
    }
   ],
   "source": [
    "# Import pandas as pd\n",
    "import pandas as pd\n",
    "\n",
    "# Assign the filename: file\n",
    "file = './files/pima-indians-diabetes.csv'\n",
    "\n",
    "# Read the file into a DataFrame: df\n",
    "df = pd.read_csv(file)\n",
    "\n",
    "# View the head of the DataFrame\n",
    "print(df.head())"
   ]
  },
  {
   "cell_type": "markdown",
   "metadata": {
    "slideshow": {
     "slide_type": "slide"
    }
   },
   "source": [
    "You can retrieve the corresponding numpy array using the attribute values from the DataFrame:"
   ]
  },
  {
   "cell_type": "code",
   "execution_count": 17,
   "metadata": {},
   "outputs": [
    {
     "name": "stdout",
     "output_type": "stream",
     "text": [
      "<class 'numpy.ndarray'>\n"
     ]
    }
   ],
   "source": [
    "# Build a numpy array from the DataFrame: data_array\n",
    "data_array = df.values\n",
    "\n",
    "# Print the datatype of data_array to the shell\n",
    "print(type(data_array))"
   ]
  },
  {
   "cell_type": "markdown",
   "metadata": {},
   "source": [
    "There are a number of arguments that pd.read_csv() takes: \n",
    "\n",
    "- **`sep`** is the pandas version of **`delim`**\n",
    "- **`comment`** takes characters that comments occur after in the file, which in this case is '#'. \n",
    "- **`na_values`** takes a list of strings to recognize as NA/NaN, in this case the string 'Nothing'."
   ]
  },
  {
   "cell_type": "code",
   "execution_count": 22,
   "metadata": {},
   "outputs": [
    {
     "name": "stdout",
     "output_type": "stream",
     "text": [
      "   PassengerId  Survived  Pclass     Sex   Age  SibSp  Parch  \\\n",
      "0            1         0       3    male  22.0      1      0   \n",
      "1            2         1       1  female  38.0      1      0   \n",
      "2            3         1       3  female  26.0      0      0   \n",
      "3            4         1       1  female  35.0      1      0   \n",
      "4            5         0       3    male  35.0      0      0   \n",
      "\n",
      "             Ticket     Fare Cabin    Embarked  \n",
      "0         A/5 21171   7.2500   NaN  S #dfafdad  \n",
      "1       PC 17599#to  71.2833   C85           C  \n",
      "2  STON/O2. 3101282   7.9250   NaN           S  \n",
      "3            113803  53.1000  C123           S  \n",
      "4            373450   8.0500   NaN           S  \n"
     ]
    },
    {
     "data": {
      "image/png": "[encoded data removed]",
      "text/plain": [
       "<Figure size 432x288 with 1 Axes>"
      ]
     },
     "metadata": {
      "needs_background": "light"
     },
     "output_type": "display_data"
    }
   ],
   "source": [
    "import matplotlib.pyplot as plt\n",
    "\n",
    "# Assign filename: file\n",
    "file = './files/titanic_corrupt.txt'\n",
    "\n",
    "# Import file: data\n",
    "data = pd.read_csv(file, sep='\\t', comment='#', na_values='Nothing')\n",
    "\n",
    "# Print the head of the DataFrame\n",
    "print(data.head())\n",
    "\n",
    "# Plot 'Age' variable in a histogram\n",
    "pd.DataFrame.hist(data[['Age']])\n",
    "plt.xlabel('Age (years)')\n",
    "plt.ylabel('count')\n",
    "plt.show()"
   ]
  },
  {
   "cell_type": "markdown",
   "metadata": {
    "colab_type": "text",
    "collapsed": true,
    "id": "nDh1K92ykyRb",
    "nbpresent": {
     "id": "3708f539-1900-4f86-8d64-668c1351ad03"
    },
    "slideshow": {
     "slide_type": "slide"
    }
   },
   "source": [
    "## 7.7 Combining and Merging Data Sets\n",
    "\n",
    "\n",
    "<img src=\"./images/join-types-merge-names.jpg\" height=\"80%\" width=\"80%\"><a href=\"https://stackoverflow.com/questions/38549/what-is-the-difference-between-inner-join-and-outer-join\">Source image.</a></img>\n",
    "\n",
    "Data contained in **`pandas`** objects can be combined together in a number of built-in ways:\n",
    "\n",
    "- **`pandas.merge`** connects rows in **`DataFrames`** based on one or more keys. This will be familiar to users of **SQL** or other relational databases, as it implements database join operations.\n",
    "- **`pandas.concat`** *concatenates* or stacks together objects along an axis.\n",
    "- **`combine_first`** instance method enables splicing together overlapping data to fill in missing values in one object with values from another.\n",
    "\n",
    "We will use examples of this throughout the rest of the course. "
   ]
  },
  {
   "cell_type": "markdown",
   "metadata": {
    "colab_type": "text",
    "collapsed": true,
    "id": "FpiqRWa8kyRc",
    "nbpresent": {
     "id": "63c26166-689e-4107-bfbf-18fa33996cba"
    },
    "slideshow": {
     "slide_type": "slide"
    }
   },
   "source": [
    "### Database-style **`DataFrame`** Merges\n",
    "\n",
    "*Merge* or *join* operations combine data sets by linking rows using one or more *keys*. These operations are central to relational databases. The merge function in **`pandas`** is the main entry point for using these algorithms on your data. \n",
    "\n",
    "Let’s start with a simple example."
   ]
  },
  {
   "cell_type": "code",
   "execution_count": null,
   "metadata": {
    "colab": {},
    "colab_type": "code",
    "collapsed": true,
    "id": "7bD9snbzkyRc",
    "nbpresent": {
     "id": "c00177b4-c12d-4a4a-81f7-1d8df1ac262a"
    },
    "slideshow": {
     "slide_type": "slide"
    }
   },
   "outputs": [],
   "source": [
    "df1 = pd.DataFrame({'key': ['b', 'b', 'a', 'c', 'a', 'a', 'b'], 'data1': range(7)})\n",
    "df2 = pd.DataFrame({'key': ['a', 'b', 'd'], 'data2': range(3)})\n",
    "df1\n",
    "df2"
   ]
  },
  {
   "cell_type": "markdown",
   "metadata": {
    "colab_type": "text",
    "id": "EWW-mX0CkyRi",
    "nbpresent": {
     "id": "6be035bd-1dbf-4193-b2e2-74fc5dc878b0"
    },
    "slideshow": {
     "slide_type": "slide"
    }
   },
   "source": [
    "This is an example of a *many-to-one* merge situation; the data in **`df1`** has multiple rows labeled **`a`** and **`b`**, whereas **`df2`** has only one row for each value in the key column. Calling merge with these objects we obtain:"
   ]
  },
  {
   "cell_type": "code",
   "execution_count": null,
   "metadata": {
    "colab": {},
    "colab_type": "code",
    "collapsed": true,
    "id": "KSPLfWeXkyRj",
    "nbpresent": {
     "id": "3ba454b4-4a4b-4ddf-b3b2-0d9b7bbb8912"
    }
   },
   "outputs": [],
   "source": [
    "pd.merge(df1, df2)"
   ]
  },
  {
   "cell_type": "markdown",
   "metadata": {
    "colab_type": "text",
    "id": "wxi5XLF-kyRl",
    "nbpresent": {
     "id": "84504b90-ff42-40d9-b846-f7636fb09a85"
    },
    "slideshow": {
     "slide_type": "slide"
    }
   },
   "source": [
    "Note that we didn’t specify which column to join on. If not specified, merge uses the overlapping column names as the *keys*. \n",
    "\n",
    "It is good practice to specify explicitly, though:"
   ]
  },
  {
   "cell_type": "code",
   "execution_count": null,
   "metadata": {
    "colab": {},
    "colab_type": "code",
    "collapsed": true,
    "id": "XT1zxZhIkyRm",
    "nbpresent": {
     "id": "756fdd2e-a596-4f43-b404-eb52ad4a05c4"
    }
   },
   "outputs": [],
   "source": [
    "pd.merge(df1, df2, on='key')"
   ]
  },
  {
   "cell_type": "markdown",
   "metadata": {
    "colab_type": "text",
    "id": "EgC__uPZkyRo",
    "nbpresent": {
     "id": "94c27a44-9e8c-452b-b5d8-4f1b4f8e8166"
    },
    "slideshow": {
     "slide_type": "slide"
    }
   },
   "source": [
    "If the column names are different in each object, you can specify them separately:"
   ]
  },
  {
   "cell_type": "code",
   "execution_count": null,
   "metadata": {
    "colab": {},
    "colab_type": "code",
    "collapsed": true,
    "id": "MR_1Fo-1kyRq",
    "nbpresent": {
     "id": "742cd9c8-5de3-4f25-bc9b-3f4de339c242"
    }
   },
   "outputs": [],
   "source": [
    "df3 = pd.DataFrame({'lkey': ['b', 'b', 'a', 'c', 'a', 'a', 'b'], 'data1': range(7)})\n",
    "df4 = pd.DataFrame({'rkey': ['a', 'b', 'd'], 'data2': range(3)})\n",
    "df3\n",
    "df4\n",
    "pd.merge(df3, df4, left_on='lkey', right_on='rkey')"
   ]
  },
  {
   "cell_type": "markdown",
   "metadata": {
    "colab_type": "text",
    "id": "Ji5ayHGUkyRt",
    "nbpresent": {
     "id": "f6693f24-c86b-457e-8754-4ad875cc8575"
    },
    "slideshow": {
     "slide_type": "slide"
    }
   },
   "source": [
    "You probably noticed that the **`c`** and **`d`** values and associated data are missing from the result. By default merge does an **inner** join; the keys in the result are the *intersection*. \n",
    "\n",
    "Other possible options are **left**, **right**, and **outer**. \n",
    "\n",
    "The outer join takes the union of the keys, combining the effect of applying both left and right joins:"
   ]
  },
  {
   "cell_type": "code",
   "execution_count": null,
   "metadata": {
    "colab": {},
    "colab_type": "code",
    "collapsed": true,
    "id": "iUKmixpDkyRu",
    "nbpresent": {
     "id": "4ed1b52b-d85e-4fc0-bda6-ad4768f35e48"
    }
   },
   "outputs": [],
   "source": [
    "pd.merge(df1, df2, how='outer')"
   ]
  },
  {
   "cell_type": "code",
   "execution_count": null,
   "metadata": {
    "colab": {},
    "colab_type": "code",
    "collapsed": true,
    "id": "nFBOByDukyRw",
    "nbpresent": {
     "id": "9c8fc52f-ca0f-4820-94aa-4c502c15c083"
    },
    "slideshow": {
     "slide_type": "slide"
    }
   },
   "outputs": [],
   "source": [
    "## Inner / outer join diagram "
   ]
  },
  {
   "cell_type": "markdown",
   "metadata": {
    "colab_type": "text",
    "id": "FeDpr0XDkyRz",
    "nbpresent": {
     "id": "91665546-15aa-444c-810c-f279f5c344cc"
    },
    "slideshow": {
     "slide_type": "slide"
    }
   },
   "source": [
    "*Many-to-many* merges have well-defined though not necessarily intuitive behavior. \n",
    "\n",
    "Here’s an example:"
   ]
  },
  {
   "cell_type": "code",
   "execution_count": null,
   "metadata": {
    "colab": {},
    "colab_type": "code",
    "collapsed": true,
    "id": "p7aehDY4kyR1",
    "nbpresent": {
     "id": "f0f24897-a828-4ae9-a545-61b29a607be6"
    }
   },
   "outputs": [],
   "source": [
    "df1 = pd.DataFrame({'key': ['b', 'b', 'a', 'c', 'a', 'b'], 'data1': range(6)})\n",
    "df2 = pd.DataFrame({'key': ['a', 'b', 'a', 'b', 'd'], 'data2': range(5)})\n",
    "df1\n",
    "df2"
   ]
  },
  {
   "cell_type": "code",
   "execution_count": null,
   "metadata": {
    "colab": {},
    "colab_type": "code",
    "collapsed": true,
    "id": "lTP6CTGokyR3",
    "nbpresent": {
     "id": "5dd4ea13-1a2d-48d4-aacf-271cde903ff4"
    },
    "slideshow": {
     "slide_type": "slide"
    }
   },
   "outputs": [],
   "source": [
    "pd.merge(df1, df2, on='key', how='left')"
   ]
  },
  {
   "cell_type": "markdown",
   "metadata": {
    "colab_type": "text",
    "id": "pi60MGt8kyR8",
    "nbpresent": {
     "id": "4b78e741-5cf0-4b7a-bc9b-e52fb04a8c7d"
    },
    "slideshow": {
     "slide_type": "slide"
    }
   },
   "source": [
    "*Many-to-many* joins form the Cartesian product of the rows. Since there were 3 **`b`** rows in the left **`DataFrame`** and 2 **`b`** rows in the right one, there are 6 **`b`** rows in the result. \n",
    "\n",
    "The join method only affects the distinct key values appearing in the result:"
   ]
  },
  {
   "cell_type": "code",
   "execution_count": null,
   "metadata": {
    "colab": {},
    "colab_type": "code",
    "collapsed": true,
    "id": "_fFS8ibskyR9",
    "nbpresent": {
     "id": "f67518ad-712e-4f3e-bc3b-f4ebcc4d2633"
    }
   },
   "outputs": [],
   "source": [
    "pd.merge(df1, df2, how='inner')"
   ]
  },
  {
   "cell_type": "markdown",
   "metadata": {
    "colab_type": "text",
    "id": "xh5Ne1o7kySC",
    "nbpresent": {
     "id": "aa7e992f-f6e2-4912-81f9-b691dece506a"
    },
    "slideshow": {
     "slide_type": "slide"
    }
   },
   "source": [
    "To merge with multiple keys, pass a list of column names:"
   ]
  },
  {
   "cell_type": "code",
   "execution_count": null,
   "metadata": {
    "colab": {},
    "colab_type": "code",
    "collapsed": true,
    "id": "ownvvykNkySD",
    "nbpresent": {
     "id": "9ed1bb59-9e78-47c1-88c4-023c775fe104"
    }
   },
   "outputs": [],
   "source": [
    "left = pd.DataFrame({'key1': ['foo', 'foo', 'bar'], \n",
    "                  'key2': ['one', 'two', 'one'],\n",
    "                  'lval': [1, 2, 3]})\n",
    "right = pd.DataFrame({'key1': ['foo', 'foo', 'bar', 'bar'], \n",
    "                   'key2': ['one', 'one', 'one', 'two'],\n",
    "                   'rval': [4, 5, 6, 7]})\n",
    "left\n",
    "right\n",
    "pd.merge(left, right, on=['key1', 'key2'], how='outer')"
   ]
  },
  {
   "cell_type": "markdown",
   "metadata": {
    "colab_type": "text",
    "id": "YVn3eSOLkySG",
    "nbpresent": {
     "id": "9171c71d-9194-457e-8b9e-cba1076fe9a5"
    },
    "slideshow": {
     "slide_type": "slide"
    }
   },
   "source": [
    "<div class=\"alert alert-info\">\n",
    "<b>HINT:</b> Key combinations \n",
    "\n",
    "<p> To determine which key combinations will appear in the result depending on the choice of merge method, think of the multiple keys as forming an array of tuples to be used as a single join key (even though it’s not actually implemented that way).</p>\n",
    "\n",
    "</div>\n",
    "\n",
    "\n",
    "<br>\n",
    "<div class=\"alert alert-danger\">\n",
    "<b>WARNING: </b> \n",
    "\n",
    "When joining columns-on-columns, the indexes on the passed **`DataFrame`** objects are discarded.\n",
    "\n",
    "</div>\n",
    "\n"
   ]
  },
  {
   "cell_type": "markdown",
   "metadata": {
    "colab_type": "text",
    "id": "osX3tCljkySI",
    "nbpresent": {
     "id": "28acb9a2-efbf-4f7a-82e8-c98b8dab1cdf"
    },
    "slideshow": {
     "slide_type": "slide"
    }
   },
   "source": [
    "A last issue to consider in merge operations is the treatment of overlapping column names. While you can address the overlap manually (see the later section on renaming axis labels), merge has a suffixes option for specifying strings to append to overlapping names in the left and right **`DataFrame`** objects:"
   ]
  },
  {
   "cell_type": "code",
   "execution_count": null,
   "metadata": {
    "colab": {},
    "colab_type": "code",
    "collapsed": true,
    "id": "tiZEaUWMkySJ",
    "nbpresent": {
     "id": "5c6e777c-96b2-49a4-b31d-0ab2dd7da1c5"
    },
    "slideshow": {
     "slide_type": "slide"
    }
   },
   "outputs": [],
   "source": [
    "pd.merge(left, right, on='key1')"
   ]
  },
  {
   "cell_type": "code",
   "execution_count": null,
   "metadata": {
    "colab": {},
    "colab_type": "code",
    "collapsed": true,
    "id": "rlQdlZlUkySN",
    "nbpresent": {
     "id": "8f908186-6e41-4b5e-a25d-aa1353e2776e"
    },
    "slideshow": {
     "slide_type": "slide"
    }
   },
   "outputs": [],
   "source": [
    "pd.merge(left, right, on='key1', suffixes=('_left', '_right'))"
   ]
  },
  {
   "cell_type": "markdown",
   "metadata": {
    "colab_type": "text",
    "id": "35pd03N2kySP",
    "nbpresent": {
     "id": "8b71e9ef-c3e4-4e53-a2de-97bba4c867f7"
    },
    "slideshow": {
     "slide_type": "slide"
    }
   },
   "source": [
    "**`merge`** ** function arguments **\n",
    "\n",
    "| |\n",
    "|:---| :---|\n",
    "|** Method **   |  ** Description **  |\n",
    "| **`left`** | **`DataFrame`** to be merged on the left side |\n",
    "| **`right`** | **`DataFrame`** to be merged on the right side |\n",
    "| **` how`** | One of **`inner`**, **`outer`**, **`left`** or **`right`**. **`inner`** by default |\n",
    "| **`on`** | Column names to join on. Must be found in both **`DataFrame`** objects. If not specified and no other join keys given, will use the intersection of the column names in left and right as the join keys |\n",
    "| **`left_on`** | Columns in left **`DataFrame`** to use as join keys |\n",
    "| **`right_on`** | Analogous to **`left_on`** for left **`DataFrame`** |\n",
    "| **`left_index`** | Use row index in **`left`** as its join key (or keys, if a MultiIndex) |\n",
    "| **`right_index`** | Analogous to **`left_index`** |\n",
    "| **`sort`** | Sort merged data lexicographically by join keys; **`True`** by default. Disable to get better performance in some cases on large datasets |\n",
    "| **`suffixes`** | Tuple of string values to append to column names in case of overlap; defaults to (**`_x`**, **`_y`**). For example, if 'data' in both **`DataFrame`** objects, would appear as **`data_x`** and **`data_y`** in result |\n",
    "| **`copy`** | If **`False`**, avoid copying data into resulting data structure in some exceptional cases. By default always copies |"
   ]
  },
  {
   "cell_type": "markdown",
   "metadata": {
    "colab_type": "text",
    "collapsed": true,
    "id": "-87PntkUkySQ",
    "nbpresent": {
     "id": "c56c3e53-f4b3-4fed-adfd-1974a6368c9a"
    },
    "slideshow": {
     "slide_type": "slide"
    }
   },
   "source": [
    "## Merging on **`Index`**\n",
    "\n",
    "In some cases, the merge key or keys in a **`DataFrame`** will be found in its index. \n",
    "\n",
    "In this case, you can pass **`left_index=True`** or **`right_index=True`** (or both) to indicate that the index should be used as the merge key:"
   ]
  },
  {
   "cell_type": "code",
   "execution_count": null,
   "metadata": {
    "colab": {},
    "colab_type": "code",
    "collapsed": true,
    "id": "zf-q8ymVkySR",
    "nbpresent": {
     "id": "96f5aef9-0b94-4862-8d7e-48eabf56de91"
    },
    "slideshow": {
     "slide_type": "slide"
    }
   },
   "outputs": [],
   "source": [
    "left1 = pd.DataFrame({'key': ['a', 'b', 'a', 'a', 'b', 'c'], 'value': range(6)})\n",
    "right1 = pd.DataFrame({'group_val': [3.5, 7]}, index=['a', 'b'])\n",
    "left1\n",
    "right1"
   ]
  },
  {
   "cell_type": "code",
   "execution_count": null,
   "metadata": {
    "colab": {},
    "colab_type": "code",
    "collapsed": true,
    "id": "572FsRoCkySU",
    "nbpresent": {
     "id": "baeae9bd-ffbe-434d-9785-3b990041193e"
    },
    "slideshow": {
     "slide_type": "slide"
    }
   },
   "outputs": [],
   "source": [
    "pd.merge(left1, right1, left_on='key', right_index=True)"
   ]
  },
  {
   "cell_type": "markdown",
   "metadata": {
    "colab_type": "text",
    "collapsed": true,
    "id": "_zjc_iA4kySW",
    "nbpresent": {
     "id": "27011728-0dc8-48d5-8afa-2e167ee74aff"
    },
    "slideshow": {
     "slide_type": "slide"
    }
   },
   "source": [
    "Since the default merge method is to intersect the join keys, you can instead form the union of them with an outer join:"
   ]
  },
  {
   "cell_type": "code",
   "execution_count": null,
   "metadata": {
    "colab": {},
    "colab_type": "code",
    "collapsed": true,
    "id": "Q6hIDJ53kySX",
    "nbpresent": {
     "id": "8aadf638-f288-4226-a4ba-152b973d7d68"
    }
   },
   "outputs": [],
   "source": [
    "pd.merge(left1, right1, left_on='key', right_index=True, how='outer')"
   ]
  },
  {
   "cell_type": "markdown",
   "metadata": {
    "colab_type": "text",
    "id": "CYoS-aSCkySa",
    "nbpresent": {
     "id": "3dad5362-f206-4915-b206-afb08ec012e9"
    },
    "slideshow": {
     "slide_type": "slide"
    }
   },
   "source": [
    "With hierarchically-indexed data, things are a bit more complicated:"
   ]
  },
  {
   "cell_type": "code",
   "execution_count": null,
   "metadata": {
    "colab": {},
    "colab_type": "code",
    "collapsed": true,
    "id": "uSviPDL5kySb",
    "nbpresent": {
     "id": "d70deaa8-8d1e-40d7-a71c-c8f17cd05304"
    }
   },
   "outputs": [],
   "source": [
    "lefth = DataFrame({'key1': ['Ohio', 'Ohio', 'Ohio', 'Nevada', 'Nevada'], \n",
    "                   'key2': [2000, 2001, 2002, 2001, 2002],\n",
    "                   'data': np.arange(5.)})\n",
    "righth = DataFrame(np.arange(12).reshape((6, 2)), \n",
    "                   index=[['Nevada', 'Nevada', 'Ohio', 'Ohio', 'Ohio', 'Ohio'],\n",
    "                          [2001, 2000, 2000, 2000, 2001, 2002]],\n",
    "                   columns=['event1', 'event2'])\n",
    "lefth\n",
    "righth"
   ]
  },
  {
   "cell_type": "markdown",
   "metadata": {
    "colab_type": "text",
    "id": "pnBzWLvXkySe",
    "nbpresent": {
     "id": "1926aee1-39ba-4687-95f8-f63209aca66d"
    },
    "slideshow": {
     "slide_type": "slide"
    }
   },
   "source": [
    "In this case, you have to indicate multiple columns to merge on as a list (pay attention to the handling of duplicate index values):"
   ]
  },
  {
   "cell_type": "code",
   "execution_count": null,
   "metadata": {
    "colab": {},
    "colab_type": "code",
    "collapsed": true,
    "id": "NXIAni7ekySf",
    "nbpresent": {
     "id": "a55c310d-f21b-4325-bcf5-7f2c01d3e4f7"
    }
   },
   "outputs": [],
   "source": [
    "pd.merge(lefth, righth, left_on=['key1', 'key2'], right_index=True)"
   ]
  },
  {
   "cell_type": "code",
   "execution_count": null,
   "metadata": {
    "colab": {},
    "colab_type": "code",
    "collapsed": true,
    "id": "agqv7M11kySi",
    "nbpresent": {
     "id": "054cba8c-6d23-4594-8399-606b84aeb119"
    },
    "slideshow": {
     "slide_type": "slide"
    }
   },
   "outputs": [],
   "source": [
    "pd.merge(lefth, righth, left_on=['key1', 'key2'], right_index=True, how='outer')"
   ]
  },
  {
   "cell_type": "markdown",
   "metadata": {
    "colab_type": "text",
    "id": "XY5OTLjkkySl",
    "nbpresent": {
     "id": "ade036bb-ba83-4851-8a34-666850798183"
    },
    "slideshow": {
     "slide_type": "slide"
    }
   },
   "source": [
    "Using the indexes of both sides of the merge is also not an issue:"
   ]
  },
  {
   "cell_type": "code",
   "execution_count": null,
   "metadata": {
    "colab": {},
    "colab_type": "code",
    "collapsed": true,
    "id": "AC4v98LbkySm",
    "nbpresent": {
     "id": "acdbe55f-efae-4f7d-881a-e434ab3a7b18"
    }
   },
   "outputs": [],
   "source": [
    "left2 = pd.DataFrame([[1., 2.], [3., 4.], [5., 6.]], \n",
    "                  index=['a', 'c', 'e'], columns=['Ohio', 'Nevada'])\n",
    "right2 = pd.DataFrame([[7., 8.], [9., 10.], [11., 12.], [13, 14]],\n",
    "                   index=['b', 'c', 'd', 'e'], columns=['Missouri', 'Alabama'])\n",
    "left2\n",
    "right2"
   ]
  },
  {
   "cell_type": "code",
   "execution_count": null,
   "metadata": {
    "colab": {},
    "colab_type": "code",
    "collapsed": true,
    "id": "jWjXhs6ykySo",
    "nbpresent": {
     "id": "d72425ee-f89b-4cdc-a88d-babdd805bed3"
    },
    "slideshow": {
     "slide_type": "slide"
    }
   },
   "outputs": [],
   "source": [
    "pd.merge(left2, right2, how='outer', left_index=True, right_index=True)"
   ]
  },
  {
   "cell_type": "markdown",
   "metadata": {
    "colab_type": "text",
    "id": "Az02vAaEkySr",
    "nbpresent": {
     "id": "1dbaff87-2884-4a99-b5e6-739d54b03e79"
    },
    "slideshow": {
     "slide_type": "slide"
    }
   },
   "source": [
    "**`DataFrame`** has a more convenient join instance for merging by index. It can also be used to combine together many **`DataFrame`** objects having the same or similar indexes but non-overlapping columns. \n",
    "\n",
    "In the prior example, we could have written:\n"
   ]
  },
  {
   "cell_type": "code",
   "execution_count": null,
   "metadata": {
    "colab": {},
    "colab_type": "code",
    "collapsed": true,
    "id": "WwYAIvXMkySr",
    "nbpresent": {
     "id": "b64381bf-bb09-443f-a569-ac5f809eb7d7"
    }
   },
   "outputs": [],
   "source": [
    "left2.join(right2, how='outer')"
   ]
  },
  {
   "cell_type": "markdown",
   "metadata": {
    "colab_type": "text",
    "id": "f3Wi9hbAkySu",
    "nbpresent": {
     "id": "09f5633f-e55a-46e0-ace0-c4941caee4c6"
    },
    "slideshow": {
     "slide_type": "slide"
    }
   },
   "source": [
    "**`DataFrame`** join method performs a left join on the join keys (mostly for legacy reasons in much earlier versions of pandas). It also supports joining the index of the passed **`DataFrame`** on one of the columns of the calling **`DataFrame`**:"
   ]
  },
  {
   "cell_type": "code",
   "execution_count": null,
   "metadata": {
    "colab": {},
    "colab_type": "code",
    "collapsed": true,
    "id": "LcdRTZwfkySv",
    "nbpresent": {
     "id": "271afb4d-5eb8-4859-a65e-fcd092e61fef"
    }
   },
   "outputs": [],
   "source": [
    "left1.join(right1, on='key')"
   ]
  },
  {
   "cell_type": "markdown",
   "metadata": {
    "colab_type": "text",
    "id": "piLgD6K_kySy",
    "nbpresent": {
     "id": "d5f57506-1ec4-4b54-a87c-a2c45067730c"
    },
    "slideshow": {
     "slide_type": "slide"
    }
   },
   "source": [
    "Lastly, for simple *index-on-index* merges, you can pass a list of **`DataFrames`** to join as an alternative to using the more general concat function described below:"
   ]
  },
  {
   "cell_type": "code",
   "execution_count": null,
   "metadata": {
    "colab": {},
    "colab_type": "code",
    "collapsed": true,
    "id": "I7oph6FIkySy",
    "nbpresent": {
     "id": "4ede78e5-45e2-47ad-a2fd-867d5f420b9d"
    }
   },
   "outputs": [],
   "source": [
    "another = pd.DataFrame([[7., 8.], [9., 10.], [11., 12.], [16., 17.]],\n",
    "                    index=['a', 'c', 'e', 'f'], columns=['New York', 'Oregon'])\n",
    "left2.join([right2, another])\n",
    "left2.join([right2, another], how='outer')"
   ]
  },
  {
   "cell_type": "markdown",
   "metadata": {
    "colab_type": "text",
    "id": "sym4FiWikrx2"
   },
   "source": [
    "<div class=\"alert alert-warning\">\n",
    "<b>EXERCISE 1: </b> \n",
    "<p>1, Define two dataframes:</p>\n",
    "<code>df1 = pd.DataFrame({'employee': ['Emma', 'George', 'Lisa', 'Olivia'],\n",
    "                    'group': ['Accounting', 'Engineering', 'Engineering', 'HR']})\n",
    "df2 = pd.DataFrame({'employee': ['Emma', 'Olivia', 'Jacob', 'George','Lisa'],\n",
    "    'hire_date': [2004, 2008, 2012, 2014,2009]})</code>\n",
    "    \n",
    "<p>2, Combine the two dataframes. The expected output is: </p>\n",
    "<img src=\"//i.imgur.com/MIT5PDl.png\" height=\"30%\" width=\"30%\">\n",
    "\n",
    "</div>"
   ]
  },
  {
   "cell_type": "code",
   "execution_count": 28,
   "metadata": {
    "colab": {
     "base_uri": "https://localhost:8080/",
     "height": 173
    },
    "colab_type": "code",
    "id": "N6FB5zhRkwDD",
    "outputId": "0ae721d2-db45-42ba-a82a-4f0a312be851"
   },
   "outputs": [],
   "source": [
    "# Write your solution here"
   ]
  },
  {
   "cell_type": "markdown",
   "metadata": {
    "colab_type": "text",
    "id": "4tifkz2ikyWL"
   },
   "source": [
    "<div class=\"alert alert-warning\">\n",
    "<b>EXERCISE 2: </b> \n",
    "<p>Combine the dataframes <b>df1</b> and <b>df2</b> defined in Exercise 1. The expected output is: </p>\n",
    "<img src=\"//i.imgur.com/9vhABls.png\" height=\"30%\" width=\"30%\">\n",
    "</div>"
   ]
  },
  {
   "cell_type": "code",
   "execution_count": 29,
   "metadata": {
    "colab": {
     "base_uri": "https://localhost:8080/",
     "height": 204
    },
    "colab_type": "code",
    "id": "kiFciNA9k1o2",
    "outputId": "9e71c763-0e93-4dae-cc10-b70ec926ba9f"
   },
   "outputs": [],
   "source": [
    "# Write your solution here"
   ]
  },
  {
   "cell_type": "markdown",
   "metadata": {
    "colab_type": "text",
    "id": "0dpV0AWek7nU"
   },
   "source": [
    "<div class=\"alert alert-warning\">\n",
    "<b>EXERCISE 3: </b> \n",
    "<p>1, Define two dataframes:</p>\n",
    "<code>df1 = pd.DataFrame({'key1': ['K0', 'K1', 'K1', 'K2'],'key2': ['K0', 'K1', 'K0', 'K1'],\n",
    "                           'A': ['A0', 'A1', 'A2', 'A3'],'B': ['B0', 'B1', 'B2', 'B3']})\n",
    "df2 = pd.DataFrame({'key1': ['K0', 'K0', 'K1', 'K2'],'key2': ['K0', 'K0', 'K0', 'K0'],\n",
    "                           'C': ['C0', 'C1', 'C2', 'C3'],'D': ['D0', 'D1', 'D2', 'D3']})</code>\n",
    "    \n",
    "<p>2, Combine the two dataframes. The data from <b>df1</b> should be kept in the new dataframe. The expected output is:</p>\n",
    "<img src=\"//i.imgur.com/8miA1nl.png\" height=\"30%\" width=\"30%\">\n",
    "</div>"
   ]
  },
  {
   "cell_type": "code",
   "execution_count": 30,
   "metadata": {
    "colab": {
     "base_uri": "https://localhost:8080/",
     "height": 204
    },
    "colab_type": "code",
    "id": "AASUkqjyk-r3",
    "outputId": "d23e4a9a-ff34-43d3-b754-aca65201adfd"
   },
   "outputs": [],
   "source": [
    "# Write your solution here"
   ]
  },
  {
   "cell_type": "markdown",
   "metadata": {
    "colab_type": "text",
    "id": "ttMwFB8IlCUU"
   },
   "source": [
    "<div class=\"alert alert-warning\">\n",
    "<b>EXERCISE 4: </b> \n",
    "<p>1, Define two dataframes:</p>\n",
    "<code>df1=DataFrame({'key1':['foo','foo','bar','bar'],\n",
    "                 'key2':['one','one','one','two'],\n",
    "                 'lval':[4,5,6,7]})\n",
    "df2=DataFrame({'key3':['foo','foo','bar'],\n",
    "                'key4':['one','two','one'],\n",
    "                'lval':[1,2,3]})</code>\n",
    "    \n",
    "<p>2, Combine the two dataframes. The expected output is:</p>\n",
    "<img src=\"//i.imgur.com/60F7pZn.png\" height=\"30%\" width=\"30%\">\n",
    "</div>"
   ]
  },
  {
   "cell_type": "code",
   "execution_count": 31,
   "metadata": {
    "colab": {
     "base_uri": "https://localhost:8080/",
     "height": 235
    },
    "colab_type": "code",
    "id": "XezFmzPTlGCa",
    "outputId": "6b26fb7d-4560-4f7c-ecdb-419b6107ec2b"
   },
   "outputs": [],
   "source": [
    "# Write your solution here"
   ]
  },
  {
   "cell_type": "markdown",
   "metadata": {
    "colab_type": "text",
    "id": "7RfKlg56lIrt"
   },
   "source": [
    "<div class=\"alert alert-warning\">\n",
    "<b>EXERCISE 5: </b> \n",
    "<p>Combine the two dataframes defined in Exercise 4. The expected output is:</p>\n",
    "<img src=\"//i.imgur.com/8G4F3Eq.png\" height=\"30%\" width=\"30%\">\n",
    "</div>"
   ]
  },
  {
   "cell_type": "code",
   "execution_count": 32,
   "metadata": {
    "colab": {
     "base_uri": "https://localhost:8080/",
     "height": 204
    },
    "colab_type": "code",
    "id": "PaIgovfNlMrb",
    "outputId": "7787cd73-9cb3-47db-ed97-8096308114b4"
   },
   "outputs": [],
   "source": [
    "# Write your solution here"
   ]
  },
  {
   "cell_type": "markdown",
   "metadata": {
    "colab_type": "text",
    "id": "X8xDhSZ4kyS0",
    "nbpresent": {
     "id": "ac8ba53f-3721-4d50-99d4-9a8b618f612c"
    },
    "slideshow": {
     "slide_type": "slide"
    }
   },
   "source": [
    "## Concatenating along an axis \n",
    "\n",
    "Another kind of data combination operation is alternatively referred to as **concatenation**, binding, or stacking. **`NumPy`** has a concatenate function for doing this with raw NumPy arrays:"
   ]
  },
  {
   "cell_type": "code",
   "execution_count": null,
   "metadata": {
    "colab": {},
    "colab_type": "code",
    "collapsed": true,
    "id": "GcSN04Q-kyS1",
    "nbpresent": {
     "id": "314d3432-2272-40bf-843f-65ed43b1dac2"
    }
   },
   "outputs": [],
   "source": [
    "arr = np.arange(12).reshape((3, 4))\n",
    "arr.shape"
   ]
  },
  {
   "cell_type": "code",
   "execution_count": null,
   "metadata": {
    "colab": {},
    "colab_type": "code",
    "collapsed": true,
    "id": "ylmm7jdbkyS7",
    "nbpresent": {
     "id": "d7de7f23-0d0c-457d-8433-91dd8ca9bc1f"
    },
    "slideshow": {
     "slide_type": "slide"
    }
   },
   "outputs": [],
   "source": [
    "arr2 = np.concatenate([arr, arr], axis=1)\n",
    "arr2.shape"
   ]
  },
  {
   "cell_type": "markdown",
   "metadata": {
    "colab_type": "text",
    "id": "Ps5QNaZGkyTA",
    "nbpresent": {
     "id": "6cb6a6b4-74da-4706-9698-312426fe5caf"
    },
    "slideshow": {
     "slide_type": "slide"
    }
   },
   "source": [
    "In the context of **`pandas`** objects such as **`Series`** and **`DataFrame`**, having labeled axes enable you to further generalize array concatenation. In particular, you have a number of additional things to think about:\n",
    "\n",
    "- If the objects are indexed differently on the other axes, should the collection of axes be unioned or intersected?\n",
    "- Do the groups need to be identifiable in the resulting object?\n",
    "- Does the concatenation axis matter at all?\n"
   ]
  },
  {
   "cell_type": "markdown",
   "metadata": {
    "colab_type": "text",
    "id": "emovhQyQkyTB",
    "nbpresent": {
     "id": "c38eed20-1af3-4782-94f2-878a35e4ff4f"
    },
    "slideshow": {
     "slide_type": "slide"
    }
   },
   "source": [
    "The **`concat`** function in **`pandas`** provides a consistent way to address each of these concerns. We will give a number of examples to illustrate how it works. Suppose we have three **`Series`** with no index overlap:"
   ]
  },
  {
   "cell_type": "code",
   "execution_count": null,
   "metadata": {
    "colab": {},
    "colab_type": "code",
    "collapsed": true,
    "id": "JI5z0oKwkyTB",
    "nbpresent": {
     "id": "89a3de9a-83cb-455c-93ea-aa5f85083b2b"
    }
   },
   "outputs": [],
   "source": [
    "s1 = pd.Series([0, 1], index=['a', 'b'])\n",
    "s2 = pd.Series([2, 3, 4], index=['c', 'd', 'e'])\n",
    "s3 = pd.Series([5, 6], index=['f', 'g'])\n",
    "s1\n",
    "s2\n",
    "s3"
   ]
  },
  {
   "cell_type": "markdown",
   "metadata": {
    "colab_type": "text",
    "id": "rQqi80uxkyTE",
    "nbpresent": {
     "id": "3e000b08-f5e8-4ba4-8cf4-4ee131cf6f38"
    },
    "slideshow": {
     "slide_type": "slide"
    }
   },
   "source": [
    "Calling **`concat`** with these object in a list glues together the values and indexes:"
   ]
  },
  {
   "cell_type": "code",
   "execution_count": null,
   "metadata": {
    "colab": {},
    "colab_type": "code",
    "collapsed": true,
    "id": "JHDUNLvBkyTF",
    "nbpresent": {
     "id": "a0e71e65-0448-4cb1-b001-6a6403c0cc51"
    }
   },
   "outputs": [],
   "source": [
    "pd.concat([s1, s2, s3])"
   ]
  },
  {
   "cell_type": "markdown",
   "metadata": {
    "colab_type": "text",
    "id": "2r_E_Lv1kyTH",
    "nbpresent": {
     "id": "f5d1be75-adf5-46fb-a00a-9a5916a11d3b"
    },
    "slideshow": {
     "slide_type": "slide"
    }
   },
   "source": [
    "By default **`concat`** works along **`axis=0`**, producing another **`Series`**. If you pass **`axis=1`**, the result will instead be a **`DataFrame`** (**`axis=1`** is the columns). In this case there is no overlap on the other axis, which as you can see is the sorted union (the 'outer' join) of the indexes."
   ]
  },
  {
   "cell_type": "code",
   "execution_count": null,
   "metadata": {
    "colab": {},
    "colab_type": "code",
    "collapsed": true,
    "id": "iFrCwhFvkyTI",
    "nbpresent": {
     "id": "6e61b8b8-5cfb-4870-95fc-a29de075e3fa"
    }
   },
   "outputs": [],
   "source": [
    "pd.concat([s1, s2, s3], axis=1)"
   ]
  },
  {
   "cell_type": "markdown",
   "metadata": {
    "colab_type": "text",
    "id": "rZ2x6TvRkyTK",
    "nbpresent": {
     "id": "d96eda1c-ac77-47a5-b3fb-0bcc15bfaebd"
    },
    "slideshow": {
     "slide_type": "slide"
    }
   },
   "source": [
    "Alternatively, you can intersect them by passing **`join='inner'`**:"
   ]
  },
  {
   "cell_type": "code",
   "execution_count": null,
   "metadata": {
    "colab": {},
    "colab_type": "code",
    "collapsed": true,
    "id": "BJpGqvimkyTK",
    "nbpresent": {
     "id": "cd76b36d-e688-4744-8926-d11ff747775d"
    }
   },
   "outputs": [],
   "source": [
    "s4 = pd.concat([s1 * 5, s3])\n",
    "pd.concat([s1, s4], axis=1)\n",
    "pd.concat([s1, s4], axis=1, join='inner')"
   ]
  },
  {
   "cell_type": "markdown",
   "metadata": {
    "colab_type": "text",
    "id": "fouXFZ0JkyTN",
    "nbpresent": {
     "id": "c0e58cf5-3633-408c-bb47-e1f49412a7ad"
    },
    "slideshow": {
     "slide_type": "slide"
    }
   },
   "source": [
    "You can even specify the axes to be used on the other axes with **`join_axes`**:"
   ]
  },
  {
   "cell_type": "code",
   "execution_count": null,
   "metadata": {
    "colab": {},
    "colab_type": "code",
    "collapsed": true,
    "id": "qg6uIU4wkyTN",
    "nbpresent": {
     "id": "acca27d4-1d49-48ca-8a25-4d3321e8064a"
    }
   },
   "outputs": [],
   "source": [
    "pd.concat([s1, s4], axis=1, join_axes=[['a', 'c', 'b', 'e']])"
   ]
  },
  {
   "cell_type": "markdown",
   "metadata": {
    "colab_type": "text",
    "id": "SpbIhhXgkyTQ",
    "nbpresent": {
     "id": "0a920ba2-5171-473c-ba0a-09e7e019edc9"
    },
    "slideshow": {
     "slide_type": "slide"
    }
   },
   "source": [
    "One issue is that the concatenated pieces are not identifiable in the result. Suppose instead you wanted to create a hierarchical index on the concatenation axis. To do this, use the keys argument:"
   ]
  },
  {
   "cell_type": "code",
   "execution_count": null,
   "metadata": {
    "colab": {},
    "colab_type": "code",
    "collapsed": true,
    "id": "jyCaNOtbkyTS",
    "nbpresent": {
     "id": "565371b3-b43d-4d44-951e-e37583998040"
    }
   },
   "outputs": [],
   "source": [
    "result = pd.concat([s1, s1, s3], keys=['one', 'two', 'three'])\n",
    "result \n",
    "result.unstack() # Much more on the unstack function later"
   ]
  },
  {
   "cell_type": "markdown",
   "metadata": {
    "colab_type": "text",
    "id": "csUVvFy2kyTV",
    "nbpresent": {
     "id": "51ed58a5-657c-4d00-a053-66e594438886"
    },
    "slideshow": {
     "slide_type": "slide"
    }
   },
   "source": [
    "In the case of combining **`Series`** along **`axis=1`**, the keys become the **`DataFrame`** column headers:"
   ]
  },
  {
   "cell_type": "code",
   "execution_count": null,
   "metadata": {
    "colab": {},
    "colab_type": "code",
    "collapsed": true,
    "id": "y_21JCbJkyTV",
    "nbpresent": {
     "id": "3b646abd-4a39-41c8-ad81-154b718f54e2"
    }
   },
   "outputs": [],
   "source": [
    "pd.concat([s1, s2, s3], axis=1, keys=['one', 'two', 'three'])"
   ]
  },
  {
   "cell_type": "markdown",
   "metadata": {
    "colab_type": "text",
    "id": "ExA4wLrZkyTY",
    "nbpresent": {
     "id": "017b3971-98d7-4ef9-9f2a-fb5de3b53bba"
    },
    "slideshow": {
     "slide_type": "slide"
    }
   },
   "source": [
    "The same logic extends to **`DataFrame`** objects:"
   ]
  },
  {
   "cell_type": "code",
   "execution_count": null,
   "metadata": {
    "colab": {},
    "colab_type": "code",
    "collapsed": true,
    "id": "0DuBQoPukyTY",
    "nbpresent": {
     "id": "08753548-0b85-4ae9-85b1-cf16874f75ed"
    }
   },
   "outputs": [],
   "source": [
    "df1 = pd.DataFrame(np.arange(6).reshape(3, 2), index=['a', 'b', 'c'], columns=['one', 'two'])\n",
    "df2 = pd.DataFrame(5 + np.arange(4).reshape(2, 2), index=['a', 'c'], columns=['three', 'four'])\n",
    "pd.concat([df1, df2], axis=1, keys=['level1', 'level2'])"
   ]
  },
  {
   "cell_type": "markdown",
   "metadata": {
    "colab_type": "text",
    "id": "m5pzP1zJkyTb",
    "nbpresent": {
     "id": "3b987d67-eec3-4e5b-ab46-891b99875881"
    },
    "slideshow": {
     "slide_type": "slide"
    }
   },
   "source": [
    "If you pass a dict of objects instead of a list, the dict’s keys will be used for the keys option:"
   ]
  },
  {
   "cell_type": "code",
   "execution_count": null,
   "metadata": {
    "colab": {},
    "colab_type": "code",
    "collapsed": true,
    "id": "SryZgbUBkyTc",
    "nbpresent": {
     "id": "945c6298-48af-4b38-b0ff-ede697224a0a"
    }
   },
   "outputs": [],
   "source": [
    "pd.concat({'level1': df1, 'level2': df2}, axis=1)"
   ]
  },
  {
   "cell_type": "markdown",
   "metadata": {
    "colab_type": "text",
    "id": "UWy6EBuGkyTd",
    "nbpresent": {
     "id": "56418496-0268-483a-a761-5f4eee6d6cdd"
    },
    "slideshow": {
     "slide_type": "slide"
    }
   },
   "source": [
    "There are a couple of additional arguments governing how the hierarchical index is created: "
   ]
  },
  {
   "cell_type": "code",
   "execution_count": null,
   "metadata": {
    "colab": {},
    "colab_type": "code",
    "collapsed": true,
    "id": "zTrmF6VQkyTf",
    "nbpresent": {
     "id": "3a89468c-d5d4-49b3-811c-69aa5f0523a8"
    }
   },
   "outputs": [],
   "source": [
    "pd.concat([df1, df2], axis=1, keys=['level1', 'level2'],\n",
    "          names=['upper', 'lower'])"
   ]
  },
  {
   "cell_type": "markdown",
   "metadata": {
    "colab_type": "text",
    "id": "1EZTtxSJkyTg",
    "nbpresent": {
     "id": "e114d226-2b84-4a48-b421-bbf423bdfe4c"
    },
    "slideshow": {
     "slide_type": "slide"
    }
   },
   "source": [
    "A last consideration concerns **`DataFrames`** in which the row index is not meaningful in the context of the analysis:"
   ]
  },
  {
   "cell_type": "code",
   "execution_count": null,
   "metadata": {
    "colab": {},
    "colab_type": "code",
    "collapsed": true,
    "id": "l82k6brAkyTh",
    "nbpresent": {
     "id": "8e5a2c25-9676-46dc-8b68-0a891e7b0d4e"
    }
   },
   "outputs": [],
   "source": [
    "df1 = pd.DataFrame(np.random.randn(3, 4), columns=['a', 'b', 'c', 'd'])\n",
    "df2 = pd.DataFrame(np.random.randn(2, 3), columns=['b', 'd', 'a'])\n",
    "df1\n",
    "df2"
   ]
  },
  {
   "cell_type": "markdown",
   "metadata": {
    "colab_type": "text",
    "id": "F8O_IwAhkyTj",
    "nbpresent": {
     "id": "6056bc1b-182f-480c-a8cb-43bab66ee23f"
    },
    "slideshow": {
     "slide_type": "slide"
    }
   },
   "source": [
    "In this case, you can pass **`ignore_index=True`**:"
   ]
  },
  {
   "cell_type": "code",
   "execution_count": null,
   "metadata": {
    "colab": {},
    "colab_type": "code",
    "collapsed": true,
    "id": "o2lGQr9zkyTj",
    "nbpresent": {
     "id": "b2a3d8a3-ec07-46fa-adff-c6a5b0df6111"
    }
   },
   "outputs": [],
   "source": [
    "pd.concat([df1, df2], ignore_index=True)"
   ]
  },
  {
   "cell_type": "markdown",
   "metadata": {
    "colab_type": "text",
    "id": "GfVVYLnCkyTn",
    "nbpresent": {
     "id": "04841d85-20d6-40cb-90cf-6911c74c38c5"
    },
    "slideshow": {
     "slide_type": "slide"
    }
   },
   "source": [
    "**`concat`** **function arguments**\n",
    "\n",
    "| |\n",
    "|:---| :---|\n",
    "|** Method **   |  ** Description **  |\n",
    "| **`objs`** | List or dict of **`pandas`** objects to be concatenated. The only required argument |\n",
    "| **`axis`** | Axis to concatenate along; defaults to 0 |\n",
    "| **`join`** | One of **inner**, **outer**, defaulting to **outer**; whether to intersection (inner) or union (outer) together indexes along the other axes |\n",
    "| **`join_axis`** | Specific indexes to use for the other $n-1$ axes instead of performing union/intersection logic |\n",
    "| **`keys`** | Values to associate with objects being concatenated, forming a hierarchical index along the concatenation axis. Can either be a list or array of arbitrary values, an array of tuples, or a list of arrays (if multiple level arrays passed in **`levels`**) |\n",
    "| **`levels`** | Specific indexes to use as hierarchical index level or levels if keys passed |\n",
    "| **`names`** | Names for created hierarchical levels if **`keys`** and / or **`level`**s passed |\n",
    "| **`verify_integrity`** | Check new axis in concatenated object for duplicates and raise exception if so. By default (**`False`**) allows duplicates |\n",
    "| **`ignore_index`** | Do not preserve indexes along concatenation **`axis`**, instead producing a new **`range(total_length)`** index |"
   ]
  },
  {
   "cell_type": "markdown",
   "metadata": {
    "colab_type": "text",
    "id": "UBY63i0fkyTn",
    "nbpresent": {
     "id": "bdf748b4-5760-4a52-a688-5dfa4fcc999f"
    },
    "slideshow": {
     "slide_type": "slide"
    }
   },
   "source": [
    "## Combining data with **`overlap`**\n",
    "\n",
    "Another data combination situation can’t be expressed as either a *merge* or *concatenation* operation. You may have two datasets whose indexes overlap in full or part. As a motivating example, consider the **`NumPy`** **`where`** function, which expressed a vectorized if-else:"
   ]
  },
  {
   "cell_type": "code",
   "execution_count": null,
   "metadata": {
    "colab": {},
    "colab_type": "code",
    "collapsed": true,
    "id": "tqQxeH8YkyTn",
    "nbpresent": {
     "id": "2aabc840-781f-494d-962a-f950f869b211"
    }
   },
   "outputs": [],
   "source": [
    "a = pd.Series([np.nan, 2.5, np.nan, 3.5, 4.5, np.nan], index=['f', 'e', 'd', 'c', 'b', 'a'])\n",
    "b = pd.Series(np.arange(len(a), dtype=np.float64), index=['f', 'e', 'd', 'c', 'b', 'a'])\n",
    "b[-1] = np.nan\n",
    "a\n",
    "b"
   ]
  },
  {
   "cell_type": "code",
   "execution_count": null,
   "metadata": {
    "colab": {},
    "colab_type": "code",
    "collapsed": true,
    "id": "AV7qclz3kyTr",
    "nbpresent": {
     "id": "f822896f-6f5c-4914-8167-ddc927d255f9"
    },
    "slideshow": {
     "slide_type": "slide"
    }
   },
   "outputs": [],
   "source": [
    "np.where(pd.isnull(a), b, a)"
   ]
  },
  {
   "cell_type": "markdown",
   "metadata": {
    "colab_type": "text",
    "id": "g1XhaYhWkyTt",
    "nbpresent": {
     "id": "a2a6f79c-4b1c-4311-a981-5b7f70ecb38a"
    },
    "slideshow": {
     "slide_type": "slide"
    }
   },
   "source": [
    "**`Series`** has a **`combine_first`** method, which performs the equivalent of this operation plus data alignment:"
   ]
  },
  {
   "cell_type": "code",
   "execution_count": null,
   "metadata": {
    "colab": {},
    "colab_type": "code",
    "collapsed": true,
    "id": "owWsq7-bkyTt",
    "nbpresent": {
     "id": "51b52466-a05d-4a63-9809-ac607edc6509"
    }
   },
   "outputs": [],
   "source": [
    "b[:-2].combine_first(a[2:])"
   ]
  },
  {
   "cell_type": "markdown",
   "metadata": {
    "colab_type": "text",
    "id": "Cu0C8rTOkyTv",
    "nbpresent": {
     "id": "4a39feb9-d4bc-474a-9cde-9c4656cca52a"
    },
    "slideshow": {
     "slide_type": "slide"
    }
   },
   "source": [
    "With **`DataFrame`**, **`combine_first`** naturally does the same thing column by column, so you can think of it as “patching” missing data in the calling object with data from the object you pass:"
   ]
  },
  {
   "cell_type": "code",
   "execution_count": null,
   "metadata": {
    "colab": {},
    "colab_type": "code",
    "collapsed": true,
    "id": "Dfulqc8ekyTw",
    "nbpresent": {
     "id": "1dc96032-1da9-483a-bab1-d4b0d01235b5"
    }
   },
   "outputs": [],
   "source": [
    "df1 = pd.DataFrame({'a': [1., np.nan, 5., np.nan], \n",
    "                 'b': [np.nan, 2., np.nan, 6.],\n",
    "                 'c': range(2, 18, 4)})\n",
    "df2 = pd.DataFrame({'a': [5., 4., np.nan, 3., 7.], \n",
    "                 'b': [np.nan, 3., 4., 6., 8.]})\n",
    "df1.combine_first(df2)"
   ]
  },
  {
   "cell_type": "markdown",
   "metadata": {
    "colab_type": "text",
    "id": "yxcUbhJhlTdU"
   },
   "source": [
    "<div class=\"alert alert-warning\">\n",
    "<b>EXERCISE 6: </b> \n",
    "<p>1, Define two dataframes:</p>\n",
    "<code>df1 = DataFrame({'city': ['Chicago', 'San Francisco', 'New York City'], 'rank': range(1, 4)})\n",
    "df2 = DataFrame({'city': ['Chicago', 'Boston', 'Los Angeles'], 'rank': [1, 4, 5]})</code>\n",
    "    \n",
    "<p>2, Concatenate the two dataframes. The expected output is:</p>\n",
    "<img src=\"//i.imgur.com/V0nutRc.png\" height=\"30%\" width=\"30%\">\n",
    "</div>"
   ]
  },
  {
   "cell_type": "code",
   "execution_count": 33,
   "metadata": {
    "colab": {
     "base_uri": "https://localhost:8080/",
     "height": 142
    },
    "colab_type": "code",
    "id": "qBhZWgnwlYSF",
    "outputId": "a2b42f54-4762-4a1d-8bbd-848d93cea933"
   },
   "outputs": [],
   "source": [
    "# Write your solution here"
   ]
  },
  {
   "cell_type": "markdown",
   "metadata": {
    "colab_type": "text",
    "id": "nMOLZFfzlbh9"
   },
   "source": [
    "<div class=\"alert alert-warning\">\n",
    "<b>EXERCISE 7: </b> \n",
    "<p>Concatenate the two dataframes defined in Exercise 6. The expected output is:</p>\n",
    "<img src=\"//i.imgur.com/6PHyKor.png\" height=\"20%\" width=\"20%\">\n",
    "</div>"
   ]
  },
  {
   "cell_type": "code",
   "execution_count": 34,
   "metadata": {
    "colab": {
     "base_uri": "https://localhost:8080/",
     "height": 235
    },
    "colab_type": "code",
    "id": "eTDzGfmfla1o",
    "outputId": "033529d3-e9b8-43d9-ed6d-0992d49d43ae"
   },
   "outputs": [],
   "source": [
    "# Write your solution here"
   ]
  },
  {
   "cell_type": "markdown",
   "metadata": {
    "colab_type": "text",
    "id": "rOnELpXzlhDn"
   },
   "source": [
    "<div class=\"alert alert-warning\">\n",
    "<b>EXERCISE 8: </b> \n",
    "<p>Concatenate the two dataframes defined in Exercise 6. The expected output is:</p>\n",
    "<img src=\"//i.imgur.com/tNoIebC.png\" height=\"20%\" width=\"20%\">\n",
    "</div>"
   ]
  },
  {
   "cell_type": "code",
   "execution_count": 35,
   "metadata": {
    "colab": {
     "base_uri": "https://localhost:8080/",
     "height": 204
    },
    "colab_type": "code",
    "id": "rBcY39WvlkMT",
    "outputId": "a8308326-6f27-4d4d-c722-cea7429a3be9"
   },
   "outputs": [],
   "source": [
    "# Write your solution here"
   ]
  },
  {
   "cell_type": "markdown",
   "metadata": {
    "colab_type": "text",
    "id": "ZBKz1vlFlmzB"
   },
   "source": [
    "<div class=\"alert alert-warning\">\n",
    "<b>EXERCISE 9: </b> \n",
    "<p>1, Define two dataframes:</p>\n",
    "<code>df1 = DataFrame({'city': ['Chicago', 'San Francisco', 'New York City'], 'rank': range(1, 4)})\n",
    "df2 = DataFrame({'city': ['Chicago', 'Boston', 'Los Angeles'], 'rank': [1, 4, 5]})</code>\n",
    "    \n",
    "<p>2, Concatenate the two dataframes. The expected output is:</p>\n",
    "<img src=\"//i.imgur.com/AylE54E.png\" height=\"30%\" width=\"30%\">\n",
    "</div>"
   ]
  },
  {
   "cell_type": "code",
   "execution_count": 36,
   "metadata": {
    "colab": {
     "base_uri": "https://localhost:8080/",
     "height": 173
    },
    "colab_type": "code",
    "id": "kVq9jAdJlpvO",
    "outputId": "3da63472-1c30-49e5-ef32-e80b89bb5a2b"
   },
   "outputs": [],
   "source": [
    "# Write your solution here"
   ]
  },
  {
   "cell_type": "markdown",
   "metadata": {
    "colab_type": "text",
    "id": "F8u3bT9Klst1"
   },
   "source": [
    "<div class=\"alert alert-warning\">\n",
    "<b>EXERCISE 10: </b> \n",
    "<p>1, Define two dataframes:</p>\n",
    "<code>df1 = pd.DataFrame([[np.nan, 3., 5.], [-4.6, np.nan, np.nan],[np.nan, 7., np.nan]])\n",
    "df2 = pd.DataFrame([[-42.6, -7.7, -8.2], [-5., 1.6, 4]], index=[1, 2])</code>\n",
    "    \n",
    "<p>2, Fill in the missing data in <b>df1</b> with data from <b>df2</b>. The expected output is:</p>\n",
    "<img src=\"//i.imgur.com/seWo2n9.png\" height=\"20%\" width=\"20%\">\n",
    "</div>"
   ]
  },
  {
   "cell_type": "code",
   "execution_count": 37,
   "metadata": {
    "colab": {
     "base_uri": "https://localhost:8080/",
     "height": 142
    },
    "colab_type": "code",
    "id": "mfUNCVHZlvmB",
    "outputId": "7e12a6f9-24e2-4766-8fc5-a1748c4281dd"
   },
   "outputs": [],
   "source": [
    "# Write your solution here"
   ]
  },
  {
   "cell_type": "markdown",
   "metadata": {
    "colab_type": "text",
    "id": "1z0l7y5ukyTz",
    "nbpresent": {
     "id": "67117841-a111-4eeb-af58-2f3fa8749539"
    },
    "slideshow": {
     "slide_type": "slide"
    }
   },
   "source": [
    "## 7.8 Reshaping and Pivoting\n",
    "\n",
    "There are a number of fundamental operations for rearranging tabular data. These are alternatingly referred to as reshape or pivot operations."
   ]
  },
  {
   "cell_type": "markdown",
   "metadata": {
    "colab_type": "text",
    "id": "rMASFvfkkyT0",
    "nbpresent": {
     "id": "de49af50-188c-458f-8d3d-8dd73c8807fc"
    },
    "slideshow": {
     "slide_type": "slide"
    }
   },
   "source": [
    "## Reshaping with Hierarchical Indexing \n",
    "\n",
    "Hierarchical indexing provides a consistent way to rearrange data in a **`DataFrame`**. \n",
    "\n",
    "There are two primary actions:\n",
    "- **`stack`**: this “rotates” or pivots from the columns in the data to the rows\n",
    "- **`unstack`**: this pivots from the rows into the columns\n"
   ]
  },
  {
   "cell_type": "markdown",
   "metadata": {
    "colab_type": "text",
    "id": "oGDmaLq8kyT1",
    "nbpresent": {
     "id": "661ea19c-62b7-4e2c-9d73-0d7d03c89f7e"
    },
    "slideshow": {
     "slide_type": "slide"
    }
   },
   "source": [
    "We can illustrate these operations through a series of examples. \n",
    "\n",
    "Consider a small **`DataFrame`** with string arrays as row and column indexes:"
   ]
  },
  {
   "cell_type": "code",
   "execution_count": 28,
   "metadata": {
    "colab": {},
    "colab_type": "code",
    "id": "asScsc-2kyT2",
    "nbpresent": {
     "id": "7e2ff7ae-b473-47c9-92e8-6e26ef2b47fb"
    }
   },
   "outputs": [
    {
     "data": {
      "text/html": [
       "<div>\n",
       "<style scoped>\n",
       "    .dataframe tbody tr th:only-of-type {\n",
       "        vertical-align: middle;\n",
       "    }\n",
       "\n",
       "    .dataframe tbody tr th {\n",
       "        vertical-align: top;\n",
       "    }\n",
       "\n",
       "    .dataframe thead th {\n",
       "        text-align: right;\n",
       "    }\n",
       "</style>\n",
       "<table border=\"1\" class=\"dataframe\">\n",
       "  <thead>\n",
       "    <tr style=\"text-align: right;\">\n",
       "      <th>number</th>\n",
       "      <th>one</th>\n",
       "      <th>two</th>\n",
       "      <th>three</th>\n",
       "    </tr>\n",
       "    <tr>\n",
       "      <th>state</th>\n",
       "      <th></th>\n",
       "      <th></th>\n",
       "      <th></th>\n",
       "    </tr>\n",
       "  </thead>\n",
       "  <tbody>\n",
       "    <tr>\n",
       "      <th>Ohio</th>\n",
       "      <td>0</td>\n",
       "      <td>1</td>\n",
       "      <td>2</td>\n",
       "    </tr>\n",
       "    <tr>\n",
       "      <th>Colorado</th>\n",
       "      <td>3</td>\n",
       "      <td>4</td>\n",
       "      <td>5</td>\n",
       "    </tr>\n",
       "  </tbody>\n",
       "</table>\n",
       "</div>"
      ],
      "text/plain": [
       "number    one  two  three\n",
       "state                    \n",
       "Ohio        0    1      2\n",
       "Colorado    3    4      5"
      ]
     },
     "execution_count": 28,
     "metadata": {},
     "output_type": "execute_result"
    }
   ],
   "source": [
    "data= pd.DataFrame(np.arange(6).reshape((2, 3)),\n",
    "                index=pd.Index(['Ohio', 'Colorado'], name='state'),\n",
    "                columns=pd.Index(['one', 'two', 'three'], name='number'))\n",
    "data"
   ]
  },
  {
   "cell_type": "markdown",
   "metadata": {
    "colab_type": "text",
    "id": "Ma6mgT-rkyT3",
    "nbpresent": {
     "id": "26c4b332-168b-478c-b99f-36325898169c"
    },
    "slideshow": {
     "slide_type": "slide"
    }
   },
   "source": [
    "Using the **`stack`** method on this data pivots the columns into the rows, producing a **`Series`**:"
   ]
  },
  {
   "cell_type": "code",
   "execution_count": 29,
   "metadata": {
    "colab": {},
    "colab_type": "code",
    "id": "Hc2jaQu_kyT4",
    "nbpresent": {
     "id": "15884f1e-41db-4141-af18-d9931c847451"
    }
   },
   "outputs": [
    {
     "data": {
      "text/plain": [
       "state     number\n",
       "Ohio      one       0\n",
       "          two       1\n",
       "          three     2\n",
       "Colorado  one       3\n",
       "          two       4\n",
       "          three     5\n",
       "dtype: int64"
      ]
     },
     "execution_count": 29,
     "metadata": {},
     "output_type": "execute_result"
    }
   ],
   "source": [
    "result = data.stack()\n",
    "result"
   ]
  },
  {
   "cell_type": "markdown",
   "metadata": {
    "colab_type": "text",
    "id": "oqT--RGLkyT7",
    "nbpresent": {
     "id": "d3271155-056d-464b-9f29-78e29b191add"
    },
    "slideshow": {
     "slide_type": "slide"
    }
   },
   "source": [
    "From a hierarchically-indexed **`Series`**, you can rearrange the data back into a **`DataFrame`** with **`unstack`**:"
   ]
  },
  {
   "cell_type": "code",
   "execution_count": 30,
   "metadata": {
    "colab": {},
    "colab_type": "code",
    "id": "xI7BuiFckyT8",
    "nbpresent": {
     "id": "1c134f68-f6f0-4c5f-a098-57a8a76c8c42"
    }
   },
   "outputs": [
    {
     "data": {
      "text/html": [
       "<div>\n",
       "<style scoped>\n",
       "    .dataframe tbody tr th:only-of-type {\n",
       "        vertical-align: middle;\n",
       "    }\n",
       "\n",
       "    .dataframe tbody tr th {\n",
       "        vertical-align: top;\n",
       "    }\n",
       "\n",
       "    .dataframe thead th {\n",
       "        text-align: right;\n",
       "    }\n",
       "</style>\n",
       "<table border=\"1\" class=\"dataframe\">\n",
       "  <thead>\n",
       "    <tr style=\"text-align: right;\">\n",
       "      <th>number</th>\n",
       "      <th>one</th>\n",
       "      <th>two</th>\n",
       "      <th>three</th>\n",
       "    </tr>\n",
       "    <tr>\n",
       "      <th>state</th>\n",
       "      <th></th>\n",
       "      <th></th>\n",
       "      <th></th>\n",
       "    </tr>\n",
       "  </thead>\n",
       "  <tbody>\n",
       "    <tr>\n",
       "      <th>Ohio</th>\n",
       "      <td>0</td>\n",
       "      <td>1</td>\n",
       "      <td>2</td>\n",
       "    </tr>\n",
       "    <tr>\n",
       "      <th>Colorado</th>\n",
       "      <td>3</td>\n",
       "      <td>4</td>\n",
       "      <td>5</td>\n",
       "    </tr>\n",
       "  </tbody>\n",
       "</table>\n",
       "</div>"
      ],
      "text/plain": [
       "number    one  two  three\n",
       "state                    \n",
       "Ohio        0    1      2\n",
       "Colorado    3    4      5"
      ]
     },
     "execution_count": 30,
     "metadata": {},
     "output_type": "execute_result"
    }
   ],
   "source": [
    "result.unstack()"
   ]
  },
  {
   "cell_type": "markdown",
   "metadata": {
    "colab_type": "text",
    "id": "Yb1zg-lJkyT_",
    "nbpresent": {
     "id": "8773520c-356f-473c-a4f1-8a4bc5f63e35"
    },
    "slideshow": {
     "slide_type": "slide"
    }
   },
   "source": [
    "By default the innermost level is unstacked (same with **`stack`**). You can unstack a different level by passing a level number or name:"
   ]
  },
  {
   "cell_type": "code",
   "execution_count": 31,
   "metadata": {
    "colab": {},
    "colab_type": "code",
    "id": "JVIcSPXDkyT_",
    "nbpresent": {
     "id": "9d3619d0-02f4-4462-8d93-8c5bc668685b"
    }
   },
   "outputs": [
    {
     "data": {
      "text/html": [
       "<div>\n",
       "<style scoped>\n",
       "    .dataframe tbody tr th:only-of-type {\n",
       "        vertical-align: middle;\n",
       "    }\n",
       "\n",
       "    .dataframe tbody tr th {\n",
       "        vertical-align: top;\n",
       "    }\n",
       "\n",
       "    .dataframe thead th {\n",
       "        text-align: right;\n",
       "    }\n",
       "</style>\n",
       "<table border=\"1\" class=\"dataframe\">\n",
       "  <thead>\n",
       "    <tr style=\"text-align: right;\">\n",
       "      <th>state</th>\n",
       "      <th>Ohio</th>\n",
       "      <th>Colorado</th>\n",
       "    </tr>\n",
       "    <tr>\n",
       "      <th>number</th>\n",
       "      <th></th>\n",
       "      <th></th>\n",
       "    </tr>\n",
       "  </thead>\n",
       "  <tbody>\n",
       "    <tr>\n",
       "      <th>one</th>\n",
       "      <td>0</td>\n",
       "      <td>3</td>\n",
       "    </tr>\n",
       "    <tr>\n",
       "      <th>two</th>\n",
       "      <td>1</td>\n",
       "      <td>4</td>\n",
       "    </tr>\n",
       "    <tr>\n",
       "      <th>three</th>\n",
       "      <td>2</td>\n",
       "      <td>5</td>\n",
       "    </tr>\n",
       "  </tbody>\n",
       "</table>\n",
       "</div>"
      ],
      "text/plain": [
       "state   Ohio  Colorado\n",
       "number                \n",
       "one        0         3\n",
       "two        1         4\n",
       "three      2         5"
      ]
     },
     "execution_count": 31,
     "metadata": {},
     "output_type": "execute_result"
    },
    {
     "data": {
      "text/html": [
       "<div>\n",
       "<style scoped>\n",
       "    .dataframe tbody tr th:only-of-type {\n",
       "        vertical-align: middle;\n",
       "    }\n",
       "\n",
       "    .dataframe tbody tr th {\n",
       "        vertical-align: top;\n",
       "    }\n",
       "\n",
       "    .dataframe thead th {\n",
       "        text-align: right;\n",
       "    }\n",
       "</style>\n",
       "<table border=\"1\" class=\"dataframe\">\n",
       "  <thead>\n",
       "    <tr style=\"text-align: right;\">\n",
       "      <th>state</th>\n",
       "      <th>Ohio</th>\n",
       "      <th>Colorado</th>\n",
       "    </tr>\n",
       "    <tr>\n",
       "      <th>number</th>\n",
       "      <th></th>\n",
       "      <th></th>\n",
       "    </tr>\n",
       "  </thead>\n",
       "  <tbody>\n",
       "    <tr>\n",
       "      <th>one</th>\n",
       "      <td>0</td>\n",
       "      <td>3</td>\n",
       "    </tr>\n",
       "    <tr>\n",
       "      <th>two</th>\n",
       "      <td>1</td>\n",
       "      <td>4</td>\n",
       "    </tr>\n",
       "    <tr>\n",
       "      <th>three</th>\n",
       "      <td>2</td>\n",
       "      <td>5</td>\n",
       "    </tr>\n",
       "  </tbody>\n",
       "</table>\n",
       "</div>"
      ],
      "text/plain": [
       "state   Ohio  Colorado\n",
       "number                \n",
       "one        0         3\n",
       "two        1         4\n",
       "three      2         5"
      ]
     },
     "execution_count": 31,
     "metadata": {},
     "output_type": "execute_result"
    }
   ],
   "source": [
    "result.unstack(0)\n",
    "result.unstack('state')"
   ]
  },
  {
   "cell_type": "markdown",
   "metadata": {
    "colab_type": "text",
    "id": "C-nkTxD3kyUC",
    "nbpresent": {
     "id": "70667e9e-ce4c-4e1a-90fb-73a6b61333de"
    },
    "slideshow": {
     "slide_type": "slide"
    }
   },
   "source": [
    "Unstacking might introduce missing data if all of the values in the level aren’t found in each of the subgroups:"
   ]
  },
  {
   "cell_type": "code",
   "execution_count": 32,
   "metadata": {
    "colab": {},
    "colab_type": "code",
    "id": "AEAf-HsUkyUD",
    "nbpresent": {
     "id": "11674112-d17c-404b-a1ce-599d09b80cba"
    }
   },
   "outputs": [
    {
     "data": {
      "text/html": [
       "<div>\n",
       "<style scoped>\n",
       "    .dataframe tbody tr th:only-of-type {\n",
       "        vertical-align: middle;\n",
       "    }\n",
       "\n",
       "    .dataframe tbody tr th {\n",
       "        vertical-align: top;\n",
       "    }\n",
       "\n",
       "    .dataframe thead th {\n",
       "        text-align: right;\n",
       "    }\n",
       "</style>\n",
       "<table border=\"1\" class=\"dataframe\">\n",
       "  <thead>\n",
       "    <tr style=\"text-align: right;\">\n",
       "      <th></th>\n",
       "      <th>a</th>\n",
       "      <th>b</th>\n",
       "      <th>c</th>\n",
       "      <th>d</th>\n",
       "      <th>e</th>\n",
       "    </tr>\n",
       "  </thead>\n",
       "  <tbody>\n",
       "    <tr>\n",
       "      <th>one</th>\n",
       "      <td>0.0</td>\n",
       "      <td>1.0</td>\n",
       "      <td>2.0</td>\n",
       "      <td>3.0</td>\n",
       "      <td>NaN</td>\n",
       "    </tr>\n",
       "    <tr>\n",
       "      <th>two</th>\n",
       "      <td>NaN</td>\n",
       "      <td>NaN</td>\n",
       "      <td>4.0</td>\n",
       "      <td>5.0</td>\n",
       "      <td>6.0</td>\n",
       "    </tr>\n",
       "  </tbody>\n",
       "</table>\n",
       "</div>"
      ],
      "text/plain": [
       "       a    b    c    d    e\n",
       "one  0.0  1.0  2.0  3.0  NaN\n",
       "two  NaN  NaN  4.0  5.0  6.0"
      ]
     },
     "execution_count": 32,
     "metadata": {},
     "output_type": "execute_result"
    }
   ],
   "source": [
    "s1 = pd.Series([0, 1, 2, 3], index=['a', 'b', 'c', 'd'])\n",
    "s2 = pd.Series([4, 5, 6], index=['c', 'd', 'e'])\n",
    "data2 = pd.concat([s1, s2], keys=['one', 'two'])\n",
    "data2.unstack()"
   ]
  },
  {
   "cell_type": "markdown",
   "metadata": {
    "colab_type": "text",
    "id": "_q1bvQdakyUG",
    "nbpresent": {
     "id": "941708f3-158e-4b8e-89ab-e95fa07b298f"
    },
    "slideshow": {
     "slide_type": "slide"
    }
   },
   "source": [
    "Stacking filters out missing data by default, so the operation is easily invertible:"
   ]
  },
  {
   "cell_type": "code",
   "execution_count": 33,
   "metadata": {
    "colab": {},
    "colab_type": "code",
    "id": "FvN8YhYfkyUI",
    "nbpresent": {
     "id": "925c47c1-b514-4949-b563-94cab73240f5"
    }
   },
   "outputs": [
    {
     "data": {
      "text/plain": [
       "one  a    0.0\n",
       "     b    1.0\n",
       "     c    2.0\n",
       "     d    3.0\n",
       "two  c    4.0\n",
       "     d    5.0\n",
       "     e    6.0\n",
       "dtype: float64"
      ]
     },
     "execution_count": 33,
     "metadata": {},
     "output_type": "execute_result"
    },
    {
     "data": {
      "text/plain": [
       "one  a    0.0\n",
       "     b    1.0\n",
       "     c    2.0\n",
       "     d    3.0\n",
       "     e    NaN\n",
       "two  a    NaN\n",
       "     b    NaN\n",
       "     c    4.0\n",
       "     d    5.0\n",
       "     e    6.0\n",
       "dtype: float64"
      ]
     },
     "execution_count": 33,
     "metadata": {},
     "output_type": "execute_result"
    }
   ],
   "source": [
    "data2.unstack().stack()\n",
    "data2.unstack().stack(dropna=False)"
   ]
  },
  {
   "cell_type": "markdown",
   "metadata": {
    "colab_type": "text",
    "id": "ZSAu2WJIkyUJ",
    "nbpresent": {
     "id": "bd406ab5-ef34-4bb0-bdc8-fe563df0d1fd"
    },
    "slideshow": {
     "slide_type": "slide"
    }
   },
   "source": [
    "When unstacking in a **`DataFrame`**, the level unstacked becomes the lowest level in the result:"
   ]
  },
  {
   "cell_type": "code",
   "execution_count": 34,
   "metadata": {
    "colab": {},
    "colab_type": "code",
    "id": "cMniqLPzkyUJ",
    "nbpresent": {
     "id": "04b27c7a-66a6-422c-870a-68c453e68e71"
    }
   },
   "outputs": [
    {
     "data": {
      "text/html": [
       "<div>\n",
       "<style scoped>\n",
       "    .dataframe tbody tr th:only-of-type {\n",
       "        vertical-align: middle;\n",
       "    }\n",
       "\n",
       "    .dataframe tbody tr th {\n",
       "        vertical-align: top;\n",
       "    }\n",
       "\n",
       "    .dataframe thead th {\n",
       "        text-align: right;\n",
       "    }\n",
       "</style>\n",
       "<table border=\"1\" class=\"dataframe\">\n",
       "  <thead>\n",
       "    <tr style=\"text-align: right;\">\n",
       "      <th></th>\n",
       "      <th>side</th>\n",
       "      <th>left</th>\n",
       "      <th>right</th>\n",
       "    </tr>\n",
       "    <tr>\n",
       "      <th>state</th>\n",
       "      <th>number</th>\n",
       "      <th></th>\n",
       "      <th></th>\n",
       "    </tr>\n",
       "  </thead>\n",
       "  <tbody>\n",
       "    <tr>\n",
       "      <th rowspan=\"3\" valign=\"top\">Ohio</th>\n",
       "      <th>one</th>\n",
       "      <td>0</td>\n",
       "      <td>5</td>\n",
       "    </tr>\n",
       "    <tr>\n",
       "      <th>two</th>\n",
       "      <td>1</td>\n",
       "      <td>6</td>\n",
       "    </tr>\n",
       "    <tr>\n",
       "      <th>three</th>\n",
       "      <td>2</td>\n",
       "      <td>7</td>\n",
       "    </tr>\n",
       "    <tr>\n",
       "      <th rowspan=\"3\" valign=\"top\">Colorado</th>\n",
       "      <th>one</th>\n",
       "      <td>3</td>\n",
       "      <td>8</td>\n",
       "    </tr>\n",
       "    <tr>\n",
       "      <th>two</th>\n",
       "      <td>4</td>\n",
       "      <td>9</td>\n",
       "    </tr>\n",
       "    <tr>\n",
       "      <th>three</th>\n",
       "      <td>5</td>\n",
       "      <td>10</td>\n",
       "    </tr>\n",
       "  </tbody>\n",
       "</table>\n",
       "</div>"
      ],
      "text/plain": [
       "side             left  right\n",
       "state    number             \n",
       "Ohio     one        0      5\n",
       "         two        1      6\n",
       "         three      2      7\n",
       "Colorado one        3      8\n",
       "         two        4      9\n",
       "         three      5     10"
      ]
     },
     "execution_count": 34,
     "metadata": {},
     "output_type": "execute_result"
    }
   ],
   "source": [
    "df = pd.DataFrame({'left': result, 'right': result + 5}, columns=pd.Index(['left', 'right'], name='side'))\n",
    "df"
   ]
  },
  {
   "cell_type": "code",
   "execution_count": 35,
   "metadata": {
    "colab": {},
    "colab_type": "code",
    "id": "MHguSWbnkyUM",
    "nbpresent": {
     "id": "0a2dca39-570f-409d-bb9c-6bc77b01f85f"
    },
    "slideshow": {
     "slide_type": "slide"
    }
   },
   "outputs": [
    {
     "data": {
      "text/html": [
       "<div>\n",
       "<style scoped>\n",
       "    .dataframe tbody tr th:only-of-type {\n",
       "        vertical-align: middle;\n",
       "    }\n",
       "\n",
       "    .dataframe tbody tr th {\n",
       "        vertical-align: top;\n",
       "    }\n",
       "\n",
       "    .dataframe thead tr th {\n",
       "        text-align: left;\n",
       "    }\n",
       "\n",
       "    .dataframe thead tr:last-of-type th {\n",
       "        text-align: right;\n",
       "    }\n",
       "</style>\n",
       "<table border=\"1\" class=\"dataframe\">\n",
       "  <thead>\n",
       "    <tr>\n",
       "      <th>side</th>\n",
       "      <th colspan=\"2\" halign=\"left\">left</th>\n",
       "      <th colspan=\"2\" halign=\"left\">right</th>\n",
       "    </tr>\n",
       "    <tr>\n",
       "      <th>state</th>\n",
       "      <th>Ohio</th>\n",
       "      <th>Colorado</th>\n",
       "      <th>Ohio</th>\n",
       "      <th>Colorado</th>\n",
       "    </tr>\n",
       "    <tr>\n",
       "      <th>number</th>\n",
       "      <th></th>\n",
       "      <th></th>\n",
       "      <th></th>\n",
       "      <th></th>\n",
       "    </tr>\n",
       "  </thead>\n",
       "  <tbody>\n",
       "    <tr>\n",
       "      <th>one</th>\n",
       "      <td>0</td>\n",
       "      <td>3</td>\n",
       "      <td>5</td>\n",
       "      <td>8</td>\n",
       "    </tr>\n",
       "    <tr>\n",
       "      <th>two</th>\n",
       "      <td>1</td>\n",
       "      <td>4</td>\n",
       "      <td>6</td>\n",
       "      <td>9</td>\n",
       "    </tr>\n",
       "    <tr>\n",
       "      <th>three</th>\n",
       "      <td>2</td>\n",
       "      <td>5</td>\n",
       "      <td>7</td>\n",
       "      <td>10</td>\n",
       "    </tr>\n",
       "  </tbody>\n",
       "</table>\n",
       "</div>"
      ],
      "text/plain": [
       "side   left          right         \n",
       "state  Ohio Colorado  Ohio Colorado\n",
       "number                             \n",
       "one       0        3     5        8\n",
       "two       1        4     6        9\n",
       "three     2        5     7       10"
      ]
     },
     "execution_count": 35,
     "metadata": {},
     "output_type": "execute_result"
    },
    {
     "data": {
      "text/html": [
       "<div>\n",
       "<style scoped>\n",
       "    .dataframe tbody tr th:only-of-type {\n",
       "        vertical-align: middle;\n",
       "    }\n",
       "\n",
       "    .dataframe tbody tr th {\n",
       "        vertical-align: top;\n",
       "    }\n",
       "\n",
       "    .dataframe thead th {\n",
       "        text-align: right;\n",
       "    }\n",
       "</style>\n",
       "<table border=\"1\" class=\"dataframe\">\n",
       "  <thead>\n",
       "    <tr style=\"text-align: right;\">\n",
       "      <th></th>\n",
       "      <th>state</th>\n",
       "      <th>Colorado</th>\n",
       "      <th>Ohio</th>\n",
       "    </tr>\n",
       "    <tr>\n",
       "      <th>number</th>\n",
       "      <th>side</th>\n",
       "      <th></th>\n",
       "      <th></th>\n",
       "    </tr>\n",
       "  </thead>\n",
       "  <tbody>\n",
       "    <tr>\n",
       "      <th rowspan=\"2\" valign=\"top\">one</th>\n",
       "      <th>left</th>\n",
       "      <td>3</td>\n",
       "      <td>0</td>\n",
       "    </tr>\n",
       "    <tr>\n",
       "      <th>right</th>\n",
       "      <td>8</td>\n",
       "      <td>5</td>\n",
       "    </tr>\n",
       "    <tr>\n",
       "      <th rowspan=\"2\" valign=\"top\">two</th>\n",
       "      <th>left</th>\n",
       "      <td>4</td>\n",
       "      <td>1</td>\n",
       "    </tr>\n",
       "    <tr>\n",
       "      <th>right</th>\n",
       "      <td>9</td>\n",
       "      <td>6</td>\n",
       "    </tr>\n",
       "    <tr>\n",
       "      <th rowspan=\"2\" valign=\"top\">three</th>\n",
       "      <th>left</th>\n",
       "      <td>5</td>\n",
       "      <td>2</td>\n",
       "    </tr>\n",
       "    <tr>\n",
       "      <th>right</th>\n",
       "      <td>10</td>\n",
       "      <td>7</td>\n",
       "    </tr>\n",
       "  </tbody>\n",
       "</table>\n",
       "</div>"
      ],
      "text/plain": [
       "state         Colorado  Ohio\n",
       "number side                 \n",
       "one    left          3     0\n",
       "       right         8     5\n",
       "two    left          4     1\n",
       "       right         9     6\n",
       "three  left          5     2\n",
       "       right        10     7"
      ]
     },
     "execution_count": 35,
     "metadata": {},
     "output_type": "execute_result"
    }
   ],
   "source": [
    "df.unstack('state')\n",
    "df.unstack('state').stack('side')"
   ]
  },
  {
   "cell_type": "markdown",
   "metadata": {},
   "source": [
    "<div class=\"alert alert-warning\">\n",
    "<b>EXERCISE 11: </b> \n",
    "<p>1, Use the **df** dataframe:</p>\n",
    "<code>df = DataFrame({'left': result, 'right': result + 5}, columns=pd.Index(['left', 'right'], name='side'))</code>\n",
    "\n",
    "<p>2, Unstack the **df** and the name of the axis to stack is side.</p>\n",
    "\n",
    "<p>3, The expected output should look as follows:</p>\n",
    "<img src=\"//i.imgur.com/GxKOrM1.png\" style=\"max-width: 100%; min-height: 233px;\">\n",
    "\n",
    "\n",
    "\n",
    "</div>"
   ]
  },
  {
   "cell_type": "code",
   "execution_count": 38,
   "metadata": {},
   "outputs": [],
   "source": [
    "# Write your solution here"
   ]
  },
  {
   "cell_type": "markdown",
   "metadata": {
    "colab_type": "text",
    "id": "v8uWQf4ZkyUP",
    "nbpresent": {
     "id": "7bd08aab-4c45-4bfc-a49c-6d97ecb0e8c9"
    },
    "slideshow": {
     "slide_type": "slide"
    }
   },
   "source": [
    "## Pivoting “long” to “wide” Format\n",
    "\n",
    "A common way to store multiple time series in databases and CSV is in so-called long or stacked format:"
   ]
  },
  {
   "cell_type": "markdown",
   "metadata": {
    "colab_type": "text",
    "id": "PpJTr9lCkyUS",
    "nbpresent": {
     "id": "d7c6c385-ff0c-4657-b50e-abc94f1bdbc4"
    },
    "slideshow": {
     "slide_type": "slide"
    }
   },
   "source": [
    "Data is frequently stored this way in relational databases like **MySQL** as a fixed schema (column names and data types) allows the number of distinct values in the item column to increase or decrease as data is added or deleted in the table. "
   ]
  },
  {
   "cell_type": "markdown",
   "metadata": {
    "colab_type": "text",
    "id": "C1ekASEVkyUT",
    "nbpresent": {
     "id": "b0e0c23a-1837-4880-89a5-360743659565"
    },
    "slideshow": {
     "slide_type": "slide"
    }
   },
   "source": [
    "In the previous example **`date`** and **`item`** would usually be the primary keys (in relational database parlance), offering both relational integrity and easier joins and programmatic queries in many cases. \n",
    "\n",
    "The downside, of course, is that the data may not be easy to work with in long format; you might prefer to have a **`DataFrame`** containing one column per distinct item value indexed by timestamps in the date column. \n",
    "\n",
    "**`DataFrame`** **`pivot`** method performs exactly this transformation:"
   ]
  },
  {
   "cell_type": "code",
   "execution_count": null,
   "metadata": {
    "colab": {},
    "colab_type": "code",
    "collapsed": true,
    "id": "H0lhU1InkyUU",
    "nbpresent": {
     "id": "3507452c-ac43-419d-a34a-1a688fbacf76"
    },
    "slideshow": {
     "slide_type": "slide"
    }
   },
   "outputs": [],
   "source": [
    "#pivoted = ldata.pivot('date', 'item', 'value')"
   ]
  },
  {
   "cell_type": "markdown",
   "metadata": {
    "colab_type": "text",
    "id": "aQ-hugajkyUX",
    "nbpresent": {
     "id": "ce9e1b0b-1365-4efa-949f-91dd4c68326b"
    },
    "slideshow": {
     "slide_type": "slide"
    }
   },
   "source": [
    "## 7.9 Data Transformation \n",
    "\n",
    "So far we’ve been concerned with rearranging data. \n",
    "\n",
    "Filtering, cleaning, and other tranformations are another class of important operations."
   ]
  },
  {
   "cell_type": "markdown",
   "metadata": {
    "colab_type": "text",
    "id": "cvVnwibBkyUY",
    "nbpresent": {
     "id": "86c3d939-f787-4eaa-bd53-9109718cf8b0"
    },
    "slideshow": {
     "slide_type": "slide"
    }
   },
   "source": [
    "### Removing duplicates \n",
    "\n",
    "Duplicate rows may be found in a **`DataFrame`** for any number of reasons. Here is an example:"
   ]
  },
  {
   "cell_type": "code",
   "execution_count": null,
   "metadata": {
    "colab": {},
    "colab_type": "code",
    "collapsed": true,
    "id": "mvWcZuGSkyUZ",
    "nbpresent": {
     "id": "4d28c75f-0ecd-4a0d-8fbb-ee929de4e3ed"
    }
   },
   "outputs": [],
   "source": [
    "data = pd.DataFrame({'k1': ['one'] * 3 + ['two'] * 4,\n",
    "                  'k2': [1, 1, 2, 3, 3, 4, 4]})\n",
    "data"
   ]
  },
  {
   "cell_type": "markdown",
   "metadata": {
    "colab_type": "text",
    "id": "ZwraUPEGkyUZ",
    "nbpresent": {
     "id": "82190ec2-cdd7-49e4-a003-a4bcb8e6be23"
    },
    "slideshow": {
     "slide_type": "slide"
    }
   },
   "source": [
    "The **`DataFrame`** method **`duplicated`** returns a boolean **`Series`** indicating whether each row is a duplicate or not:"
   ]
  },
  {
   "cell_type": "code",
   "execution_count": null,
   "metadata": {
    "colab": {},
    "colab_type": "code",
    "collapsed": true,
    "id": "G8T2XcPSkyUa",
    "nbpresent": {
     "id": "91c53b19-f116-4d42-aee7-60ec308bb071"
    }
   },
   "outputs": [],
   "source": [
    "data.duplicated()"
   ]
  },
  {
   "cell_type": "markdown",
   "metadata": {
    "colab_type": "text",
    "id": "xv6Eb9g0kyUb",
    "nbpresent": {
     "id": "a269ed00-c379-42ed-a72b-56671f977d44"
    },
    "slideshow": {
     "slide_type": "slide"
    }
   },
   "source": [
    "Relatedly, **`drop_duplicates`** returns a **`DataFrame`** where the duplicated array is **`True`**:"
   ]
  },
  {
   "cell_type": "code",
   "execution_count": null,
   "metadata": {
    "colab": {},
    "colab_type": "code",
    "collapsed": true,
    "id": "wcz2esiNkyUc",
    "nbpresent": {
     "id": "37699d5f-bb6c-4ff6-85a7-77f9f92e164b"
    }
   },
   "outputs": [],
   "source": [
    "data.drop_duplicates()"
   ]
  },
  {
   "cell_type": "markdown",
   "metadata": {
    "colab_type": "text",
    "id": "9WnugLYLkyUd",
    "nbpresent": {
     "id": "a617f392-9acd-477d-bb9b-3fd4a477d778"
    },
    "slideshow": {
     "slide_type": "slide"
    }
   },
   "source": [
    "Both of these methods by default consider all of the columns; alternatively you can specify any subset of them to detect duplicates. Suppose we had an additional column of values and wanted to filter duplicates only based on the **`k1`** column:"
   ]
  },
  {
   "cell_type": "code",
   "execution_count": null,
   "metadata": {
    "colab": {},
    "colab_type": "code",
    "collapsed": true,
    "id": "EObmRR7-kyUd",
    "nbpresent": {
     "id": "f3fc967a-f4e9-4415-81be-9e711f5197b7"
    }
   },
   "outputs": [],
   "source": [
    "data['v1'] = range(7)\n",
    "data.drop_duplicates(['k1'])"
   ]
  },
  {
   "cell_type": "markdown",
   "metadata": {
    "colab_type": "text",
    "id": "V8OJ68eTkyUe",
    "nbpresent": {
     "id": "c5aea711-e39d-4111-b5a4-8c0ed281854a"
    },
    "slideshow": {
     "slide_type": "slide"
    }
   },
   "source": [
    "**`duplicated`** and **`drop_duplicates`** by default keep the first observed value combination. Passing **`take_last=True`** will return the last one:"
   ]
  },
  {
   "cell_type": "code",
   "execution_count": null,
   "metadata": {
    "colab": {},
    "colab_type": "code",
    "collapsed": true,
    "id": "_63n55ELkyUe",
    "nbpresent": {
     "id": "761c7cd5-9d40-4153-a30b-7295feb2fa6c"
    }
   },
   "outputs": [],
   "source": [
    "data.drop_duplicates(['k1', 'k2'], keep='last')"
   ]
  },
  {
   "cell_type": "markdown",
   "metadata": {},
   "source": [
    "<div class=\"alert alert-warning\">\n",
    "<b>EXERCISE 12: </b> \n",
    "<p>1, Use the **data** dataframe:</p>\n",
    "<code>raw_data = {'first_name': ['Jason', 'Jason', 'Tina', 'Jake', 'Amy'], \n",
    "        'last_name': ['Miller', 'Miller','Ali', 'Milner', 'Cooze'], \n",
    "        'age': [42, 42, 36, 24, 73], \n",
    "        'preTestScore': [4, 4, 31, 2, 3],\n",
    "        'postTestScore': [25, 25, 57, 62, 70]}\n",
    "score_df = pd.DataFrame(raw_data, columns = ['first_name', 'last_name', 'age', 'preTestScore', 'postTestScore'])</code>\n",
    "    \n",
    "<p>2, The **score_df** looks as follows:</p>\n",
    "<img src=\"//i.imgur.com/b2d4hZv.png\" style=\"max-width: 100%; min-height: 167px;\">\n",
    "\n",
    "<p>3, Write a code which deletes the duplicate row in the dataframe **score_df**. Take the last observation in the duplicated set.</p>\n",
    "\n",
    "</div>"
   ]
  },
  {
   "cell_type": "code",
   "execution_count": 39,
   "metadata": {
    "colab": {},
    "colab_type": "code",
    "id": "jJOypInue34M"
   },
   "outputs": [],
   "source": [
    "# Write your solution here"
   ]
  },
  {
   "cell_type": "markdown",
   "metadata": {
    "colab_type": "text",
    "id": "np7uk6k2kyUg",
    "nbpresent": {
     "id": "7527ae0b-398d-4172-9c5c-9e02c8e76690"
    },
    "slideshow": {
     "slide_type": "slide"
    }
   },
   "source": [
    "## Transforming Data Using a Function or Mapping\n",
    "\n",
    "For many data sets, you may wish to perform some transformation based on the values in an array, **`Series`**, or column in a **`DataFrame`**. Consider the following hypothetical data collected about some kinds of meat:"
   ]
  },
  {
   "cell_type": "code",
   "execution_count": 47,
   "metadata": {
    "colab": {},
    "colab_type": "code",
    "id": "I5L-fTFqkyUg",
    "nbpresent": {
     "id": "9750d24c-f187-422f-ab19-1ff342cb4a7a"
    }
   },
   "outputs": [
    {
     "data": {
      "text/html": [
       "<div>\n",
       "<style scoped>\n",
       "    .dataframe tbody tr th:only-of-type {\n",
       "        vertical-align: middle;\n",
       "    }\n",
       "\n",
       "    .dataframe tbody tr th {\n",
       "        vertical-align: top;\n",
       "    }\n",
       "\n",
       "    .dataframe thead th {\n",
       "        text-align: right;\n",
       "    }\n",
       "</style>\n",
       "<table border=\"1\" class=\"dataframe\">\n",
       "  <thead>\n",
       "    <tr style=\"text-align: right;\">\n",
       "      <th></th>\n",
       "      <th>food</th>\n",
       "      <th>ounces</th>\n",
       "    </tr>\n",
       "  </thead>\n",
       "  <tbody>\n",
       "    <tr>\n",
       "      <th>0</th>\n",
       "      <td>bacon</td>\n",
       "      <td>4.0</td>\n",
       "    </tr>\n",
       "    <tr>\n",
       "      <th>1</th>\n",
       "      <td>pulled pork</td>\n",
       "      <td>3.0</td>\n",
       "    </tr>\n",
       "    <tr>\n",
       "      <th>2</th>\n",
       "      <td>bacon</td>\n",
       "      <td>12.0</td>\n",
       "    </tr>\n",
       "    <tr>\n",
       "      <th>3</th>\n",
       "      <td>Pastrami</td>\n",
       "      <td>6.0</td>\n",
       "    </tr>\n",
       "    <tr>\n",
       "      <th>4</th>\n",
       "      <td>corned beef</td>\n",
       "      <td>7.5</td>\n",
       "    </tr>\n",
       "    <tr>\n",
       "      <th>5</th>\n",
       "      <td>Bacon</td>\n",
       "      <td>8.0</td>\n",
       "    </tr>\n",
       "    <tr>\n",
       "      <th>6</th>\n",
       "      <td>pastrami</td>\n",
       "      <td>3.0</td>\n",
       "    </tr>\n",
       "    <tr>\n",
       "      <th>7</th>\n",
       "      <td>honey ham</td>\n",
       "      <td>5.0</td>\n",
       "    </tr>\n",
       "    <tr>\n",
       "      <th>8</th>\n",
       "      <td>nova lox</td>\n",
       "      <td>6.0</td>\n",
       "    </tr>\n",
       "  </tbody>\n",
       "</table>\n",
       "</div>"
      ],
      "text/plain": [
       "          food  ounces\n",
       "0        bacon     4.0\n",
       "1  pulled pork     3.0\n",
       "2        bacon    12.0\n",
       "3     Pastrami     6.0\n",
       "4  corned beef     7.5\n",
       "5        Bacon     8.0\n",
       "6     pastrami     3.0\n",
       "7    honey ham     5.0\n",
       "8     nova lox     6.0"
      ]
     },
     "execution_count": 47,
     "metadata": {},
     "output_type": "execute_result"
    }
   ],
   "source": [
    "data = pd.DataFrame({'food': ['bacon', 'pulled pork', 'bacon', 'Pastrami', \n",
    "                           'corned beef', 'Bacon', 'pastrami', 'honey ham',\n",
    "                           'nova lox'],\n",
    "                  'ounces': [4, 3, 12, 6, 7.5, 8, 3, 5, 6]})\n",
    "data"
   ]
  },
  {
   "cell_type": "markdown",
   "metadata": {
    "colab_type": "text",
    "id": "8ZBRD_YmkyUi",
    "nbpresent": {
     "id": "4a060287-9e75-47ee-839b-ce735c3fd56a"
    },
    "slideshow": {
     "slide_type": "slide"
    }
   },
   "source": [
    "Suppose you wanted to add a column indicating the type of animal that each food came from.\n",
    "\n",
    "Let’s write down a mapping of each distinct meat type to the kind of animal:"
   ]
  },
  {
   "cell_type": "code",
   "execution_count": 48,
   "metadata": {
    "colab": {},
    "colab_type": "code",
    "collapsed": true,
    "id": "rrxyhU3QkyUi",
    "nbpresent": {
     "id": "d622c156-bc2a-41a3-80e5-6dc18903a16d"
    }
   },
   "outputs": [],
   "source": [
    "meat_to_animal = { 'bacon': 'pig', \n",
    "                  'pulled pork': 'pig', \n",
    "                  'pastrami': 'cow', \n",
    "                  'corned beef': 'cow', \n",
    "                  'honey ham': 'pig', \n",
    "                  'nova lox': 'salmon'}"
   ]
  },
  {
   "cell_type": "markdown",
   "metadata": {
    "colab_type": "text",
    "id": "X0FbL764kyUj",
    "nbpresent": {
     "id": "05db7718-bd80-447e-bd7b-f32a08c4c089"
    },
    "slideshow": {
     "slide_type": "slide"
    }
   },
   "source": [
    "The **`map`** method on a **`Series`** accepts a function or dict-like object containing a mapping, but here we have a small problem in that some of the meats above are capitalized and others are not.Thus, we also need to convert each value to lower case:"
   ]
  },
  {
   "cell_type": "code",
   "execution_count": 49,
   "metadata": {
    "colab": {},
    "colab_type": "code",
    "id": "EcZ9kimZkyUj",
    "nbpresent": {
     "id": "c84e5096-9791-4b99-95f1-fdca99b25c49"
    }
   },
   "outputs": [
    {
     "data": {
      "text/html": [
       "<div>\n",
       "<style scoped>\n",
       "    .dataframe tbody tr th:only-of-type {\n",
       "        vertical-align: middle;\n",
       "    }\n",
       "\n",
       "    .dataframe tbody tr th {\n",
       "        vertical-align: top;\n",
       "    }\n",
       "\n",
       "    .dataframe thead th {\n",
       "        text-align: right;\n",
       "    }\n",
       "</style>\n",
       "<table border=\"1\" class=\"dataframe\">\n",
       "  <thead>\n",
       "    <tr style=\"text-align: right;\">\n",
       "      <th></th>\n",
       "      <th>food</th>\n",
       "      <th>ounces</th>\n",
       "      <th>animal</th>\n",
       "    </tr>\n",
       "  </thead>\n",
       "  <tbody>\n",
       "    <tr>\n",
       "      <th>0</th>\n",
       "      <td>bacon</td>\n",
       "      <td>4.0</td>\n",
       "      <td>pig</td>\n",
       "    </tr>\n",
       "    <tr>\n",
       "      <th>1</th>\n",
       "      <td>pulled pork</td>\n",
       "      <td>3.0</td>\n",
       "      <td>pig</td>\n",
       "    </tr>\n",
       "    <tr>\n",
       "      <th>2</th>\n",
       "      <td>bacon</td>\n",
       "      <td>12.0</td>\n",
       "      <td>pig</td>\n",
       "    </tr>\n",
       "    <tr>\n",
       "      <th>3</th>\n",
       "      <td>Pastrami</td>\n",
       "      <td>6.0</td>\n",
       "      <td>cow</td>\n",
       "    </tr>\n",
       "    <tr>\n",
       "      <th>4</th>\n",
       "      <td>corned beef</td>\n",
       "      <td>7.5</td>\n",
       "      <td>cow</td>\n",
       "    </tr>\n",
       "    <tr>\n",
       "      <th>5</th>\n",
       "      <td>Bacon</td>\n",
       "      <td>8.0</td>\n",
       "      <td>pig</td>\n",
       "    </tr>\n",
       "    <tr>\n",
       "      <th>6</th>\n",
       "      <td>pastrami</td>\n",
       "      <td>3.0</td>\n",
       "      <td>cow</td>\n",
       "    </tr>\n",
       "    <tr>\n",
       "      <th>7</th>\n",
       "      <td>honey ham</td>\n",
       "      <td>5.0</td>\n",
       "      <td>pig</td>\n",
       "    </tr>\n",
       "    <tr>\n",
       "      <th>8</th>\n",
       "      <td>nova lox</td>\n",
       "      <td>6.0</td>\n",
       "      <td>salmon</td>\n",
       "    </tr>\n",
       "  </tbody>\n",
       "</table>\n",
       "</div>"
      ],
      "text/plain": [
       "          food  ounces  animal\n",
       "0        bacon     4.0     pig\n",
       "1  pulled pork     3.0     pig\n",
       "2        bacon    12.0     pig\n",
       "3     Pastrami     6.0     cow\n",
       "4  corned beef     7.5     cow\n",
       "5        Bacon     8.0     pig\n",
       "6     pastrami     3.0     cow\n",
       "7    honey ham     5.0     pig\n",
       "8     nova lox     6.0  salmon"
      ]
     },
     "execution_count": 49,
     "metadata": {},
     "output_type": "execute_result"
    }
   ],
   "source": [
    "data['animal'] = data['food'].map(str.lower).map(meat_to_animal)\n",
    "data"
   ]
  },
  {
   "cell_type": "markdown",
   "metadata": {
    "colab_type": "text",
    "id": "bQ29YEW_kyUk",
    "nbpresent": {
     "id": "9a1163dc-2381-4b38-b33e-330039b31331"
    },
    "slideshow": {
     "slide_type": "slide"
    }
   },
   "source": [
    "We could also have passed a function that does all the work:"
   ]
  },
  {
   "cell_type": "code",
   "execution_count": 50,
   "metadata": {
    "colab": {},
    "colab_type": "code",
    "id": "VC-gFk59kyUk",
    "nbpresent": {
     "id": "9fe45be4-e886-4fa6-a924-6f690b75130f"
    }
   },
   "outputs": [
    {
     "data": {
      "text/plain": [
       "0       pig\n",
       "1       pig\n",
       "2       pig\n",
       "3       cow\n",
       "4       cow\n",
       "5       pig\n",
       "6       cow\n",
       "7       pig\n",
       "8    salmon\n",
       "Name: food, dtype: object"
      ]
     },
     "execution_count": 50,
     "metadata": {},
     "output_type": "execute_result"
    }
   ],
   "source": [
    "data['food'].map(lambda x: meat_to_animal[x.lower()])"
   ]
  },
  {
   "cell_type": "markdown",
   "metadata": {
    "colab_type": "text",
    "id": "y8yke8DtkyUm",
    "nbpresent": {
     "id": "af5d331c-a9f0-4803-ae2f-26a96b113bdf"
    },
    "slideshow": {
     "slide_type": "slide"
    }
   },
   "source": [
    "Using **`map`** is a convenient way to perform element-wise transformations and other data cleaning-related operations."
   ]
  },
  {
   "cell_type": "markdown",
   "metadata": {},
   "source": [
    "<div class=\"alert alert-warning\">\n",
    "<b>EXERCISE 13: </b> \n",
    "\n",
    "Write a code which multiplies each item in the list called **nums** by 2 using lamda syntax.\n",
    "\n",
    "**`nums = [11,22,33]`**.\n",
    "\n",
    "</div>"
   ]
  },
  {
   "cell_type": "code",
   "execution_count": 40,
   "metadata": {},
   "outputs": [],
   "source": [
    "# Write your solution here"
   ]
  },
  {
   "cell_type": "markdown",
   "metadata": {
    "colab_type": "text",
    "id": "lq8r0uUokyUm",
    "nbpresent": {
     "id": "e8be0591-3d77-45c0-948a-b5b52242ea9d"
    },
    "slideshow": {
     "slide_type": "slide"
    }
   },
   "source": [
    "## Replacing Values\n",
    "\n",
    "Filling in missing data with the **`fillna`** method can be thought of as a special case of more general value replacement. \n",
    "\n",
    "While **`map`**, as you’ve seen above, can be used to modify a subset of values in an object, **`replace`** provides a simpler and more flexible way to do so. Let’s consider the following **`Series`**:"
   ]
  },
  {
   "cell_type": "code",
   "execution_count": 53,
   "metadata": {
    "colab": {},
    "colab_type": "code",
    "id": "FFooBMc_kyUn",
    "nbpresent": {
     "id": "55fea31b-6ca5-4b29-a248-a53084455d21"
    }
   },
   "outputs": [
    {
     "data": {
      "text/plain": [
       "0       1.0\n",
       "1    -999.0\n",
       "2       2.0\n",
       "3    -999.0\n",
       "4   -1000.0\n",
       "5       3.0\n",
       "dtype: float64"
      ]
     },
     "execution_count": 53,
     "metadata": {},
     "output_type": "execute_result"
    }
   ],
   "source": [
    "data = pd.Series([1., -999., 2., -999., -1000., 3.])\n",
    "data"
   ]
  },
  {
   "cell_type": "markdown",
   "metadata": {
    "colab_type": "text",
    "id": "v4fzcHs9kyUp",
    "nbpresent": {
     "id": "b3934505-6839-4093-af37-1c65382f23b4"
    },
    "slideshow": {
     "slide_type": "slide"
    }
   },
   "source": [
    "The -999 values might be sentinel values for missing data. To replace these with **`NA`** values that **`pandas`** understands, we can use replace, producing a new **`Series`**:"
   ]
  },
  {
   "cell_type": "code",
   "execution_count": 54,
   "metadata": {
    "colab": {},
    "colab_type": "code",
    "id": "rHG-R1xSkyUp",
    "nbpresent": {
     "id": "afa9d714-a7b6-458b-b399-bd1e57c79ce8"
    }
   },
   "outputs": [
    {
     "data": {
      "text/plain": [
       "0       1.0\n",
       "1       NaN\n",
       "2       2.0\n",
       "3       NaN\n",
       "4   -1000.0\n",
       "5       3.0\n",
       "dtype: float64"
      ]
     },
     "execution_count": 54,
     "metadata": {},
     "output_type": "execute_result"
    }
   ],
   "source": [
    "data.replace(-999, np.nan)"
   ]
  },
  {
   "cell_type": "markdown",
   "metadata": {
    "colab_type": "text",
    "id": "JbjwjCWAkyUs",
    "nbpresent": {
     "id": "d26b84d8-1b3f-436a-b322-cb248ce1fd3a"
    },
    "slideshow": {
     "slide_type": "slide"
    }
   },
   "source": [
    "If you want to replace multiple values at once, you instead pass a list then the substitute value:"
   ]
  },
  {
   "cell_type": "code",
   "execution_count": 55,
   "metadata": {
    "colab": {},
    "colab_type": "code",
    "id": "IAxMsxbJkyUt",
    "nbpresent": {
     "id": "5a0d390e-af03-4388-a93b-605863ccf469"
    }
   },
   "outputs": [
    {
     "data": {
      "text/plain": [
       "0    1.0\n",
       "1    NaN\n",
       "2    2.0\n",
       "3    NaN\n",
       "4    NaN\n",
       "5    3.0\n",
       "dtype: float64"
      ]
     },
     "execution_count": 55,
     "metadata": {},
     "output_type": "execute_result"
    }
   ],
   "source": [
    "data.replace([-999, -1000], np.nan)"
   ]
  },
  {
   "cell_type": "markdown",
   "metadata": {
    "colab_type": "text",
    "id": "LzIKwVxVkyUu",
    "nbpresent": {
     "id": "67046b3b-ecc7-4f7f-a847-2e312dae37bf"
    },
    "slideshow": {
     "slide_type": "slide"
    }
   },
   "source": [
    "To use a different replacement for each value, pass a list of substitutes:"
   ]
  },
  {
   "cell_type": "code",
   "execution_count": 56,
   "metadata": {
    "colab": {},
    "colab_type": "code",
    "id": "zE1QAkh3kyUv",
    "nbpresent": {
     "id": "e40decbb-fbaf-4bf1-b5a0-343f63036301"
    }
   },
   "outputs": [
    {
     "data": {
      "text/plain": [
       "0    1.0\n",
       "1    NaN\n",
       "2    2.0\n",
       "3    NaN\n",
       "4    0.0\n",
       "5    3.0\n",
       "dtype: float64"
      ]
     },
     "execution_count": 56,
     "metadata": {},
     "output_type": "execute_result"
    }
   ],
   "source": [
    "data.replace([-999, -1000], [np.nan, 0])"
   ]
  },
  {
   "cell_type": "markdown",
   "metadata": {
    "colab_type": "text",
    "id": "4as2_easkyUw",
    "nbpresent": {
     "id": "e44fcd39-e632-4684-8831-e79284dd74e7"
    },
    "slideshow": {
     "slide_type": "slide"
    }
   },
   "source": [
    "The argument passed can also be a dict:"
   ]
  },
  {
   "cell_type": "code",
   "execution_count": 57,
   "metadata": {
    "colab": {},
    "colab_type": "code",
    "id": "JYfkh6DCkyUx",
    "nbpresent": {
     "id": "6354c6ba-2175-4dcf-a700-e0b2aaeb8192"
    }
   },
   "outputs": [
    {
     "data": {
      "text/plain": [
       "0    1.0\n",
       "1    NaN\n",
       "2    2.0\n",
       "3    NaN\n",
       "4    0.0\n",
       "5    3.0\n",
       "dtype: float64"
      ]
     },
     "execution_count": 57,
     "metadata": {},
     "output_type": "execute_result"
    }
   ],
   "source": [
    "data.replace({-999: np.nan, -1000: 0})"
   ]
  },
  {
   "cell_type": "markdown",
   "metadata": {},
   "source": [
    "<div class=\"alert alert-warning\">\n",
    "<b>EXERCISE 14: </b> \n",
    "\n",
    "Write a code which replaces the **np.nan** in **data2** by 0.\n",
    "\n",
    "**`data2 = Series([2., np.nan, 5., -999., -1000., np.nan.])`**.\n",
    "\n",
    "</div>"
   ]
  },
  {
   "cell_type": "code",
   "execution_count": 41,
   "metadata": {},
   "outputs": [],
   "source": [
    "# Write your solution here"
   ]
  },
  {
   "cell_type": "markdown",
   "metadata": {
    "colab_type": "text",
    "id": "FfdZbRQakyUz",
    "nbpresent": {
     "id": "ca6e2de1-3876-4f17-af29-5f1f7dd6e0fe"
    },
    "slideshow": {
     "slide_type": "slide"
    }
   },
   "source": [
    "### Renaming Axis Indexes\n",
    "\n",
    "Like values in a **`Series`**, axis labels can be similarly transformed by a function or mapping of some form to produce new, differently labeled objects. \n",
    "\n",
    "The axes can also be modified in place without creating a new data structure. Here’s a simple example:\n"
   ]
  },
  {
   "cell_type": "code",
   "execution_count": 8,
   "metadata": {
    "colab": {},
    "colab_type": "code",
    "id": "H5pxnNkukyUz",
    "nbpresent": {
     "id": "4456c9f1-9215-4930-9144-90036c988f07"
    }
   },
   "outputs": [
    {
     "data": {
      "text/html": [
       "<div>\n",
       "<style scoped>\n",
       "    .dataframe tbody tr th:only-of-type {\n",
       "        vertical-align: middle;\n",
       "    }\n",
       "\n",
       "    .dataframe tbody tr th {\n",
       "        vertical-align: top;\n",
       "    }\n",
       "\n",
       "    .dataframe thead th {\n",
       "        text-align: right;\n",
       "    }\n",
       "</style>\n",
       "<table border=\"1\" class=\"dataframe\">\n",
       "  <thead>\n",
       "    <tr style=\"text-align: right;\">\n",
       "      <th></th>\n",
       "      <th>one</th>\n",
       "      <th>two</th>\n",
       "      <th>three</th>\n",
       "      <th>four</th>\n",
       "    </tr>\n",
       "  </thead>\n",
       "  <tbody>\n",
       "    <tr>\n",
       "      <th>Ohio</th>\n",
       "      <td>0</td>\n",
       "      <td>1</td>\n",
       "      <td>2</td>\n",
       "      <td>3</td>\n",
       "    </tr>\n",
       "    <tr>\n",
       "      <th>Colorado</th>\n",
       "      <td>4</td>\n",
       "      <td>5</td>\n",
       "      <td>6</td>\n",
       "      <td>7</td>\n",
       "    </tr>\n",
       "    <tr>\n",
       "      <th>New York</th>\n",
       "      <td>8</td>\n",
       "      <td>9</td>\n",
       "      <td>10</td>\n",
       "      <td>11</td>\n",
       "    </tr>\n",
       "  </tbody>\n",
       "</table>\n",
       "</div>"
      ],
      "text/plain": [
       "          one  two  three  four\n",
       "Ohio        0    1      2     3\n",
       "Colorado    4    5      6     7\n",
       "New York    8    9     10    11"
      ]
     },
     "execution_count": 8,
     "metadata": {},
     "output_type": "execute_result"
    }
   ],
   "source": [
    "data = pd.DataFrame(np.arange(12).reshape((3, 4)),\n",
    "                 index=['Ohio', 'Colorado', 'New York'],\n",
    "                 columns=['one', 'two', 'three', 'four'])\n",
    "data"
   ]
  },
  {
   "cell_type": "markdown",
   "metadata": {
    "colab_type": "text",
    "id": "wn9L6wD8kyU0",
    "nbpresent": {
     "id": "985d9494-93e1-4219-a123-5defc496fb92"
    },
    "slideshow": {
     "slide_type": "slide"
    }
   },
   "source": [
    "Like a **`Series`**, the axis indexes have a **`map`** method:"
   ]
  },
  {
   "cell_type": "code",
   "execution_count": 61,
   "metadata": {
    "colab": {},
    "colab_type": "code",
    "id": "FZFkDeIPkyU1",
    "nbpresent": {
     "id": "f3541037-c781-4fdb-8c83-6edeba9d691b"
    }
   },
   "outputs": [
    {
     "data": {
      "text/plain": [
       "Index(['OHIO', 'COLORADO', 'NEW YORK'], dtype='object')"
      ]
     },
     "execution_count": 61,
     "metadata": {},
     "output_type": "execute_result"
    }
   ],
   "source": [
    "data.index.map(str.upper)"
   ]
  },
  {
   "cell_type": "markdown",
   "metadata": {
    "colab_type": "text",
    "id": "AxGvD7nTkyU4",
    "nbpresent": {
     "id": "168aac9a-e40a-474b-ad51-111e99cef172"
    },
    "slideshow": {
     "slide_type": "slide"
    }
   },
   "source": [
    "You can assign to index, modifying the **`DataFrame`** in place:"
   ]
  },
  {
   "cell_type": "code",
   "execution_count": 62,
   "metadata": {
    "colab": {},
    "colab_type": "code",
    "id": "_eaT8_WXkyU4",
    "nbpresent": {
     "id": "fa43a914-0cd1-4ca4-80dd-ddc314409bc8"
    }
   },
   "outputs": [
    {
     "data": {
      "text/html": [
       "<div>\n",
       "<style scoped>\n",
       "    .dataframe tbody tr th:only-of-type {\n",
       "        vertical-align: middle;\n",
       "    }\n",
       "\n",
       "    .dataframe tbody tr th {\n",
       "        vertical-align: top;\n",
       "    }\n",
       "\n",
       "    .dataframe thead th {\n",
       "        text-align: right;\n",
       "    }\n",
       "</style>\n",
       "<table border=\"1\" class=\"dataframe\">\n",
       "  <thead>\n",
       "    <tr style=\"text-align: right;\">\n",
       "      <th></th>\n",
       "      <th>one</th>\n",
       "      <th>two</th>\n",
       "      <th>three</th>\n",
       "      <th>four</th>\n",
       "    </tr>\n",
       "  </thead>\n",
       "  <tbody>\n",
       "    <tr>\n",
       "      <th>OHIO</th>\n",
       "      <td>0</td>\n",
       "      <td>1</td>\n",
       "      <td>2</td>\n",
       "      <td>3</td>\n",
       "    </tr>\n",
       "    <tr>\n",
       "      <th>COLORADO</th>\n",
       "      <td>4</td>\n",
       "      <td>5</td>\n",
       "      <td>6</td>\n",
       "      <td>7</td>\n",
       "    </tr>\n",
       "    <tr>\n",
       "      <th>NEW YORK</th>\n",
       "      <td>8</td>\n",
       "      <td>9</td>\n",
       "      <td>10</td>\n",
       "      <td>11</td>\n",
       "    </tr>\n",
       "  </tbody>\n",
       "</table>\n",
       "</div>"
      ],
      "text/plain": [
       "          one  two  three  four\n",
       "OHIO        0    1      2     3\n",
       "COLORADO    4    5      6     7\n",
       "NEW YORK    8    9     10    11"
      ]
     },
     "execution_count": 62,
     "metadata": {},
     "output_type": "execute_result"
    }
   ],
   "source": [
    "data.index = data.index.map(str.upper)\n",
    "data"
   ]
  },
  {
   "cell_type": "markdown",
   "metadata": {
    "colab_type": "text",
    "id": "9atUnPCEkyU6",
    "nbpresent": {
     "id": "215216dc-ed0d-4f29-8f03-25eff592f463"
    },
    "slideshow": {
     "slide_type": "slide"
    }
   },
   "source": [
    "If you want to create a transformed version of a data set without modifying the original, a useful method is **`rename`**:"
   ]
  },
  {
   "cell_type": "code",
   "execution_count": 63,
   "metadata": {
    "colab": {},
    "colab_type": "code",
    "id": "Rlbj8_JXkyU6",
    "nbpresent": {
     "id": "29610052-5a80-4e75-8bed-2ef4e0a91be3"
    }
   },
   "outputs": [
    {
     "data": {
      "text/html": [
       "<div>\n",
       "<style scoped>\n",
       "    .dataframe tbody tr th:only-of-type {\n",
       "        vertical-align: middle;\n",
       "    }\n",
       "\n",
       "    .dataframe tbody tr th {\n",
       "        vertical-align: top;\n",
       "    }\n",
       "\n",
       "    .dataframe thead th {\n",
       "        text-align: right;\n",
       "    }\n",
       "</style>\n",
       "<table border=\"1\" class=\"dataframe\">\n",
       "  <thead>\n",
       "    <tr style=\"text-align: right;\">\n",
       "      <th></th>\n",
       "      <th>ONE</th>\n",
       "      <th>TWO</th>\n",
       "      <th>THREE</th>\n",
       "      <th>FOUR</th>\n",
       "    </tr>\n",
       "  </thead>\n",
       "  <tbody>\n",
       "    <tr>\n",
       "      <th>Ohio</th>\n",
       "      <td>0</td>\n",
       "      <td>1</td>\n",
       "      <td>2</td>\n",
       "      <td>3</td>\n",
       "    </tr>\n",
       "    <tr>\n",
       "      <th>Colorado</th>\n",
       "      <td>4</td>\n",
       "      <td>5</td>\n",
       "      <td>6</td>\n",
       "      <td>7</td>\n",
       "    </tr>\n",
       "    <tr>\n",
       "      <th>New York</th>\n",
       "      <td>8</td>\n",
       "      <td>9</td>\n",
       "      <td>10</td>\n",
       "      <td>11</td>\n",
       "    </tr>\n",
       "  </tbody>\n",
       "</table>\n",
       "</div>"
      ],
      "text/plain": [
       "          ONE  TWO  THREE  FOUR\n",
       "Ohio        0    1      2     3\n",
       "Colorado    4    5      6     7\n",
       "New York    8    9     10    11"
      ]
     },
     "execution_count": 63,
     "metadata": {},
     "output_type": "execute_result"
    }
   ],
   "source": [
    "data.rename(index=str.title, columns=str.upper)"
   ]
  },
  {
   "cell_type": "markdown",
   "metadata": {
    "colab_type": "text",
    "id": "ZWgO-SHEkyU6",
    "nbpresent": {
     "id": "8260a34b-02a4-4f18-b69a-daf310c4990c"
    },
    "slideshow": {
     "slide_type": "slide"
    }
   },
   "source": [
    "Notably, **`rename`** can be used in conjunction with a dict-like object providing new values for a subset of the axis labels:"
   ]
  },
  {
   "cell_type": "code",
   "execution_count": 64,
   "metadata": {
    "colab": {},
    "colab_type": "code",
    "id": "C0glWu83kyU7",
    "nbpresent": {
     "id": "22b863a5-fde7-45eb-8179-85ba63431987"
    }
   },
   "outputs": [
    {
     "data": {
      "text/html": [
       "<div>\n",
       "<style scoped>\n",
       "    .dataframe tbody tr th:only-of-type {\n",
       "        vertical-align: middle;\n",
       "    }\n",
       "\n",
       "    .dataframe tbody tr th {\n",
       "        vertical-align: top;\n",
       "    }\n",
       "\n",
       "    .dataframe thead th {\n",
       "        text-align: right;\n",
       "    }\n",
       "</style>\n",
       "<table border=\"1\" class=\"dataframe\">\n",
       "  <thead>\n",
       "    <tr style=\"text-align: right;\">\n",
       "      <th></th>\n",
       "      <th>one</th>\n",
       "      <th>two</th>\n",
       "      <th>peekaboo</th>\n",
       "      <th>four</th>\n",
       "    </tr>\n",
       "  </thead>\n",
       "  <tbody>\n",
       "    <tr>\n",
       "      <th>INDIANA</th>\n",
       "      <td>0</td>\n",
       "      <td>1</td>\n",
       "      <td>2</td>\n",
       "      <td>3</td>\n",
       "    </tr>\n",
       "    <tr>\n",
       "      <th>COLORADO</th>\n",
       "      <td>4</td>\n",
       "      <td>5</td>\n",
       "      <td>6</td>\n",
       "      <td>7</td>\n",
       "    </tr>\n",
       "    <tr>\n",
       "      <th>NEW YORK</th>\n",
       "      <td>8</td>\n",
       "      <td>9</td>\n",
       "      <td>10</td>\n",
       "      <td>11</td>\n",
       "    </tr>\n",
       "  </tbody>\n",
       "</table>\n",
       "</div>"
      ],
      "text/plain": [
       "          one  two  peekaboo  four\n",
       "INDIANA     0    1         2     3\n",
       "COLORADO    4    5         6     7\n",
       "NEW YORK    8    9        10    11"
      ]
     },
     "execution_count": 64,
     "metadata": {},
     "output_type": "execute_result"
    }
   ],
   "source": [
    "data.rename(index={'OHIO': 'INDIANA'},\n",
    "            columns={'three': 'peekaboo'})"
   ]
  },
  {
   "cell_type": "markdown",
   "metadata": {
    "colab_type": "text",
    "id": "CN1l0DRskyU9",
    "nbpresent": {
     "id": "5cc32b64-77ef-4289-9533-e4a4fb62dd1a"
    },
    "slideshow": {
     "slide_type": "slide"
    }
   },
   "source": [
    "**`rename`** saves having to copy the **`DataFrame`** manually and assign to its index and columns attributes. Should you wish to modify a data set in place, pass **`inplace=True`**:\n"
   ]
  },
  {
   "cell_type": "code",
   "execution_count": 65,
   "metadata": {
    "colab": {},
    "colab_type": "code",
    "id": "RUlYvd4DkyU9",
    "nbpresent": {
     "id": "22a26d66-b46d-412e-bb3c-646392a80896"
    }
   },
   "outputs": [
    {
     "data": {
      "text/html": [
       "<div>\n",
       "<style scoped>\n",
       "    .dataframe tbody tr th:only-of-type {\n",
       "        vertical-align: middle;\n",
       "    }\n",
       "\n",
       "    .dataframe tbody tr th {\n",
       "        vertical-align: top;\n",
       "    }\n",
       "\n",
       "    .dataframe thead th {\n",
       "        text-align: right;\n",
       "    }\n",
       "</style>\n",
       "<table border=\"1\" class=\"dataframe\">\n",
       "  <thead>\n",
       "    <tr style=\"text-align: right;\">\n",
       "      <th></th>\n",
       "      <th>one</th>\n",
       "      <th>two</th>\n",
       "      <th>three</th>\n",
       "      <th>four</th>\n",
       "    </tr>\n",
       "  </thead>\n",
       "  <tbody>\n",
       "    <tr>\n",
       "      <th>INDIANA</th>\n",
       "      <td>0</td>\n",
       "      <td>1</td>\n",
       "      <td>2</td>\n",
       "      <td>3</td>\n",
       "    </tr>\n",
       "    <tr>\n",
       "      <th>COLORADO</th>\n",
       "      <td>4</td>\n",
       "      <td>5</td>\n",
       "      <td>6</td>\n",
       "      <td>7</td>\n",
       "    </tr>\n",
       "    <tr>\n",
       "      <th>NEW YORK</th>\n",
       "      <td>8</td>\n",
       "      <td>9</td>\n",
       "      <td>10</td>\n",
       "      <td>11</td>\n",
       "    </tr>\n",
       "  </tbody>\n",
       "</table>\n",
       "</div>"
      ],
      "text/plain": [
       "          one  two  three  four\n",
       "INDIANA     0    1      2     3\n",
       "COLORADO    4    5      6     7\n",
       "NEW YORK    8    9     10    11"
      ]
     },
     "execution_count": 65,
     "metadata": {},
     "output_type": "execute_result"
    }
   ],
   "source": [
    "# Always returns a reference to a DataFrame\n",
    "_ = data.rename(index={'OHIO': 'INDIANA'}, inplace=True) \n",
    "data"
   ]
  },
  {
   "cell_type": "markdown",
   "metadata": {},
   "source": [
    "<div class=\"alert alert-warning\">\n",
    "<b>EXERCISE 15: </b> \n",
    "\n",
    "1, Use the **data** dataframe:\n",
    "\n",
    "<code>data = DataFrame(np.arange(12).reshape((3, 4)),\n",
    "                 index=['Ohio', 'Colorado', 'New York'],\n",
    "                 columns=['one', 'two', 'three', 'four'])</code>\n",
    "    \n",
    "\n",
    "2, The **data** dataframe looks as follows:\n",
    "\n",
    "<img src=\"//i.imgur.com/YJ0VMrB.png\" style=\"max-width: 100%; min-height: 114px;\">\n",
    "\n",
    "3, Write a code which transforms the column names of **data** in upper case. \n",
    "\n",
    "</div>"
   ]
  },
  {
   "cell_type": "code",
   "execution_count": 42,
   "metadata": {},
   "outputs": [],
   "source": [
    "# Write your solution here"
   ]
  },
  {
   "cell_type": "markdown",
   "metadata": {},
   "source": [
    "<div class=\"alert alert-warning\">\n",
    "<b>EXERCISE 16: </b> \n",
    "\n",
    "1, Use the **data** dataframe:\n",
    "    \n",
    "<code>data = DataFrame(np.arange(12).reshape((3, 4)),\n",
    "                 index=['Ohio', 'Colorado', 'New York'],\n",
    "                 columns=['one', 'two', 'three', 'four'])</code>\n",
    "    \n",
    "\n",
    "2, The **data** dataframe looks as follows:\n",
    "<img src=\"//i.imgur.com/YJ0VMrB.png\" style=\"max-width: 100%; min-height: 114px;\">\n",
    "\n",
    "3, Write a code which transforms the row name **Colorado** of **data** to **Boston**. \n",
    "\n",
    "\n",
    "</div>"
   ]
  },
  {
   "cell_type": "code",
   "execution_count": 43,
   "metadata": {},
   "outputs": [],
   "source": [
    "# Write your solution here"
   ]
  },
  {
   "cell_type": "markdown",
   "metadata": {
    "colab_type": "text",
    "id": "lYYpEjuukyVA",
    "nbpresent": {
     "id": "7222bdaa-f8cc-4ebe-9e9e-24782e4d4ba2"
    },
    "slideshow": {
     "slide_type": "slide"
    }
   },
   "source": [
    "### Discretization and Binning\n",
    "\n",
    "Continuous data is often discretized or otherwised separated into “bins” for analysis. Suppose you have data about a group of people in a study, and you want to group them into discrete age buckets:"
   ]
  },
  {
   "cell_type": "code",
   "execution_count": null,
   "metadata": {
    "colab": {},
    "colab_type": "code",
    "collapsed": true,
    "id": "Zp5SaExVkyVB",
    "nbpresent": {
     "id": "6cab35a1-3ca8-4694-ae68-485ee3d79b0c"
    }
   },
   "outputs": [],
   "source": [
    "ages = [20, 22, 25, 27, 21, 23, 37, 31, 61, 45, 41, 32]"
   ]
  },
  {
   "cell_type": "markdown",
   "metadata": {
    "colab_type": "text",
    "id": "wZdMZcBBkyVC",
    "nbpresent": {
     "id": "93e79a93-eadf-4426-b43b-2ea1f839c339"
    },
    "slideshow": {
     "slide_type": "slide"
    }
   },
   "source": [
    "Let’s divide these into bins of 18 to 25, 26 to 35, 35 to 60, and finally 60 and older. To do so, you have to use cut, a function in **`pandas`**:"
   ]
  },
  {
   "cell_type": "code",
   "execution_count": null,
   "metadata": {
    "colab": {},
    "colab_type": "code",
    "collapsed": true,
    "id": "RCCclxZjkyVC",
    "nbpresent": {
     "id": "e5d330f0-2e42-4bf3-a644-fbd0815934b4"
    }
   },
   "outputs": [],
   "source": [
    "bins = [18, 25, 35, 60, 100]\n",
    "cats = pd.cut(ages, bins)\n",
    "cats"
   ]
  },
  {
   "cell_type": "markdown",
   "metadata": {
    "colab_type": "text",
    "id": "XU3Lmqm_kyVF",
    "nbpresent": {
     "id": "65dc9457-dd3a-4906-801e-da824b6c96d3"
    },
    "slideshow": {
     "slide_type": "slide"
    }
   },
   "source": [
    "The object **`pandas`** returns is a special Categorical object. You can treat it like an array of strings indicating the bin name; internally it contains a **`categories`** array indicating the distinct category names along with a labeling for the ages data in the labels attribute:"
   ]
  },
  {
   "cell_type": "code",
   "execution_count": null,
   "metadata": {
    "colab": {},
    "colab_type": "code",
    "collapsed": true,
    "id": "eaj0M-PQkyVF",
    "nbpresent": {
     "id": "70e08d6d-901d-4dee-9745-b813a61c2090"
    }
   },
   "outputs": [],
   "source": [
    "cats.codes\n",
    "cats.categories\n",
    "pd.value_counts(cats)"
   ]
  },
  {
   "cell_type": "markdown",
   "metadata": {
    "colab_type": "text",
    "id": "3CKO0xNqkyVG",
    "nbpresent": {
     "id": "67b23f2d-a683-41be-a75d-f324a5b2ca3d"
    },
    "slideshow": {
     "slide_type": "slide"
    }
   },
   "source": [
    "Consistent with mathematical notation for intervals, a parenthesis means that the side is *open* while the square bracket means it is *closed* (inclusive). Which side is closed can be changed by passing **`right=False`**:"
   ]
  },
  {
   "cell_type": "code",
   "execution_count": null,
   "metadata": {
    "colab": {},
    "colab_type": "code",
    "collapsed": true,
    "id": "bAWoDFd0kyVH",
    "nbpresent": {
     "id": "35e70306-eebd-4147-b534-a83a15e220b7"
    }
   },
   "outputs": [],
   "source": [
    "pd.cut(ages, [18, 26, 36, 61, 100], right=False)"
   ]
  },
  {
   "cell_type": "markdown",
   "metadata": {
    "colab_type": "text",
    "id": "YNQeoBMnkyVI",
    "nbpresent": {
     "id": "40d21254-e4a5-4f61-bfcc-009ee54b0afa"
    },
    "slideshow": {
     "slide_type": "slide"
    }
   },
   "source": [
    "You can also pass your own bin names by passing a list or array to the labels option:"
   ]
  },
  {
   "cell_type": "code",
   "execution_count": null,
   "metadata": {
    "colab": {},
    "colab_type": "code",
    "collapsed": true,
    "id": "umzqaLI-kyVI",
    "nbpresent": {
     "id": "4cac4c70-4cf1-4a2b-bed3-ff3c27ae6094"
    }
   },
   "outputs": [],
   "source": [
    "group_names = ['Youth', 'YoungAdult', 'MiddleAged', 'Senior']\n",
    "pd.cut(ages, bins, labels=group_names)"
   ]
  },
  {
   "cell_type": "markdown",
   "metadata": {
    "colab_type": "text",
    "id": "ynFKzAc5kyVJ",
    "nbpresent": {
     "id": "a240b95d-48fb-47bb-83a8-c3315a83a718"
    },
    "slideshow": {
     "slide_type": "slide"
    }
   },
   "source": [
    "If you pass **`cut`** a integer number of bins instead of explicit bin edges, it will compute equal-length bins based on the minimum and maximum values in the data. \n",
    "\n",
    "Consider the case of some uniformly distributed data chopped into quarters:"
   ]
  },
  {
   "cell_type": "code",
   "execution_count": null,
   "metadata": {
    "colab": {},
    "colab_type": "code",
    "collapsed": true,
    "id": "O_9_I9wlkyVK",
    "nbpresent": {
     "id": "f5493334-a783-4b5b-858e-f901795a8ec2"
    }
   },
   "outputs": [],
   "source": [
    "data = np.random.rand(20)\n",
    "pd.cut(data, 4, precision=2)"
   ]
  },
  {
   "cell_type": "markdown",
   "metadata": {
    "colab_type": "text",
    "id": "G8467N_pkyVL",
    "nbpresent": {
     "id": "7ab30da0-6744-46c1-90b5-a5f9e0a5b102"
    },
    "slideshow": {
     "slide_type": "slide"
    }
   },
   "source": [
    "A closely related function, **`qcut`**, bins the data based on sample quantiles. Depending on the distribution of the data, using **`cut`** will not usually result in each bin having the same number of data points. \n",
    "\n",
    "Since **`qcut`** uses sample quantiles instead, by definition you will obtain roughly equal-size bins:"
   ]
  },
  {
   "cell_type": "code",
   "execution_count": null,
   "metadata": {
    "colab": {},
    "colab_type": "code",
    "collapsed": true,
    "id": "HVr8gZCWkyVL",
    "nbpresent": {
     "id": "99e3fcfb-9537-4227-b605-2134d1d68264"
    }
   },
   "outputs": [],
   "source": [
    "data = np.random.randn(1000) # Normally distributed\n",
    "cats = pd.qcut(data, 4) # Cut into quartiles\n",
    "cats"
   ]
  },
  {
   "cell_type": "code",
   "execution_count": null,
   "metadata": {
    "colab": {},
    "colab_type": "code",
    "collapsed": true,
    "id": "Vyb3WYlnkyVM",
    "nbpresent": {
     "id": "a02223d3-fa79-41c5-b232-2ac01c08e592"
    },
    "slideshow": {
     "slide_type": "slide"
    }
   },
   "outputs": [],
   "source": [
    "pd.value_counts(cats)"
   ]
  },
  {
   "cell_type": "markdown",
   "metadata": {
    "colab_type": "text",
    "id": "drGnjxNIkyVO",
    "nbpresent": {
     "id": "11127461-f94a-46e4-8f6c-0bf21f6930a2"
    },
    "slideshow": {
     "slide_type": "slide"
    }
   },
   "source": [
    "Similar to cut you can pass your own quantiles (numbers between 0 and 1, inclusive):"
   ]
  },
  {
   "cell_type": "code",
   "execution_count": null,
   "metadata": {
    "colab": {},
    "colab_type": "code",
    "collapsed": true,
    "id": "fas5tDjpkyVO",
    "nbpresent": {
     "id": "465c4535-5974-4ea1-8d5d-b1c2c24ba281"
    }
   },
   "outputs": [],
   "source": [
    "pd.qcut(data, [0, 0.1, 0.5, 0.9, 1.])"
   ]
  },
  {
   "cell_type": "markdown",
   "metadata": {
    "colab_type": "text",
    "id": "jIybrPU0kyVR",
    "nbpresent": {
     "id": "608780b6-7d69-48b9-9d6f-f22ab48413a1"
    },
    "slideshow": {
     "slide_type": "slide"
    }
   },
   "source": [
    "We’ll return to **`cut`** and **`qcut`** later when we look at **aggregation** and **group operations**, as these discretization functions are especially useful for quantile and group analysis.\n"
   ]
  },
  {
   "cell_type": "markdown",
   "metadata": {
    "colab_type": "text",
    "id": "ObGoZrqckyVR",
    "nbpresent": {
     "id": "5c3c6da7-47f1-4c80-b437-203219d110d4"
    },
    "slideshow": {
     "slide_type": "slide"
    }
   },
   "source": [
    "### Detecting and Filtering Outliers\n",
    "\n",
    "Filtering or transforming outliers is largely a matter of applying array operations. Consider a **`DataFrame`** with some normally distributed data:"
   ]
  },
  {
   "cell_type": "code",
   "execution_count": 13,
   "metadata": {
    "colab": {},
    "colab_type": "code",
    "collapsed": true,
    "id": "Ncc7WgcTkyVR",
    "nbpresent": {
     "id": "91572608-5b96-4c6a-82ad-8667d4c85e50"
    }
   },
   "outputs": [],
   "source": [
    "np.random.seed(12345)\n",
    "data = pd.DataFrame(np.random.randn(1000, 4))\n"
   ]
  },
  {
   "cell_type": "code",
   "execution_count": 14,
   "metadata": {
    "colab": {},
    "colab_type": "code",
    "id": "k18r8F1KkyVS",
    "nbpresent": {
     "id": "401cdfe0-440a-4861-b091-c1137d6f4dae"
    },
    "slideshow": {
     "slide_type": "slide"
    }
   },
   "outputs": [
    {
     "data": {
      "text/html": [
       "<div>\n",
       "<style scoped>\n",
       "    .dataframe tbody tr th:only-of-type {\n",
       "        vertical-align: middle;\n",
       "    }\n",
       "\n",
       "    .dataframe tbody tr th {\n",
       "        vertical-align: top;\n",
       "    }\n",
       "\n",
       "    .dataframe thead th {\n",
       "        text-align: right;\n",
       "    }\n",
       "</style>\n",
       "<table border=\"1\" class=\"dataframe\">\n",
       "  <thead>\n",
       "    <tr style=\"text-align: right;\">\n",
       "      <th></th>\n",
       "      <th>0</th>\n",
       "      <th>1</th>\n",
       "      <th>2</th>\n",
       "      <th>3</th>\n",
       "    </tr>\n",
       "  </thead>\n",
       "  <tbody>\n",
       "    <tr>\n",
       "      <th>count</th>\n",
       "      <td>1000.000000</td>\n",
       "      <td>1000.000000</td>\n",
       "      <td>1000.000000</td>\n",
       "      <td>1000.000000</td>\n",
       "    </tr>\n",
       "    <tr>\n",
       "      <th>mean</th>\n",
       "      <td>-0.067684</td>\n",
       "      <td>0.067924</td>\n",
       "      <td>0.025598</td>\n",
       "      <td>-0.002298</td>\n",
       "    </tr>\n",
       "    <tr>\n",
       "      <th>std</th>\n",
       "      <td>0.998035</td>\n",
       "      <td>0.992106</td>\n",
       "      <td>1.006835</td>\n",
       "      <td>0.996794</td>\n",
       "    </tr>\n",
       "    <tr>\n",
       "      <th>min</th>\n",
       "      <td>-3.428254</td>\n",
       "      <td>-3.548824</td>\n",
       "      <td>-3.184377</td>\n",
       "      <td>-3.745356</td>\n",
       "    </tr>\n",
       "    <tr>\n",
       "      <th>25%</th>\n",
       "      <td>-0.774890</td>\n",
       "      <td>-0.591841</td>\n",
       "      <td>-0.641675</td>\n",
       "      <td>-0.644144</td>\n",
       "    </tr>\n",
       "    <tr>\n",
       "      <th>50%</th>\n",
       "      <td>-0.116401</td>\n",
       "      <td>0.101143</td>\n",
       "      <td>0.002073</td>\n",
       "      <td>-0.013611</td>\n",
       "    </tr>\n",
       "    <tr>\n",
       "      <th>75%</th>\n",
       "      <td>0.616366</td>\n",
       "      <td>0.780282</td>\n",
       "      <td>0.680391</td>\n",
       "      <td>0.654328</td>\n",
       "    </tr>\n",
       "    <tr>\n",
       "      <th>max</th>\n",
       "      <td>3.366626</td>\n",
       "      <td>2.653656</td>\n",
       "      <td>3.260383</td>\n",
       "      <td>3.927528</td>\n",
       "    </tr>\n",
       "  </tbody>\n",
       "</table>\n",
       "</div>"
      ],
      "text/plain": [
       "                 0            1            2            3\n",
       "count  1000.000000  1000.000000  1000.000000  1000.000000\n",
       "mean     -0.067684     0.067924     0.025598    -0.002298\n",
       "std       0.998035     0.992106     1.006835     0.996794\n",
       "min      -3.428254    -3.548824    -3.184377    -3.745356\n",
       "25%      -0.774890    -0.591841    -0.641675    -0.644144\n",
       "50%      -0.116401     0.101143     0.002073    -0.013611\n",
       "75%       0.616366     0.780282     0.680391     0.654328\n",
       "max       3.366626     2.653656     3.260383     3.927528"
      ]
     },
     "execution_count": 14,
     "metadata": {},
     "output_type": "execute_result"
    }
   ],
   "source": [
    "data.describe()"
   ]
  },
  {
   "cell_type": "markdown",
   "metadata": {
    "colab_type": "text",
    "id": "-u5MEOXtkyVU",
    "nbpresent": {
     "id": "acb3a940-0e57-4da9-972f-e7eca561917c"
    },
    "slideshow": {
     "slide_type": "slide"
    }
   },
   "source": [
    "Suppose you wanted to find values in one of the columns exceeding three in magnitude:"
   ]
  },
  {
   "cell_type": "code",
   "execution_count": 25,
   "metadata": {
    "colab": {},
    "colab_type": "code",
    "id": "WM2kk47gkyVU",
    "nbpresent": {
     "id": "053bfd8a-2d5c-441e-bed5-a05bb00da044"
    }
   },
   "outputs": [
    {
     "data": {
      "text/plain": [
       "97     3.927528\n",
       "305   -3.399312\n",
       "400   -3.745356\n",
       "Name: 3, dtype: float64"
      ]
     },
     "execution_count": 25,
     "metadata": {},
     "output_type": "execute_result"
    }
   ],
   "source": [
    "col = data[3]\n",
    "col[np.abs(col) > 3]"
   ]
  },
  {
   "cell_type": "markdown",
   "metadata": {
    "colab_type": "text",
    "id": "2UIBSRrfkyVW",
    "nbpresent": {
     "id": "06835258-2273-494f-a429-557d86e71625"
    },
    "slideshow": {
     "slide_type": "slide"
    }
   },
   "source": [
    "To select all rows having a value exceeding 3 or -3, you can use the **`any`** method on a Boolean **`DataFrame`**:"
   ]
  },
  {
   "cell_type": "code",
   "execution_count": 26,
   "metadata": {
    "colab": {},
    "colab_type": "code",
    "id": "NW_vDUjJkyVW",
    "nbpresent": {
     "id": "bb05154d-fe46-4fc5-ba78-65e2e6fdb565"
    }
   },
   "outputs": [
    {
     "data": {
      "text/html": [
       "<div>\n",
       "<style scoped>\n",
       "    .dataframe tbody tr th:only-of-type {\n",
       "        vertical-align: middle;\n",
       "    }\n",
       "\n",
       "    .dataframe tbody tr th {\n",
       "        vertical-align: top;\n",
       "    }\n",
       "\n",
       "    .dataframe thead th {\n",
       "        text-align: right;\n",
       "    }\n",
       "</style>\n",
       "<table border=\"1\" class=\"dataframe\">\n",
       "  <thead>\n",
       "    <tr style=\"text-align: right;\">\n",
       "      <th></th>\n",
       "      <th>0</th>\n",
       "      <th>1</th>\n",
       "      <th>2</th>\n",
       "      <th>3</th>\n",
       "    </tr>\n",
       "  </thead>\n",
       "  <tbody>\n",
       "    <tr>\n",
       "      <th>5</th>\n",
       "      <td>-0.539741</td>\n",
       "      <td>0.476985</td>\n",
       "      <td>3.248944</td>\n",
       "      <td>-1.021228</td>\n",
       "    </tr>\n",
       "    <tr>\n",
       "      <th>97</th>\n",
       "      <td>-0.774363</td>\n",
       "      <td>0.552936</td>\n",
       "      <td>0.106061</td>\n",
       "      <td>3.927528</td>\n",
       "    </tr>\n",
       "    <tr>\n",
       "      <th>102</th>\n",
       "      <td>-0.655054</td>\n",
       "      <td>-0.565230</td>\n",
       "      <td>3.176873</td>\n",
       "      <td>0.959533</td>\n",
       "    </tr>\n",
       "    <tr>\n",
       "      <th>305</th>\n",
       "      <td>-2.315555</td>\n",
       "      <td>0.457246</td>\n",
       "      <td>-0.025907</td>\n",
       "      <td>-3.399312</td>\n",
       "    </tr>\n",
       "    <tr>\n",
       "      <th>324</th>\n",
       "      <td>0.050188</td>\n",
       "      <td>1.951312</td>\n",
       "      <td>3.260383</td>\n",
       "      <td>0.963301</td>\n",
       "    </tr>\n",
       "    <tr>\n",
       "      <th>400</th>\n",
       "      <td>0.146326</td>\n",
       "      <td>0.508391</td>\n",
       "      <td>-0.196713</td>\n",
       "      <td>-3.745356</td>\n",
       "    </tr>\n",
       "    <tr>\n",
       "      <th>499</th>\n",
       "      <td>-0.293333</td>\n",
       "      <td>-0.242459</td>\n",
       "      <td>-3.056990</td>\n",
       "      <td>1.918403</td>\n",
       "    </tr>\n",
       "    <tr>\n",
       "      <th>523</th>\n",
       "      <td>-3.428254</td>\n",
       "      <td>-0.296336</td>\n",
       "      <td>-0.439938</td>\n",
       "      <td>-0.867165</td>\n",
       "    </tr>\n",
       "    <tr>\n",
       "      <th>586</th>\n",
       "      <td>0.275144</td>\n",
       "      <td>1.179227</td>\n",
       "      <td>-3.184377</td>\n",
       "      <td>1.369891</td>\n",
       "    </tr>\n",
       "    <tr>\n",
       "      <th>808</th>\n",
       "      <td>-0.362528</td>\n",
       "      <td>-3.548824</td>\n",
       "      <td>1.553205</td>\n",
       "      <td>-2.186301</td>\n",
       "    </tr>\n",
       "    <tr>\n",
       "      <th>900</th>\n",
       "      <td>3.366626</td>\n",
       "      <td>-2.372214</td>\n",
       "      <td>0.851010</td>\n",
       "      <td>1.332846</td>\n",
       "    </tr>\n",
       "  </tbody>\n",
       "</table>\n",
       "</div>"
      ],
      "text/plain": [
       "            0         1         2         3\n",
       "5   -0.539741  0.476985  3.248944 -1.021228\n",
       "97  -0.774363  0.552936  0.106061  3.927528\n",
       "102 -0.655054 -0.565230  3.176873  0.959533\n",
       "305 -2.315555  0.457246 -0.025907 -3.399312\n",
       "324  0.050188  1.951312  3.260383  0.963301\n",
       "400  0.146326  0.508391 -0.196713 -3.745356\n",
       "499 -0.293333 -0.242459 -3.056990  1.918403\n",
       "523 -3.428254 -0.296336 -0.439938 -0.867165\n",
       "586  0.275144  1.179227 -3.184377  1.369891\n",
       "808 -0.362528 -3.548824  1.553205 -2.186301\n",
       "900  3.366626 -2.372214  0.851010  1.332846"
      ]
     },
     "execution_count": 26,
     "metadata": {},
     "output_type": "execute_result"
    }
   ],
   "source": [
    "data[(np.abs(data) > 3).any(1)]"
   ]
  },
  {
   "cell_type": "markdown",
   "metadata": {
    "colab_type": "text",
    "id": "CZKyzySRkyVY",
    "nbpresent": {
     "id": "4f27d6ba-60b5-46b2-a1a4-40576af0c0c7"
    },
    "slideshow": {
     "slide_type": "slide"
    }
   },
   "source": [
    "Values can just as easily be set based on these criteria. Here is code to cap values outside the interval -3 to 3:"
   ]
  },
  {
   "cell_type": "code",
   "execution_count": null,
   "metadata": {
    "colab": {},
    "colab_type": "code",
    "collapsed": true,
    "id": "J06CHEmkkyVY",
    "nbpresent": {
     "id": "a1b76031-3396-4c96-9fe9-0a19fef0f4cf"
    }
   },
   "outputs": [],
   "source": [
    "data[np.abs(data) > 3] = np.sign(data) * 3\n",
    "data.describe()"
   ]
  },
  {
   "cell_type": "markdown",
   "metadata": {
    "colab_type": "text",
    "id": "K-a2A0OFkyVa",
    "nbpresent": {
     "id": "66cb4042-2e0a-436f-9c53-61d772d426a9"
    },
    "slideshow": {
     "slide_type": "skip"
    }
   },
   "source": [
    "The ufunc **`np.sign`** returns an array of 1 and -1 depending on the sign of the values. "
   ]
  },
  {
   "cell_type": "markdown",
   "metadata": {},
   "source": [
    "<div class=\"alert alert-warning\">\n",
    "<b>EXERCISE 17: </b> \n",
    "\n",
    "Select all rows having a value exceeding 3.2 or -3.2 from the **data** dataframe, using the **any** method on a Boolean.\n",
    "\n",
    "</div>"
   ]
  },
  {
   "cell_type": "code",
   "execution_count": 44,
   "metadata": {},
   "outputs": [],
   "source": [
    "# Write your solution here"
   ]
  },
  {
   "cell_type": "markdown",
   "metadata": {
    "colab_type": "text",
    "id": "CiPBXfz5kyVb",
    "nbpresent": {
     "id": "9125f98e-be57-4be6-a3b2-a63b12855c55"
    },
    "slideshow": {
     "slide_type": "slide"
    }
   },
   "source": [
    "### Permutation and Random Sampling\n",
    "\n",
    "Permuting (randomly reordering) a **`Series`** or the rows in a **`DataFrame`** is easy to do using the **`numpy.random.permutation`** function. \n",
    "\n",
    "Calling permutation with the length of the axis you want to permute produces an array of integers indicating the new ordering:"
   ]
  },
  {
   "cell_type": "code",
   "execution_count": null,
   "metadata": {
    "colab": {},
    "colab_type": "code",
    "collapsed": true,
    "id": "jw4ozVW1kyVb",
    "nbpresent": {
     "id": "c9eda079-51ca-47e8-ad41-50e45ac7fef2"
    }
   },
   "outputs": [],
   "source": [
    "df = DataFrame(np.arange(5 * 4).reshape(5, 4))\n",
    "sampler = np.random.permutation(5)\n",
    "sampler"
   ]
  },
  {
   "cell_type": "markdown",
   "metadata": {
    "colab_type": "text",
    "id": "DG-ys0UYkyVc",
    "nbpresent": {
     "id": "8b9ea5b9-4308-40a7-bb97-b34e84a1fea2"
    },
    "slideshow": {
     "slide_type": "slide"
    }
   },
   "source": [
    "That array can then be used in **`ix-`**based indexing or the take function:"
   ]
  },
  {
   "cell_type": "code",
   "execution_count": null,
   "metadata": {
    "colab": {},
    "colab_type": "code",
    "collapsed": true,
    "id": "lXThGND9kyVd",
    "nbpresent": {
     "id": "c9943807-7f52-4af9-9367-e8799e4c0964"
    }
   },
   "outputs": [],
   "source": [
    "df\n",
    "df.take(sampler)"
   ]
  },
  {
   "cell_type": "markdown",
   "metadata": {
    "colab_type": "text",
    "id": "hlNwpvDmkyVe",
    "nbpresent": {
     "id": "ba19cd4b-a632-40c9-8f84-e854bd97b75f"
    },
    "slideshow": {
     "slide_type": "slide"
    }
   },
   "source": [
    "To select a random subset without replacement, one way is to slice off the first $k$ elements of the array returned by **`permutation`**, where $k$ is the desired subset size. \n",
    "\n",
    "There are much more efficient sampling-without-replacement algorithms, but this is an easy strategy that uses readily available tools:"
   ]
  },
  {
   "cell_type": "code",
   "execution_count": null,
   "metadata": {
    "colab": {},
    "colab_type": "code",
    "collapsed": true,
    "id": "JmbipAydkyVe",
    "nbpresent": {
     "id": "67a56071-8672-4e64-bec0-bbc64a390870"
    }
   },
   "outputs": [],
   "source": [
    "df.take(np.random.permutation(len(df))[:3])"
   ]
  },
  {
   "cell_type": "markdown",
   "metadata": {
    "colab_type": "text",
    "id": "f9Vh5ZDqkyVf",
    "nbpresent": {
     "id": "5e4c14a6-ffd1-4432-914e-ff8eee4558f1"
    },
    "slideshow": {
     "slide_type": "slide"
    }
   },
   "source": [
    "To generate a sample with replacement, the fastest way is to use **`np.random.randint`** to draw random integers:"
   ]
  },
  {
   "cell_type": "code",
   "execution_count": null,
   "metadata": {
    "colab": {},
    "colab_type": "code",
    "collapsed": true,
    "id": "IPAvxsxQkyVg",
    "nbpresent": {
     "id": "1d759d88-141a-48a1-b244-7dfd54995c18"
    }
   },
   "outputs": [],
   "source": [
    "bag = np.array([5, 7, -1, 6, 4])\n",
    "bag\n",
    "sampler = np.random.randint(0, len(bag), size=10)\n",
    "sampler\n",
    "draws = bag.take(sampler)\n",
    "draws"
   ]
  },
  {
   "cell_type": "markdown",
   "metadata": {
    "colab_type": "text",
    "id": "nGMzvXeykyVh",
    "nbpresent": {
     "id": "79c5243c-c84f-4fdf-acb5-4cf7867f8848"
    },
    "slideshow": {
     "slide_type": "slide"
    }
   },
   "source": [
    "### Computing Indicator/Dummy Variables\n",
    "\n",
    "Another type of transformation for statistical modeling or machine learning applications is converting a categorical variable into a *dummy* or *indicator* matrix. \n",
    "\n",
    "If a column in a **`DataFrame`** has $k$ distinct values, you would derive a matrix or **`DataFrame`** containing $k$ columns containing all 1’s and 0’s. \n",
    "\n",
    "**`pandas`** has a **`get_dummies`** function for doing this, though devising one yourself should hopefully not be too difficult. Let’s return to an earlier example **`DataFrame`**:"
   ]
  },
  {
   "cell_type": "code",
   "execution_count": null,
   "metadata": {
    "colab": {},
    "colab_type": "code",
    "collapsed": true,
    "id": "e9diTt3XkyVh",
    "nbpresent": {
     "id": "d4d12810-500d-4bfa-bd56-5b623cf02857"
    }
   },
   "outputs": [],
   "source": [
    "df = pd.DataFrame({'key': ['b', 'b', 'a', 'c', 'a', 'b'],\n",
    "                'data1': range(6)})\n",
    "df\n",
    "pd.get_dummies(df['key'])"
   ]
  },
  {
   "cell_type": "markdown",
   "metadata": {
    "colab_type": "text",
    "id": "eG5EHRg5kyVj",
    "nbpresent": {
     "id": "dacd1295-094b-4290-a57c-69f0cff2bce2"
    },
    "slideshow": {
     "slide_type": "slide"
    }
   },
   "source": [
    "In some cases, you may want to add a prefix to the columns in the indicator **`DataFrame`**, which can then be merged with the other data. **`get_dummies `** has a prefix argument for doing just this:"
   ]
  },
  {
   "cell_type": "code",
   "execution_count": null,
   "metadata": {
    "colab": {},
    "colab_type": "code",
    "collapsed": true,
    "id": "f7FstiIbkyVk",
    "nbpresent": {
     "id": "bca88468-7043-470c-84ca-3ec04f58023b"
    }
   },
   "outputs": [],
   "source": [
    "dummies = pd.get_dummies(df['key'], prefix='key')\n",
    "df_with_dummy = df[['data1']].join(dummies)\n",
    "df_with_dummy"
   ]
  },
  {
   "cell_type": "markdown",
   "metadata": {
    "colab_type": "text",
    "id": "uwgUr-7xkyVk",
    "nbpresent": {
     "id": "ccb99f2f-5f94-47f3-8cff-abb67093b022"
    },
    "slideshow": {
     "slide_type": "slide"
    }
   },
   "source": [
    "If a row in a **`DataFrame`** belongs to multiple categories, things are a bit more complicated. \n",
    "\n",
    "Let’s have a look at this using MovieLens 1M dataset. \n",
    "\n",
    "MovieLens 1M Data Set\n",
    "GroupLens Research (http://www.grouplens.org/node/73) provides a number of collections of movie ratings data collected from users of MovieLens in the late 1990s and early 2000s. The data provide movie ratings, movie metadata (genres and year), and demographic data about the users (age, zip code, gender, and occupation). "
   ]
  },
  {
   "cell_type": "markdown",
   "metadata": {
    "colab_type": "text",
    "id": "NSDNxGh9kyVl",
    "nbpresent": {
     "id": "865ded10-3564-4f37-bebb-67999b623cdf"
    },
    "slideshow": {
     "slide_type": "slide"
    }
   },
   "source": [
    "Such data is often of interest in the development of recommendation systems based on machine learning algorithms. While I will not be exploring machine learning techniques in great detail in this book, I will show you how to slice and dice data sets like these into the exact form you need."
   ]
  },
  {
   "cell_type": "markdown",
   "metadata": {
    "colab_type": "text",
    "id": "wtqPvvJCkyVn",
    "nbpresent": {
     "id": "f14e78e8-1703-4155-b1ab-53f06c86b590"
    },
    "slideshow": {
     "slide_type": "slide"
    }
   },
   "source": [
    "The MovieLens 1M data set contains 1 million ratings collected from 6000 users on 4000 movies. \n",
    "\n",
    "It’s spread across 3 tables: ratings, user information, and movie information. After extracting the data from the zip file, each table can be loaded into a pandas **`DataFrame`** object using pandas.read_table:"
   ]
  },
  {
   "cell_type": "code",
   "execution_count": null,
   "metadata": {
    "colab": {},
    "colab_type": "code",
    "collapsed": true,
    "id": "h4Cc23eWkyVn",
    "nbpresent": {
     "id": "e848c07c-c364-4515-b185-d8301957c528"
    },
    "slideshow": {
     "slide_type": "slide"
    }
   },
   "outputs": [],
   "source": [
    "import pandas as pd\n",
    "\n",
    "unames = ['user_id', 'gender', 'age', 'occupation', 'zip'] \n",
    "users = pd.read_table('ml-1m/users.dat', sep='::', header=None, names=unames, engine='python')\n",
    "\n",
    "rnames = ['user_id', 'movie_id', 'rating', 'timestamp']\n",
    "ratings = pd.read_table('ml-1m/ratings.dat', sep='::', header=None, names=rnames, engine='python')\n",
    "\n",
    "mnames = ['movie_id', 'title', 'genres']\n",
    "movies = pd.read_table('ml-1m/movies.dat', sep='::', header=None, names=mnames, engine='python')"
   ]
  },
  {
   "cell_type": "markdown",
   "metadata": {
    "colab_type": "text",
    "id": "H0wzK5BOkyVo",
    "nbpresent": {
     "id": "3dba2e07-da44-4679-98d7-7af82dea1046"
    },
    "slideshow": {
     "slide_type": "slide"
    }
   },
   "source": [
    "You can verify that everything succeeded by looking at the first few rows of each **`DataFrame`** with Python's slice syntax:"
   ]
  },
  {
   "cell_type": "code",
   "execution_count": null,
   "metadata": {
    "colab": {},
    "colab_type": "code",
    "collapsed": true,
    "id": "dkDfZBNnkyVo",
    "nbpresent": {
     "id": "aeb042e1-0d74-4223-8a12-d2631becab23"
    },
    "slideshow": {
     "slide_type": "slide"
    }
   },
   "outputs": [],
   "source": [
    "users[:5]"
   ]
  },
  {
   "cell_type": "code",
   "execution_count": null,
   "metadata": {
    "colab": {},
    "colab_type": "code",
    "collapsed": true,
    "id": "XcUHwz53kyVq",
    "nbpresent": {
     "id": "7f378813-5236-400d-a02e-dd50ac520462"
    },
    "slideshow": {
     "slide_type": "slide"
    }
   },
   "outputs": [],
   "source": [
    "ratings[:5]"
   ]
  },
  {
   "cell_type": "code",
   "execution_count": null,
   "metadata": {
    "colab": {},
    "colab_type": "code",
    "collapsed": true,
    "id": "D-iFKgX6kyVs",
    "nbpresent": {
     "id": "236b9e6e-a005-4ce0-9828-00ea7c5ae830"
    }
   },
   "outputs": [],
   "source": [
    "ratings"
   ]
  },
  {
   "cell_type": "code",
   "execution_count": null,
   "metadata": {
    "colab": {},
    "colab_type": "code",
    "collapsed": true,
    "id": "RMEaYqs0kyVu",
    "nbpresent": {
     "id": "063285f9-f716-4c90-94d0-179a5d2fa66d"
    },
    "slideshow": {
     "slide_type": "slide"
    }
   },
   "outputs": [],
   "source": [
    "movies[:10]"
   ]
  },
  {
   "cell_type": "markdown",
   "metadata": {
    "colab_type": "text",
    "id": "vlBJReGLkyVw",
    "nbpresent": {
     "id": "05c306f6-90ec-49ca-8248-a4de0639087a"
    },
    "slideshow": {
     "slide_type": "slide"
    }
   },
   "source": [
    "Adding *indicator* variables for each genre requires a little bit of wrangling. \n",
    "\n",
    "First, we extract the list of unique genres in the dataset (using a nice **`set.union`** trick):"
   ]
  },
  {
   "cell_type": "code",
   "execution_count": null,
   "metadata": {
    "colab": {},
    "colab_type": "code",
    "collapsed": true,
    "id": "YscbtdEgkyVw",
    "nbpresent": {
     "id": "d2231492-b64b-4da7-9906-4f4a1be3a820"
    }
   },
   "outputs": [],
   "source": [
    "genre_iter = (set(x.split('|')) for x in movies.genres)\n",
    "genres = sorted(set.union(*genre_iter))"
   ]
  },
  {
   "cell_type": "markdown",
   "metadata": {
    "colab_type": "text",
    "id": "Ic0RNVw5kyVy",
    "nbpresent": {
     "id": "c4f4eb8d-0d22-4398-9c77-11229ba54d92"
    },
    "slideshow": {
     "slide_type": "slide"
    }
   },
   "source": [
    "Now, one way to construct the indicator **`DataFrame`** is to start with a **`DataFrame`** of all zeros:"
   ]
  },
  {
   "cell_type": "code",
   "execution_count": null,
   "metadata": {
    "colab": {},
    "colab_type": "code",
    "collapsed": true,
    "id": "iSGmYhKLkyVz",
    "nbpresent": {
     "id": "2b8c3074-0346-407f-8c8b-d059019eff80"
    }
   },
   "outputs": [],
   "source": [
    "dummies = pd.DataFrame(np.zeros((len(movies), len(genres))), columns=genres)\n",
    "dummies"
   ]
  },
  {
   "cell_type": "markdown",
   "metadata": {
    "colab_type": "text",
    "id": "qbDgpWpokyV2",
    "nbpresent": {
     "id": "20956cd7-14e2-4ce5-9365-3a7b1c243f77"
    },
    "slideshow": {
     "slide_type": "slide"
    }
   },
   "source": [
    "Now, iterate through each movie and set entries in each row of **`dummies`** to 1:"
   ]
  },
  {
   "cell_type": "code",
   "execution_count": null,
   "metadata": {
    "colab": {},
    "colab_type": "code",
    "collapsed": true,
    "id": "LSQ0h3unkyV2",
    "nbpresent": {
     "id": "5cf5e9a4-4555-43a2-bf35-70a0c09a5695"
    }
   },
   "outputs": [],
   "source": [
    "for i, gen in enumerate(movies.genres): dummies.ix[i, gen.split('|')] = 1\n",
    "dummies"
   ]
  },
  {
   "cell_type": "markdown",
   "metadata": {
    "colab_type": "text",
    "id": "0axXw2uKkyV3",
    "nbpresent": {
     "id": "4c8d172e-b767-49f2-809a-88b5ae2dd142"
    },
    "slideshow": {
     "slide_type": "slide"
    }
   },
   "source": [
    "Then, as above, you can combine this with movies:"
   ]
  },
  {
   "cell_type": "code",
   "execution_count": null,
   "metadata": {
    "colab": {},
    "colab_type": "code",
    "collapsed": true,
    "id": "CLa9jGJ2kyV4",
    "nbpresent": {
     "id": "08be1563-e3db-4bac-bd78-9d73e36930a5"
    }
   },
   "outputs": [],
   "source": [
    "movies_windic = movies.join(dummies.add_prefix('Genre_'))\n",
    "movies_windic.ix[0]"
   ]
  },
  {
   "cell_type": "markdown",
   "metadata": {
    "colab_type": "text",
    "id": "CU5AHG-IkyV5",
    "nbpresent": {
     "id": "0b133bb1-16cb-4439-81d3-ba00a8b18210"
    },
    "slideshow": {
     "slide_type": "slide"
    }
   },
   "source": [
    "<div class=\"alert alert-danger\">\n",
    "<b>WARNING: </b> Large datasets  \n",
    "\n",
    "For much larger data, this method of constructing *indicator* variables with multiple membership is not especially speedy. A lower-level function leveraging the internals of the **`DataFrame`** could certainly be written.\n",
    "\n",
    "</div>\n",
    "\n"
   ]
  },
  {
   "cell_type": "markdown",
   "metadata": {
    "colab_type": "text",
    "id": "XUDnzgfSkyV6",
    "nbpresent": {
     "id": "17c03428-cc45-4525-80b1-0db16b2c8712"
    },
    "slideshow": {
     "slide_type": "slide"
    }
   },
   "source": [
    "A useful recipe for statistical applications is to combine **`get_dummies`** with a discretization function like **`cut`**:"
   ]
  },
  {
   "cell_type": "code",
   "execution_count": null,
   "metadata": {
    "colab": {},
    "colab_type": "code",
    "collapsed": true,
    "id": "6RHl1JQ_kyV6",
    "nbpresent": {
     "id": "fee32225-219f-4368-b3c7-1dfaed4c5700"
    }
   },
   "outputs": [],
   "source": [
    "values = np.random.rand(10)\n",
    "values \n",
    "\n",
    "bins = [0, 0.2, 0.4, 0.6, 0.8, 1]\n",
    "pd.get_dummies(pd.cut(values, bins))"
   ]
  },
  {
   "cell_type": "markdown",
   "metadata": {
    "slideshow": {
     "slide_type": "slide"
    }
   },
   "source": [
    "# 8. Importing files from the web\n",
    "\n",
    "Let's import your first file from the web! The flat file you will import will be 'winequality-red.csv' from the University of California, Irvine's Machine Learning repository. The flat file contains tabular data of physiochemical properties of red wine, such as pH, alcohol content and citric acid content, along with wine quality rating.\n",
    "\n",
    "The URL of the file is\n",
    "\n",
    "    'https://archive.ics.uci.edu/ml/machine-learning-databases/wine-quality/winequality-red.csv'\n",
    "\n",
    "After you import it, you'll check your working directory to confirm that it is there and then you'll load it into a pandas DataFrame."
   ]
  },
  {
   "cell_type": "markdown",
   "metadata": {
    "slideshow": {
     "slide_type": "slide"
    }
   },
   "source": [
    "To imported winequality-red.csv from archive.ics.uci.edu, save it locally and load it into a DataFrame:"
   ]
  },
  {
   "cell_type": "code",
   "execution_count": 23,
   "metadata": {
    "slideshow": {
     "slide_type": "slide"
    }
   },
   "outputs": [
    {
     "name": "stdout",
     "output_type": "stream",
     "text": [
      "   fixed acidity  volatile acidity  citric acid  residual sugar  chlorides  \\\n",
      "0            7.4              0.70         0.00             1.9      0.076   \n",
      "1            7.8              0.88         0.00             2.6      0.098   \n",
      "2            7.8              0.76         0.04             2.3      0.092   \n",
      "3           11.2              0.28         0.56             1.9      0.075   \n",
      "4            7.4              0.70         0.00             1.9      0.076   \n",
      "\n",
      "   free sulfur dioxide  total sulfur dioxide  density    pH  sulphates  \\\n",
      "0                 11.0                  34.0   0.9978  3.51       0.56   \n",
      "1                 25.0                  67.0   0.9968  3.20       0.68   \n",
      "2                 15.0                  54.0   0.9970  3.26       0.65   \n",
      "3                 17.0                  60.0   0.9980  3.16       0.58   \n",
      "4                 11.0                  34.0   0.9978  3.51       0.56   \n",
      "\n",
      "   alcohol  quality  \n",
      "0      9.4        5  \n",
      "1      9.8        5  \n",
      "2      9.8        5  \n",
      "3      9.8        6  \n",
      "4      9.4        5  \n"
     ]
    }
   ],
   "source": [
    "# Import package\n",
    "from urllib.request import urlretrieve\n",
    "\n",
    "# Import pandas\n",
    "import pandas as pd\n",
    "\n",
    "# Assign url of file: url\n",
    "url = 'https://archive.ics.uci.edu/ml/machine-learning-databases/wine-quality/winequality-red.csv'\n",
    "\n",
    "# Save file locally\n",
    "urlretrieve(url,'winequality-red.csv')\n",
    "\n",
    "# Read file into a DataFrame and print its head\n",
    "df = pd.read_csv('winequality-red.csv', sep=';')\n",
    "print(df.head())"
   ]
  },
  {
   "cell_type": "markdown",
   "metadata": {},
   "source": [
    "If you just wanted to load a file from the web into a DataFrame without first saving it locally, you can use the function **`pd.read_csv()`** with the URL as the first argument and the separator sep as the second argument:\n",
    "\n",
    "The URL of the file, once again, is\n",
    "    'https://archive.ics.uci.edu/ml/machine-learning-databases/wine-quality/winequality-red.csv'"
   ]
  },
  {
   "cell_type": "code",
   "execution_count": 16,
   "metadata": {
    "scrolled": true
   },
   "outputs": [
    {
     "name": "stdout",
     "output_type": "stream",
     "text": [
      "   fixed acidity  volatile acidity  citric acid  residual sugar  chlorides  \\\n",
      "0            7.4              0.70         0.00             1.9      0.076   \n",
      "1            7.8              0.88         0.00             2.6      0.098   \n",
      "2            7.8              0.76         0.04             2.3      0.092   \n",
      "3           11.2              0.28         0.56             1.9      0.075   \n",
      "4            7.4              0.70         0.00             1.9      0.076   \n",
      "\n",
      "   free sulfur dioxide  total sulfur dioxide  density    pH  sulphates  \\\n",
      "0                 11.0                  34.0   0.9978  3.51       0.56   \n",
      "1                 25.0                  67.0   0.9968  3.20       0.68   \n",
      "2                 15.0                  54.0   0.9970  3.26       0.65   \n",
      "3                 17.0                  60.0   0.9980  3.16       0.58   \n",
      "4                 11.0                  34.0   0.9978  3.51       0.56   \n",
      "\n",
      "   alcohol  quality  \n",
      "0      9.4        5  \n",
      "1      9.8        5  \n",
      "2      9.8        5  \n",
      "3      9.8        6  \n",
      "4      9.4        5  \n"
     ]
    },
    {
     "data": {
      "image/png": "[encoded data removed]",
      "text/plain": [
       "<Figure size 432x288 with 1 Axes>"
      ]
     },
     "metadata": {
      "needs_background": "light"
     },
     "output_type": "display_data"
    }
   ],
   "source": [
    "# Import packages\n",
    "import matplotlib.pyplot as plt\n",
    "import pandas as pd\n",
    "\n",
    "# Assign url of file: url\n",
    "url = 'https://archive.ics.uci.edu/ml/machine-learning-databases/wine-quality/winequality-red.csv'\n",
    "\n",
    "# Read file into a DataFrame: df\n",
    "df = pd.read_csv(url,sep=';')\n",
    "\n",
    "# Print the head of the DataFrame\n",
    "print(df.head())\n",
    "\n",
    "# Plot first column of df\n",
    "pd.DataFrame.hist(df.iloc[:, 0:1])\n",
    "plt.xlabel('fixed acidity (g(tartaric acid)/dm$^3$)')\n",
    "plt.ylabel('count')\n",
    "plt.show()"
   ]
  },
  {
   "cell_type": "markdown",
   "metadata": {
    "slideshow": {
     "slide_type": "slide"
    }
   },
   "source": [
    "You can use **`pd.read_excel()`** to import an Excel spreadsheet either saved locally or from the web. For example, feeding the following URL to **`pd.read_excel()`** you can read in all of its sheets, print the sheet names and print the head of the first sheet using its name, not its index.\n",
    "\n",
    "The URL of the spreadsheet is\n",
    "    'http://www.cse.ohio-state.edu/~hwshen/Melbourne/Data/Superstore.xlsx'\n",
    "\n",
    "*Note that the output of **`pd.read_excel()`** is a Python dictionary with sheet names as keys and corresponding DataFrames as corresponding values."
   ]
  },
  {
   "cell_type": "code",
   "execution_count": 27,
   "metadata": {
    "slideshow": {
     "slide_type": "slide"
    }
   },
   "outputs": [
    {
     "name": "stdout",
     "output_type": "stream",
     "text": [
      "dict_keys(['Orders', 'Returns', 'Users'])\n",
      "   Row ID Order Priority  Discount  Unit Price  Shipping Cost  Customer ID  \\\n",
      "0   18606  Not Specified      0.01        2.88           0.50            2   \n",
      "1   20847           High      0.01        2.84           0.93            3   \n",
      "2   23086  Not Specified      0.03        6.68           6.15            3   \n",
      "3   23087  Not Specified      0.01        5.68           3.60            3   \n",
      "4   23088  Not Specified      0.00      205.99           2.50            3   \n",
      "\n",
      "     Customer Name    Ship Mode Customer Segment Product Category  ...  \\\n",
      "0  Janice Fletcher  Regular Air        Corporate  Office Supplies  ...   \n",
      "1    Bonnie Potter  Express Air        Corporate  Office Supplies  ...   \n",
      "2    Bonnie Potter  Express Air        Corporate  Office Supplies  ...   \n",
      "3    Bonnie Potter  Regular Air        Corporate  Office Supplies  ...   \n",
      "4    Bonnie Potter  Express Air        Corporate       Technology  ...   \n",
      "\n",
      "    Region State or Province       City  Postal Code Order Date  Ship Date  \\\n",
      "0  Central          Illinois    Addison        60101 2012-05-28 2012-05-30   \n",
      "1     West        Washington  Anacortes        98221 2010-07-07 2010-07-08   \n",
      "2     West        Washington  Anacortes        98221 2011-07-27 2011-07-28   \n",
      "3     West        Washington  Anacortes        98221 2011-07-27 2011-07-28   \n",
      "4     West        Washington  Anacortes        98221 2011-07-27 2011-07-27   \n",
      "\n",
      "     Profit  Quantity ordered new    Sales Order ID  \n",
      "0    1.3200                     2     5.90    88525  \n",
      "1    4.5600                     4    13.01    88522  \n",
      "2  -47.6400                     7    49.92    88523  \n",
      "3  -30.5100                     7    41.64    88523  \n",
      "4  998.2023                     8  1446.67    88523  \n",
      "\n",
      "[5 rows x 24 columns]\n"
     ]
    }
   ],
   "source": [
    "# Import package\n",
    "import pandas as pd\n",
    "\n",
    "# Assign url of file: url\n",
    "url = 'http://www.cse.ohio-state.edu/~hwshen/Melbourne/Data/Superstore.xlsx'\n",
    "\n",
    "# Read in all sheets of Excel file: xl\n",
    "xl = pd.read_excel(url,sheet_name=None)\n",
    "\n",
    "# Print the sheetnames to the shell\n",
    "print(xl.keys())\n",
    "\n",
    "# Print the head of the first sheet (using its name, NOT its index)\n",
    "print(xl['Orders'].head())"
   ]
  },
  {
   "cell_type": "markdown",
   "metadata": {},
   "source": [
    "# 9. HTTP requests in Python\n",
    "\n",
    "To get the files directly loaded into a pandas' DataFrame, pandas does HTTP GET requests to get the files and load them into memory. \n",
    "\n",
    "In this part of the lesson, we do our own HTTP requests. First, let's ping python.org servers to perform a GET request to extract information from: \"https://www.python.org/~guido/\"."
   ]
  },
  {
   "cell_type": "code",
   "execution_count": 28,
   "metadata": {
    "scrolled": true
   },
   "outputs": [
    {
     "name": "stdout",
     "output_type": "stream",
     "text": [
      "<class 'http.client.HTTPResponse'>\n"
     ]
    }
   ],
   "source": [
    "# Import packages\n",
    "from urllib.request import urlopen,Request\n",
    "\n",
    "# Specify the url\n",
    "url = \"https://www.python.org/~guido/\"\n",
    "\n",
    "# This packages the request: request\n",
    "request = Request(url)\n",
    "\n",
    "# Sends the request and catches the response: response\n",
    "response = urlopen(request)\n",
    "\n",
    "# Print the datatype of response\n",
    "print(type(response))\n",
    "\n",
    "# Be polite and close the response!\n",
    "response.close()"
   ]
  },
  {
   "cell_type": "markdown",
   "metadata": {
    "slideshow": {
     "slide_type": "slide"
    }
   },
   "source": [
    "We just packaged and sent a GET request to \"https://www.python.org/~guido/\" and then caught the response. \n",
    "\n",
    "The response is a **`http.client.HTTPResponse`** object. Since the response came from an HTML page, you could read the response to extract the HTML. The **`http.client.HTTPResponse`** object has an associated **`read()`** method that facilitates this."
   ]
  },
  {
   "cell_type": "code",
   "execution_count": 29,
   "metadata": {},
   "outputs": [
    {
     "name": "stdout",
     "output_type": "stream",
     "text": [
      "b'<HTML>\\n\\n<HEAD>\\n<TITLE>Guido\\'s Personal Home Page</TITLE>\\n</HEAD>\\n\\n<BODY BGCOLOR=\"#FFFFFF\" TEXT=\"#000000\">\\n\\n<H1>\\n<a href=\"pics.html\"><img border=\"0\" src=\"images/IMG_2192.jpg\"></a>\\nGuido van Rossum - Personal Home Page\\n<a href=\"pics.html\"><img border=0 width=270 height=216 src=\"images/guido-headshot-2019.jpg\"></a>\\n</H1>\\n\\n<P><A\\nHREF=\"http://www.washingtonpost.com/wp-srv/business/longterm/microsoft/stories/1998/raymond120398.htm\" \\n><i>\"Gawky and proud of it.\"</i></A>\\n\\n\\n<H3><a href=\"images/df20000406.jpg\" >Who I Am</a></H3>\\n\\n<p>Read\\nmy <a href=\"http://neopythonic.blogspot.com/2016/04/kings-day-speech.html\">\"King\\'s\\nDay Speech\"</a> for some inspiration.\\n\\n<P>I am the author of the <A HREF=\"http://www.python.org\" >Python</A>\\nprogramming language.  See also my <A HREF=\"Resume.html\">resume</A>\\nand my <A HREF=\"Publications.html\">publications list</A>, a <A\\nHREF=\"bio.html\" >brief bio</A>, assorted <a\\nhref=\"http://legacy.python.org/doc/essays/\">writings</a>, <a\\nhref=\"http://legacy.python.org/doc/essays/ppt/\">presentations</a> and <a\\nhref=\"interviews.html\">interviews</a> (all about Python), some\\n<a href=\"pics.html\">pictures of me</a>,\\n<a href=\"http://neopythonic.blogspot.com\">my new blog</a>, and\\nmy <a href=\"http://www.artima.com/weblogs/index.jsp?blogger=12088\">old\\nblog</a> on Artima.com.  I am\\n<a href=https://twitter.com/gvanrossum>@gvanrossum</a> on Twitter.\\n\\n<p>I am retired, working on personal projects (and maybe a book).\\nI have worked for Dropbox, Google, Elemental Security, Zope\\nCorporation, BeOpen.com, CNRI, CWI, and SARA.  (See\\nmy <a href=Resume.html>resume</a>.)  I created Python while at CWI.\\n\\n<H3>How to Reach Me</H3>\\n\\n<P>You can send email for me to guido (at) python.org.\\nI read everything sent there, but I receive too much email to respond\\nto everything.\\n\\n<H3>My Name</H3>\\n\\n<P>My name often poses difficulties for Americans.\\n\\n<P><b>Pronunciation:</b> in Dutch, the \"G\" in Guido is a hard G,\\npronounced roughly like the \"ch\" in Scottish \"loch\".  (Listen to the\\n<A HREF=\"guido.au\">sound clip</A>.)  However, if you\\'re\\nAmerican, you may also pronounce it as the Italian \"Guido\".  I\\'m not\\ntoo worried about the associations with mob assassins that some people\\nhave. :-)\\n\\n<P><b>Spelling:</b> my last name is two words, and I\\'d like to keep it\\nthat way, the spelling on some of my credit cards notwithstanding.\\nDutch spelling rules dictate that when used in combination with my\\nfirst name, \"van\" is not capitalized: \"Guido van Rossum\".  But when my\\nlast name is used alone to refer to me, it is capitalized, for\\nexample: \"As usual, Van Rossum was right.\"\\n\\n<P><b>Alphabetization:</b> in America, I show up in the alphabet under\\n\"V\".  But in Europe, I show up under \"R\".  And some of my friends put\\nme under \"G\" in their address book...\\n\\n\\n<H3>More Hyperlinks</H3>\\n\\n<UL>\\n\\n<LI>Here\\'s a collection of <A HREF =\\n\"http://legacy.python.org/doc/essays/\" >essays</A> relating to Python\\nthat I\\'ve written, including the foreword I wrote for Mark Lutz\\' book\\n\"Programming Python\".<P>\\n\\n<li>I own the official <a href=\"images/license.jpg\"><img align=\"center\"\\nborder=\"0\" width=\"100\" height=\"75\" src=\"images/license_thumb.jpg\">\\nPython license.</a><p>\\n\\n</UL>\\n\\n<H3>The Audio File Formats FAQ</H3>\\n\\n<P>I was the original creator and maintainer of the Audio File Formats\\nFAQ.  It is now maintained by Chris Bagwell\\nat <A HREF=\"http://www.cnpbagwell.com/audio-faq\"\\n>http://www.cnpbagwell.com/audio-faq</A>.  And here is a link to\\n<a href=http://sox.sourceforge.net/>SOX</a>, to which I contributed\\nsome early code.\\n\\n</UL>\\n\\n<HR>\\n\\n<A HREF=\"images/internetdog.gif\">\"On the Internet, nobody knows you\\'re\\na dog.\"</A>\\n\\n<HR>\\n\\n</BODY>\\n'\n"
     ]
    }
   ],
   "source": [
    "# Import packages\n",
    "from urllib.request import urlopen, Request\n",
    "\n",
    "# Specify the url\n",
    "url = \"https://www.python.org/~guido/\"\n",
    "\n",
    "# This packages the request\n",
    "request = Request(url)\n",
    "\n",
    "# Sends the request and catches the response: response\n",
    "response = urlopen(request)\n",
    "\n",
    "# Extract the response: html\n",
    "html = response.read()\n",
    "\n",
    "# Print the html\n",
    "print(html)\n",
    "\n",
    "# Be polite and close the response!\n",
    "response.close()"
   ]
  },
  {
   "cell_type": "markdown",
   "metadata": {
    "slideshow": {
     "slide_type": "slide"
    }
   },
   "source": [
    "### HTTP requests using requests\n",
    "\n",
    "There are different libraries in Python to handle HTTP requests. **`requests`** is a higher-level requests library. With **`requests`**, you don't have to close the connection:"
   ]
  },
  {
   "cell_type": "code",
   "execution_count": 30,
   "metadata": {
    "slideshow": {
     "slide_type": "slide"
    }
   },
   "outputs": [
    {
     "name": "stdout",
     "output_type": "stream",
     "text": [
      "<HTML>\n",
      "\n",
      "<HEAD>\n",
      "<TITLE>Guido's Personal Home Page</TITLE>\n",
      "</HEAD>\n",
      "\n",
      "<BODY BGCOLOR=\"#FFFFFF\" TEXT=\"#000000\">\n",
      "\n",
      "<H1>\n",
      "<a href=\"pics.html\"><img border=\"0\" src=\"images/IMG_2192.jpg\"></a>\n",
      "Guido van Rossum - Personal Home Page\n",
      "<a href=\"pics.html\"><img border=0 width=270 height=216 src=\"images/guido-headshot-2019.jpg\"></a>\n",
      "</H1>\n",
      "\n",
      "<P><A\n",
      "HREF=\"http://www.washingtonpost.com/wp-srv/business/longterm/microsoft/stories/1998/raymond120398.htm\" \n",
      "><i>\"Gawky and proud of it.\"</i></A>\n",
      "\n",
      "\n",
      "<H3><a href=\"images/df20000406.jpg\" >Who I Am</a></H3>\n",
      "\n",
      "<p>Read\n",
      "my <a href=\"http://neopythonic.blogspot.com/2016/04/kings-day-speech.html\">\"King's\n",
      "Day Speech\"</a> for some inspiration.\n",
      "\n",
      "<P>I am the author of the <A HREF=\"http://www.python.org\" >Python</A>\n",
      "programming language.  See also my <A HREF=\"Resume.html\">resume</A>\n",
      "and my <A HREF=\"Publications.html\">publications list</A>, a <A\n",
      "HREF=\"bio.html\" >brief bio</A>, assorted <a\n",
      "href=\"http://legacy.python.org/doc/essays/\">writings</a>, <a\n",
      "href=\"http://legacy.python.org/doc/essays/ppt/\">presentations</a> and <a\n",
      "href=\"interviews.html\">interviews</a> (all about Python), some\n",
      "<a href=\"pics.html\">pictures of me</a>,\n",
      "<a href=\"http://neopythonic.blogspot.com\">my new blog</a>, and\n",
      "my <a href=\"http://www.artima.com/weblogs/index.jsp?blogger=12088\">old\n",
      "blog</a> on Artima.com.  I am\n",
      "<a href=https://twitter.com/gvanrossum>@gvanrossum</a> on Twitter.\n",
      "\n",
      "<p>I am retired, working on personal projects (and maybe a book).\n",
      "I have worked for Dropbox, Google, Elemental Security, Zope\n",
      "Corporation, BeOpen.com, CNRI, CWI, and SARA.  (See\n",
      "my <a href=Resume.html>resume</a>.)  I created Python while at CWI.\n",
      "\n",
      "<H3>How to Reach Me</H3>\n",
      "\n",
      "<P>You can send email for me to guido (at) python.org.\n",
      "I read everything sent there, but I receive too much email to respond\n",
      "to everything.\n",
      "\n",
      "<H3>My Name</H3>\n",
      "\n",
      "<P>My name often poses difficulties for Americans.\n",
      "\n",
      "<P><b>Pronunciation:</b> in Dutch, the \"G\" in Guido is a hard G,\n",
      "pronounced roughly like the \"ch\" in Scottish \"loch\".  (Listen to the\n",
      "<A HREF=\"guido.au\">sound clip</A>.)  However, if you're\n",
      "American, you may also pronounce it as the Italian \"Guido\".  I'm not\n",
      "too worried about the associations with mob assassins that some people\n",
      "have. :-)\n",
      "\n",
      "<P><b>Spelling:</b> my last name is two words, and I'd like to keep it\n",
      "that way, the spelling on some of my credit cards notwithstanding.\n",
      "Dutch spelling rules dictate that when used in combination with my\n",
      "first name, \"van\" is not capitalized: \"Guido van Rossum\".  But when my\n",
      "last name is used alone to refer to me, it is capitalized, for\n",
      "example: \"As usual, Van Rossum was right.\"\n",
      "\n",
      "<P><b>Alphabetization:</b> in America, I show up in the alphabet under\n",
      "\"V\".  But in Europe, I show up under \"R\".  And some of my friends put\n",
      "me under \"G\" in their address book...\n",
      "\n",
      "\n",
      "<H3>More Hyperlinks</H3>\n",
      "\n",
      "<UL>\n",
      "\n",
      "<LI>Here's a collection of <A HREF =\n",
      "\"http://legacy.python.org/doc/essays/\" >essays</A> relating to Python\n",
      "that I've written, including the foreword I wrote for Mark Lutz' book\n",
      "\"Programming Python\".<P>\n",
      "\n",
      "<li>I own the official <a href=\"images/license.jpg\"><img align=\"center\"\n",
      "border=\"0\" width=\"100\" height=\"75\" src=\"images/license_thumb.jpg\">\n",
      "Python license.</a><p>\n",
      "\n",
      "</UL>\n",
      "\n",
      "<H3>The Audio File Formats FAQ</H3>\n",
      "\n",
      "<P>I was the original creator and maintainer of the Audio File Formats\n",
      "FAQ.  It is now maintained by Chris Bagwell\n",
      "at <A HREF=\"http://www.cnpbagwell.com/audio-faq\"\n",
      ">http://www.cnpbagwell.com/audio-faq</A>.  And here is a link to\n",
      "<a href=http://sox.sourceforge.net/>SOX</a>, to which I contributed\n",
      "some early code.\n",
      "\n",
      "</UL>\n",
      "\n",
      "<HR>\n",
      "\n",
      "<A HREF=\"images/internetdog.gif\">\"On the Internet, nobody knows you're\n",
      "a dog.\"</A>\n",
      "\n",
      "<HR>\n",
      "\n",
      "</BODY>\n",
      "\n"
     ]
    }
   ],
   "source": [
    "# Import package\n",
    "import requests\n",
    "\n",
    "# Specify the url: url\n",
    "url = \"https://www.python.org/~guido/\"\n",
    "\n",
    "# Packages the request, send the request and catch the response: r\n",
    "r = requests.get(url)\n",
    "\n",
    "# Extract the response: text\n",
    "text = r.text\n",
    "\n",
    "# Print the html\n",
    "print(text)"
   ]
  },
  {
   "cell_type": "markdown",
   "metadata": {
    "slideshow": {
     "slide_type": "slide"
    }
   },
   "source": [
    "## 9.1 Webscraping HTML with BeautifulSoup\n",
    "\n",
    "Since we read the HTTP response to extract the HTML, we can parse that HTML to get data in an structure format. The BeautifulSoup library is going to help us to parse, prettify, and extract information from HTML. \n",
    "\n",
    "Lets prettify the HTML and then extract the text and the hyperlinks from the URL of interest:\n",
    "'https://www.python.org/~guido/'"
   ]
  },
  {
   "cell_type": "code",
   "execution_count": 31,
   "metadata": {
    "slideshow": {
     "slide_type": "slide"
    }
   },
   "outputs": [
    {
     "name": "stdout",
     "output_type": "stream",
     "text": [
      "<html>\n",
      " <head>\n",
      "  <title>\n",
      "   Guido's Personal Home Page\n",
      "  </title>\n",
      " </head>\n",
      " <body bgcolor=\"#FFFFFF\" text=\"#000000\">\n",
      "  <h1>\n",
      "   <a href=\"pics.html\">\n",
      "    <img border=\"0\" src=\"images/IMG_2192.jpg\"/>\n",
      "   </a>\n",
      "   Guido van Rossum - Personal Home Page\n",
      "   <a href=\"pics.html\">\n",
      "    <img border=\"0\" height=\"216\" src=\"images/guido-headshot-2019.jpg\" width=\"270\"/>\n",
      "   </a>\n",
      "  </h1>\n",
      "  <p>\n",
      "   <a href=\"http://www.washingtonpost.com/wp-srv/business/longterm/microsoft/stories/1998/raymond120398.htm\">\n",
      "    <i>\n",
      "     \"Gawky and proud of it.\"\n",
      "    </i>\n",
      "   </a>\n",
      "  </p>\n",
      "  <h3>\n",
      "   <a href=\"images/df20000406.jpg\">\n",
      "    Who I Am\n",
      "   </a>\n",
      "  </h3>\n",
      "  <p>\n",
      "   Read\n",
      "my\n",
      "   <a href=\"http://neopythonic.blogspot.com/2016/04/kings-day-speech.html\">\n",
      "    \"King's\n",
      "Day Speech\"\n",
      "   </a>\n",
      "   for some inspiration.\n",
      "  </p>\n",
      "  <p>\n",
      "   I am the author of the\n",
      "   <a href=\"http://www.python.org\">\n",
      "    Python\n",
      "   </a>\n",
      "   programming language.  See also my\n",
      "   <a href=\"Resume.html\">\n",
      "    resume\n",
      "   </a>\n",
      "   and my\n",
      "   <a href=\"Publications.html\">\n",
      "    publications list\n",
      "   </a>\n",
      "   , a\n",
      "   <a href=\"bio.html\">\n",
      "    brief bio\n",
      "   </a>\n",
      "   , assorted\n",
      "   <a href=\"http://legacy.python.org/doc/essays/\">\n",
      "    writings\n",
      "   </a>\n",
      "   ,\n",
      "   <a href=\"http://legacy.python.org/doc/essays/ppt/\">\n",
      "    presentations\n",
      "   </a>\n",
      "   and\n",
      "   <a href=\"interviews.html\">\n",
      "    interviews\n",
      "   </a>\n",
      "   (all about Python), some\n",
      "   <a href=\"pics.html\">\n",
      "    pictures of me\n",
      "   </a>\n",
      "   ,\n",
      "   <a href=\"http://neopythonic.blogspot.com\">\n",
      "    my new blog\n",
      "   </a>\n",
      "   , and\n",
      "my\n",
      "   <a href=\"http://www.artima.com/weblogs/index.jsp?blogger=12088\">\n",
      "    old\n",
      "blog\n",
      "   </a>\n",
      "   on Artima.com.  I am\n",
      "   <a href=\"https://twitter.com/gvanrossum\">\n",
      "    @gvanrossum\n",
      "   </a>\n",
      "   on Twitter.\n",
      "  </p>\n",
      "  <p>\n",
      "   I am retired, working on personal projects (and maybe a book).\n",
      "I have worked for Dropbox, Google, Elemental Security, Zope\n",
      "Corporation, BeOpen.com, CNRI, CWI, and SARA.  (See\n",
      "my\n",
      "   <a href=\"Resume.html\">\n",
      "    resume\n",
      "   </a>\n",
      "   .)  I created Python while at CWI.\n",
      "  </p>\n",
      "  <h3>\n",
      "   How to Reach Me\n",
      "  </h3>\n",
      "  <p>\n",
      "   You can send email for me to guido (at) python.org.\n",
      "I read everything sent there, but I receive too much email to respond\n",
      "to everything.\n",
      "  </p>\n",
      "  <h3>\n",
      "   My Name\n",
      "  </h3>\n",
      "  <p>\n",
      "   My name often poses difficulties for Americans.\n",
      "  </p>\n",
      "  <p>\n",
      "   <b>\n",
      "    Pronunciation:\n",
      "   </b>\n",
      "   in Dutch, the \"G\" in Guido is a hard G,\n",
      "pronounced roughly like the \"ch\" in Scottish \"loch\".  (Listen to the\n",
      "   <a href=\"guido.au\">\n",
      "    sound clip\n",
      "   </a>\n",
      "   .)  However, if you're\n",
      "American, you may also pronounce it as the Italian \"Guido\".  I'm not\n",
      "too worried about the associations with mob assassins that some people\n",
      "have. :-)\n",
      "  </p>\n",
      "  <p>\n",
      "   <b>\n",
      "    Spelling:\n",
      "   </b>\n",
      "   my last name is two words, and I'd like to keep it\n",
      "that way, the spelling on some of my credit cards notwithstanding.\n",
      "Dutch spelling rules dictate that when used in combination with my\n",
      "first name, \"van\" is not capitalized: \"Guido van Rossum\".  But when my\n",
      "last name is used alone to refer to me, it is capitalized, for\n",
      "example: \"As usual, Van Rossum was right.\"\n",
      "  </p>\n",
      "  <p>\n",
      "   <b>\n",
      "    Alphabetization:\n",
      "   </b>\n",
      "   in America, I show up in the alphabet under\n",
      "\"V\".  But in Europe, I show up under \"R\".  And some of my friends put\n",
      "me under \"G\" in their address book...\n",
      "  </p>\n",
      "  <h3>\n",
      "   More Hyperlinks\n",
      "  </h3>\n",
      "  <ul>\n",
      "   <li>\n",
      "    Here's a collection of\n",
      "    <a href=\"http://legacy.python.org/doc/essays/\">\n",
      "     essays\n",
      "    </a>\n",
      "    relating to Python\n",
      "that I've written, including the foreword I wrote for Mark Lutz' book\n",
      "\"Programming Python\".\n",
      "    <p>\n",
      "    </p>\n",
      "   </li>\n",
      "   <li>\n",
      "    I own the official\n",
      "    <a href=\"images/license.jpg\">\n",
      "     <img align=\"center\" border=\"0\" height=\"75\" src=\"images/license_thumb.jpg\" width=\"100\"/>\n",
      "     Python license.\n",
      "    </a>\n",
      "    <p>\n",
      "    </p>\n",
      "   </li>\n",
      "  </ul>\n",
      "  <h3>\n",
      "   The Audio File Formats FAQ\n",
      "  </h3>\n",
      "  <p>\n",
      "   I was the original creator and maintainer of the Audio File Formats\n",
      "FAQ.  It is now maintained by Chris Bagwell\n",
      "at\n",
      "   <a href=\"http://www.cnpbagwell.com/audio-faq\">\n",
      "    http://www.cnpbagwell.com/audio-faq\n",
      "   </a>\n",
      "   .  And here is a link to\n",
      "   <a href=\"http://sox.sourceforge.net/\">\n",
      "    SOX\n",
      "   </a>\n",
      "   , to which I contributed\n",
      "some early code.\n",
      "  </p>\n",
      "  <hr/>\n",
      "  <a href=\"images/internetdog.gif\">\n",
      "   \"On the Internet, nobody knows you're\n",
      "a dog.\"\n",
      "  </a>\n",
      "  <hr/>\n",
      " </body>\n",
      "</html>\n"
     ]
    }
   ],
   "source": [
    "# Import packages\n",
    "import requests\n",
    "from bs4 import BeautifulSoup\n",
    "\n",
    "# Specify url: url\n",
    "url = 'https://www.python.org/~guido/'\n",
    "\n",
    "# Package the request, send the request and catch the response: r\n",
    "r = requests.get(url)\n",
    "\n",
    "# Extracts the response as html: html_doc\n",
    "html_doc = r.text\n",
    "\n",
    "# Create a BeautifulSoup object from the HTML: soup\n",
    "soup = BeautifulSoup(html_doc)\n",
    "\n",
    "# Prettify the BeautifulSoup object: pretty_soup\n",
    "pretty_soup = soup.prettify()\n",
    "\n",
    "# Print the response\n",
    "print(pretty_soup)"
   ]
  },
  {
   "cell_type": "markdown",
   "metadata": {
    "slideshow": {
     "slide_type": "slide"
    }
   },
   "source": [
    "After getting the HTML, we can extract information from the HTML soup:\n",
    "\n",
    "- the **`attribute`** title can extract the title from the HTML soup.\n",
    "- The **`get_text()`** method extracts the text from the HTML soup."
   ]
  },
  {
   "cell_type": "code",
   "execution_count": 32,
   "metadata": {
    "scrolled": true
   },
   "outputs": [
    {
     "name": "stdout",
     "output_type": "stream",
     "text": [
      "<title>Guido's Personal Home Page</title>\n",
      "\n",
      "\n",
      "Guido's Personal Home Page\n",
      "\n",
      "\n",
      "\n",
      "\n",
      "Guido van Rossum - Personal Home Page\n",
      "\n",
      "\n",
      "\"Gawky and proud of it.\"\n",
      "Who I Am\n",
      "Read\n",
      "my \"King's\n",
      "Day Speech\" for some inspiration.\n",
      "\n",
      "I am the author of the Python\n",
      "programming language.  See also my resume\n",
      "and my publications list, a brief bio, assorted writings, presentations and interviews (all about Python), some\n",
      "pictures of me,\n",
      "my new blog, and\n",
      "my old\n",
      "blog on Artima.com.  I am\n",
      "@gvanrossum on Twitter.\n",
      "\n",
      "I am retired, working on personal projects (and maybe a book).\n",
      "I have worked for Dropbox, Google, Elemental Security, Zope\n",
      "Corporation, BeOpen.com, CNRI, CWI, and SARA.  (See\n",
      "my resume.)  I created Python while at CWI.\n",
      "\n",
      "How to Reach Me\n",
      "You can send email for me to guido (at) python.org.\n",
      "I read everything sent there, but I receive too much email to respond\n",
      "to everything.\n",
      "\n",
      "My Name\n",
      "My name often poses difficulties for Americans.\n",
      "\n",
      "Pronunciation: in Dutch, the \"G\" in Guido is a hard G,\n",
      "pronounced roughly like the \"ch\" in Scottish \"loch\".  (Listen to the\n",
      "sound clip.)  However, if you're\n",
      "American, you may also pronounce it as the Italian \"Guido\".  I'm not\n",
      "too worried about the associations with mob assassins that some people\n",
      "have. :-)\n",
      "\n",
      "Spelling: my last name is two words, and I'd like to keep it\n",
      "that way, the spelling on some of my credit cards notwithstanding.\n",
      "Dutch spelling rules dictate that when used in combination with my\n",
      "first name, \"van\" is not capitalized: \"Guido van Rossum\".  But when my\n",
      "last name is used alone to refer to me, it is capitalized, for\n",
      "example: \"As usual, Van Rossum was right.\"\n",
      "\n",
      "Alphabetization: in America, I show up in the alphabet under\n",
      "\"V\".  But in Europe, I show up under \"R\".  And some of my friends put\n",
      "me under \"G\" in their address book...\n",
      "\n",
      "\n",
      "More Hyperlinks\n",
      "\n",
      "Here's a collection of essays relating to Python\n",
      "that I've written, including the foreword I wrote for Mark Lutz' book\n",
      "\"Programming Python\".\n",
      "I own the official \n",
      "Python license.\n",
      "\n",
      "The Audio File Formats FAQ\n",
      "I was the original creator and maintainer of the Audio File Formats\n",
      "FAQ.  It is now maintained by Chris Bagwell\n",
      "at http://www.cnpbagwell.com/audio-faq.  And here is a link to\n",
      "SOX, to which I contributed\n",
      "some early code.\n",
      "\n",
      "\n",
      "\n",
      "\n",
      "\"On the Internet, nobody knows you're\n",
      "a dog.\"\n",
      "\n",
      "\n",
      "\n"
     ]
    }
   ],
   "source": [
    "# Import packages\n",
    "import requests\n",
    "from bs4 import BeautifulSoup\n",
    "\n",
    "# Specify url: url\n",
    "url = 'https://www.python.org/~guido/'\n",
    "\n",
    "# Package the request, send the request and catch the response: r\n",
    "r = requests.get(url)\n",
    "\n",
    "# Extract the response as html: html_doc\n",
    "html_doc = r.text\n",
    "\n",
    "# Create a BeautifulSoup object from the HTML: soup\n",
    "soup = BeautifulSoup(html_doc)\n",
    "\n",
    "# Get the title of Guido's webpage: guido_title\n",
    "guido_title = soup.title\n",
    "\n",
    "# Print the title of Guido's webpage to the shell\n",
    "print(guido_title)\n",
    "\n",
    "# Get Guido's text: guido_text\n",
    "guido_text = soup.get_text()\n",
    "\n",
    "# Print Guido's text to the shell\n",
    "print(guido_text)"
   ]
  },
  {
   "cell_type": "markdown",
   "metadata": {
    "slideshow": {
     "slide_type": "slide"
    }
   },
   "source": [
    "- We can use the method **`find_all()`** to find all hyperlinks in soup, remembering that hyperlinks are defined by the HTML tag **`<a>`**.\n",
    "- The method **`get('href')`** would help us to get the actual URLs of the hyperlinks."
   ]
  },
  {
   "cell_type": "code",
   "execution_count": 33,
   "metadata": {
    "slideshow": {
     "slide_type": "slide"
    }
   },
   "outputs": [
    {
     "name": "stdout",
     "output_type": "stream",
     "text": [
      "<title>Guido's Personal Home Page</title>\n",
      "pics.html\n",
      "pics.html\n",
      "http://www.washingtonpost.com/wp-srv/business/longterm/microsoft/stories/1998/raymond120398.htm\n",
      "images/df20000406.jpg\n",
      "http://neopythonic.blogspot.com/2016/04/kings-day-speech.html\n",
      "http://www.python.org\n",
      "Resume.html\n",
      "Publications.html\n",
      "bio.html\n",
      "http://legacy.python.org/doc/essays/\n",
      "http://legacy.python.org/doc/essays/ppt/\n",
      "interviews.html\n",
      "pics.html\n",
      "http://neopythonic.blogspot.com\n",
      "http://www.artima.com/weblogs/index.jsp?blogger=12088\n",
      "https://twitter.com/gvanrossum\n",
      "Resume.html\n",
      "guido.au\n",
      "http://legacy.python.org/doc/essays/\n",
      "images/license.jpg\n",
      "http://www.cnpbagwell.com/audio-faq\n",
      "http://sox.sourceforge.net/\n",
      "images/internetdog.gif\n"
     ]
    }
   ],
   "source": [
    "# Import packages\n",
    "import requests\n",
    "from bs4 import BeautifulSoup\n",
    "\n",
    "# Specify url\n",
    "url = 'https://www.python.org/~guido/'\n",
    "\n",
    "# Package the request, send the request and catch the response: r\n",
    "r = requests.get(url)\n",
    "\n",
    "# Extracts the response as html: html_doc\n",
    "html_doc = r.text\n",
    "\n",
    "# create a BeautifulSoup object from the HTML: soup\n",
    "soup = BeautifulSoup(html_doc)\n",
    "\n",
    "# Print the title of Guido's webpage\n",
    "print(soup.title)\n",
    "\n",
    "# Find all 'a' tags (which define hyperlinks): a_tags\n",
    "a_tags = soup.find_all('a')\n",
    "\n",
    "# Print the URLs to the shell\n",
    "for link in a_tags:\n",
    "    print(link.get('href'))"
   ]
  },
  {
   "cell_type": "markdown",
   "metadata": {
    "slideshow": {
     "slide_type": "slide"
    }
   },
   "source": [
    "# 10. API requests\n",
    "\n",
    "<img src=\"./images/API-page-graphic.png\" height=\"80%\" width=\"80%\"></img>\n",
    "\n",
    "> *An API is a set of definitions and protocols for building and integrating application software. API stands for application programming interface.*\n",
    "\n",
    "> *APIs let your product or service communicate with other products and services without having to know how they’re implemented. This can simplify app development, saving time and money. When you’re designing new tools and products—or managing existing ones—APIs give you flexibility; simplify design, administration, and use; and provide opportunities for innovation.*\n",
    "\n",
    "> *APIs are sometimes thought of as contracts, with documentation that represents an agreement between parties: If party 1 sends a remote request structured a particular way, this is how party 2’s software will respond.*\n",
    "\n",
    "> *Web APIs typically use HTTP for request messages and provide a definition of the structure of response messages. These response messages usually take the form of an XML or JSON file. Both XML and JSON are preferred formats because they present data in a way that’s easy for other apps to manipulate.* [redhat.com](https://www.redhat.com/en/topics/api/what-are-application-programming-interfaces)"
   ]
  },
  {
   "cell_type": "markdown",
   "metadata": {
    "slideshow": {
     "slide_type": "slide"
    }
   },
   "source": [
    "The two major standards for APIs are:\n",
    "\n",
    "- SOAP (Simple Object Access Protocol) is an interface to communicate and exchange data over HTTP and SMTP using structured data XML (Extensible Markup Language)\n",
    "- REST (Representational State Transfer):\n",
    "> *Web APIs that adhere to the REST architectural constraints are called RESTful APIs. REST differs from SOAP in a fundamental way: SOAP is a protocol, whereas REST is an architectural style. This means that there’s no official standard for RESTful web APIs.* [redhat.com](https://www.redhat.com/en/topics/api/what-are-application-programming-interfaces)\n"
   ]
  },
  {
   "cell_type": "markdown",
   "metadata": {
    "slideshow": {
     "slide_type": "slide"
    }
   },
   "source": [
    "<img src=\"./images/APIs_protocols_popularity.png\" height=\"80%\" width=\"80%\"><a href=\"https://trends.google.com/trends/explore?date=2004-01-10%202020-10-15&q=GraphQL,REST%20API,OData,WSDL,gRPC\">See the updated trend.</a></img>\n",
    "\n",
    "Since REST APIs are the most popular APIs and they realy on the JSON data format to send and receive messages, we are going to first explore how to load a JSON file, which python interprets as a dictionary."
   ]
  },
  {
   "cell_type": "code",
   "execution_count": null,
   "metadata": {
    "colab_type": "text",
    "id": "QbBHIxmj-nCl",
    "nbpresent": {
     "id": "b4148a73-7992-4183-a957-97fbfaf17acd"
    },
    "slideshow": {
     "slide_type": "slide"
    }
   },
   "outputs": [],
   "source": [
    "import json\n",
    "\n",
    "# Load JSON: json_data\n",
    "with open(\"a_movie.json\") as json_file:\n",
    "    json_data = json.load(json_file)\n",
    "\n",
    "# Print each key-value pair in json_data\n",
    "for k in json_data.keys():\n",
    "    print(k + ': ', json_data[k])"
   ]
  },
  {
   "cell_type": "markdown",
   "metadata": {},
   "source": [
    "## 10.1 API Request with Authentication\n",
    "\n",
    "Let's make an API requests to the Open Movie Database (OMDB) to search for the movie \"The Social Network\":\n",
    "\n",
    "- Import the requests package.\n",
    "- The URL to query is: \n",
    "        'http://www.omdbapi.com'\n",
    "- The Open Movie Database (OMDB) requires to provide to register for an **`apikey`** to use their RESTful web service. You can register [here](https://www.omdbapi.com/apikey.aspx).\n",
    "- The query string should have two arguments: `apikey=your_api_key` and `t=movie+name`. You can combine them as follows:\n",
    "`apikey=72bc447a&t=the+social+network`."
   ]
  },
  {
   "cell_type": "code",
   "execution_count": 35,
   "metadata": {
    "slideshow": {
     "slide_type": "slide"
    }
   },
   "outputs": [
    {
     "name": "stdout",
     "output_type": "stream",
     "text": [
      "{\"Title\":\"The Social Network\",\"Year\":\"2010\",\"Rated\":\"PG-13\",\"Released\":\"01 Oct 2010\",\"Runtime\":\"120 min\",\"Genre\":\"Biography, Drama\",\"Director\":\"David Fincher\",\"Writer\":\"Aaron Sorkin (screenplay), Ben Mezrich (book)\",\"Actors\":\"Jesse Eisenberg, Rooney Mara, Bryan Barter, Dustin Fitzsimons\",\"Plot\":\"As Harvard student Mark Zuckerberg creates the social networking site that would become known as Facebook, he is sued by the twins who claimed he stole their idea, and by the co-founder who was later squeezed out of the business.\",\"Language\":\"English, French\",\"Country\":\"USA\",\"Awards\":\"Won 3 Oscars. Another 171 wins & 184 nominations.\",\"Poster\":\"https://m.media-amazon.com/images/M/MV5BOGUyZDUxZjEtMmIzMC00MzlmLTg4MGItZWJmMzBhZjE0Mjc1XkEyXkFqcGdeQXVyMTMxODk2OTU@._V1_SX300.jpg\",\"Ratings\":[{\"Source\":\"Internet Movie Database\",\"Value\":\"7.7/10\"},{\"Source\":\"Rotten Tomatoes\",\"Value\":\"96%\"},{\"Source\":\"Metacritic\",\"Value\":\"95/100\"}],\"Metascore\":\"95\",\"imdbRating\":\"7.7\",\"imdbVotes\":\"611,384\",\"imdbID\":\"tt1285016\",\"Type\":\"movie\",\"DVD\":\"N/A\",\"BoxOffice\":\"N/A\",\"Production\":\"Scott Rudin Productions, Trigger Street Productions, Michael De Luca\",\"Website\":\"N/A\",\"Response\":\"True\"}\n"
     ]
    }
   ],
   "source": [
    "# Import requests package\n",
    "import requests\n",
    "\n",
    "# Assign URL to variable: url\n",
    "url = 'http://www.omdbapi.com?apikey=72bc447a&t=the+social+network'\n",
    "\n",
    "# Package the request, send the request and catch the response: r\n",
    "r = requests.get(url)\n",
    "\n",
    "# Print the text of the response\n",
    "print(r.text)"
   ]
  },
  {
   "cell_type": "markdown",
   "metadata": {
    "slideshow": {
     "slide_type": "slide"
    }
   },
   "source": [
    "Above, we just printed the text of the HTTP response. The response is actually a JSON, so you can do one step better and decode the JSON data into a dictionary:"
   ]
  },
  {
   "cell_type": "code",
   "execution_count": 36,
   "metadata": {
    "slideshow": {
     "slide_type": "slide"
    }
   },
   "outputs": [
    {
     "name": "stdout",
     "output_type": "stream",
     "text": [
      "Title:  The Social Network\n",
      "Year:  2010\n",
      "Rated:  PG-13\n",
      "Released:  01 Oct 2010\n",
      "Runtime:  120 min\n",
      "Genre:  Biography, Drama\n",
      "Director:  David Fincher\n",
      "Writer:  Aaron Sorkin (screenplay), Ben Mezrich (book)\n",
      "Actors:  Jesse Eisenberg, Rooney Mara, Bryan Barter, Dustin Fitzsimons\n",
      "Plot:  As Harvard student Mark Zuckerberg creates the social networking site that would become known as Facebook, he is sued by the twins who claimed he stole their idea, and by the co-founder who was later squeezed out of the business.\n",
      "Language:  English, French\n",
      "Country:  USA\n",
      "Awards:  Won 3 Oscars. Another 171 wins & 184 nominations.\n",
      "Poster:  https://m.media-amazon.com/images/M/MV5BOGUyZDUxZjEtMmIzMC00MzlmLTg4MGItZWJmMzBhZjE0Mjc1XkEyXkFqcGdeQXVyMTMxODk2OTU@._V1_SX300.jpg\n",
      "Ratings:  [{'Source': 'Internet Movie Database', 'Value': '7.7/10'}, {'Source': 'Rotten Tomatoes', 'Value': '96%'}, {'Source': 'Metacritic', 'Value': '95/100'}]\n",
      "Metascore:  95\n",
      "imdbRating:  7.7\n",
      "imdbVotes:  611,384\n",
      "imdbID:  tt1285016\n",
      "Type:  movie\n",
      "DVD:  N/A\n",
      "BoxOffice:  N/A\n",
      "Production:  Scott Rudin Productions, Trigger Street Productions, Michael De Luca\n",
      "Website:  N/A\n",
      "Response:  True\n"
     ]
    }
   ],
   "source": [
    "# Import package\n",
    "import requests\n",
    "\n",
    "# Assign URL to variable: url\n",
    "url = 'http://www.omdbapi.com/?apikey=72bc447a&t=social+network'\n",
    "\n",
    "# Package the request, send the request and catch the response: r\n",
    "r = requests.get(url)\n",
    "\n",
    "# Decode the JSON data into a dictionary: json_data\n",
    "json_data = r.json()\n",
    "\n",
    "# Print each key-value pair in json_data\n",
    "for k in json_data.keys():\n",
    "    print(k + ': ', json_data[k])"
   ]
  },
  {
   "cell_type": "markdown",
   "metadata": {
    "slideshow": {
     "slide_type": "slide"
    }
   },
   "source": [
    "## 10.2 API Request without authentication\n",
    "\n",
    "The Open Movie Database (OMDB) returned a simple JSON. However, there are other APIs that are going to return nested JSONs, that is, JSONs within JSONs, but Python can handle that because it will translate them into dictionaries within dictionaries.\n",
    "\n",
    "For example, let's make a request to the Wikipedia API searching for \"University College London\"\n",
    "The URL that requests the relevant query from the Wikipedia API is:\n",
    "    \n",
    "    - https://en.wikipedia.org/w/api.php?action=query&prop=extracts&format=json&exintro=&titles=University+College+London\n"
   ]
  },
  {
   "cell_type": "code",
   "execution_count": 47,
   "metadata": {
    "slideshow": {
     "slide_type": "slide"
    }
   },
   "outputs": [
    {
     "name": "stdout",
     "output_type": "stream",
     "text": [
      "<p class=\"mw-empty-elt\">\n",
      "\n",
      "</p>\n",
      "<p><b>University College London</b>, officially known as <b>UCL</b> since 2005, is a public research university located in London, England. It is a member institution of the federal University of London, and is the largest university in the United Kingdom by total enrolment apart from the Open University, and the largest by postgraduate enrolment.\n",
      "</p><p>Established in 1826 as <b>London University</b> by founders inspired by the radical ideas of Jeremy Bentham, UCL was the first university institution to be established in London, and the first in England to be entirely secular and to admit students regardless of their religion. UCL also makes contested claims to being the third-oldest university in England and the first to admit women. In 1836 UCL became one of the two founding colleges of the University of London, which was granted a royal charter in the same year. It has grown through mergers, including with the Institute of Ophthalmology (in 1995), the Institute of Neurology (in 1997), the Royal Free Hospital Medical School (in 1998), the Eastman Dental Institute (in 1999), the School of Slavonic and East European Studies (in 1999), the School of Pharmacy (in 2012) and the Institute of Education (in 2014).\n",
      "</p><p>UCL has its main campus in the Bloomsbury area of central London, with a number of institutes and teaching hospitals elsewhere in central London and satellite campuses in Queen Elizabeth Olympic Park in Stratford, east London and in Doha, Qatar. UCL is organised into 11 constituent faculties, within which there are over 100 departments, institutes and research centres. UCL operates several museums and collections in a wide range of fields, including the Petrie Museum of Egyptian Archaeology and the Grant Museum of Zoology and Comparative Anatomy, and administers the annual Orwell Prize in political writing. In 2017/18, UCL had around 41,500 students and 15,100 staff (including around 7,100 academic staff and 840 professors) and had a total group income of £1.45 billion, of which £476.3 million was from research grants and contracts.</p><p>UCL is a member of numerous academic organisations, including the Russell Group and the League of European Research Universities, and is part of UCL Partners, the world's largest academic health science centre, and the \"golden triangle\" of research-intensive English universities.</p><p>UCL alumni include the respective \"Fathers of the Nation\" of India, Kenya and Mauritius, the founders of Ghana, modern Japan and Nigeria, the inventor of the telephone, and one of the co-discoverers of the structure of DNA. UCL academics discovered five of the naturally occurring noble gases, discovered hormones, invented the vacuum tube, and made several foundational advances in modern statistics. As of 2020, 34 Nobel Prize winners and 3 Fields medalists have been affiliated with UCL as alumni, faculty or researchers.</p>\n"
     ]
    }
   ],
   "source": [
    "# Import package\n",
    "import requests\n",
    "\n",
    "# Assign URL to variable: url\n",
    "url = \"https://en.wikipedia.org/w/api.php?action=query&prop=extracts&format=json&exintro=&titles=University+College+London\"\n",
    "\n",
    "# Package the request, send the request and catch the response: r\n",
    "r = requests.get(url)\n",
    "\n",
    "# Decode the JSON data into a dictionary: json_data\n",
    "json_data = r.json()\n",
    "\n",
    "# Print the Wikipedia page extract\n",
    "wikipedia_extract = json_data['query']['pages']['52029']['extract']\n",
    "print(wikipedia_extract)"
   ]
  },
  {
   "cell_type": "markdown",
   "metadata": {
    "slideshow": {
     "slide_type": "slide"
    }
   },
   "source": [
    "## 10.3 Get Financial Data\n",
    "\n",
    "As a final practice, let's get some financial data from Marketstack.com. First, [register to get an API access key](https://marketstack.com/product). We are going to get the` end of day` stock trading data for `Apple`, which uses the symbol `AAPL`:"
   ]
  },
  {
   "cell_type": "code",
   "execution_count": 46,
   "metadata": {
    "slideshow": {
     "slide_type": "slide"
    }
   },
   "outputs": [
    {
     "name": "stdout",
     "output_type": "stream",
     "text": [
      "{'open': 121.28, 'high': 121.548, 'low': 118.81, 'close': 119.02, 'volume': 115393808.0, 'adj_high': 121.548, 'adj_low': 118.81, 'adj_close': 119.02, 'adj_open': 121.28, 'adj_volume': 115393808.0, 'symbol': 'AAPL', 'exchange': 'XNAS', 'date': '2020-10-16T00:00:00+0000'}\n",
      "{'open': 118.72, 'high': 121.2, 'low': 118.15, 'close': 120.71, 'volume': 112559219.0, 'adj_high': 121.2, 'adj_low': 118.15, 'adj_close': 120.71, 'adj_open': 118.72, 'adj_volume': 112559219.0, 'symbol': 'AAPL', 'exchange': 'XNAS', 'date': '2020-10-15T00:00:00+0000'}\n",
      "{'open': 121.0, 'high': 123.03, 'low': 119.62, 'close': 121.19, 'volume': 151062308.0, 'adj_high': 123.03, 'adj_low': 119.62, 'adj_close': 121.19, 'adj_open': 121.0, 'adj_volume': 151062308.0, 'symbol': 'AAPL', 'exchange': 'XNAS', 'date': '2020-10-14T00:00:00+0000'}\n",
      "{'open': 125.27, 'high': 125.39, 'low': 119.65, 'close': 121.1, 'volume': 262330451.0, 'adj_high': 125.39, 'adj_low': 119.65, 'adj_close': 121.1, 'adj_open': 125.27, 'adj_volume': 262330451.0, 'symbol': 'AAPL', 'exchange': 'XNAS', 'date': '2020-10-13T00:00:00+0000'}\n",
      "{'open': 120.06, 'high': 125.18, 'low': 119.2845, 'close': 124.4, 'volume': 240226769.0, 'adj_high': 125.18, 'adj_low': 119.2845, 'adj_close': 124.4, 'adj_open': 120.06, 'adj_volume': 240226769.0, 'symbol': 'AAPL', 'exchange': 'XNAS', 'date': '2020-10-12T00:00:00+0000'}\n",
      "{'open': 115.28, 'high': 117.0, 'low': 114.92, 'close': 116.97, 'volume': 100506865.0, 'adj_high': 117.0, 'adj_low': 114.92, 'adj_close': 116.97, 'adj_open': 115.28, 'adj_volume': 100506865.0, 'symbol': 'AAPL', 'exchange': 'XNAS', 'date': '2020-10-09T00:00:00+0000'}\n",
      "{'open': 116.25, 'high': 116.4, 'low': 114.5901, 'close': 114.97, 'volume': 83477153.0, 'adj_high': 116.4, 'adj_low': 114.5901, 'adj_close': 114.97, 'adj_open': 116.25, 'adj_volume': 83477153.0, 'symbol': 'AAPL', 'exchange': 'XNAS', 'date': '2020-10-08T00:00:00+0000'}\n",
      "{'open': 114.62, 'high': 115.55, 'low': 114.13, 'close': 115.08, 'volume': 96848985.0, 'adj_high': 115.55, 'adj_low': 114.13, 'adj_close': 115.08, 'adj_open': 114.62, 'adj_volume': 96848985.0, 'symbol': 'AAPL', 'exchange': 'XNAS', 'date': '2020-10-07T00:00:00+0000'}\n",
      "{'open': 115.7, 'high': 116.12, 'low': 112.25, 'close': 113.16, 'volume': 161498212.0, 'adj_high': 116.12, 'adj_low': 112.25, 'adj_close': 113.16, 'adj_open': 115.7, 'adj_volume': 161498212.0, 'symbol': 'AAPL', 'exchange': 'XNAS', 'date': '2020-10-06T00:00:00+0000'}\n",
      "{'open': 113.91, 'high': 116.65, 'low': 113.55, 'close': 116.5, 'volume': 106243839.0, 'adj_high': 116.65, 'adj_low': 113.55, 'adj_close': 116.5, 'adj_open': 113.91, 'adj_volume': 106243839.0, 'symbol': 'AAPL', 'exchange': 'XNAS', 'date': '2020-10-05T00:00:00+0000'}\n",
      "{'open': 112.89, 'high': 115.37, 'low': 112.22, 'close': 113.02, 'volume': 144711986.0, 'adj_high': 115.37, 'adj_low': 112.22, 'adj_close': 113.02, 'adj_open': 112.89, 'adj_volume': 144711986.0, 'symbol': 'AAPL', 'exchange': 'XNAS', 'date': '2020-10-02T00:00:00+0000'}\n",
      "{'open': 117.64, 'high': 117.72, 'low': 115.83, 'close': 116.79, 'volume': 116120440.0, 'adj_high': 117.72, 'adj_low': 115.83, 'adj_close': 116.79, 'adj_open': 117.64, 'adj_volume': 116120440.0, 'symbol': 'AAPL', 'exchange': 'XNAS', 'date': '2020-10-01T00:00:00+0000'}\n",
      "{'open': 113.79, 'high': 117.26, 'low': 113.62, 'close': 115.81, 'volume': 142675184.0, 'adj_high': 117.26, 'adj_low': 113.62, 'adj_close': 115.81, 'adj_open': 113.79, 'adj_volume': 142675184.0, 'symbol': 'AAPL', 'exchange': 'XNAS', 'date': '2020-09-30T00:00:00+0000'}\n",
      "{'open': 114.55, 'high': 115.31, 'low': 113.57, 'close': 114.09, 'volume': 100060526.0, 'adj_high': 115.31, 'adj_low': 113.57, 'adj_close': 114.09, 'adj_open': 114.55, 'adj_volume': 100060526.0, 'symbol': 'AAPL', 'exchange': 'XNAS', 'date': '2020-09-29T00:00:00+0000'}\n",
      "{'open': 115.01, 'high': 115.32, 'low': 112.78, 'close': 114.96, 'volume': 137672403.0, 'adj_high': 115.32, 'adj_low': 112.78, 'adj_close': 114.96, 'adj_open': 115.01, 'adj_volume': 137672403.0, 'symbol': 'AAPL', 'exchange': 'XNAS', 'date': '2020-09-28T00:00:00+0000'}\n",
      "{'open': 108.43, 'high': 112.44, 'low': 107.67, 'close': 112.28, 'volume': 149981441.0, 'adj_high': 112.44, 'adj_low': 107.67, 'adj_close': 112.28, 'adj_open': 108.43, 'adj_volume': 149981441.0, 'symbol': 'AAPL', 'exchange': 'XNAS', 'date': '2020-09-25T00:00:00+0000'}\n",
      "{'open': 105.17, 'high': 110.25, 'low': 105.0, 'close': 108.22, 'volume': 167743349.0, 'adj_high': 110.25, 'adj_low': 105.0, 'adj_close': 108.22, 'adj_open': 105.17, 'adj_volume': 167743349.0, 'symbol': 'AAPL', 'exchange': 'XNAS', 'date': '2020-09-24T00:00:00+0000'}\n",
      "{'open': 111.62, 'high': 112.11, 'low': 106.77, 'close': 107.12, 'volume': 150718671.0, 'adj_high': 112.11, 'adj_low': 106.77, 'adj_close': 107.12, 'adj_open': 111.62, 'adj_volume': 150718671.0, 'symbol': 'AAPL', 'exchange': 'XNAS', 'date': '2020-09-23T00:00:00+0000'}\n",
      "{'open': 112.68, 'high': 112.86, 'low': 109.16, 'close': 111.81, 'volume': 183055373.0, 'adj_high': 112.86, 'adj_low': 109.16, 'adj_close': 111.81, 'adj_open': 112.68, 'adj_volume': 183055373.0, 'symbol': 'AAPL', 'exchange': 'XNAS', 'date': '2020-09-22T00:00:00+0000'}\n",
      "{'open': 104.54, 'high': 110.19, 'low': 103.1, 'close': 110.08, 'volume': 193321297.0, 'adj_high': 110.19, 'adj_low': 103.1, 'adj_close': 110.08, 'adj_open': 104.54, 'adj_volume': 193321297.0, 'symbol': 'AAPL', 'exchange': 'XNAS', 'date': '2020-09-21T00:00:00+0000'}\n",
      "{'open': 110.4, 'high': 110.88, 'low': 106.09, 'close': 106.84, 'volume': 284477372.0, 'adj_high': 110.88, 'adj_low': 106.09, 'adj_close': 106.84, 'adj_open': 110.4, 'adj_volume': 284477372.0, 'symbol': 'AAPL', 'exchange': 'XNAS', 'date': '2020-09-18T00:00:00+0000'}\n",
      "{'open': 109.72, 'high': 112.2, 'low': 108.71, 'close': 110.34, 'volume': 176909480.0, 'adj_high': 112.2, 'adj_low': 108.71, 'adj_close': 110.34, 'adj_open': 109.72, 'adj_volume': 176909480.0, 'symbol': 'AAPL', 'exchange': 'XNAS', 'date': '2020-09-17T00:00:00+0000'}\n",
      "{'open': 115.23, 'high': 116.0, 'low': 112.04, 'close': 112.13, 'volume': 154066350.0, 'adj_high': 116.0, 'adj_low': 112.04, 'adj_close': 112.13, 'adj_open': 115.23, 'adj_volume': 154066350.0, 'symbol': 'AAPL', 'exchange': 'XNAS', 'date': '2020-09-16T00:00:00+0000'}\n",
      "{'open': 118.33, 'high': 118.829, 'low': 113.61, 'close': 115.54, 'volume': 182985051.0, 'adj_high': 118.829, 'adj_low': 113.61, 'adj_close': 115.54, 'adj_open': 118.33, 'adj_volume': 182985051.0, 'symbol': 'AAPL', 'exchange': 'XNAS', 'date': '2020-09-15T00:00:00+0000'}\n",
      "{'open': 114.72, 'high': 115.93, 'low': 112.8, 'close': 115.355, 'volume': 138248838.0, 'adj_high': 115.93, 'adj_low': 112.8, 'adj_close': 115.355, 'adj_open': 114.72, 'adj_volume': 138248838.0, 'symbol': 'AAPL', 'exchange': 'XNAS', 'date': '2020-09-14T00:00:00+0000'}\n",
      "{'open': 114.57, 'high': 115.23, 'low': 110.0, 'close': 112.0, 'volume': 179376569.0, 'adj_high': 115.23, 'adj_low': 110.0, 'adj_close': 112.0, 'adj_open': 114.57, 'adj_volume': 179376569.0, 'symbol': 'AAPL', 'exchange': 'XNAS', 'date': '2020-09-11T00:00:00+0000'}\n",
      "{'open': 120.36, 'high': 120.5, 'low': 112.5, 'close': 113.49, 'volume': 182274391.0, 'adj_high': 120.5, 'adj_low': 112.5, 'adj_close': 113.49, 'adj_open': 120.36, 'adj_volume': 182274391.0, 'symbol': 'AAPL', 'exchange': 'XNAS', 'date': '2020-09-10T00:00:00+0000'}\n",
      "{'open': 117.26, 'high': 119.14, 'low': 115.26, 'close': 117.32, 'volume': 172144189.0, 'adj_high': 119.14, 'adj_low': 115.26, 'adj_close': 117.32, 'adj_open': 117.26, 'adj_volume': 172144189.0, 'symbol': 'AAPL', 'exchange': 'XNAS', 'date': '2020-09-09T00:00:00+0000'}\n",
      "{'open': 113.95, 'high': 118.99, 'low': 112.68, 'close': 112.82, 'volume': 226149287.0, 'adj_high': 118.99, 'adj_low': 112.68, 'adj_close': 112.82, 'adj_open': 113.95, 'adj_volume': 226149287.0, 'symbol': 'AAPL', 'exchange': 'XNAS', 'date': '2020-09-08T00:00:00+0000'}\n",
      "{'open': 120.07, 'high': 123.7, 'low': 110.89, 'close': 120.96, 'volume': 326926347.0, 'adj_high': 123.7, 'adj_low': 110.89, 'adj_close': 120.96, 'adj_open': 120.07, 'adj_volume': 326926347.0, 'symbol': 'AAPL', 'exchange': 'XNAS', 'date': '2020-09-04T00:00:00+0000'}\n",
      "{'open': 126.91, 'high': 128.84, 'low': 120.5, 'close': 120.88, 'volume': 250623616.0, 'adj_high': 128.84, 'adj_low': 120.5, 'adj_close': 120.88, 'adj_open': 126.91, 'adj_volume': 250623616.0, 'symbol': 'AAPL', 'exchange': 'XNAS', 'date': '2020-09-03T00:00:00+0000'}\n",
      "{'open': 137.59, 'high': 137.98, 'low': 127.0, 'close': 131.4, 'volume': 198233370.0, 'adj_high': 137.98, 'adj_low': 127.0, 'adj_close': 131.4, 'adj_open': 137.59, 'adj_volume': 198233370.0, 'symbol': 'AAPL', 'exchange': 'XNAS', 'date': '2020-09-02T00:00:00+0000'}\n",
      "{'open': 132.76, 'high': 134.8, 'low': 130.53, 'close': 134.18, 'volume': 150698946.0, 'adj_high': 134.8, 'adj_low': 130.53, 'adj_close': 134.18, 'adj_open': 132.76, 'adj_volume': 150698946.0, 'symbol': 'AAPL', 'exchange': 'XNAS', 'date': '2020-09-01T00:00:00+0000'}\n",
      "{'open': 127.58, 'high': 131.0, 'low': 126.0, 'close': 129.04, 'volume': 223505733.0, 'adj_high': 131.0, 'adj_low': 126.0, 'adj_close': 129.04, 'adj_open': 127.58, 'adj_volume': 223505733.0, 'symbol': 'AAPL', 'exchange': 'XNAS', 'date': '2020-08-31T00:00:00+0000'}\n",
      "{'open': 504.05, 'high': 505.77, 'low': 498.31, 'close': 499.23, 'volume': 46311905.0, 'adj_high': 505.77, 'adj_low': 498.31, 'adj_close': 499.23, 'adj_open': 504.05, 'adj_volume': 46311905.0, 'symbol': 'AAPL', 'exchange': 'XNAS', 'date': '2020-08-28T00:00:00+0000'}\n",
      "{'open': 508.57, 'high': 509.94, 'low': 495.33, 'close': 500.04, 'volume': 38536674.0, 'adj_high': 509.94, 'adj_low': 495.33, 'adj_close': 500.04, 'adj_open': 508.57, 'adj_volume': 38536674.0, 'symbol': 'AAPL', 'exchange': 'XNAS', 'date': '2020-08-27T00:00:00+0000'}\n",
      "{'open': 504.7165, 'high': 507.97, 'low': 500.33, 'close': 506.09, 'volume': 40251209.0, 'adj_high': 507.97, 'adj_low': 500.33, 'adj_close': 506.09, 'adj_open': 504.7165, 'adj_volume': 40251209.0, 'symbol': 'AAPL', 'exchange': 'XNAS', 'date': '2020-08-26T00:00:00+0000'}\n",
      "{'open': 498.79, 'high': 500.7172, 'low': 492.21, 'close': 499.3, 'volume': 52235429.0, 'adj_high': 500.7172, 'adj_low': 492.21, 'adj_close': 499.3, 'adj_open': 498.79, 'adj_volume': 52235429.0, 'symbol': 'AAPL', 'exchange': 'XNAS', 'date': '2020-08-25T00:00:00+0000'}\n",
      "{'open': 514.79, 'high': 515.14, 'low': 495.745, 'close': 503.43, 'volume': 85834847.0, 'adj_high': 515.14, 'adj_low': 495.745, 'adj_close': 503.43, 'adj_open': 514.79, 'adj_volume': 85834847.0, 'symbol': 'AAPL', 'exchange': 'XNAS', 'date': '2020-08-24T00:00:00+0000'}\n",
      "{'open': 477.05, 'high': 499.472, 'low': 477.0, 'close': 497.48, 'volume': 83410275.0, 'adj_high': 499.472, 'adj_low': 477.0, 'adj_close': 497.48, 'adj_open': 477.05, 'adj_volume': 83410275.0, 'symbol': 'AAPL', 'exchange': 'XNAS', 'date': '2020-08-21T00:00:00+0000'}\n",
      "{'open': 463.0, 'high': 473.568, 'low': 462.9335, 'close': 473.1, 'volume': 31328336.0, 'adj_high': 473.568, 'adj_low': 462.9335, 'adj_close': 473.1, 'adj_open': 463.0, 'adj_volume': 31328336.0, 'symbol': 'AAPL', 'exchange': 'XNAS', 'date': '2020-08-20T00:00:00+0000'}\n",
      "{'open': 463.933, 'high': 468.65, 'low': 462.44, 'close': 462.83, 'volume': 36136762.0, 'adj_high': 468.65, 'adj_low': 462.44, 'adj_close': 462.83, 'adj_open': 463.933, 'adj_volume': 36136762.0, 'symbol': 'AAPL', 'exchange': 'XNAS', 'date': '2020-08-19T00:00:00+0000'}\n",
      "{'open': 457.41, 'high': 464.0, 'low': 456.03, 'close': 462.25, 'volume': 26023933.0, 'adj_high': 464.0, 'adj_low': 456.03, 'adj_close': 462.25, 'adj_open': 457.41, 'adj_volume': 26023933.0, 'symbol': 'AAPL', 'exchange': 'XNAS', 'date': '2020-08-18T00:00:00+0000'}\n",
      "{'open': 464.25, 'high': 464.35, 'low': 455.8501, 'close': 458.43, 'volume': 29431414.0, 'adj_high': 464.35, 'adj_low': 455.8501, 'adj_close': 458.43, 'adj_open': 464.25, 'adj_volume': 29431414.0, 'symbol': 'AAPL', 'exchange': 'XNAS', 'date': '2020-08-17T00:00:00+0000'}\n",
      "{'open': 459.315, 'high': 460.0, 'low': 452.18, 'close': 459.63, 'volume': 40761654.0, 'adj_high': 460.0, 'adj_low': 452.18, 'adj_close': 459.63, 'adj_open': 459.315, 'adj_volume': 40761654.0, 'symbol': 'AAPL', 'exchange': 'XNAS', 'date': '2020-08-14T00:00:00+0000'}\n",
      "{'open': 457.72, 'high': 464.17, 'low': 455.71, 'close': 460.04, 'volume': 50487576.0, 'adj_high': 464.17, 'adj_low': 455.71, 'adj_close': 460.04, 'adj_open': 457.72, 'adj_volume': 50487576.0, 'symbol': 'AAPL', 'exchange': 'XNAS', 'date': '2020-08-13T00:00:00+0000'}\n",
      "{'open': 441.99, 'high': 453.1, 'low': 441.19, 'close': 452.04, 'volume': 41128638.0, 'adj_high': 453.1, 'adj_low': 441.19, 'adj_close': 452.04, 'adj_open': 441.99, 'adj_volume': 41128638.0, 'symbol': 'AAPL', 'exchange': 'XNAS', 'date': '2020-08-12T00:00:00+0000'}\n",
      "{'open': 447.875, 'high': 449.93, 'low': 436.4267, 'close': 437.5, 'volume': 46478961.0, 'adj_high': 449.93, 'adj_low': 436.4267, 'adj_close': 437.5, 'adj_open': 447.875, 'adj_volume': 46478961.0, 'symbol': 'AAPL', 'exchange': 'XNAS', 'date': '2020-08-11T00:00:00+0000'}\n",
      "{'open': 450.4, 'high': 455.1, 'low': 440.0, 'close': 450.91, 'volume': 53100856.0, 'adj_high': 455.1, 'adj_low': 440.0, 'adj_close': 450.91, 'adj_open': 450.4, 'adj_volume': 53100856.0, 'symbol': 'AAPL', 'exchange': 'XNAS', 'date': '2020-08-10T00:00:00+0000'}\n",
      "{'open': 452.82, 'high': 454.7, 'low': 441.17, 'close': 444.45, 'volume': 49511403.0, 'adj_high': 454.7, 'adj_low': 441.17, 'adj_close': 444.45, 'adj_open': 452.82, 'adj_volume': 49511403.0, 'symbol': 'AAPL', 'exchange': 'XNAS', 'date': '2020-08-07T00:00:00+0000'}\n",
      "{'open': 441.62, 'high': 457.65, 'low': 439.19, 'close': 455.61, 'volume': 50607225.0, 'adj_high': 457.65, 'adj_low': 439.19, 'adj_close': 455.61, 'adj_open': 441.62, 'adj_volume': 50607225.0, 'symbol': 'AAPL', 'exchange': 'XNAS', 'date': '2020-08-06T00:00:00+0000'}\n",
      "{'open': 437.51, 'high': 441.57, 'low': 435.59, 'close': 440.25, 'volume': 30497988.0, 'adj_high': 441.57, 'adj_low': 435.59, 'adj_close': 440.25, 'adj_open': 437.51, 'adj_volume': 30497988.0, 'symbol': 'AAPL', 'exchange': 'XNAS', 'date': '2020-08-05T00:00:00+0000'}\n",
      "{'open': 436.53, 'high': 443.16, 'low': 433.55, 'close': 438.66, 'volume': 43198092.0, 'adj_high': 443.16, 'adj_low': 433.55, 'adj_close': 438.66, 'adj_open': 436.53, 'adj_volume': 43198092.0, 'symbol': 'AAPL', 'exchange': 'XNAS', 'date': '2020-08-04T00:00:00+0000'}\n",
      "{'open': 432.8, 'high': 446.5457, 'low': 431.57, 'close': 435.75, 'volume': 77037847.0, 'adj_high': 446.5457, 'adj_low': 431.57, 'adj_close': 435.75, 'adj_open': 432.8, 'adj_volume': 77037847.0, 'symbol': 'AAPL', 'exchange': 'XNAS', 'date': '2020-08-03T00:00:00+0000'}\n",
      "{'open': 411.535, 'high': 425.66, 'low': 403.3, 'close': 425.04, 'volume': 93573867.0, 'adj_high': 425.66, 'adj_low': 403.3, 'adj_close': 425.04, 'adj_open': 411.535, 'adj_volume': 93573867.0, 'symbol': 'AAPL', 'exchange': 'XNAS', 'date': '2020-07-31T00:00:00+0000'}\n",
      "{'open': 376.75, 'high': 385.19, 'low': 375.07, 'close': 384.76, 'volume': 39532505.0, 'adj_high': 385.19, 'adj_low': 375.07, 'adj_close': 384.76, 'adj_open': 376.75, 'adj_volume': 39532505.0, 'symbol': 'AAPL', 'exchange': 'XNAS', 'date': '2020-07-30T00:00:00+0000'}\n",
      "{'open': 375.0, 'high': 380.92, 'low': 374.85, 'close': 380.16, 'volume': 22582314.0, 'adj_high': 380.92, 'adj_low': 374.85, 'adj_close': 380.16, 'adj_open': 375.0, 'adj_volume': 22582314.0, 'symbol': 'AAPL', 'exchange': 'XNAS', 'date': '2020-07-29T00:00:00+0000'}\n",
      "{'open': 377.47, 'high': 378.1986, 'low': 372.99, 'close': 373.01, 'volume': 25906375.0, 'adj_high': 378.1986, 'adj_low': 372.99, 'adj_close': 373.01, 'adj_open': 377.47, 'adj_volume': 25906375.0, 'symbol': 'AAPL', 'exchange': 'XNAS', 'date': '2020-07-28T00:00:00+0000'}\n",
      "{'open': 374.84, 'high': 379.62, 'low': 373.92, 'close': 379.24, 'volume': 30303548.0, 'adj_high': 379.62, 'adj_low': 373.92, 'adj_close': 379.24, 'adj_open': 374.84, 'adj_volume': 30303548.0, 'symbol': 'AAPL', 'exchange': 'XNAS', 'date': '2020-07-27T00:00:00+0000'}\n",
      "{'open': 363.95, 'high': 371.88, 'low': 356.58, 'close': 370.46, 'volume': 46359716.0, 'adj_high': 371.88, 'adj_low': 356.58, 'adj_close': 370.46, 'adj_open': 363.95, 'adj_volume': 46359716.0, 'symbol': 'AAPL', 'exchange': 'XNAS', 'date': '2020-07-24T00:00:00+0000'}\n",
      "{'open': 387.99, 'high': 388.31, 'low': 368.04, 'close': 371.38, 'volume': 49251108.0, 'adj_high': 388.31, 'adj_low': 368.04, 'adj_close': 371.38, 'adj_open': 387.99, 'adj_volume': 49251108.0, 'symbol': 'AAPL', 'exchange': 'XNAS', 'date': '2020-07-23T00:00:00+0000'}\n",
      "{'open': 386.77, 'high': 391.9, 'low': 386.41, 'close': 389.09, 'volume': 22250400.0, 'adj_high': 391.9, 'adj_low': 386.41, 'adj_close': 389.09, 'adj_open': 386.77, 'adj_volume': 22250400.0, 'symbol': 'AAPL', 'exchange': 'XNAS', 'date': '2020-07-22T00:00:00+0000'}\n",
      "{'open': 396.69, 'high': 397.0, 'low': 386.97, 'close': 388.0, 'volume': 25627300.0, 'adj_high': 397.0, 'adj_low': 386.97, 'adj_close': 388.0, 'adj_open': 396.69, 'adj_volume': 25627300.0, 'symbol': 'AAPL', 'exchange': 'XNAS', 'date': '2020-07-21T00:00:00+0000'}\n",
      "{'open': 385.67, 'high': 394.0, 'low': 384.25, 'close': 393.43, 'volume': 22397200.0, 'adj_high': 394.0, 'adj_low': 384.25, 'adj_close': 393.43, 'adj_open': 385.67, 'adj_volume': 22397200.0, 'symbol': 'AAPL', 'exchange': 'XNAS', 'date': '2020-07-20T00:00:00+0000'}\n",
      "{'open': 387.95, 'high': 388.59, 'low': 383.36, 'close': 385.31, 'volume': 22655500.0, 'adj_high': 388.59, 'adj_low': 383.36, 'adj_close': 385.31, 'adj_open': 387.95, 'adj_volume': 22655500.0, 'symbol': 'AAPL', 'exchange': 'XNAS', 'date': '2020-07-17T00:00:00+0000'}\n",
      "{'open': 386.25, 'high': 389.62, 'low': 383.62, 'close': 386.09, 'volume': 26814800.0, 'adj_high': 389.62, 'adj_low': 383.62, 'adj_close': 386.09, 'adj_open': 386.25, 'adj_volume': 26814800.0, 'symbol': 'AAPL', 'exchange': 'XNAS', 'date': '2020-07-16T00:00:00+0000'}\n",
      "{'open': 395.96, 'high': 396.99, 'low': 385.96, 'close': 390.9, 'volume': 37665100.0, 'adj_high': 396.99, 'adj_low': 385.96, 'adj_close': 390.9, 'adj_open': 395.96, 'adj_volume': 37665100.0, 'symbol': 'AAPL', 'exchange': 'XNAS', 'date': '2020-07-15T00:00:00+0000'}\n",
      "{'open': 379.36, 'high': 389.02, 'low': 375.51, 'close': 388.23, 'volume': 41551000.0, 'adj_high': 389.02, 'adj_low': 375.51, 'adj_close': 388.23, 'adj_open': 379.36, 'adj_volume': 41551000.0, 'symbol': 'AAPL', 'exchange': 'XNAS', 'date': '2020-07-14T00:00:00+0000'}\n",
      "{'open': 389.06, 'high': 399.82, 'low': 381.03, 'close': 381.91, 'volume': 47033200.0, 'adj_high': 399.82, 'adj_low': 381.03, 'adj_close': 381.91, 'adj_open': 389.06, 'adj_volume': 47033200.0, 'symbol': 'AAPL', 'exchange': 'XNAS', 'date': '2020-07-13T00:00:00+0000'}\n",
      "{'open': 381.34, 'high': 383.92, 'low': 378.82, 'close': 383.68, 'volume': 22055200.0, 'adj_high': 383.92, 'adj_low': 378.82, 'adj_close': 383.68, 'adj_open': 381.34, 'adj_volume': 22055200.0, 'symbol': 'AAPL', 'exchange': 'XNAS', 'date': '2020-07-10T00:00:00+0000'}\n",
      "{'open': 385.05, 'high': 393.91, 'low': 378.69, 'close': 382.73, 'volume': 31420400.0, 'adj_high': 393.91, 'adj_low': 378.69, 'adj_close': 382.73, 'adj_open': 385.05, 'adj_volume': 31420400.0, 'symbol': 'AAPL', 'exchange': 'XNAS', 'date': '2020-07-09T00:00:00+0000'}\n",
      "{'open': 376.72, 'high': 381.5, 'low': 376.36, 'close': 381.37, 'volume': 29274500.0, 'adj_high': 381.5, 'adj_low': 376.36, 'adj_close': 381.37, 'adj_open': 376.72, 'adj_volume': 29274500.0, 'symbol': 'AAPL', 'exchange': 'XNAS', 'date': '2020-07-08T00:00:00+0000'}\n",
      "{'open': 375.41, 'high': 378.62, 'low': 372.23, 'close': 372.69, 'volume': 28207000.0, 'adj_high': 378.62, 'adj_low': 372.23, 'adj_close': 372.69, 'adj_open': 375.41, 'adj_volume': 28207000.0, 'symbol': 'AAPL', 'exchange': 'XNAS', 'date': '2020-07-07T00:00:00+0000'}\n",
      "{'open': 370.0, 'high': 375.78, 'low': 369.87, 'close': 373.85, 'volume': 29745900.0, 'adj_high': 375.78, 'adj_low': 369.87, 'adj_close': 373.85, 'adj_open': 370.0, 'adj_volume': 29745900.0, 'symbol': 'AAPL', 'exchange': 'XNAS', 'date': '2020-07-06T00:00:00+0000'}\n",
      "{'open': 367.85, 'high': 370.47, 'low': 363.64, 'close': 364.11, 'volume': 27764470.0, 'adj_high': 370.47, 'adj_low': 363.64, 'adj_close': 364.11, 'adj_open': 367.85, 'adj_volume': 27764470.0, 'symbol': 'AAPL', 'exchange': 'XNAS', 'date': '2020-07-02T00:00:00+0000'}\n",
      "{'open': 365.12, 'high': 367.36, 'low': 363.91, 'close': 364.11, 'volume': 27263209.0, 'adj_high': 367.36, 'adj_low': 363.91, 'adj_close': 364.11, 'adj_open': 365.12, 'adj_volume': 27263209.0, 'symbol': 'AAPL', 'exchange': 'XNAS', 'date': '2020-07-01T00:00:00+0000'}\n",
      "{'open': 360.08, 'high': 365.98, 'low': 360.0, 'close': 364.8, 'volume': 35055821.0, 'adj_high': 365.98, 'adj_low': 360.0, 'adj_close': 364.8, 'adj_open': 360.08, 'adj_volume': 35055821.0, 'symbol': 'AAPL', 'exchange': 'XNAS', 'date': '2020-06-30T00:00:00+0000'}\n",
      "{'open': 353.25, 'high': 362.1736, 'low': 351.28, 'close': 361.78, 'volume': 32661519.0, 'adj_high': 362.1736, 'adj_low': 351.28, 'adj_close': 361.78, 'adj_open': 353.25, 'adj_volume': 32661519.0, 'symbol': 'AAPL', 'exchange': 'XNAS', 'date': '2020-06-29T00:00:00+0000'}\n",
      "{'open': 364.41, 'high': 365.32, 'low': 353.02, 'close': 353.63, 'volume': 51314211.0, 'adj_high': 365.32, 'adj_low': 353.02, 'adj_close': 353.63, 'adj_open': 364.41, 'adj_volume': 51314211.0, 'symbol': 'AAPL', 'exchange': 'XNAS', 'date': '2020-06-26T00:00:00+0000'}\n",
      "{'open': 360.7, 'high': 365.0, 'low': 357.57, 'close': 364.84, 'volume': 34380628.0, 'adj_high': 365.0, 'adj_low': 357.57, 'adj_close': 364.84, 'adj_open': 360.7, 'adj_volume': 34380628.0, 'symbol': 'AAPL', 'exchange': 'XNAS', 'date': '2020-06-25T00:00:00+0000'}\n",
      "{'open': 365.0, 'high': 368.79, 'low': 358.52, 'close': 360.06, 'volume': 48155849.0, 'adj_high': 368.79, 'adj_low': 358.52, 'adj_close': 360.06, 'adj_open': 365.0, 'adj_volume': 48155849.0, 'symbol': 'AAPL', 'exchange': 'XNAS', 'date': '2020-06-24T00:00:00+0000'}\n",
      "{'open': 364.0, 'high': 372.38, 'low': 362.2701, 'close': 366.53, 'volume': 53038869.0, 'adj_high': 372.38, 'adj_low': 362.2701, 'adj_close': 366.53, 'adj_open': 364.0, 'adj_volume': 53038869.0, 'symbol': 'AAPL', 'exchange': 'XNAS', 'date': '2020-06-23T00:00:00+0000'}\n",
      "{'open': 351.34, 'high': 359.46, 'low': 351.15, 'close': 358.87, 'volume': 33861316.0, 'adj_high': 359.46, 'adj_low': 351.15, 'adj_close': 358.87, 'adj_open': 351.34, 'adj_volume': 33861316.0, 'symbol': 'AAPL', 'exchange': 'XNAS', 'date': '2020-06-22T00:00:00+0000'}\n",
      "{'open': 354.635, 'high': 356.56, 'low': 345.15, 'close': 349.72, 'volume': 66118952.0, 'adj_high': 356.56, 'adj_low': 345.15, 'adj_close': 349.72, 'adj_open': 354.635, 'adj_volume': 66118952.0, 'symbol': 'AAPL', 'exchange': 'XNAS', 'date': '2020-06-19T00:00:00+0000'}\n",
      "{'open': 351.41, 'high': 353.45, 'low': 349.22, 'close': 351.73, 'volume': 24205096.0, 'adj_high': 353.45, 'adj_low': 349.22, 'adj_close': 351.73, 'adj_open': 351.41, 'adj_volume': 24205096.0, 'symbol': 'AAPL', 'exchange': 'XNAS', 'date': '2020-06-18T00:00:00+0000'}\n",
      "{'open': 355.15, 'high': 355.4, 'low': 351.09, 'close': 351.59, 'volume': 28601626.0, 'adj_high': 355.4, 'adj_low': 351.09, 'adj_close': 351.59, 'adj_open': 355.15, 'adj_volume': 28601626.0, 'symbol': 'AAPL', 'exchange': 'XNAS', 'date': '2020-06-17T00:00:00+0000'}\n",
      "{'open': 351.46, 'high': 353.2, 'low': 344.72, 'close': 352.08, 'volume': 41357182.0, 'adj_high': 353.2, 'adj_low': 344.72, 'adj_close': 352.08, 'adj_open': 351.46, 'adj_volume': 41357182.0, 'symbol': 'AAPL', 'exchange': 'XNAS', 'date': '2020-06-16T00:00:00+0000'}\n",
      "{'open': 333.25, 'high': 345.68, 'low': 332.58, 'close': 342.99, 'volume': 34702230.0, 'adj_high': 345.68, 'adj_low': 332.58, 'adj_close': 342.99, 'adj_open': 333.25, 'adj_volume': 34702230.0, 'symbol': 'AAPL', 'exchange': 'XNAS', 'date': '2020-06-15T00:00:00+0000'}\n",
      "{'open': 344.72, 'high': 347.8, 'low': 334.2233, 'close': 338.8, 'volume': 50036513.0, 'adj_high': 347.8, 'adj_low': 334.2233, 'adj_close': 338.8, 'adj_open': 344.72, 'adj_volume': 50036513.0, 'symbol': 'AAPL', 'exchange': 'XNAS', 'date': '2020-06-12T00:00:00+0000'}\n",
      "{'open': 349.31, 'high': 351.06, 'low': 335.48, 'close': 335.9, 'volume': 50415613.0, 'adj_high': 351.06, 'adj_low': 335.48, 'adj_close': 335.9, 'adj_open': 349.31, 'adj_volume': 50415613.0, 'symbol': 'AAPL', 'exchange': 'XNAS', 'date': '2020-06-11T00:00:00+0000'}\n",
      "{'open': 347.9, 'high': 354.77, 'low': 346.09, 'close': 352.84, 'volume': 41662938.0, 'adj_high': 354.77, 'adj_low': 346.09, 'adj_close': 352.84, 'adj_open': 347.9, 'adj_volume': 41662938.0, 'symbol': 'AAPL', 'exchange': 'XNAS', 'date': '2020-06-10T00:00:00+0000'}\n",
      "{'open': 332.14, 'high': 345.61, 'low': 332.01, 'close': 343.99, 'volume': 36004143.0, 'adj_high': 345.61, 'adj_low': 332.01, 'adj_close': 343.99, 'adj_open': 332.14, 'adj_volume': 36004143.0, 'symbol': 'AAPL', 'exchange': 'XNAS', 'date': '2020-06-09T00:00:00+0000'}\n",
      "{'open': 330.25, 'high': 333.6, 'low': 327.32, 'close': 333.46, 'volume': 23913634.0, 'adj_high': 333.6, 'adj_low': 327.32, 'adj_close': 333.46, 'adj_open': 330.25, 'adj_volume': 23913634.0, 'symbol': 'AAPL', 'exchange': 'XNAS', 'date': '2020-06-08T00:00:00+0000'}\n",
      "{'open': 323.35, 'high': 331.75, 'low': 323.23, 'close': 331.5, 'volume': 33592989.0, 'adj_high': 331.75, 'adj_low': 323.23, 'adj_close': 331.5, 'adj_open': 323.35, 'adj_volume': 33592989.0, 'symbol': 'AAPL', 'exchange': 'XNAS', 'date': '2020-06-05T00:00:00+0000'}\n",
      "{'open': 324.39, 'high': 325.62, 'low': 320.78, 'close': 322.32, 'volume': 21360483.0, 'adj_high': 325.62, 'adj_low': 320.78, 'adj_close': 322.32, 'adj_open': 324.39, 'adj_volume': 21360483.0, 'symbol': 'AAPL', 'exchange': 'XNAS', 'date': '2020-06-04T00:00:00+0000'}\n",
      "{'open': 324.66, 'high': 326.2, 'low': 322.3, 'close': 325.12, 'volume': 26070369.0, 'adj_high': 326.2, 'adj_low': 322.3, 'adj_close': 325.12, 'adj_open': 324.66, 'adj_volume': 26070369.0, 'symbol': 'AAPL', 'exchange': 'XNAS', 'date': '2020-06-03T00:00:00+0000'}\n",
      "{'open': 320.745, 'high': 323.44, 'low': 318.93, 'close': 323.34, 'volume': 21910704.0, 'adj_high': 323.44, 'adj_low': 318.93, 'adj_close': 323.34, 'adj_open': 320.745, 'adj_volume': 21910704.0, 'symbol': 'AAPL', 'exchange': 'XNAS', 'date': '2020-06-02T00:00:00+0000'}\n",
      "{'open': 317.75, 'high': 322.35, 'low': 317.21, 'close': 321.85, 'volume': 20254653.0, 'adj_high': 322.35, 'adj_low': 317.21, 'adj_close': 321.85, 'adj_open': 317.75, 'adj_volume': 20254653.0, 'symbol': 'AAPL', 'exchange': 'XNAS', 'date': '2020-06-01T00:00:00+0000'}\n",
      "{'open': 319.25, 'high': 321.15, 'low': 316.47, 'close': 317.94, 'volume': 38399532.0, 'adj_high': 321.15, 'adj_low': 316.47, 'adj_close': 317.94, 'adj_open': 319.25, 'adj_volume': 38399532.0, 'symbol': 'AAPL', 'exchange': 'XNAS', 'date': '2020-05-29T00:00:00+0000'}\n",
      "{'open': 316.77, 'high': 323.44, 'low': 315.63, 'close': 318.25, 'volume': 33449103.0, 'adj_high': 323.44, 'adj_low': 315.63, 'adj_close': 318.25, 'adj_open': 316.77, 'adj_volume': 33449103.0, 'symbol': 'AAPL', 'exchange': 'XNAS', 'date': '2020-05-28T00:00:00+0000'}\n"
     ]
    }
   ],
   "source": [
    "import requests\n",
    "\n",
    "params = {\n",
    "    'access_key': 'your_access_key',\n",
    "    'symbols':'AAPL'\n",
    "}\n",
    "\n",
    "api_result = requests.get('http://api.marketstack.com/v1/eod', params)\n",
    "\n",
    "api_response = api_result.json()\n",
    "\n",
    "for stock_data in api_response['data']:\n",
    "    print(stock_data)"
   ]
  },
  {
   "cell_type": "markdown",
   "metadata": {
    "slideshow": {
     "slide_type": "slide"
    }
   },
   "source": [
    "If you are curious about other type of requests that you can do to get financial data from [marketstack.com](https://marketstack.com), [read their API documentation](https://marketstack.com/documentation) and adapt the code above for the request."
   ]
  },
  {
   "cell_type": "markdown",
   "metadata": {
    "slideshow": {
     "slide_type": "slide"
    }
   },
   "source": [
    "# 11. Cloud services\n",
    "\n",
    "<img src=\"./images/cloud_providers_magicQuadrant.jpg\" height=\"80%\" width=\"80%\"></img>\n",
    "\n",
    "<a href=\"https://www.gartner.com/reviews/market/public-cloud-iaas\">Amazon Web Services is the current leader in the market of cloud and platform services followed by Microsoft Azure and Google Cloud.</a> One of the main reasons behind AWS success is its <a href=\"https://aws.amazon.com/pricing/\">pay-as-you-go pricing model</a>:\n",
    "> *with AWS you pay only for the individual services you need, for as long as you use them, and without requiring long-term contracts or complex licensing*\n",
    "\n",
    "and S3, AWS' storage service, takes advantage of massive economies of scale to lower down the value of storage for its users as they increase their usage of it. For the next example, we are going to work with AWS SageMaker to run Jupyter Notebook instances in the cloud."
   ]
  },
  {
   "cell_type": "markdown",
   "metadata": {
    "slideshow": {
     "slide_type": "slide"
    }
   },
   "source": [
    "Get hand on experience on the major cloud service platforms through their free tier access:\n",
    "\n",
    "- Amazon AWS offers a [free tier to access their services, albeit with some limitations, for 12 months](https://aws.amazon.com/free/):    \n",
    "    \n",
    "- Google Cloud provides, at the time of this writing, [$300 in free credit and access to 20+ of their GCP products](https://cloud.google.com/free).\n",
    "\n",
    "- Microsoft Azure provides [free limited access](https://azure.microsoft.com/en-us/free/students/) to their cloud platform to students while.\n",
    "\n",
    "Be sure to register for the AWS free tier service to get access to AWS SageMaker and S3 services."
   ]
  },
  {
   "cell_type": "markdown",
   "metadata": {
    "slideshow": {
     "slide_type": "slide"
    }
   },
   "source": [
    "There are different ways that you can run a Jupyter Notebook in the cloud depending on the level of control and customization desired:\n",
    "- Highest control of the environment:\n",
    "    - and you are sharing resources with several users, you can install [JupyterHub in a virtual machine or instance](https://tljh.jupyter.org/en/latest/) running on your preferred cloud provider.\n",
    "    - if you are the only user or the users are limited, you can install jupyter notebooks and anaconda in a machine or instance running on your preferred cloud provider by themselves or use the official docker image [jupyter/minimal-notebook](https://hub.docker.com/r/jupyter/minimal-notebook) and assign it a custom token.\n",
    "- Preconfigured environments:\n",
    "    - Free:\n",
    "        - [Google Colab](https://colab.research.google.com/), which comes with free access to [TPUs](https://cloud.google.com/tpu/docs/tpus).\n",
    "        - [kaggle](https://www.kaggle.com/)\n",
    "        - [deepnote](https://deepnote.com/)\n",
    "    - Paid:\n",
    "        - Amazon AWS Sagemaker\n",
    "        - [Google Cloud Datalab](https://cloud.google.com/datalab/docs)\n",
    "        - [IBM Watson Studio](https://dataplatform.cloud.ibm.com/docs/content/wsj/analyze-data/notebooks-parent.html)\n",
    "        - [Dataiku DSS](https://doc.dataiku.com/dss/latest/notebooks/python.html)"
   ]
  },
  {
   "cell_type": "markdown",
   "metadata": {
    "colab_type": "text",
    "id": "2_wFVbVg-nCm",
    "nbpresent": {
     "id": "83bcf5c0-e886-4831-a6b5-bd2e01115603"
    },
    "slideshow": {
     "slide_type": "slide"
    }
   },
   "source": [
    "# 12. Further reading and videos of interest\n",
    "\n",
    "- Section 13.1, CSV File Reading and Writing, The Python Standard Library https://docs.python.org/2/library/csv.html\n",
    "\n",
    "- CSV file format in RFC 4180: Common Format and MIME Type for Comma-Separated Values (CSV)\n",
    "https://tools.ietf.org/html/rfc4180\n",
    "\n",
    "- Amazon AWS:\n",
    "    - [Fully-Managed Notebook Instances with Amazon SageMaker - a Deep Dive](https://www.youtube.com/watch?v=uQc8Itd4UTs)\n",
    "\n",
    "- Google Cloud:\n",
    "    - [Datalab: Notebook in the Cloud](https://www.youtube.com/watch?v=Eu57QKNHaiY)\n",
    "    - [How to run jupyter notebooks in Google Cloud Platform](https://cloud.google.com/ai-platform/notebooks/docs/create-new)\n",
    "    - [Welcome to Google Cloud Platform - the Essentials of GCP](https://www.youtube.com/watch?v=4D3X6Xl5c_Y)\n",
    "    - [Developer and Management Tools](https://www.youtube.com/watch?v=3v9XWdFyh2E)\n",
    "    \n",
    "- Microsoft Azure:\n",
    "    - [How does Microsoft Azure work?](https://www.youtube.com/watch?v=KXkBZCe699A)\n",
    "    - [How to use Jupyter Notebooks in Azure Data Studio | Azure Friday](https://www.youtube.com/watch?v=pHuRj9ty9cI)"
   ]
  },
  {
   "cell_type": "markdown",
   "metadata": {
    "colab_type": "text",
    "collapsed": true,
    "id": "V_V9eeob-nCp",
    "nbpresent": {
     "id": "679b6061-c091-42e5-a423-34d714f9ccdc"
    },
    "slideshow": {
     "slide_type": "slide"
    }
   },
   "source": [
    "<h1> Credits </h1>\n",
    "\n",
    "- [Online Python Tutor: Embeddable Web-Based Program Visualization for CS Education](http://pythontutor.com/), Philip J. Guo, ACM Technical Symposium on Computer Science Education (SIGCSE), 2013\n",
    "\n",
    "\n",
    "- Machine Learning Algorithms from Scratch with Python, 2017, Jason Brownlee, v1.2\n",
    "\n",
    "\n",
    "- An introduction to Python Programming for Research, UCL, 2017, James Hetherington [here:](http://rits.github-pages.ucl.ac.uk/doctoral-programming-intro/notes.pdf)\n",
    "\n",
    "\n",
    "- A Primer on Scientific Programming with Python, 4th Edition, 2014, Hans Petter Langtangen \n",
    "Resources [here:](http://hplgit.github.io/scipro-primer/)\n",
    "\n",
    "\n",
    "- [W3C's Web Services Architecture](https://www.w3.org/TR/ws-arch/)"
   ]
  }
 ],
 "metadata": {
  "celltoolbar": "Slideshow",
  "kernelspec": {
   "display_name": "Python 3 (ipykernel)",
   "language": "python",
   "name": "python3"
  },
  "language_info": {
   "codemirror_mode": {
    "name": "ipython",
    "version": 3
   },
   "file_extension": ".py",
   "mimetype": "text/x-python",
   "name": "python",
   "nbconvert_exporter": "python",
   "pygments_lexer": "ipython3",
   "version": "3.11.5"
  }
 },
 "nbformat": 4,
 "nbformat_minor": 2
}
