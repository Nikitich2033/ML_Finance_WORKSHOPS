{
 "cells": [
  {
   "cell_type": "markdown",
   "metadata": {
    "slideshow": {
     "slide_type": "slide"
    }
   },
   "source": [
    "<h1>\n",
    "    <br style =\"color:#EA7600\">UCL</br> \n",
    "    </p>\n",
    "</h1>\n",
    "\n",
    "<div>\n",
    "\n",
    "  <h4>\n",
    "      <p style=\"font-size:18pt\">COMP0198 Machine Learning with Applications in Finance</p>\n",
    "      <p style=\"font-size:18pt\">Week 6</p>\n",
    "  </h4>\n",
    "\n",
    "</div>"
   ]
  },
  {
   "cell_type": "markdown",
   "metadata": {
    "slideshow": {
     "slide_type": "slide"
    }
   },
   "source": [
    "# Table of Contents\n",
    "* [1. Evaluating classification algorithm performance](#1.-Evaluation-of-classification-algorithm-performance)\n",
    "* [2. Data Balance](#2.-Data-Balance)\n",
    "    * [2.1 Sampling and balancing classification data](#2.1-Sampling-and-balancing-classification-data)\n",
    "        * [2.1.1 Downsampling](#2.1.1-Downsampling)\n",
    "        * [2.1.2 Oversampling](#2.1.2-Oversampling)\n",
    "        * [2.1.3 SMOTE and other synthetic sampling methods](#2.1.3-SMOTE-and-other-synthetic-sampling-methods)\n",
    "* [3. Hyperparameter tuning](#3.-Hyperparameter-tuning)\n",
    "    * [3.1 Hyperparameter tuning with GridSearchCV](#3.1-Hyperparameter-tuning-with-GridSearchCV)\n",
    "    * [3.2 Hyperparameter tuning with RandomizedSearchCV](#3.2-Hyperparameter-tuning-with-RandomizedSearchCV)"
   ]
  },
  {
   "cell_type": "markdown",
   "metadata": {
    "tags": []
   },
   "source": [
    "# Setup"
   ]
  },
  {
   "cell_type": "markdown",
   "metadata": {},
   "source": [
    "This project requires Python 3.7 or above:"
   ]
  },
  {
   "cell_type": "code",
   "execution_count": 2,
   "metadata": {},
   "outputs": [],
   "source": [
    "import sys\n",
    "\n",
    "assert sys.version_info >= (3, 7)"
   ]
  },
  {
   "cell_type": "markdown",
   "metadata": {},
   "source": [
    "Let's import the libraries we will need for this week's lab and verify that we have the correct versions:"
   ]
  },
  {
   "cell_type": "code",
   "execution_count": 7,
   "metadata": {
    "pycharm": {
     "is_executing": true
    },
    "slideshow": {
     "slide_type": "skip"
    }
   },
   "outputs": [
    {
     "name": "stdout",
     "output_type": "stream",
     "text": [
      "scipy: 1.9.1\n",
      "numpy: 1.23.3\n",
      "matplotlib: 3.6.1\n",
      "seaborn: 0.12.1\n",
      "yellowbrick: 1.5\n",
      "pandas: 1.4.4\n",
      "statsmodels: 0.13.2\n",
      "sklearn: 1.1.1\n",
      "imblearn: 0.9.1\n"
     ]
    }
   ],
   "source": [
    "# scipy\n",
    "import scipy\n",
    "print(\"scipy: %s\"  % scipy.__version__)\n",
    "# numpy\n",
    "import numpy\n",
    "print(\"numpy: %s\"  % numpy.__version__)\n",
    "# matplotlib\n",
    "import matplotlib\n",
    "print( \"matplotlib: %s\"  % matplotlib.__version__)\n",
    "# seaborn\n",
    "import seaborn\n",
    "print(\"seaborn: %s\"  % seaborn.__version__)\n",
    "# Yellowbrick\n",
    "import yellowbrick\n",
    "print(\"yellowbrick: %s\"  % yellowbrick.__version__)\n",
    "# pandas\n",
    "import pandas\n",
    "print( \"pandas: %s\"  % pandas.__version__)\n",
    "# statsmodels\n",
    "import statsmodels\n",
    "print( \"statsmodels: %s\"  % statsmodels.__version__)\n",
    "# scikit-learn\n",
    "import sklearn\n",
    "print( \"sklearn: %s\"  % sklearn.__version__)\n",
    "# imblearn\n",
    "import imblearn\n",
    "print( \"imblearn: %s\"  % imblearn.__version__)"
   ]
  },
  {
   "cell_type": "markdown",
   "metadata": {},
   "source": [
    "If we get an error of type: `ModuleNotFoundError`, we can install the missing library by running:\n",
    "\n",
    "- !pip install nameOfMissingLibrary"
   ]
  },
  {
   "cell_type": "markdown",
   "metadata": {},
   "source": [
    "It also requires Scikit-Learn ≥ 1.0.1:"
   ]
  },
  {
   "cell_type": "code",
   "execution_count": 5,
   "metadata": {},
   "outputs": [],
   "source": [
    "from packaging import version\n",
    "import sklearn\n",
    "\n",
    "assert version.parse(sklearn.__version__) >= version.parse(\"1.0.1\")"
   ]
  },
  {
   "cell_type": "markdown",
   "metadata": {},
   "source": [
    "As we have done before, let's define the default font sizes to make the figures prettier:"
   ]
  },
  {
   "cell_type": "code",
   "execution_count": 9,
   "metadata": {},
   "outputs": [],
   "source": [
    "import matplotlib.pyplot as plt\n",
    "\n",
    "plt.rc('font', size=14)\n",
    "plt.rc('axes', labelsize=14, titlesize=14)\n",
    "plt.rc('legend', fontsize=14)\n",
    "plt.rc('xtick', labelsize=10)\n",
    "plt.rc('ytick', labelsize=10)"
   ]
  },
  {
   "cell_type": "markdown",
   "metadata": {},
   "source": [
    "And let's create the `images/unsupervised_learning` folder (if it doesn't already exist), and define the `save_fig()` function which is used through this notebook to save the figures in high-res for the book:"
   ]
  },
  {
   "cell_type": "code",
   "execution_count": 217,
   "metadata": {},
   "outputs": [],
   "source": [
    "from pathlib import Path\n",
    "\n",
    "IMAGES_PATH = Path() / \"images\" / \"unsupervised_learning\"\n",
    "IMAGES_PATH.mkdir(parents=True, exist_ok=True)\n",
    "\n",
    "def save_fig(fig_id, tight_layout=True, fig_extension=\"png\", resolution=300):\n",
    "    path = IMAGES_PATH / f\"{fig_id}.{fig_extension}\"\n",
    "    if tight_layout:\n",
    "        plt.tight_layout()\n",
    "    plt.savefig(path, format=fig_extension, dpi=resolution)"
   ]
  },
  {
   "cell_type": "markdown",
   "metadata": {},
   "source": [
    "# 1. Evaluating classification algorithm performance <a class=\"anchor\" id=\"chapter1\"></a>\n",
    "\n",
    "In this section we will look at how to evaluate the performance of a classification algorithm. We will use the [`Credit Scoring Data`](https://dataverse.harvard.edu/dataset.xhtml?persistentId=doi:10.7910/DVN/GWOTGE&version=1.0) and specifically the [`cf2_transaction_data.tab`](https://dataverse.harvard.edu/file.xhtml?persistentId=doi:10.7910/DVN/GWOTGE/GMGUZD&version=1.0)\n",
    "\n",
    "Let's load the dataset and plot the data:"
   ]
  },
  {
   "cell_type": "code",
   "execution_count": 8,
   "metadata": {},
   "outputs": [
    {
     "data": {
      "text/html": [
       "<div>\n",
       "<style scoped>\n",
       "    .dataframe tbody tr th:only-of-type {\n",
       "        vertical-align: middle;\n",
       "    }\n",
       "\n",
       "    .dataframe tbody tr th {\n",
       "        vertical-align: top;\n",
       "    }\n",
       "\n",
       "    .dataframe thead th {\n",
       "        text-align: right;\n",
       "    }\n",
       "</style>\n",
       "<table border=\"1\" class=\"dataframe\">\n",
       "  <thead>\n",
       "    <tr style=\"text-align: right;\">\n",
       "      <th></th>\n",
       "      <th>chit</th>\n",
       "      <th>chit_id</th>\n",
       "      <th>p_recno</th>\n",
       "      <th>pay_type</th>\n",
       "      <th>aucn_no</th>\n",
       "      <th>aucn_date</th>\n",
       "      <th>rct_date</th>\n",
       "      <th>inst_due</th>\n",
       "      <th>inst_paid</th>\n",
       "      <th>inst_spread</th>\n",
       "      <th>...</th>\n",
       "      <th>before_after</th>\n",
       "      <th>num_chit</th>\n",
       "      <th>num_chit_id</th>\n",
       "      <th>all_trans</th>\n",
       "      <th>age</th>\n",
       "      <th>sex</th>\n",
       "      <th>income</th>\n",
       "      <th>occupation</th>\n",
       "      <th>bid_mode</th>\n",
       "      <th>lottery</th>\n",
       "    </tr>\n",
       "  </thead>\n",
       "  <tbody>\n",
       "    <tr>\n",
       "      <th>0</th>\n",
       "      <td>NK-178</td>\n",
       "      <td>NK-178-01-1</td>\n",
       "      <td>K563</td>\n",
       "      <td>F</td>\n",
       "      <td>1.0</td>\n",
       "      <td>2004-11-09</td>\n",
       "      <td>2004-11-09</td>\n",
       "      <td>2500.0</td>\n",
       "      <td>2500.0</td>\n",
       "      <td>2500.0</td>\n",
       "      <td>...</td>\n",
       "      <td>0.0</td>\n",
       "      <td>1.0</td>\n",
       "      <td>1.0</td>\n",
       "      <td>1.0</td>\n",
       "      <td>33.0</td>\n",
       "      <td>M</td>\n",
       "      <td>NaN</td>\n",
       "      <td>NaN</td>\n",
       "      <td>NaN</td>\n",
       "      <td>NaN</td>\n",
       "    </tr>\n",
       "    <tr>\n",
       "      <th>1</th>\n",
       "      <td>NK-178</td>\n",
       "      <td>NK-178-01-1</td>\n",
       "      <td>K563</td>\n",
       "      <td>F</td>\n",
       "      <td>2.0</td>\n",
       "      <td>2004-11-10</td>\n",
       "      <td>2004-12-15</td>\n",
       "      <td>1750.0</td>\n",
       "      <td>2500.0</td>\n",
       "      <td>1750.0</td>\n",
       "      <td>...</td>\n",
       "      <td>0.0</td>\n",
       "      <td>1.0</td>\n",
       "      <td>1.0</td>\n",
       "      <td>1.0</td>\n",
       "      <td>33.0</td>\n",
       "      <td>M</td>\n",
       "      <td>NaN</td>\n",
       "      <td>NaN</td>\n",
       "      <td>NaN</td>\n",
       "      <td>NaN</td>\n",
       "    </tr>\n",
       "    <tr>\n",
       "      <th>2</th>\n",
       "      <td>NK-178</td>\n",
       "      <td>NK-178-01-1</td>\n",
       "      <td>K563</td>\n",
       "      <td>F</td>\n",
       "      <td>3.0</td>\n",
       "      <td>2004-12-10</td>\n",
       "      <td>2005-01-06</td>\n",
       "      <td>1750.0</td>\n",
       "      <td>1750.0</td>\n",
       "      <td>1750.0</td>\n",
       "      <td>...</td>\n",
       "      <td>0.0</td>\n",
       "      <td>1.0</td>\n",
       "      <td>1.0</td>\n",
       "      <td>1.0</td>\n",
       "      <td>33.0</td>\n",
       "      <td>M</td>\n",
       "      <td>NaN</td>\n",
       "      <td>NaN</td>\n",
       "      <td>NaN</td>\n",
       "      <td>NaN</td>\n",
       "    </tr>\n",
       "    <tr>\n",
       "      <th>3</th>\n",
       "      <td>NK-178</td>\n",
       "      <td>NK-178-01-1</td>\n",
       "      <td>K563</td>\n",
       "      <td>F</td>\n",
       "      <td>4.0</td>\n",
       "      <td>2005-01-10</td>\n",
       "      <td>2005-01-20</td>\n",
       "      <td>1750.0</td>\n",
       "      <td>1750.0</td>\n",
       "      <td>1750.0</td>\n",
       "      <td>...</td>\n",
       "      <td>0.0</td>\n",
       "      <td>1.0</td>\n",
       "      <td>1.0</td>\n",
       "      <td>1.0</td>\n",
       "      <td>33.0</td>\n",
       "      <td>M</td>\n",
       "      <td>NaN</td>\n",
       "      <td>NaN</td>\n",
       "      <td>NaN</td>\n",
       "      <td>NaN</td>\n",
       "    </tr>\n",
       "    <tr>\n",
       "      <th>4</th>\n",
       "      <td>NK-178</td>\n",
       "      <td>NK-178-01-1</td>\n",
       "      <td>K563</td>\n",
       "      <td>F</td>\n",
       "      <td>5.0</td>\n",
       "      <td>2005-02-10</td>\n",
       "      <td>2005-02-17</td>\n",
       "      <td>1750.0</td>\n",
       "      <td>1750.0</td>\n",
       "      <td>1750.0</td>\n",
       "      <td>...</td>\n",
       "      <td>0.0</td>\n",
       "      <td>1.0</td>\n",
       "      <td>1.0</td>\n",
       "      <td>1.0</td>\n",
       "      <td>33.0</td>\n",
       "      <td>M</td>\n",
       "      <td>NaN</td>\n",
       "      <td>NaN</td>\n",
       "      <td>NaN</td>\n",
       "      <td>NaN</td>\n",
       "    </tr>\n",
       "  </tbody>\n",
       "</table>\n",
       "<p>5 rows × 43 columns</p>\n",
       "</div>"
      ],
      "text/plain": [
       "     chit      chit_id p_recno pay_type  aucn_no   aucn_date    rct_date  \\\n",
       "0  NK-178  NK-178-01-1    K563        F      1.0  2004-11-09  2004-11-09   \n",
       "1  NK-178  NK-178-01-1    K563        F      2.0  2004-11-10  2004-12-15   \n",
       "2  NK-178  NK-178-01-1    K563        F      3.0  2004-12-10  2005-01-06   \n",
       "3  NK-178  NK-178-01-1    K563        F      4.0  2005-01-10  2005-01-20   \n",
       "4  NK-178  NK-178-01-1    K563        F      5.0  2005-02-10  2005-02-17   \n",
       "\n",
       "   inst_due  inst_paid  inst_spread  ...  before_after  num_chit  num_chit_id  \\\n",
       "0    2500.0     2500.0       2500.0  ...           0.0       1.0          1.0   \n",
       "1    1750.0     2500.0       1750.0  ...           0.0       1.0          1.0   \n",
       "2    1750.0     1750.0       1750.0  ...           0.0       1.0          1.0   \n",
       "3    1750.0     1750.0       1750.0  ...           0.0       1.0          1.0   \n",
       "4    1750.0     1750.0       1750.0  ...           0.0       1.0          1.0   \n",
       "\n",
       "   all_trans   age  sex  income  occupation  bid_mode  lottery  \n",
       "0        1.0  33.0    M     NaN         NaN       NaN      NaN  \n",
       "1        1.0  33.0    M     NaN         NaN       NaN      NaN  \n",
       "2        1.0  33.0    M     NaN         NaN       NaN      NaN  \n",
       "3        1.0  33.0    M     NaN         NaN       NaN      NaN  \n",
       "4        1.0  33.0    M     NaN         NaN       NaN      NaN  \n",
       "\n",
       "[5 rows x 43 columns]"
      ]
     },
     "execution_count": 8,
     "metadata": {},
     "output_type": "execute_result"
    }
   ],
   "source": [
    "import pandas as pd\n",
    "\n",
    "df = pd.read_table(\"data/cf2_transaction_data.tab\", sep=\"\\t\")\n",
    "\n",
    "df.head()"
   ]
  },
  {
   "cell_type": "code",
   "execution_count": 103,
   "metadata": {},
   "outputs": [
    {
     "data": {
      "text/plain": [
       "Text(0.5, 1.0, 'Total number of samples')"
      ]
     },
     "execution_count": 103,
     "metadata": {},
     "output_type": "execute_result"
    },
    {
     "data": {
      "image/png": "[encoded data removed]",
      "text/plain": [
       "<Figure size 640x480 with 1 Axes>"
      ]
     },
     "metadata": {},
     "output_type": "display_data"
    }
   ],
   "source": [
    "import seaborn as sns\n",
    "import matplotlib.pyplot as plt\n",
    "\n",
    "# Total number of samples in the dataset for each species\n",
    "df_count = df['default'].value_counts().reset_index().rename(columns={'index': 'default', 'default': 'count'})\n",
    "\n",
    "sns.set_style(\"whitegrid\")\n",
    "\n",
    "# Create a pairplot of the iris dataset\n",
    "sns.barplot(data=df_count, y ='count', x=\"default\", errorbar=None)\n",
    "\n",
    "plt.xlabel('Default')\n",
    "plt.ylabel('Total samples')\n",
    "plt.title('Total number of samples')"
   ]
  },
  {
   "cell_type": "markdown",
   "metadata": {},
   "source": [
    "At first glance, it is obvious that we have more samples of the `No default` class than `Default`. This is called class imbalance. We will see later how to deal with this problem. In the meantime, let's look at the effects of training a classifier on an imbalanced dataset and the effects of using a different metrics to evaluate the performance of the classifier.\n",
    "\n",
    "**A dataset is balanced if the number of samples in each class is roughly the same. If the dataset is not balanced, then the classifier will be biased towards the class with the most samples. This is a problem because it will not be able to generalize well to new data.**"
   ]
  },
  {
   "cell_type": "markdown",
   "metadata": {},
   "source": [
    "Let's split the data into a training set and a test set:"
   ]
  },
  {
   "cell_type": "code",
   "execution_count": 198,
   "metadata": {},
   "outputs": [
    {
     "name": "stderr",
     "output_type": "stream",
     "text": [
      "C:\\Users\\w\\AppData\\Local\\Temp\\ipykernel_18000\\3986112952.py:10: FutureWarning: Dropping of nuisance columns in DataFrame reductions (with 'numeric_only=None') is deprecated; in a future version this will raise TypeError.  Select only valid columns before calling the reduction.\n",
      "  df = df.fillna(df.median())\n"
     ]
    }
   ],
   "source": [
    "from sklearn.preprocessing import LabelEncoder, StandardScaler\n",
    "from sklearn.model_selection import train_test_split\n",
    "\n",
    "# Let's convert the categorical variables into numerical variables\n",
    "le = LabelEncoder()\n",
    "df['sex'] = le.fit_transform(df['sex'])\n",
    "df['occupation'] = le.fit_transform(df['occupation'])\n",
    "\n",
    "# Fill the missing values with the median of the column\n",
    "df = df.fillna(df.median())\n",
    "X = df.drop(['default', 'chit', 'chit_id', 'pay_type', 'p_recno', 'aucn_no', 'aucn_date', 'rct_date', 'start_date'], axis=1)\n",
    "\n",
    "y = df['default']\n",
    "\n",
    "scaler = StandardScaler()\n",
    "X_scaled = scaler.fit_transform(X)\n",
    "\n",
    "# Split the data into training and test sets\n",
    "X_train, X_test, y_train, y_test = train_test_split(X_scaled, y, test_size=0.2, random_state=42)"
   ]
  },
  {
   "cell_type": "code",
   "execution_count": 13,
   "metadata": {},
   "outputs": [
    {
     "data": {
      "text/html": [
       "<div>\n",
       "<style scoped>\n",
       "    .dataframe tbody tr th:only-of-type {\n",
       "        vertical-align: middle;\n",
       "    }\n",
       "\n",
       "    .dataframe tbody tr th {\n",
       "        vertical-align: top;\n",
       "    }\n",
       "\n",
       "    .dataframe thead th {\n",
       "        text-align: right;\n",
       "    }\n",
       "</style>\n",
       "<table border=\"1\" class=\"dataframe\">\n",
       "  <thead>\n",
       "    <tr style=\"text-align: right;\">\n",
       "      <th></th>\n",
       "      <th>chit</th>\n",
       "      <th>chit_id</th>\n",
       "      <th>p_recno</th>\n",
       "      <th>pay_type</th>\n",
       "      <th>aucn_no</th>\n",
       "      <th>aucn_date</th>\n",
       "      <th>rct_date</th>\n",
       "      <th>inst_due</th>\n",
       "      <th>inst_paid</th>\n",
       "      <th>inst_spread</th>\n",
       "      <th>...</th>\n",
       "      <th>before_after</th>\n",
       "      <th>num_chit</th>\n",
       "      <th>num_chit_id</th>\n",
       "      <th>all_trans</th>\n",
       "      <th>age</th>\n",
       "      <th>sex</th>\n",
       "      <th>income</th>\n",
       "      <th>occupation</th>\n",
       "      <th>bid_mode</th>\n",
       "      <th>lottery</th>\n",
       "    </tr>\n",
       "  </thead>\n",
       "  <tbody>\n",
       "    <tr>\n",
       "      <th>0</th>\n",
       "      <td>NK-178</td>\n",
       "      <td>NK-178-01-1</td>\n",
       "      <td>K563</td>\n",
       "      <td>F</td>\n",
       "      <td>1.0</td>\n",
       "      <td>2004-11-09</td>\n",
       "      <td>2004-11-09</td>\n",
       "      <td>2500.0</td>\n",
       "      <td>2500.0</td>\n",
       "      <td>2500.0</td>\n",
       "      <td>...</td>\n",
       "      <td>0.0</td>\n",
       "      <td>1.0</td>\n",
       "      <td>1.0</td>\n",
       "      <td>1.0</td>\n",
       "      <td>33.0</td>\n",
       "      <td>M</td>\n",
       "      <td>NaN</td>\n",
       "      <td>NaN</td>\n",
       "      <td>NaN</td>\n",
       "      <td>NaN</td>\n",
       "    </tr>\n",
       "    <tr>\n",
       "      <th>1</th>\n",
       "      <td>NK-178</td>\n",
       "      <td>NK-178-01-1</td>\n",
       "      <td>K563</td>\n",
       "      <td>F</td>\n",
       "      <td>2.0</td>\n",
       "      <td>2004-11-10</td>\n",
       "      <td>2004-12-15</td>\n",
       "      <td>1750.0</td>\n",
       "      <td>2500.0</td>\n",
       "      <td>1750.0</td>\n",
       "      <td>...</td>\n",
       "      <td>0.0</td>\n",
       "      <td>1.0</td>\n",
       "      <td>1.0</td>\n",
       "      <td>1.0</td>\n",
       "      <td>33.0</td>\n",
       "      <td>M</td>\n",
       "      <td>NaN</td>\n",
       "      <td>NaN</td>\n",
       "      <td>NaN</td>\n",
       "      <td>NaN</td>\n",
       "    </tr>\n",
       "    <tr>\n",
       "      <th>2</th>\n",
       "      <td>NK-178</td>\n",
       "      <td>NK-178-01-1</td>\n",
       "      <td>K563</td>\n",
       "      <td>F</td>\n",
       "      <td>3.0</td>\n",
       "      <td>2004-12-10</td>\n",
       "      <td>2005-01-06</td>\n",
       "      <td>1750.0</td>\n",
       "      <td>1750.0</td>\n",
       "      <td>1750.0</td>\n",
       "      <td>...</td>\n",
       "      <td>0.0</td>\n",
       "      <td>1.0</td>\n",
       "      <td>1.0</td>\n",
       "      <td>1.0</td>\n",
       "      <td>33.0</td>\n",
       "      <td>M</td>\n",
       "      <td>NaN</td>\n",
       "      <td>NaN</td>\n",
       "      <td>NaN</td>\n",
       "      <td>NaN</td>\n",
       "    </tr>\n",
       "    <tr>\n",
       "      <th>3</th>\n",
       "      <td>NK-178</td>\n",
       "      <td>NK-178-01-1</td>\n",
       "      <td>K563</td>\n",
       "      <td>F</td>\n",
       "      <td>4.0</td>\n",
       "      <td>2005-01-10</td>\n",
       "      <td>2005-01-20</td>\n",
       "      <td>1750.0</td>\n",
       "      <td>1750.0</td>\n",
       "      <td>1750.0</td>\n",
       "      <td>...</td>\n",
       "      <td>0.0</td>\n",
       "      <td>1.0</td>\n",
       "      <td>1.0</td>\n",
       "      <td>1.0</td>\n",
       "      <td>33.0</td>\n",
       "      <td>M</td>\n",
       "      <td>NaN</td>\n",
       "      <td>NaN</td>\n",
       "      <td>NaN</td>\n",
       "      <td>NaN</td>\n",
       "    </tr>\n",
       "    <tr>\n",
       "      <th>4</th>\n",
       "      <td>NK-178</td>\n",
       "      <td>NK-178-01-1</td>\n",
       "      <td>K563</td>\n",
       "      <td>F</td>\n",
       "      <td>5.0</td>\n",
       "      <td>2005-02-10</td>\n",
       "      <td>2005-02-17</td>\n",
       "      <td>1750.0</td>\n",
       "      <td>1750.0</td>\n",
       "      <td>1750.0</td>\n",
       "      <td>...</td>\n",
       "      <td>0.0</td>\n",
       "      <td>1.0</td>\n",
       "      <td>1.0</td>\n",
       "      <td>1.0</td>\n",
       "      <td>33.0</td>\n",
       "      <td>M</td>\n",
       "      <td>NaN</td>\n",
       "      <td>NaN</td>\n",
       "      <td>NaN</td>\n",
       "      <td>NaN</td>\n",
       "    </tr>\n",
       "    <tr>\n",
       "      <th>...</th>\n",
       "      <td>...</td>\n",
       "      <td>...</td>\n",
       "      <td>...</td>\n",
       "      <td>...</td>\n",
       "      <td>...</td>\n",
       "      <td>...</td>\n",
       "      <td>...</td>\n",
       "      <td>...</td>\n",
       "      <td>...</td>\n",
       "      <td>...</td>\n",
       "      <td>...</td>\n",
       "      <td>...</td>\n",
       "      <td>...</td>\n",
       "      <td>...</td>\n",
       "      <td>...</td>\n",
       "      <td>...</td>\n",
       "      <td>...</td>\n",
       "      <td>...</td>\n",
       "      <td>...</td>\n",
       "      <td>...</td>\n",
       "      <td>...</td>\n",
       "    </tr>\n",
       "    <tr>\n",
       "      <th>40498</th>\n",
       "      <td>NK-235</td>\n",
       "      <td>NK-235-25-1</td>\n",
       "      <td>S653</td>\n",
       "      <td>F</td>\n",
       "      <td>21.0</td>\n",
       "      <td>2011-02-21</td>\n",
       "      <td>2011-02-04</td>\n",
       "      <td>5920.0</td>\n",
       "      <td>5900.0</td>\n",
       "      <td>5920.0</td>\n",
       "      <td>...</td>\n",
       "      <td>1.0</td>\n",
       "      <td>45.0</td>\n",
       "      <td>1328.0</td>\n",
       "      <td>1.0</td>\n",
       "      <td>NaN</td>\n",
       "      <td>C</td>\n",
       "      <td>NaN</td>\n",
       "      <td>NaN</td>\n",
       "      <td>NaN</td>\n",
       "      <td>NaN</td>\n",
       "    </tr>\n",
       "    <tr>\n",
       "      <th>40499</th>\n",
       "      <td>NK-235</td>\n",
       "      <td>NK-235-25-1</td>\n",
       "      <td>S653</td>\n",
       "      <td>F</td>\n",
       "      <td>22.0</td>\n",
       "      <td>2011-03-21</td>\n",
       "      <td>2011-03-07</td>\n",
       "      <td>5960.0</td>\n",
       "      <td>5920.0</td>\n",
       "      <td>5960.0</td>\n",
       "      <td>...</td>\n",
       "      <td>1.0</td>\n",
       "      <td>45.0</td>\n",
       "      <td>1328.0</td>\n",
       "      <td>1.0</td>\n",
       "      <td>NaN</td>\n",
       "      <td>C</td>\n",
       "      <td>NaN</td>\n",
       "      <td>NaN</td>\n",
       "      <td>NaN</td>\n",
       "      <td>NaN</td>\n",
       "    </tr>\n",
       "    <tr>\n",
       "      <th>40500</th>\n",
       "      <td>NK-235</td>\n",
       "      <td>NK-235-25-1</td>\n",
       "      <td>S653</td>\n",
       "      <td>F</td>\n",
       "      <td>23.0</td>\n",
       "      <td>2011-04-21</td>\n",
       "      <td>2011-04-08</td>\n",
       "      <td>5980.0</td>\n",
       "      <td>5960.0</td>\n",
       "      <td>5980.0</td>\n",
       "      <td>...</td>\n",
       "      <td>1.0</td>\n",
       "      <td>45.0</td>\n",
       "      <td>1328.0</td>\n",
       "      <td>1.0</td>\n",
       "      <td>NaN</td>\n",
       "      <td>C</td>\n",
       "      <td>NaN</td>\n",
       "      <td>NaN</td>\n",
       "      <td>NaN</td>\n",
       "      <td>NaN</td>\n",
       "    </tr>\n",
       "    <tr>\n",
       "      <th>40501</th>\n",
       "      <td>NK-235</td>\n",
       "      <td>NK-235-25-1</td>\n",
       "      <td>S653</td>\n",
       "      <td>F</td>\n",
       "      <td>24.0</td>\n",
       "      <td>2011-05-21</td>\n",
       "      <td>2011-05-09</td>\n",
       "      <td>5990.0</td>\n",
       "      <td>5980.0</td>\n",
       "      <td>5990.0</td>\n",
       "      <td>...</td>\n",
       "      <td>1.0</td>\n",
       "      <td>45.0</td>\n",
       "      <td>1328.0</td>\n",
       "      <td>1.0</td>\n",
       "      <td>NaN</td>\n",
       "      <td>C</td>\n",
       "      <td>NaN</td>\n",
       "      <td>NaN</td>\n",
       "      <td>NaN</td>\n",
       "      <td>NaN</td>\n",
       "    </tr>\n",
       "    <tr>\n",
       "      <th>40502</th>\n",
       "      <td>NK-235</td>\n",
       "      <td>NK-235-25-1</td>\n",
       "      <td>S653</td>\n",
       "      <td>F</td>\n",
       "      <td>25.0</td>\n",
       "      <td>2011-06-21</td>\n",
       "      <td>2011-06-04</td>\n",
       "      <td>6000.0</td>\n",
       "      <td>5990.0</td>\n",
       "      <td>6000.0</td>\n",
       "      <td>...</td>\n",
       "      <td>1.0</td>\n",
       "      <td>45.0</td>\n",
       "      <td>1328.0</td>\n",
       "      <td>1.0</td>\n",
       "      <td>NaN</td>\n",
       "      <td>C</td>\n",
       "      <td>NaN</td>\n",
       "      <td>NaN</td>\n",
       "      <td>NaN</td>\n",
       "      <td>NaN</td>\n",
       "    </tr>\n",
       "  </tbody>\n",
       "</table>\n",
       "<p>39654 rows × 43 columns</p>\n",
       "</div>"
      ],
      "text/plain": [
       "         chit      chit_id p_recno pay_type  aucn_no   aucn_date    rct_date  \\\n",
       "0      NK-178  NK-178-01-1    K563        F      1.0  2004-11-09  2004-11-09   \n",
       "1      NK-178  NK-178-01-1    K563        F      2.0  2004-11-10  2004-12-15   \n",
       "2      NK-178  NK-178-01-1    K563        F      3.0  2004-12-10  2005-01-06   \n",
       "3      NK-178  NK-178-01-1    K563        F      4.0  2005-01-10  2005-01-20   \n",
       "4      NK-178  NK-178-01-1    K563        F      5.0  2005-02-10  2005-02-17   \n",
       "...       ...          ...     ...      ...      ...         ...         ...   \n",
       "40498  NK-235  NK-235-25-1    S653        F     21.0  2011-02-21  2011-02-04   \n",
       "40499  NK-235  NK-235-25-1    S653        F     22.0  2011-03-21  2011-03-07   \n",
       "40500  NK-235  NK-235-25-1    S653        F     23.0  2011-04-21  2011-04-08   \n",
       "40501  NK-235  NK-235-25-1    S653        F     24.0  2011-05-21  2011-05-09   \n",
       "40502  NK-235  NK-235-25-1    S653        F     25.0  2011-06-21  2011-06-04   \n",
       "\n",
       "       inst_due  inst_paid  inst_spread  ...  before_after  num_chit  \\\n",
       "0        2500.0     2500.0       2500.0  ...           0.0       1.0   \n",
       "1        1750.0     2500.0       1750.0  ...           0.0       1.0   \n",
       "2        1750.0     1750.0       1750.0  ...           0.0       1.0   \n",
       "3        1750.0     1750.0       1750.0  ...           0.0       1.0   \n",
       "4        1750.0     1750.0       1750.0  ...           0.0       1.0   \n",
       "...         ...        ...          ...  ...           ...       ...   \n",
       "40498    5920.0     5900.0       5920.0  ...           1.0      45.0   \n",
       "40499    5960.0     5920.0       5960.0  ...           1.0      45.0   \n",
       "40500    5980.0     5960.0       5980.0  ...           1.0      45.0   \n",
       "40501    5990.0     5980.0       5990.0  ...           1.0      45.0   \n",
       "40502    6000.0     5990.0       6000.0  ...           1.0      45.0   \n",
       "\n",
       "       num_chit_id  all_trans   age  sex  income  occupation  bid_mode  \\\n",
       "0              1.0        1.0  33.0    M     NaN         NaN       NaN   \n",
       "1              1.0        1.0  33.0    M     NaN         NaN       NaN   \n",
       "2              1.0        1.0  33.0    M     NaN         NaN       NaN   \n",
       "3              1.0        1.0  33.0    M     NaN         NaN       NaN   \n",
       "4              1.0        1.0  33.0    M     NaN         NaN       NaN   \n",
       "...            ...        ...   ...  ...     ...         ...       ...   \n",
       "40498       1328.0        1.0   NaN    C     NaN         NaN       NaN   \n",
       "40499       1328.0        1.0   NaN    C     NaN         NaN       NaN   \n",
       "40500       1328.0        1.0   NaN    C     NaN         NaN       NaN   \n",
       "40501       1328.0        1.0   NaN    C     NaN         NaN       NaN   \n",
       "40502       1328.0        1.0   NaN    C     NaN         NaN       NaN   \n",
       "\n",
       "       lottery  \n",
       "0          NaN  \n",
       "1          NaN  \n",
       "2          NaN  \n",
       "3          NaN  \n",
       "4          NaN  \n",
       "...        ...  \n",
       "40498      NaN  \n",
       "40499      NaN  \n",
       "40500      NaN  \n",
       "40501      NaN  \n",
       "40502      NaN  \n",
       "\n",
       "[39654 rows x 43 columns]"
      ]
     },
     "execution_count": 13,
     "metadata": {},
     "output_type": "execute_result"
    }
   ],
   "source": [
    "df[df.isna().any(axis=1)]"
   ]
  },
  {
   "cell_type": "code",
   "execution_count": 199,
   "metadata": {},
   "outputs": [],
   "source": [
    "from sklearn.linear_model import LogisticRegression\n",
    "\n",
    "lr_model = LogisticRegression(max_iter=1000)\n",
    "lr_model.fit(X_train, y_train)\n",
    "\n",
    "# Predict the train set\n",
    "y_train_pred = lr_model.predict(X_train)\n",
    "\n",
    "# Predict the test set\n",
    "y_test_pred = lr_model.predict(X_test)"
   ]
  },
  {
   "cell_type": "markdown",
   "metadata": {},
   "source": [
    "#### Accuracy"
   ]
  },
  {
   "cell_type": "code",
   "execution_count": 200,
   "metadata": {},
   "outputs": [
    {
     "name": "stdout",
     "output_type": "stream",
     "text": [
      "Accuracy on the train set: 1.00\n",
      "Accuracy on the test set: 1.00\n"
     ]
    }
   ],
   "source": [
    "from sklearn.metrics import accuracy_score\n",
    "\n",
    "# Calculate the accuracy of the train set\n",
    "accuracy_train = accuracy_score(y_train, y_train_pred)\n",
    "print(\"Accuracy on the train set: {:.2f}\".format(accuracy_train))\n",
    "\n",
    "# Calculate the accuracy of the test set\n",
    "accuracy_test = accuracy_score(y_test, y_test_pred)\n",
    "print(\"Accuracy on the test set: {:.2f}\".format(accuracy_test))"
   ]
  },
  {
   "cell_type": "markdown",
   "metadata": {},
   "source": [
    "The accuracy value is quite high, but we should compare it to the \"no information rate.\" This is the accuracy we could expect with no information about the target (no features). We can approximate this with the majority class fraction, and our \"no information\" model could guess that all samples are this majority class. We can calculate the class fractions like so:"
   ]
  },
  {
   "cell_type": "code",
   "execution_count": 201,
   "metadata": {},
   "outputs": [
    {
     "data": {
      "text/plain": [
       "0.0    0.943288\n",
       "1.0    0.056712\n",
       "Name: default, dtype: float64"
      ]
     },
     "execution_count": 201,
     "metadata": {},
     "output_type": "execute_result"
    }
   ],
   "source": [
    "df['default'].value_counts() / df.shape[0]"
   ]
  },
  {
   "cell_type": "markdown",
   "metadata": {},
   "source": [
    "We could also find the result above using `sklearn.dummy.DummyClassifier` (using the `strategy='most_frequent'` argument), but the preceding method is faster and easier:"
   ]
  },
  {
   "cell_type": "code",
   "execution_count": 202,
   "metadata": {},
   "outputs": [
    {
     "name": "stdout",
     "output_type": "stream",
     "text": [
      "0.9437071785692241\n",
      "0.9416121466485619\n"
     ]
    }
   ],
   "source": [
    "from sklearn.dummy import DummyClassifier\n",
    "\n",
    "dc = DummyClassifier(strategy='most_frequent')\n",
    "dc.fit(X_train, y_train)\n",
    "print(dc.score(X_train, y_train))\n",
    "print(dc.score(X_test, y_test))"
   ]
  },
  {
   "cell_type": "markdown",
   "metadata": {},
   "source": [
    "This shows us that the majority class (0, no default) composes around 94.33% of the data, so our model is no better than guessing the majority class for every prediction. "
   ]
  },
  {
   "cell_type": "markdown",
   "metadata": {},
   "source": [
    "#### The confusion matrix"
   ]
  },
  {
   "cell_type": "code",
   "execution_count": 167,
   "metadata": {},
   "outputs": [
    {
     "data": {
      "image/png": "[encoded data removed]",
      "text/plain": [
       "<Figure size 640x480 with 2 Axes>"
      ]
     },
     "metadata": {},
     "output_type": "display_data"
    }
   ],
   "source": [
    "import matplotlib.pyplot as plt\n",
    "from sklearn.metrics import confusion_matrix, ConfusionMatrixDisplay\n",
    "\n",
    "ConfusionMatrixDisplay.from_predictions(y_train, y_train_pred, display_labels=['No default', 'Default'])\n",
    "\n",
    "plt.tight_layout()\n",
    "\n",
    "plt.show()"
   ]
  },
  {
   "cell_type": "markdown",
   "metadata": {},
   "source": [
    "Using the yellowbrick package:"
   ]
  },
  {
   "cell_type": "code",
   "execution_count": 168,
   "metadata": {},
   "outputs": [
    {
     "data": {
      "image/png": "[encoded data removed]",
      "text/plain": [
       "<Figure size 800x550 with 1 Axes>"
      ]
     },
     "metadata": {},
     "output_type": "display_data"
    },
    {
     "data": {
      "text/plain": [
       "<Figure size 800x550 with 0 Axes>"
      ]
     },
     "metadata": {},
     "output_type": "display_data"
    }
   ],
   "source": [
    "from yellowbrick.classifier import confusion_matrix as yb_confusion_matrix\n",
    "\n",
    "yb_confusion_matrix(\n",
    "    lr_model,\n",
    "    X_train, y_train, X_test, y_test,\n",
    "    classes=['No default', 'Default']\n",
    "    )\n",
    "\n",
    "plt.tight_layout()"
   ]
  },
  {
   "cell_type": "markdown",
   "metadata": {},
   "source": [
    "#### Precision, Recall, and the F1 score"
   ]
  },
  {
   "cell_type": "markdown",
   "metadata": {},
   "source": [
    "The precesion, recall and F1 score are defined as follows:\n",
    "\n",
    "$$\n",
    "\\begin{align}\n",
    "\\text{Precision} &= \\frac{TP}{TP + FP} \\\\\n",
    "\\text{Recall} &= \\frac{TP}{TP + FN} \\\\\n",
    "\\text{F1} &= 2 \\times \\frac{\\text{Precision} \\times \\text{Recall}}{\\text{Precision} + \\text{Recall}}\n",
    "\\end{align}\n",
    "$$\n",
    "\n",
    "where:\n",
    "- $TP$ is the number of true positives\n",
    "- $FP$ is the number of false positives\n",
    "- $FN$ is the number of false negatives\n",
    "- $TN$ is the number of true negatives\n",
    "- $P$ is the number of positive samples\n",
    "- $N$ is the number of negative samples\n",
    "\n",
    "Precision is the ability of the classifier not to label as positive a sample that is negative. Recall is the ability of the classifier to find all the positive samples. The F1 score is the harmonic mean of precision and recall.\n",
    "\n",
    "We can calculate the precision, recall and F1 score using the `sklearn.metrics` module"
   ]
  },
  {
   "cell_type": "code",
   "execution_count": 169,
   "metadata": {},
   "outputs": [
    {
     "name": "stdout",
     "output_type": "stream",
     "text": [
      "              precision    recall  f1-score   support\n",
      "\n",
      "  No default       1.00      1.00      1.00      7628\n",
      "     Default       1.00      0.98      0.99       473\n",
      "\n",
      "    accuracy                           1.00      8101\n",
      "   macro avg       1.00      0.99      0.99      8101\n",
      "weighted avg       1.00      1.00      1.00      8101\n",
      "\n"
     ]
    }
   ],
   "source": [
    "from sklearn.metrics import classification_report\n",
    "\n",
    "print(classification_report(y_test,\n",
    "                            lr_model.predict(X_test),\n",
    "                            target_names=['No default', 'Default']))"
   ]
  },
  {
   "cell_type": "markdown",
   "metadata": {},
   "source": [
    "Using the yellowbrick package:"
   ]
  },
  {
   "cell_type": "code",
   "execution_count": 173,
   "metadata": {},
   "outputs": [
    {
     "name": "stderr",
     "output_type": "stream",
     "text": [
      "c:\\Users\\w\\miniconda3\\envs\\ml_app_finance\\lib\\site-packages\\yellowbrick\\classifier\\base.py:232: YellowbrickWarning: could not determine class_counts_ from previously fitted classifier\n",
      "  warnings.warn(\n"
     ]
    },
    {
     "data": {
      "image/png": "[encoded data removed]",
      "text/plain": [
       "<Figure size 800x550 with 2 Axes>"
      ]
     },
     "metadata": {},
     "output_type": "display_data"
    },
    {
     "data": {
      "text/plain": [
       "<AxesSubplot:title={'center':'LogisticRegression Classification Report'}>"
      ]
     },
     "execution_count": 173,
     "metadata": {},
     "output_type": "execute_result"
    }
   ],
   "source": [
    "from yellowbrick.classifier import ClassificationReport\n",
    "\n",
    "viz = ClassificationReport(lr_model,\n",
    "                           support=True,\n",
    "                           classes=['No default', 'Default'],\n",
    "                           cmap='Blues')\n",
    "viz.score(X_test, y_test)\n",
    "viz.show()"
   ]
  },
  {
   "cell_type": "markdown",
   "metadata": {},
   "source": [
    "#### AUC score"
   ]
  },
  {
   "cell_type": "markdown",
   "metadata": {},
   "source": [
    "To plot ROC curves from our multi-class, single-label classification problem. In our above example here, we simply use the `roc_auc` function from `yellowbrick`: "
   ]
  },
  {
   "cell_type": "code",
   "execution_count": 176,
   "metadata": {},
   "outputs": [
    {
     "data": {
      "image/png": "[encoded data removed]",
      "text/plain": [
       "<Figure size 800x550 with 1 Axes>"
      ]
     },
     "metadata": {},
     "output_type": "display_data"
    }
   ],
   "source": [
    "from yellowbrick.classifier.rocauc import roc_auc\n",
    "\n",
    "roc = roc_auc(lr_model,\n",
    "              X_train,\n",
    "              y_train,\n",
    "              X_test,\n",
    "              y_test,\n",
    "              classes=['No default', 'Default'])"
   ]
  },
  {
   "cell_type": "markdown",
   "metadata": {},
   "source": [
    "In the ROC curve, the micro-average aggregates the contributions of all classes to compute the average metric while the macro-average computes the metric independently for each class and then takes the average. Therefore, treating all classes equally. \n",
    "\n",
    "**The micro-average is more useful when we have class imbalance while the macro-average is more useful when we have class balance**. \n",
    "\n",
    "E.g., to calculate `Precision` of the following classes:\n",
    "\n",
    "- Class A with 2 samples: 1 TP and 1 FP\n",
    "- Class B with 100 samples: 10 TP and 90 FP\n",
    "- Class C with 2 samples: 1 TP and 1 FP\n",
    "- Class D with 2 samples: 1 TP and 1 FP\n",
    "\n",
    "You can see easily that **Precsion of class A=PrC=PrD=0.5** whereas **Precision of class B=0.1**:\n",
    "\n",
    "- A macro-average will compute: \n",
    "\n",
    "$$\n",
    "\\frac{\\text{Precision for each class}}{\\text{Total number of classes}} = \\frac{0.5 + 0.1 + 0.5 + 0.5}{4} = 0.375\n",
    "$$\n",
    "\n",
    "- A micro-average will compute: \n",
    "\n",
    "$$\n",
    "\\frac{\\text{TP for each class}}{\\text{Total number of samples}} = \\frac{1 + 10 + 1 + 1}{2 + 100 + 2 + 2} = 0.1\n",
    "$$\n",
    "\n",
    "The micro-average will adequately capture class B imbalance bringing the overall precision average down to 0.123 (more in line with the precision of the dominating class B (0.1))."
   ]
  },
  {
   "cell_type": "markdown",
   "metadata": {},
   "source": [
    "# 2. Data Balance\n",
    "\n",
    "What counts as imbalanced? The answer could range from mild to extreme, as the table below shows\n",
    "\n",
    "| Class balance | Example |\n",
    "| --- | --- |\n",
    "| Mildly imbalanced | 20-40% of the data set |\n",
    "| Moderately imbalanced | 1-20% of the data set |\n",
    "| Extremely imbalanced | <1% of the data set |\n",
    "\n",
    "An effective way to handle imbalanced data is to downsample and upsampling the majority class. Let's start by defining those two new terms:\n",
    "\n",
    "<img src=\"./images/downsample_vs_upsample.png\"/>\n",
    "\n",
    "- Downsampling (in this context) means reducing the majority class to match the minority class sample size.\n",
    "- Upsampling/Oversampling means upsample the minority class to match the majority class sample size.\n",
    "\n",
    "Sampling data can be used to shrink the data size for code development or to balance the classes between the dataset. We can also use synthetic sampling techniques, such as SMOTE and ADASYN. We'll start with the simplest methods, which are downsampling and naive upsampling."
   ]
  },
  {
   "cell_type": "markdown",
   "metadata": {},
   "source": [
    "## 2.1 Sampling and balancing classification data\n",
    "\n",
    "To simply shrink the size of our dataset while preserving the class balance, we can use train_test_split:"
   ]
  },
  {
   "cell_type": "code",
   "execution_count": 177,
   "metadata": {},
   "outputs": [],
   "source": [
    "_, x_sample, _, y_sample = train_test_split(X_scaled,\n",
    "                                            y,\n",
    "                                            test_size=0.1,\n",
    "                                            stratify=y,\n",
    "                                            random_state=42)"
   ]
  },
  {
   "cell_type": "markdown",
   "metadata": {},
   "source": [
    "The `stratify` argument is key here so that our targets retain the same balance. We are not keeping the first and third returned values from the function, sending them instead to the underscore character (`_`). This means that we aren't going to use those variables in the future, although the `_` variable will hold the third value returned from the preceding function. \n",
    "\n",
    "\n",
    "We also specify the `test_size` argument to 0.1, which means that our `x_sample` and `y_sample` will have 10% of the original data. Lastly, we set the `random_state` so our results are reproducible. For sampling down data to a smaller amount for prototyping or developing code, this works great. **However, it doesn't solve the issue of class imbalance.**\n",
    "\n",
    "\n",
    "What `stratify` does is to ensure that the proportion of each class in the training and test sets is the same as the proportion of each class in the original dataset:"
   ]
  },
  {
   "cell_type": "code",
   "execution_count": 179,
   "metadata": {},
   "outputs": [
    {
     "data": {
      "text/plain": [
       "array([0.9432239, 0.0567761])"
      ]
     },
     "execution_count": 179,
     "metadata": {},
     "output_type": "execute_result"
    }
   ],
   "source": [
    "import numpy as np\n",
    "\n",
    "np.bincount(y_sample) / y_sample.shape[0]"
   ]
  },
  {
   "cell_type": "markdown",
   "metadata": {},
   "source": [
    "To understand the importance of splitting the data properly, let's look an example in real life when random sampling may create issues:\n",
    "\n",
    "In 2017, a team led by Andrew Ng published a paper showing off a Deep Learning model to detect pneumonia. They did their training by randomly splitting their dataset:\n",
    "\n",
    "<img src=\"./images/random_splitting.jpg\"/>\n",
    "\n",
    "Their dataset contained 112,120 images for 30,805 patients. This means that the dataset contained multiple images for, at least, some of their patients. Their random split sent images from the same patient to the train and validation sets. **This creates a leaky validation strategy:**\n",
    "\n",
    "For example, imagine a patient with a scar from a previous surgery. **The model may use that information to make a prediction. Every image of the same patient splitted between train and validation showing the same scar would belong to the same class!** We call these *leaks*."
   ]
  },
  {
   "cell_type": "markdown",
   "metadata": {},
   "source": [
    "Andrew Ng's team published an updated paper correcting the mistake:\n",
    "\n",
    "<img src=\"./images/splitting_no_overlap.png\"/>\n",
    "\n",
    "Notice that there is no patient overlap between the sets"
   ]
  },
  {
   "cell_type": "markdown",
   "metadata": {},
   "source": [
    "Before doing downsampling and upsampling, let's look at a Python package entirely focused on sampling that we can use: `imblearn`. This can be installed with:\n",
    "\n",
    "```python\n",
    "pip install imbalanced-learn\n",
    "```\n",
    "or\n",
    "\n",
    "```python\n",
    "conda install -c conda-forge imbalanced-learn\n",
    "```\n",
    "\n",
    "The `imblearn` interface is simple to use, although it is highly customizable."
   ]
  },
  {
   "cell_type": "markdown",
   "metadata": {},
   "source": [
    "### 2.1.1 Downsampling\n",
    "\n",
    "We can use the `RandomUnderSampler` class to downsample the majority class:"
   ]
  },
  {
   "cell_type": "code",
   "execution_count": 184,
   "metadata": {},
   "outputs": [],
   "source": [
    "from imblearn.under_sampling import RandomUnderSampler\n",
    "\n",
    "rus = RandomUnderSampler(random_state=0)\n",
    "x_resampled, y_resampled = rus.fit_resample(X_train, y_train)"
   ]
  },
  {
   "cell_type": "markdown",
   "metadata": {},
   "source": [
    "The interface is similar to `sklearn`, where we create a class (with the same `random_state` argument as in sklearn), and then use methods such as `fit`. Instead of using `fit_transform`, as we did in the scalers in `sklearn`, we use `fit_resample` here, providing our features and targets.\n",
    "\n",
    "From our preceding resample, we can verify that the data was resampled:"
   ]
  },
  {
   "cell_type": "code",
   "execution_count": 185,
   "metadata": {},
   "outputs": [
    {
     "data": {
      "text/plain": [
       "0.0    1824\n",
       "1.0    1824\n",
       "Name: default, dtype: int64"
      ]
     },
     "execution_count": 185,
     "metadata": {},
     "output_type": "execute_result"
    }
   ],
   "source": [
    "y_resampled.value_counts()"
   ]
  },
  {
   "cell_type": "code",
   "execution_count": 186,
   "metadata": {},
   "outputs": [
    {
     "data": {
      "text/plain": [
       "0.0    30578\n",
       "1.0     1824\n",
       "Name: default, dtype: int64"
      ]
     },
     "execution_count": 186,
     "metadata": {},
     "output_type": "execute_result"
    }
   ],
   "source": [
    "y_train.value_counts()"
   ]
  },
  {
   "cell_type": "markdown",
   "metadata": {},
   "source": [
    "### 2.1.2 Oversampling\n",
    "\n",
    "Another way to sample data for balancing classes is to use oversampling techniques, such as `bootstrapping` (sampling with replacement) to sample existing data so that the classes become balanced:\n",
    "\n",
    "\n",
    "<img src=\"./images/bootstraping1.png\"/>\n",
    "<img src=\"./images/bootstraping2.png\"/>\n",
    "<img src=\"./images/bootstraping3.png\"/>\n",
    "\n",
    "We will use our same training/test split data as before, and can perform random bootstrap oversampling with `imblearn`.\n",
    "\n",
    "We can use the `RandomOverSampler` class to upsample the minority class:"
   ]
  },
  {
   "cell_type": "code",
   "execution_count": 187,
   "metadata": {},
   "outputs": [],
   "source": [
    "from imblearn.over_sampling import RandomOverSampler\n",
    "\n",
    "ros = RandomOverSampler(random_state=42)\n",
    "\n",
    "x_resampled, y_resampled = ros.fit_resample(X_train, y_train)"
   ]
  },
  {
   "cell_type": "markdown",
   "metadata": {},
   "source": [
    "This `RandomOverSampler` class `bootstraps` all minority classes to be up to the same number of samples as the majority class by default, although this is customizable with the `sampling_strategy` argument described in the documentation. **We will have repeats of our data in the dataset**, but at least the classes will be balanced: "
   ]
  },
  {
   "cell_type": "code",
   "execution_count": 188,
   "metadata": {},
   "outputs": [
    {
     "data": {
      "text/plain": [
       "0.0    30578\n",
       "1.0    30578\n",
       "Name: default, dtype: int64"
      ]
     },
     "execution_count": 188,
     "metadata": {},
     "output_type": "execute_result"
    }
   ],
   "source": [
    "y_resampled.value_counts()"
   ]
  },
  {
   "cell_type": "code",
   "execution_count": 189,
   "metadata": {},
   "outputs": [
    {
     "data": {
      "text/plain": [
       "0.0    30578\n",
       "1.0     1824\n",
       "Name: default, dtype: int64"
      ]
     },
     "execution_count": 189,
     "metadata": {},
     "output_type": "execute_result"
    }
   ],
   "source": [
    "y_train.value_counts()"
   ]
  },
  {
   "cell_type": "markdown",
   "metadata": {},
   "source": [
    "### 2.1.3 SMOTE and other synthetic sampling methods\n",
    "\n",
    "Bootstrapping improves our models a small amount, but there are other synthetic sampling techniques that generate new samples based on existing data that can help too. **These interpolate new data based on existing data – essentially, they draw a line connecting some of the data points and generate some new data along that line**:\n",
    "\n",
    "\n",
    "<img src=\"./images/smote.png\"/>\n",
    "\n",
    "- `SMOTE` (synthetic minority oversampling technique) is one of the classic methods but has some problems. It generates samples randomly without consideration for which samples might be best to generate. Usually, generating new samples in the feature space where classes are overlapping or nearby is ideal, so that the classifier can learn to separate the data better:\n",
    "    - Detects k samples of the same class which are closest in the feature space, say k=5 nearest neighbours.\n",
    "\n",
    "    - Randomly selects one of the k samples and finds the k nearest neighbours of that sample.\n",
    "\n",
    "\n",
    "- `ADASYN` (adaptive synthetic sampling) is an improvement on `SMOTE` that generates more samples in areas where the classes are more imbalanced. `ADASYN` (adaptive synthetic) sampling, which incorporates consideration for where new data should be generated. `SMOTE` also has several variants that generate samples on the boundaries of classes.\n",
    "\n",
    "<img src=\"./images/k-means_clustering.png\"/>\n",
    "\n",
    "- **k-means SMOTE** was invented around 2017 and is the newest and potentially best `SMOTE` variant. It uses k-means clustering to generate new samples in areas where the classes are more imbalanced.\n",
    "\n",
    "    - It first clusters the data into k clusters using k-means clustering. Then, it generates new samples in the cluster centroids. This is a good idea because the centroids are the center of the clusters, so the classes are more imbalanced there.\n",
    "    - It also generates new samples in the cluster boundaries. This is a good idea because the boundaries are where the classes are most likely to be confused."
   ]
  },
  {
   "cell_type": "code",
   "execution_count": 195,
   "metadata": {},
   "outputs": [
    {
     "name": "stderr",
     "output_type": "stream",
     "text": [
      "c:\\Users\\w\\miniconda3\\envs\\ml_app_finance\\lib\\site-packages\\sklearn\\cluster\\_kmeans.py:1848: UserWarning: MiniBatchKMeans is known to have a memory leak on Windows with MKL, when there are less chunks than available threads. You can prevent it by setting batch_size >= 2048 or by setting the environment variable OMP_NUM_THREADS=4\n",
      "  warnings.warn(\n"
     ]
    }
   ],
   "source": [
    "from imblearn.over_sampling import KMeansSMOTE\n",
    "from sklearn.linear_model import LogisticRegressionCV\n",
    "from sklearn.metrics import roc_auc_score\n",
    "\n",
    "kmSMOTE = KMeansSMOTE(k_neighbors=5,\n",
    "                      cluster_balance_threshold=0.2,\n",
    "                      random_state=42,\n",
    "                      n_jobs=-1)\n",
    "x_resampled, y_resampled = kmSMOTE.fit_resample(X_train, y_train)"
   ]
  },
  {
   "cell_type": "markdown",
   "metadata": {},
   "source": [
    "The `k-means SMOTE` method has some parameters we need to set, such as `cluster_balance_threshold`, in order for it to work properly. The `k_neighbors` parameter is also adjustable and could be tuned as a hyperparameter in the `pipeline` of oversampling and then fitting a model."
   ]
  },
  {
   "cell_type": "code",
   "execution_count": 192,
   "metadata": {},
   "outputs": [
    {
     "data": {
      "text/plain": [
       "0.0    30578\n",
       "1.0    30578\n",
       "Name: default, dtype: int64"
      ]
     },
     "execution_count": 192,
     "metadata": {},
     "output_type": "execute_result"
    }
   ],
   "source": [
    "y_resampled.value_counts()"
   ]
  },
  {
   "cell_type": "code",
   "execution_count": 193,
   "metadata": {},
   "outputs": [
    {
     "data": {
      "text/plain": [
       "0.0    30578\n",
       "1.0     1824\n",
       "Name: default, dtype: int64"
      ]
     },
     "execution_count": 193,
     "metadata": {},
     "output_type": "execute_result"
    }
   ],
   "source": [
    "y_train.value_counts()"
   ]
  },
  {
   "cell_type": "markdown",
   "metadata": {},
   "source": [
    "There are several other oversamplers in `imblearn`, most of them variants of `SMOTE`. The `imblearn.combine` module also contains more oversamplers, which oversample and then prune the data according to certain algorithms. We can try all these other oversamplers to see how they affect the `AUC score`:"
   ]
  },
  {
   "cell_type": "code",
   "execution_count": 204,
   "metadata": {},
   "outputs": [
    {
     "name": "stdout",
     "output_type": "stream",
     "text": [
      "SMOTE(random_state=42)                                  0.9980515758677\n",
      "BorderlineSMOTE(random_state=42)                        0.9980493585998397\n",
      "BorderlineSMOTE(kind='borderline-2', random_state=42)   0.9979842263564414\n",
      "SVMSMOTE(random_state=42)                               0.9979872750997494\n",
      "ADASYN(random_state=42)                                 0.9980529616601127\n",
      "SMOTEENN(random_state=42)                               0.9980748571802339\n",
      "SMOTETomek(random_state=42)                             0.9980521301846651\n"
     ]
    }
   ],
   "source": [
    "from imblearn.over_sampling import SMOTE, BorderlineSMOTE, SVMSMOTE, ADASYN\n",
    "from imblearn.combine import SMOTEENN, SMOTETomek\n",
    "from sklearn.linear_model import LogisticRegressionCV\n",
    "\n",
    "# Remove the warnings\n",
    "import warnings\n",
    "warnings.filterwarnings('ignore')\n",
    "\n",
    "random_state = 42\n",
    "samplers = [\n",
    "    SMOTE(random_state=random_state),\n",
    "    BorderlineSMOTE(random_state=random_state, kind=\"borderline-1\"),\n",
    "    BorderlineSMOTE(random_state=random_state, kind=\"borderline-2\"),\n",
    "    SVMSMOTE(random_state=random_state),\n",
    "    ADASYN(random_state=random_state),\n",
    "    SMOTEENN(random_state=random_state),\n",
    "    SMOTETomek(random_state=random_state)\n",
    "]\n",
    "\n",
    "for s in samplers:\n",
    "    x_resampled, y_resampled = s.fit_resample(X_train, y_train)\n",
    "    lr_model_rs = LogisticRegressionCV(max_iter=1000)\n",
    "    lr_model_rs.fit(x_resampled, y_resampled)\n",
    "\n",
    "    ra_score = roc_auc_score(y_test,\n",
    "                             lr_model_rs.predict_proba(X_test)[:, 1])\n",
    "\n",
    "    print(f'{str(s):<55} {ra_score}')"
   ]
  },
  {
   "cell_type": "markdown",
   "metadata": {},
   "source": [
    "We first import all the other oversamplers and then put them in a list. Next, we loop through the oversamplers, resampling data, fitting our model, and then printing out the oversampler and the AUC score. \n",
    "\n",
    "From this, we see that the `SMOTEENN` method appears to have a slightly higher `AUC score` than the rest of the methods, but not by much. In this case, it doesn't hurt to oversample the data for training as long as it doesn't take too long to run, but it doesn't help that much either. \n",
    "\n",
    "The improvement here of a few percent with synthetic oversampling is typical. Most of the time, we can't expect dramatic improvements with oversampling and should be careful to compare the metrics between models on the same level.\n",
    "\n",
    "For example, **we trained the models on the training split of the data and evaluated all the models on the unmodified test set**. If we were to evaluate models on the resampling data, for example, we would get much higher accuracies and `AUC scores`, but **it would not be an accurate representation of the situation.** Although not a magic bullet, oversampling can be helpful in squeezing out some extra performance from our classifiers.\n",
    "\n",
    "**The best approach with class imbalance is to get more data, but if that is not possible, oversampling can be a good alternative using any of the methods we have seen here.**"
   ]
  },
  {
   "cell_type": "markdown",
   "metadata": {
    "slideshow": {
     "slide_type": "slide"
    }
   },
   "source": [
    "# 3. Hyperparameter tuning\n",
    "\n",
    "Evaluating a model is simple enough: just use a test set. But suppose you are hesitating between two types of models (say, a linear model and a polynomial model). How can you decide between them? One option is to train both and compare how well they generalize using the test set.\n",
    "\n",
    "**The solution is cross-validation, using many small validation sets. Each model is evaluated once per validation set after it is trained on the rest of the data**. By averaging out all the evaluations of a model, you get a much more accurate measure of its performance. There is a drawback. However, the training time is multiplied by the number of validation sets."
   ]
  },
  {
   "cell_type": "markdown",
   "metadata": {
    "slideshow": {
     "slide_type": "slide"
    }
   },
   "source": [
    "## 3.1 Hyperparameter tuning with GridSearchCV\n",
    "\n",
    "Logistic regression have regularization parameter: `C`. `C` controls the inverse of the regularization strength, and this is what you will tune in this exercise. A large `C` can lead to an overfit model, while a small `C` can lead to an underfit model.\n",
    "\n",
    "Let's use GridSearchCV and logistic regression to find the optimal `C` in this hyperparameter space."
   ]
  },
  {
   "cell_type": "markdown",
   "metadata": {
    "slideshow": {
     "slide_type": "slide"
    }
   },
   "source": [
    "- Import `LogisticRegression` from sklearn.linear_model and `GridSearchCV` from `sklearn.model_selection`.\n",
    "- Setup the hyperparameter grid by using `c_space` as the grid of values to tune `C` over.\n",
    "- Instantiate a logistic regression classifier called logreg.\n",
    "- Use `GridSearchCV` with 5-fold cross-validation to tune `C`.\n",
    "- Inside `GridSearchCV()`, specify the classifier, parameter grid, and number of folds to use.\n",
    "- Use the `.fit()` method on the `GridSearchCV` object to fit it to the data X and y.\n",
    "\n",
    "- Print the best parameter and best score obtained from `GridSearchCV` by accessing the `best_params_` and `best_score_` attributes of `logreg_cv`."
   ]
  },
  {
   "cell_type": "code",
   "execution_count": 213,
   "metadata": {
    "slideshow": {
     "slide_type": "slide"
    }
   },
   "outputs": [
    {
     "name": "stdout",
     "output_type": "stream",
     "text": [
      "Tuned Logistic Regression Parameters: {'C': 3.727593720314938}\n",
      "Best score is 0.842\n"
     ]
    }
   ],
   "source": [
    "# Import necessary modules\n",
    "from sklearn.linear_model import LogisticRegression\n",
    "from sklearn.model_selection import GridSearchCV\n",
    "from sklearn.datasets import make_moons\n",
    "\n",
    "X, y = make_moons(n_samples=500, noise=0.30, random_state=42)\n",
    "\n",
    "# Setup the hyperparameter grid\n",
    "c_space = np.logspace(-5, 8, 15)\n",
    "param_grid = {'C': c_space}\n",
    "\n",
    "# Instantiate a logistic regression classifier: logreg\n",
    "logreg = LogisticRegression()\n",
    "\n",
    "# Instantiate the GridSearchCV object: logreg_cv\n",
    "logreg_cv = GridSearchCV(logreg, param_grid, cv=5)\n",
    "\n",
    "# Fit it to the data\n",
    "logreg_cv.fit(X,y)\n",
    "\n",
    "# Print the tuned parameters and score\n",
    "print(\"Tuned Logistic Regression Parameters: {}\".format(logreg_cv.best_params_)) \n",
    "print(\"Best score is {}\".format(logreg_cv.best_score_))\n"
   ]
  },
  {
   "cell_type": "markdown",
   "metadata": {
    "slideshow": {
     "slide_type": "slide"
    }
   },
   "source": [
    "It looks like a `C` of `0.842` results in the best performance."
   ]
  },
  {
   "cell_type": "markdown",
   "metadata": {
    "slideshow": {
     "slide_type": "slide"
    }
   },
   "source": [
    "## 3.2 Hyperparameter tuning with RandomizedSearchCV\n",
    "\n",
    "`GridSearchCV` can be computationally expensive, especially if you are searching over a large hyperparameter space and dealing with multiple hyperparameters. A solution to this is to use `RandomizedSearchCV`, in which not all hyperparameter values are tried out. Instead, a fixed number of hyperparameter settings is sampled from specified probability distributions. You'll practice using `RandomizedSearchCV` in this exercise and see how this works."
   ]
  },
  {
   "cell_type": "code",
   "execution_count": 214,
   "metadata": {
    "slideshow": {
     "slide_type": "slide"
    }
   },
   "outputs": [
    {
     "name": "stdout",
     "output_type": "stream",
     "text": [
      "Tuned Decision Tree Parameters: {'criterion': 'entropy', 'max_depth': None, 'max_features': 2, 'min_samples_leaf': 2}\n",
      "Best score is 0.9600000000000002\n"
     ]
    }
   ],
   "source": [
    "# Import necessary modules\n",
    "from scipy.stats import randint\n",
    "from sklearn.tree import DecisionTreeClassifier\n",
    "from sklearn.model_selection import RandomizedSearchCV\n",
    "from sklearn.datasets import load_iris\n",
    "import warnings\n",
    "warnings.filterwarnings(\"ignore\")\n",
    "\n",
    "# Load dataset\n",
    "iris = load_iris()\n",
    "\n",
    "# Setup the parameters and distributions to sample from: param_dist\n",
    "param_dist = {\"max_depth\": [3, None],\n",
    "              \"max_features\": randint(1, 9),\n",
    "              \"min_samples_leaf\": randint(1, 9),\n",
    "              \"criterion\": [\"gini\", \"entropy\"]}\n",
    "\n",
    "# Instantiate a Decision Tree classifier: tree\n",
    "tree = DecisionTreeClassifier()\n",
    "\n",
    "# Instantiate the RandomizedSearchCV object: tree_cv\n",
    "tree_cv = RandomizedSearchCV(tree, param_dist, cv=5)\n",
    "\n",
    "# Fit it to the data\n",
    "tree_cv.fit(iris.data, iris.target)\n",
    "\n",
    "# Print the tuned parameters and score\n",
    "print(\"Tuned Decision Tree Parameters: {}\".format(tree_cv.best_params_))\n",
    "print(\"Best score is {}\".format(tree_cv.best_score_))"
   ]
  },
  {
   "cell_type": "markdown",
   "metadata": {
    "slideshow": {
     "slide_type": "slide"
    }
   },
   "source": [
    "You'll see a lot more of decision trees and `RandomizedSearchCV` as you continue your machine learning journey. Note that `RandomizedSearchCV` will never outperform GridSearchCV. Instead, it is valuable because it saves on computation time."
   ]
  },
  {
   "cell_type": "markdown",
   "metadata": {
    "slideshow": {
     "slide_type": "slide"
    }
   },
   "source": [
    "##### The idea is to tune the model's hyperparameters on the training set, and then evaluate its performance on the hold-out set (test set) which it has never seen before."
   ]
  },
  {
   "cell_type": "markdown",
   "metadata": {
    "collapsed": true,
    "slideshow": {
     "slide_type": "slide"
    }
   },
   "source": [
    "## Credits\n",
    "\n",
    "- George, Nathan. Practical Data Science with Python: Learn Tools and Techniques from Hands-On Examples to Extract Insights from Data. Birmingham: Packt Publishing, Limited, 2021. Print. [Access through UCL library.](https://learning.oreilly.com/library/view/practical-data-science/9781801071970/)\n",
    "\n",
    "-  Geron, A. (2022) Hands-On Machine Learning with Scikit-Learn, Keras, and TensorFlow: Concepts, Tools, and Techniques to Build Intelligent Systems. Sebastopol: O’Reilly Media, Incorporated. [Access through UCL library.](https://learning.oreilly.com/library/view/hands-on-machine-learning/9781098125967/)\n",
    "\n",
    "- Owen, L. (2022) Hyperparameter Tuning with Python. [Access through UCL library.](https://learning.oreilly.com/library/view/hyperparameter-tuning-with/9781803235875/)\n",
    "\n",
    "- Barros, Thiago & SouzaNeto, Plácido & Silva, Ivanovitch & Guedes, Luiz Affonso. (2019). Predictive Models for Imbalanced Data: A School Dropout Perspective. Education Sciences. 9. 275. 10.3390/educsci9040275. "
   ]
  }
 ],
 "metadata": {
  "kernelspec": {
   "display_name": "Python 3 (ipykernel)",
   "language": "python",
   "name": "python3"
  },
  "language_info": {
   "codemirror_mode": {
    "name": "ipython",
    "version": 3
   },
   "file_extension": ".py",
   "mimetype": "text/x-python",
   "name": "python",
   "nbconvert_exporter": "python",
   "pygments_lexer": "ipython3",
   "version": "3.9.13"
  },
  "nav_menu": {},
  "toc": {
   "navigate_menu": true,
   "number_sections": true,
   "sideBar": true,
   "threshold": 6,
   "toc_cell": false,
   "toc_section_display": "block",
   "toc_window_display": false
  },
  "vscode": {
   "interpreter": {
    "hash": "3113c46ec4ad18b52f4eefa246b3db5aa12396f07a43ee3df55935337b1d05c4"
   }
  }
 },
 "nbformat": 4,
 "nbformat_minor": 4
}
